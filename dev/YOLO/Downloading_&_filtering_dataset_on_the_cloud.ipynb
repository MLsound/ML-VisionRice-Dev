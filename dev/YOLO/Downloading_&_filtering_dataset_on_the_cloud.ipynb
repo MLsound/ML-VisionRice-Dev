{
  "nbformat": 4,
  "nbformat_minor": 0,
  "metadata": {
    "colab": {
      "provenance": [],
      "collapsed_sections": [
        "65CE4LZkdT7P"
      ],
      "mount_file_id": "1YcaYynRys1-VMUBgJYBh4GNpdMRvQfBa",
      "authorship_tag": "ABX9TyMeDxZzyhxqwENzk/xFzhqm"
    },
    "kernelspec": {
      "name": "python3",
      "display_name": "Python 3"
    },
    "language_info": {
      "name": "python"
    }
  },
  "cells": [
    {
      "cell_type": "markdown",
      "source": [
        "# Clone & Filter dataset"
      ],
      "metadata": {
        "id": "Nd-x4atYk0md"
      }
    },
    {
      "cell_type": "markdown",
      "source": [
        "### Init"
      ],
      "metadata": {
        "id": "_c2j0PBtdLsU"
      }
    },
    {
      "cell_type": "code",
      "source": [
        "import os\n",
        "import shutil\n",
        "import fnmatch\n",
        "import tqdm"
      ],
      "metadata": {
        "id": "YVVJQ_XmmkIf"
      },
      "execution_count": null,
      "outputs": []
    },
    {
      "cell_type": "code",
      "source": [
        "# Change for different file formats\n",
        "reference = {\n",
        "  \"small\": {\n",
        "    \"suffix\": \".S\",\n",
        "    \"file\": \"209\"\n",
        "  },\n",
        "  \"mid\": {\n",
        "    \"suffix\": \".M\",\n",
        "    \"file\": \"503\"\n",
        "  },\n",
        "  \"large\": {\n",
        "    \"suffix\": \".L\",\n",
        "    \"file\": \"000\"\n",
        "  }\n",
        "}"
      ],
      "metadata": {
        "id": "y-EP6ppqZwwx"
      },
      "execution_count": null,
      "outputs": []
    },
    {
      "cell_type": "code",
      "source": [
        "# Clone config files\n",
        "def copy_config(src_folder, dest_folder):\n",
        "    \"\"\"\n",
        "    Copies files from src_folder to dest_folder, excluding subfolders.\n",
        "\n",
        "    Args:\n",
        "        src_folder: The path to the source folder.\n",
        "        dest_folder: The path to the destination folder.\n",
        "    \"\"\"\n",
        "\n",
        "    try:\n",
        "        # Ensure destination folder exists\n",
        "        os.makedirs(dest_folder, exist_ok=True)\n",
        "\n",
        "        for filename in os.listdir(src_folder):\n",
        "            src_path = os.path.join(src_folder, filename)\n",
        "            dest_path = os.path.join(dest_folder, filename)\n",
        "\n",
        "            if os.path.isfile(src_path):\n",
        "                shutil.copy2(src_path, dest_path) #copy metadata as well.\n",
        "                #Use shutil.copy for not copying metadata.\n",
        "                print(f\"Copied: {filename}\")\n",
        "            #else: #optional\n",
        "                #print(f\"Skipped (not a file): {filename}\") #optional. Uncomment if you want to see the skipped folders.\n",
        "\n",
        "        print(\"✅ Copying complete.\")\n",
        "\n",
        "    except Exception as e:\n",
        "        print(f\"❌ An error occurred: {e}\")\n"
      ],
      "metadata": {
        "id": "uaIDBCxLiJRp"
      },
      "execution_count": null,
      "outputs": []
    },
    {
      "cell_type": "code",
      "execution_count": null,
      "metadata": {
        "id": "Vc5rTS70Q3d1"
      },
      "outputs": [],
      "source": [
        "# Copy filtered dataset images/labels\n",
        "def copy_and_filter_folder(src_folder, dest_folder, pattern):\n",
        "    \"\"\"\n",
        "    Copies a folder and files that match the given pattern.\n",
        "    Alerts the user when a folder or file already exists but *does not* overwrite.\n",
        "    Creates only what is needed.\n",
        "\n",
        "    :param src_folder: Path to the source folder.\n",
        "    :param dest_folder: Path to the destination folder.\n",
        "    :param pattern: Filename pattern to keep (e.g., \"*.txt\").\n",
        "    \"\"\"\n",
        "    try:\n",
        "        # Ensure destination folder exists\n",
        "        if not os.path.exists(dest_folder):\n",
        "            print(f\"✓ Creating destination folder '{dest_folder}'.\\n\")\n",
        "            os.makedirs(dest_folder)\n",
        "        else:\n",
        "            print(f\"✓ Destination folder '{dest_folder}' already exists.\\n\")\n",
        "\n",
        "        # Walk through the source folder\n",
        "        for root, _, files in os.walk(src_folder):\n",
        "            relative_path = os.path.relpath(root, src_folder)\n",
        "            new_root = os.path.join(dest_folder, relative_path)\n",
        "\n",
        "            if not os.path.exists(new_root):\n",
        "                print(f\"Creating subdirectory '{new_root}'\")\n",
        "                os.makedirs(new_root)\n",
        "            else:\n",
        "                print(f\"❕Subdirectory '{new_root}' already exists.\")\n",
        "                print(\"Make sure the data inside is relevant. Otherwise, just delete the folder and repeat the cloning process.\")\n",
        "\n",
        "            for file in files:\n",
        "                if fnmatch.fnmatch(file, pattern + \"*\"):\n",
        "                    src_file = os.path.join(root, file)\n",
        "                    dest_file = os.path.join(new_root, file)\n",
        "\n",
        "                    if not os.path.exists(dest_file):\n",
        "                        shutil.copy2(src_file, dest_file)  # copy metadata as well\n",
        "                    else:\n",
        "                        print(f\"❗️File '{dest_file}' already exists. Skipping.\")\n",
        "\n",
        "            print(f\" ✓ Copying files complete.\\n\")\n",
        "        print(\"✅ Copying dataset complete.\")\n",
        "\n",
        "    except Exception as e:\n",
        "        print(f\"❌ An error occurred: {e}\")"
      ]
    },
    {
      "cell_type": "markdown",
      "source": [
        "## Importing from Drive"
      ],
      "metadata": {
        "id": "IlPjpooldQG-"
      }
    },
    {
      "cell_type": "code",
      "source": [
        "!rm -rf /content/sample_data"
      ],
      "metadata": {
        "id": "iddWd3iDSpbo"
      },
      "execution_count": null,
      "outputs": []
    },
    {
      "cell_type": "code",
      "source": [
        "from google.colab import drive\n",
        "drive.mount('/content/drive')"
      ],
      "metadata": {
        "colab": {
          "base_uri": "https://localhost:8080/"
        },
        "id": "WtXftT0vSNOA",
        "outputId": "2d1d9e6b-aa64-437d-bf75-dba8dd15d668"
      },
      "execution_count": null,
      "outputs": [
        {
          "output_type": "stream",
          "name": "stdout",
          "text": [
            "Drive already mounted at /content/drive; to attempt to forcibly remount, call drive.mount(\"/content/drive\", force_remount=True).\n"
          ]
        }
      ]
    },
    {
      "cell_type": "code",
      "source": [
        "import time\n",
        "# Start time measurement for testing\n",
        "start_time = time.time()  # Record start time"
      ],
      "metadata": {
        "id": "0gT8b2aArRVl"
      },
      "execution_count": null,
      "outputs": []
    },
    {
      "cell_type": "code",
      "source": [
        "!ls /content/drive/MyDrive/YOLO"
      ],
      "metadata": {
        "colab": {
          "base_uri": "https://localhost:8080/"
        },
        "id": "S_h_JyUvSWxc",
        "outputId": "61c204d0-a135-4da6-d711-3bd70fde7e00"
      },
      "execution_count": null,
      "outputs": [
        {
          "output_type": "stream",
          "name": "stdout",
          "text": [
            "3.5m.v3i.yolov8\n"
          ]
        }
      ]
    },
    {
      "cell_type": "code",
      "source": [
        "#!cp -r /content/drive/MyDrive/YOLO/ /content"
      ],
      "metadata": {
        "id": "KrSd41yvShIv"
      },
      "execution_count": null,
      "outputs": []
    },
    {
      "cell_type": "code",
      "source": [
        "drive_path = '/content/drive/MyDrive/YOLO'\n",
        "model = os.listdir(drive_path)[0]"
      ],
      "metadata": {
        "id": "XVafy73bU2PM"
      },
      "execution_count": null,
      "outputs": []
    },
    {
      "cell_type": "code",
      "source": [
        "#os.chdir(\"/content/YOLO\")\n",
        "#model = os.listdir(\".\")[0]"
      ],
      "metadata": {
        "id": "pozh2IgLpL2v"
      },
      "execution_count": null,
      "outputs": []
    },
    {
      "cell_type": "code",
      "source": [
        "src_folder = f\"{drive_path}/{model}\""
      ],
      "metadata": {
        "id": "PNhgI21wkmqi"
      },
      "execution_count": null,
      "outputs": []
    },
    {
      "cell_type": "markdown",
      "source": [
        "## Settings"
      ],
      "metadata": {
        "id": "65CE4LZkdT7P"
      }
    },
    {
      "cell_type": "code",
      "source": [
        "# CHOOSE THE DATASET YOU WANT TO WORK WITH\n",
        "choosen_data = 'small' # Options: small / mid / large"
      ],
      "metadata": {
        "id": "z2v8aB6IUyKc"
      },
      "execution_count": null,
      "outputs": []
    },
    {
      "cell_type": "code",
      "source": [
        "suffix = reference[choosen_data]['suffix']\n",
        "#src_folder = f\"/content/YOLO/{model}\"\n",
        "dest_folder = f\"/content/YOLO/{model}{suffix}\"\n",
        "pattern = reference[choosen_data]['file']"
      ],
      "metadata": {
        "id": "jQtJOxP3lMoK"
      },
      "execution_count": null,
      "outputs": []
    },
    {
      "cell_type": "code",
      "source": [
        "print(f'🆗 SETTING PARAMETERS\\n - Model: {model}\\n - rigin: {src_folder}\\n - Destination: {dest_folder}\\n - Prefix: {pattern}…')"
      ],
      "metadata": {
        "colab": {
          "base_uri": "https://localhost:8080/"
        },
        "id": "h7nbU3tAcYkb",
        "outputId": "1ad8ef67-f8bd-42db-e882-1d2a69e1f035"
      },
      "execution_count": null,
      "outputs": [
        {
          "output_type": "stream",
          "name": "stdout",
          "text": [
            "🆗 SETTING PARAMETERS\n",
            " - Model: 3.5m.v3i.yolov8\n",
            " - rigin: /content/drive/MyDrive/YOLO/3.5m.v3i.yolov8\n",
            " - Destination: /content/YOLO/3.5m.v3i.yolov8.S\n",
            " - Prefix: 209…\n"
          ]
        }
      ]
    },
    {
      "cell_type": "markdown",
      "source": [
        "## Cloning"
      ],
      "metadata": {
        "id": "FO1QRktzdWHN"
      }
    },
    {
      "cell_type": "code",
      "source": [
        "copy_config(src_folder, dest_folder)"
      ],
      "metadata": {
        "colab": {
          "base_uri": "https://localhost:8080/"
        },
        "id": "Qm2_Use1kCXx",
        "outputId": "a7ca7ef9-fd2f-4dda-9818-afaaa392e586"
      },
      "execution_count": null,
      "outputs": [
        {
          "output_type": "stream",
          "name": "stdout",
          "text": [
            "Copied: data.yaml\n",
            "Copied: README.dataset.txt\n",
            "Copied: README.roboflow.txt\n",
            "Copied: .DS_Store\n",
            "✅ Copying complete.\n"
          ]
        }
      ]
    },
    {
      "cell_type": "code",
      "source": [
        "copy_and_filter_folder(src_folder, dest_folder, pattern)"
      ],
      "metadata": {
        "id": "Q9UlA3ErdB4R",
        "colab": {
          "base_uri": "https://localhost:8080/"
        },
        "outputId": "83faf58d-82c5-4a62-8376-f2b47e67cf87"
      },
      "execution_count": null,
      "outputs": [
        {
          "output_type": "stream",
          "name": "stdout",
          "text": [
            "✅ Destination folder '/content/YOLO/3.5m.v3i.yolov8.S' already exists.\n",
            "❕Subdirectory '/content/YOLO/3.5m.v3i.yolov8.S/.' already exists.\n",
            "Make sure the data inside is relevant. Otherwise, just delete the folder and repeat the cloning process.\n",
            " ✓ Copying complete.\n",
            "\n",
            "Creating subdirectory '/content/YOLO/3.5m.v3i.yolov8.S/valid'\n",
            " ✓ Copying complete.\n",
            "\n",
            "Creating subdirectory '/content/YOLO/3.5m.v3i.yolov8.S/valid/labels'\n",
            " ✓ Copying complete.\n",
            "\n",
            "Creating subdirectory '/content/YOLO/3.5m.v3i.yolov8.S/valid/images'\n",
            " ✓ Copying complete.\n",
            "\n",
            "Creating subdirectory '/content/YOLO/3.5m.v3i.yolov8.S/train'\n",
            " ✓ Copying complete.\n",
            "\n",
            "Creating subdirectory '/content/YOLO/3.5m.v3i.yolov8.S/train/labels'\n",
            " ✓ Copying complete.\n",
            "\n",
            "Creating subdirectory '/content/YOLO/3.5m.v3i.yolov8.S/train/images'\n",
            " ✓ Copying complete.\n",
            "\n",
            "✅ Copying complete.\n"
          ]
        }
      ]
    },
    {
      "cell_type": "code",
      "source": [
        "# End time measurement\n",
        "end_time = time.time()\n",
        "elapsed_time = end_time - start_time\n",
        "print(f\"⏱️ Execution time: {elapsed_time:.2f} seconds\")"
      ],
      "metadata": {
        "colab": {
          "base_uri": "https://localhost:8080/"
        },
        "id": "y13GT0FYrZiC",
        "outputId": "09a73cdd-59e1-4623-f31c-651722a0a36f"
      },
      "execution_count": null,
      "outputs": [
        {
          "output_type": "stream",
          "name": "stdout",
          "text": [
            "⏱️ Execution time: 87.70 seconds\n"
          ]
        }
      ]
    },
    {
      "cell_type": "markdown",
      "source": [
        "**Execution optimization tests:**\n",
        "1.  Copying local the whole dataset ⏱️ Execution time: 105.03 seconds\n",
        "2.  From drive to local (Full verbose) ⏱️ Execution time: 106.29 seconds\n",
        "3.  From drive to local (Minimal verbose) ⏱️ Execution time: 87.70 seconds\n",
        "\n",
        "***Conclusions:***\n",
        "*   **Option 1:** is desirable if you need to test many subset combinations in the same session (avoid downloading data twice from the cloud).\n",
        "*   **Option 3:** is best if you're just going to test one subset combination  (avoid downloading unnecessary data from the cloud).\n",
        "\n"
      ],
      "metadata": {
        "id": "JawOcWqws1ON"
      }
    },
    {
      "cell_type": "code",
      "source": [
        "# Removes complete local dataset\n",
        "#!rm -rf /content/YOLO"
      ],
      "metadata": {
        "id": "zs9SF2no2vSL"
      },
      "execution_count": null,
      "outputs": []
    },
    {
      "cell_type": "code",
      "source": [
        "# YOLO Finetuning test"
      ],
      "metadata": {
        "id": "K0ygwHK71j9r"
      },
      "execution_count": null,
      "outputs": []
    }
  ]
}