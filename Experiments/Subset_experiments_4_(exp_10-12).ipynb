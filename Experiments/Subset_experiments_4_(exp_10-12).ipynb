{
  "cells": [
    {
      "cell_type": "markdown",
      "metadata": {
        "id": "Wl2IhtFLNxy_"
      },
      "source": [
        "# Experiment 10\n",
        "- **Model:** `yolov8n` *(Nano)*\n",
        "- **Dataset:** 5m | 60º\n",
        "- **Sizes:** large\n",
        "- **Experiments:**\n",
        "    1. large\n"
      ]
    },
    {
      "cell_type": "markdown",
      "metadata": {
        "id": "KBXNn6g0OWBb"
      },
      "source": [
        "## Init"
      ]
    },
    {
      "cell_type": "code",
      "execution_count": 1,
      "metadata": {
        "id": "YVVJQ_XmmkIf"
      },
      "outputs": [],
      "source": [
        "import os\n",
        "import shutil\n",
        "import fnmatch"
      ]
    },
    {
      "cell_type": "code",
      "execution_count": 2,
      "metadata": {
        "colab": {
          "base_uri": "https://localhost:8080/"
        },
        "id": "2-ZnMwL4Nzlp",
        "outputId": "42457a6f-0345-49ed-85ad-d31c38a02225"
      },
      "outputs": [
        {
          "name": "stdout",
          "output_type": "stream",
          "text": [
            "Collecting ultralytics\n",
            "  Downloading ultralytics-8.3.75-py3-none-any.whl.metadata (35 kB)\n",
            "Requirement already satisfied: numpy<=2.1.1,>=1.23.0 in /usr/local/lib/python3.11/dist-packages (from ultralytics) (1.26.4)\n",
            "Requirement already satisfied: matplotlib>=3.3.0 in /usr/local/lib/python3.11/dist-packages (from ultralytics) (3.10.0)\n",
            "Requirement already satisfied: opencv-python>=4.6.0 in /usr/local/lib/python3.11/dist-packages (from ultralytics) (4.11.0.86)\n",
            "Requirement already satisfied: pillow>=7.1.2 in /usr/local/lib/python3.11/dist-packages (from ultralytics) (11.1.0)\n",
            "Requirement already satisfied: pyyaml>=5.3.1 in /usr/local/lib/python3.11/dist-packages (from ultralytics) (6.0.2)\n",
            "Requirement already satisfied: requests>=2.23.0 in /usr/local/lib/python3.11/dist-packages (from ultralytics) (2.32.3)\n",
            "Requirement already satisfied: scipy>=1.4.1 in /usr/local/lib/python3.11/dist-packages (from ultralytics) (1.13.1)\n",
            "Requirement already satisfied: torch>=1.8.0 in /usr/local/lib/python3.11/dist-packages (from ultralytics) (2.5.1+cu124)\n",
            "Requirement already satisfied: torchvision>=0.9.0 in /usr/local/lib/python3.11/dist-packages (from ultralytics) (0.20.1+cu124)\n",
            "Requirement already satisfied: tqdm>=4.64.0 in /usr/local/lib/python3.11/dist-packages (from ultralytics) (4.67.1)\n",
            "Requirement already satisfied: psutil in /usr/local/lib/python3.11/dist-packages (from ultralytics) (5.9.5)\n",
            "Requirement already satisfied: py-cpuinfo in /usr/local/lib/python3.11/dist-packages (from ultralytics) (9.0.0)\n",
            "Requirement already satisfied: pandas>=1.1.4 in /usr/local/lib/python3.11/dist-packages (from ultralytics) (2.2.2)\n",
            "Requirement already satisfied: seaborn>=0.11.0 in /usr/local/lib/python3.11/dist-packages (from ultralytics) (0.13.2)\n",
            "Collecting ultralytics-thop>=2.0.0 (from ultralytics)\n",
            "  Downloading ultralytics_thop-2.0.14-py3-none-any.whl.metadata (9.4 kB)\n",
            "Requirement already satisfied: contourpy>=1.0.1 in /usr/local/lib/python3.11/dist-packages (from matplotlib>=3.3.0->ultralytics) (1.3.1)\n",
            "Requirement already satisfied: cycler>=0.10 in /usr/local/lib/python3.11/dist-packages (from matplotlib>=3.3.0->ultralytics) (0.12.1)\n",
            "Requirement already satisfied: fonttools>=4.22.0 in /usr/local/lib/python3.11/dist-packages (from matplotlib>=3.3.0->ultralytics) (4.56.0)\n",
            "Requirement already satisfied: kiwisolver>=1.3.1 in /usr/local/lib/python3.11/dist-packages (from matplotlib>=3.3.0->ultralytics) (1.4.8)\n",
            "Requirement already satisfied: packaging>=20.0 in /usr/local/lib/python3.11/dist-packages (from matplotlib>=3.3.0->ultralytics) (24.2)\n",
            "Requirement already satisfied: pyparsing>=2.3.1 in /usr/local/lib/python3.11/dist-packages (from matplotlib>=3.3.0->ultralytics) (3.2.1)\n",
            "Requirement already satisfied: python-dateutil>=2.7 in /usr/local/lib/python3.11/dist-packages (from matplotlib>=3.3.0->ultralytics) (2.8.2)\n",
            "Requirement already satisfied: pytz>=2020.1 in /usr/local/lib/python3.11/dist-packages (from pandas>=1.1.4->ultralytics) (2025.1)\n",
            "Requirement already satisfied: tzdata>=2022.7 in /usr/local/lib/python3.11/dist-packages (from pandas>=1.1.4->ultralytics) (2025.1)\n",
            "Requirement already satisfied: charset-normalizer<4,>=2 in /usr/local/lib/python3.11/dist-packages (from requests>=2.23.0->ultralytics) (3.4.1)\n",
            "Requirement already satisfied: idna<4,>=2.5 in /usr/local/lib/python3.11/dist-packages (from requests>=2.23.0->ultralytics) (3.10)\n",
            "Requirement already satisfied: urllib3<3,>=1.21.1 in /usr/local/lib/python3.11/dist-packages (from requests>=2.23.0->ultralytics) (2.3.0)\n",
            "Requirement already satisfied: certifi>=2017.4.17 in /usr/local/lib/python3.11/dist-packages (from requests>=2.23.0->ultralytics) (2025.1.31)\n",
            "Requirement already satisfied: filelock in /usr/local/lib/python3.11/dist-packages (from torch>=1.8.0->ultralytics) (3.17.0)\n",
            "Requirement already satisfied: typing-extensions>=4.8.0 in /usr/local/lib/python3.11/dist-packages (from torch>=1.8.0->ultralytics) (4.12.2)\n",
            "Requirement already satisfied: networkx in /usr/local/lib/python3.11/dist-packages (from torch>=1.8.0->ultralytics) (3.4.2)\n",
            "Requirement already satisfied: jinja2 in /usr/local/lib/python3.11/dist-packages (from torch>=1.8.0->ultralytics) (3.1.5)\n",
            "Requirement already satisfied: fsspec in /usr/local/lib/python3.11/dist-packages (from torch>=1.8.0->ultralytics) (2024.10.0)\n",
            "Collecting nvidia-cuda-nvrtc-cu12==12.4.127 (from torch>=1.8.0->ultralytics)\n",
            "  Downloading nvidia_cuda_nvrtc_cu12-12.4.127-py3-none-manylinux2014_x86_64.whl.metadata (1.5 kB)\n",
            "Collecting nvidia-cuda-runtime-cu12==12.4.127 (from torch>=1.8.0->ultralytics)\n",
            "  Downloading nvidia_cuda_runtime_cu12-12.4.127-py3-none-manylinux2014_x86_64.whl.metadata (1.5 kB)\n",
            "Collecting nvidia-cuda-cupti-cu12==12.4.127 (from torch>=1.8.0->ultralytics)\n",
            "  Downloading nvidia_cuda_cupti_cu12-12.4.127-py3-none-manylinux2014_x86_64.whl.metadata (1.6 kB)\n",
            "Collecting nvidia-cudnn-cu12==9.1.0.70 (from torch>=1.8.0->ultralytics)\n",
            "  Downloading nvidia_cudnn_cu12-9.1.0.70-py3-none-manylinux2014_x86_64.whl.metadata (1.6 kB)\n",
            "Collecting nvidia-cublas-cu12==12.4.5.8 (from torch>=1.8.0->ultralytics)\n",
            "  Downloading nvidia_cublas_cu12-12.4.5.8-py3-none-manylinux2014_x86_64.whl.metadata (1.5 kB)\n",
            "Collecting nvidia-cufft-cu12==11.2.1.3 (from torch>=1.8.0->ultralytics)\n",
            "  Downloading nvidia_cufft_cu12-11.2.1.3-py3-none-manylinux2014_x86_64.whl.metadata (1.5 kB)\n",
            "Collecting nvidia-curand-cu12==10.3.5.147 (from torch>=1.8.0->ultralytics)\n",
            "  Downloading nvidia_curand_cu12-10.3.5.147-py3-none-manylinux2014_x86_64.whl.metadata (1.5 kB)\n",
            "Collecting nvidia-cusolver-cu12==11.6.1.9 (from torch>=1.8.0->ultralytics)\n",
            "  Downloading nvidia_cusolver_cu12-11.6.1.9-py3-none-manylinux2014_x86_64.whl.metadata (1.6 kB)\n",
            "Collecting nvidia-cusparse-cu12==12.3.1.170 (from torch>=1.8.0->ultralytics)\n",
            "  Downloading nvidia_cusparse_cu12-12.3.1.170-py3-none-manylinux2014_x86_64.whl.metadata (1.6 kB)\n",
            "Requirement already satisfied: nvidia-nccl-cu12==2.21.5 in /usr/local/lib/python3.11/dist-packages (from torch>=1.8.0->ultralytics) (2.21.5)\n",
            "Requirement already satisfied: nvidia-nvtx-cu12==12.4.127 in /usr/local/lib/python3.11/dist-packages (from torch>=1.8.0->ultralytics) (12.4.127)\n",
            "Collecting nvidia-nvjitlink-cu12==12.4.127 (from torch>=1.8.0->ultralytics)\n",
            "  Downloading nvidia_nvjitlink_cu12-12.4.127-py3-none-manylinux2014_x86_64.whl.metadata (1.5 kB)\n",
            "Requirement already satisfied: triton==3.1.0 in /usr/local/lib/python3.11/dist-packages (from torch>=1.8.0->ultralytics) (3.1.0)\n",
            "Requirement already satisfied: sympy==1.13.1 in /usr/local/lib/python3.11/dist-packages (from torch>=1.8.0->ultralytics) (1.13.1)\n",
            "Requirement already satisfied: mpmath<1.4,>=1.1.0 in /usr/local/lib/python3.11/dist-packages (from sympy==1.13.1->torch>=1.8.0->ultralytics) (1.3.0)\n",
            "Requirement already satisfied: six>=1.5 in /usr/local/lib/python3.11/dist-packages (from python-dateutil>=2.7->matplotlib>=3.3.0->ultralytics) (1.17.0)\n",
            "Requirement already satisfied: MarkupSafe>=2.0 in /usr/local/lib/python3.11/dist-packages (from jinja2->torch>=1.8.0->ultralytics) (3.0.2)\n",
            "Downloading ultralytics-8.3.75-py3-none-any.whl (914 kB)\n",
            "\u001b[2K   \u001b[90m━━━━━━━━━━━━━━━━━━━━━━━━━━━━━━━━━━━━━━━━\u001b[0m \u001b[32m914.9/914.9 kB\u001b[0m \u001b[31m20.1 MB/s\u001b[0m eta \u001b[36m0:00:00\u001b[0m\n",
            "\u001b[?25hDownloading nvidia_cublas_cu12-12.4.5.8-py3-none-manylinux2014_x86_64.whl (363.4 MB)\n",
            "\u001b[2K   \u001b[90m━━━━━━━━━━━━━━━━━━━━━━━━━━━━━━━━━━━━━━━━\u001b[0m \u001b[32m363.4/363.4 MB\u001b[0m \u001b[31m1.7 MB/s\u001b[0m eta \u001b[36m0:00:00\u001b[0m\n",
            "\u001b[?25hDownloading nvidia_cuda_cupti_cu12-12.4.127-py3-none-manylinux2014_x86_64.whl (13.8 MB)\n",
            "\u001b[2K   \u001b[90m━━━━━━━━━━━━━━━━━━━━━━━━━━━━━━━━━━━━━━━━\u001b[0m \u001b[32m13.8/13.8 MB\u001b[0m \u001b[31m70.6 MB/s\u001b[0m eta \u001b[36m0:00:00\u001b[0m\n",
            "\u001b[?25hDownloading nvidia_cuda_nvrtc_cu12-12.4.127-py3-none-manylinux2014_x86_64.whl (24.6 MB)\n",
            "\u001b[2K   \u001b[90m━━━━━━━━━━━━━━━━━━━━━━━━━━━━━━━━━━━━━━━━\u001b[0m \u001b[32m24.6/24.6 MB\u001b[0m \u001b[31m15.3 MB/s\u001b[0m eta \u001b[36m0:00:00\u001b[0m\n",
            "\u001b[?25hDownloading nvidia_cuda_runtime_cu12-12.4.127-py3-none-manylinux2014_x86_64.whl (883 kB)\n",
            "\u001b[2K   \u001b[90m━━━━━━━━━━━━━━━━━━━━━━━━━━━━━━━━━━━━━━━━\u001b[0m \u001b[32m883.7/883.7 kB\u001b[0m \u001b[31m45.7 MB/s\u001b[0m eta \u001b[36m0:00:00\u001b[0m\n",
            "\u001b[?25hDownloading nvidia_cudnn_cu12-9.1.0.70-py3-none-manylinux2014_x86_64.whl (664.8 MB)\n",
            "\u001b[2K   \u001b[90m━━━━━━━━━━━━━━━━━━━━━━━━━━━━━━━━━━━━━━━━\u001b[0m \u001b[32m664.8/664.8 MB\u001b[0m \u001b[31m2.6 MB/s\u001b[0m eta \u001b[36m0:00:00\u001b[0m\n",
            "\u001b[?25hDownloading nvidia_cufft_cu12-11.2.1.3-py3-none-manylinux2014_x86_64.whl (211.5 MB)\n",
            "\u001b[2K   \u001b[90m━━━━━━━━━━━━━━━━━━━━━━━━━━━━━━━━━━━━━━━━\u001b[0m \u001b[32m211.5/211.5 MB\u001b[0m \u001b[31m6.0 MB/s\u001b[0m eta \u001b[36m0:00:00\u001b[0m\n",
            "\u001b[?25hDownloading nvidia_curand_cu12-10.3.5.147-py3-none-manylinux2014_x86_64.whl (56.3 MB)\n",
            "\u001b[2K   \u001b[90m━━━━━━━━━━━━━━━━━━━━━━━━━━━━━━━━━━━━━━━━\u001b[0m \u001b[32m56.3/56.3 MB\u001b[0m \u001b[31m13.3 MB/s\u001b[0m eta \u001b[36m0:00:00\u001b[0m\n",
            "\u001b[?25hDownloading nvidia_cusolver_cu12-11.6.1.9-py3-none-manylinux2014_x86_64.whl (127.9 MB)\n",
            "\u001b[2K   \u001b[90m━━━━━━━━━━━━━━━━━━━━━━━━━━━━━━━━━━━━━━━━\u001b[0m \u001b[32m127.9/127.9 MB\u001b[0m \u001b[31m8.8 MB/s\u001b[0m eta \u001b[36m0:00:00\u001b[0m\n",
            "\u001b[?25hDownloading nvidia_cusparse_cu12-12.3.1.170-py3-none-manylinux2014_x86_64.whl (207.5 MB)\n",
            "\u001b[2K   \u001b[90m━━━━━━━━━━━━━━━━━━━━━━━━━━━━━━━━━━━━━━━━\u001b[0m \u001b[32m207.5/207.5 MB\u001b[0m \u001b[31m2.5 MB/s\u001b[0m eta \u001b[36m0:00:00\u001b[0m\n",
            "\u001b[?25hDownloading nvidia_nvjitlink_cu12-12.4.127-py3-none-manylinux2014_x86_64.whl (21.1 MB)\n",
            "\u001b[2K   \u001b[90m━━━━━━━━━━━━━━━━━━━━━━━━━━━━━━━━━━━━━━━━\u001b[0m \u001b[32m21.1/21.1 MB\u001b[0m \u001b[31m70.8 MB/s\u001b[0m eta \u001b[36m0:00:00\u001b[0m\n",
            "\u001b[?25hDownloading ultralytics_thop-2.0.14-py3-none-any.whl (26 kB)\n",
            "Installing collected packages: nvidia-nvjitlink-cu12, nvidia-curand-cu12, nvidia-cufft-cu12, nvidia-cuda-runtime-cu12, nvidia-cuda-nvrtc-cu12, nvidia-cuda-cupti-cu12, nvidia-cublas-cu12, nvidia-cusparse-cu12, nvidia-cudnn-cu12, nvidia-cusolver-cu12, ultralytics-thop, ultralytics\n",
            "  Attempting uninstall: nvidia-nvjitlink-cu12\n",
            "    Found existing installation: nvidia-nvjitlink-cu12 12.5.82\n",
            "    Uninstalling nvidia-nvjitlink-cu12-12.5.82:\n",
            "      Successfully uninstalled nvidia-nvjitlink-cu12-12.5.82\n",
            "  Attempting uninstall: nvidia-curand-cu12\n",
            "    Found existing installation: nvidia-curand-cu12 10.3.6.82\n",
            "    Uninstalling nvidia-curand-cu12-10.3.6.82:\n",
            "      Successfully uninstalled nvidia-curand-cu12-10.3.6.82\n",
            "  Attempting uninstall: nvidia-cufft-cu12\n",
            "    Found existing installation: nvidia-cufft-cu12 11.2.3.61\n",
            "    Uninstalling nvidia-cufft-cu12-11.2.3.61:\n",
            "      Successfully uninstalled nvidia-cufft-cu12-11.2.3.61\n",
            "  Attempting uninstall: nvidia-cuda-runtime-cu12\n",
            "    Found existing installation: nvidia-cuda-runtime-cu12 12.5.82\n",
            "    Uninstalling nvidia-cuda-runtime-cu12-12.5.82:\n",
            "      Successfully uninstalled nvidia-cuda-runtime-cu12-12.5.82\n",
            "  Attempting uninstall: nvidia-cuda-nvrtc-cu12\n",
            "    Found existing installation: nvidia-cuda-nvrtc-cu12 12.5.82\n",
            "    Uninstalling nvidia-cuda-nvrtc-cu12-12.5.82:\n",
            "      Successfully uninstalled nvidia-cuda-nvrtc-cu12-12.5.82\n",
            "  Attempting uninstall: nvidia-cuda-cupti-cu12\n",
            "    Found existing installation: nvidia-cuda-cupti-cu12 12.5.82\n",
            "    Uninstalling nvidia-cuda-cupti-cu12-12.5.82:\n",
            "      Successfully uninstalled nvidia-cuda-cupti-cu12-12.5.82\n",
            "  Attempting uninstall: nvidia-cublas-cu12\n",
            "    Found existing installation: nvidia-cublas-cu12 12.5.3.2\n",
            "    Uninstalling nvidia-cublas-cu12-12.5.3.2:\n",
            "      Successfully uninstalled nvidia-cublas-cu12-12.5.3.2\n",
            "  Attempting uninstall: nvidia-cusparse-cu12\n",
            "    Found existing installation: nvidia-cusparse-cu12 12.5.1.3\n",
            "    Uninstalling nvidia-cusparse-cu12-12.5.1.3:\n",
            "      Successfully uninstalled nvidia-cusparse-cu12-12.5.1.3\n",
            "  Attempting uninstall: nvidia-cudnn-cu12\n",
            "    Found existing installation: nvidia-cudnn-cu12 9.3.0.75\n",
            "    Uninstalling nvidia-cudnn-cu12-9.3.0.75:\n",
            "      Successfully uninstalled nvidia-cudnn-cu12-9.3.0.75\n",
            "  Attempting uninstall: nvidia-cusolver-cu12\n",
            "    Found existing installation: nvidia-cusolver-cu12 11.6.3.83\n",
            "    Uninstalling nvidia-cusolver-cu12-11.6.3.83:\n",
            "      Successfully uninstalled nvidia-cusolver-cu12-11.6.3.83\n",
            "Successfully installed nvidia-cublas-cu12-12.4.5.8 nvidia-cuda-cupti-cu12-12.4.127 nvidia-cuda-nvrtc-cu12-12.4.127 nvidia-cuda-runtime-cu12-12.4.127 nvidia-cudnn-cu12-9.1.0.70 nvidia-cufft-cu12-11.2.1.3 nvidia-curand-cu12-10.3.5.147 nvidia-cusolver-cu12-11.6.1.9 nvidia-cusparse-cu12-12.3.1.170 nvidia-nvjitlink-cu12-12.4.127 ultralytics-8.3.75 ultralytics-thop-2.0.14\n"
          ]
        }
      ],
      "source": [
        "!pip install ultralytics"
      ]
    },
    {
      "cell_type": "markdown",
      "metadata": {
        "id": "i8bbx812NxzF"
      },
      "source": [
        "## Helper Functions"
      ]
    },
    {
      "cell_type": "code",
      "execution_count": 3,
      "metadata": {
        "id": "8WEWyU6PNxzG"
      },
      "outputs": [],
      "source": [
        "# Change for different file formats\n",
        "reference = {\n",
        "  \"small\": {\n",
        "    \"suffix\": \".S\",\n",
        "    \"file\": \"209\"\n",
        "  },\n",
        "  \"mid\": {\n",
        "    \"suffix\": \".M\",\n",
        "    \"file\": \"503\"\n",
        "  },\n",
        "  \"large\": {\n",
        "    \"suffix\": \".L\",\n",
        "    \"file\": \"000\"\n",
        "  }\n",
        "}"
      ]
    },
    {
      "cell_type": "code",
      "execution_count": 4,
      "metadata": {
        "id": "d6d2oUpbNxzH"
      },
      "outputs": [],
      "source": [
        "# Clone config files\n",
        "def copy_config(src_folder, dest_folder):\n",
        "    \"\"\"\n",
        "    Copies files from src_folder to dest_folder, excluding subfolders.\n",
        "\n",
        "    Args:\n",
        "        src_folder: The path to the source folder.\n",
        "        dest_folder: The path to the destination folder.\n",
        "    \"\"\"\n",
        "\n",
        "    try:\n",
        "        # Ensure destination folder exists\n",
        "        os.makedirs(dest_folder, exist_ok=True)\n",
        "\n",
        "        for filename in os.listdir(src_folder):\n",
        "            src_path = os.path.join(src_folder, filename)\n",
        "            dest_path = os.path.join(dest_folder, filename)\n",
        "\n",
        "            if os.path.isfile(src_path):\n",
        "                shutil.copy2(src_path, dest_path) #copy metadata as well.\n",
        "                #Use shutil.copy for not copying metadata.\n",
        "                print(f\"Copied: {filename}\")\n",
        "            #else: #optional\n",
        "                #print(f\"Skipped (not a file): {filename}\") #optional. Uncomment if you want to see the skipped folders.\n",
        "\n",
        "        print(\"✅ Copying complete.\")\n",
        "\n",
        "    except Exception as e:\n",
        "        print(f\"❌ An error occurred: {e}\")\n"
      ]
    },
    {
      "cell_type": "code",
      "execution_count": 5,
      "metadata": {
        "id": "mgpms2_DNxzI"
      },
      "outputs": [],
      "source": [
        "# Copy filtered dataset images/labels\n",
        "def copy_and_filter_folder(src_folder, dest_folder, pattern):\n",
        "    \"\"\"\n",
        "    Copies a folder and files that match the given pattern.\n",
        "    Alerts the user when a folder or file already exists but *does not* overwrite.\n",
        "    Creates only what is needed.\n",
        "\n",
        "    :param src_folder: Path to the source folder.\n",
        "    :param dest_folder: Path to the destination folder.\n",
        "    :param pattern: Filename pattern to keep (e.g., \"*.txt\").\n",
        "    \"\"\"\n",
        "    try:\n",
        "        # Ensure destination folder exists\n",
        "        if not os.path.exists(dest_folder):\n",
        "            print(f\"✓ Creating destination folder '{dest_folder}'.\\n\")\n",
        "            os.makedirs(dest_folder)\n",
        "        else:\n",
        "            print(f\"✓ Destination folder '{dest_folder}' already exists.\\n\")\n",
        "\n",
        "        # Walk through the source folder\n",
        "        for root, _, files in os.walk(src_folder):\n",
        "            relative_path = os.path.relpath(root, src_folder)\n",
        "            new_root = os.path.join(dest_folder, relative_path)\n",
        "\n",
        "            if not os.path.exists(new_root):\n",
        "                print(f\"Creating subdirectory '{new_root}'\")\n",
        "                os.makedirs(new_root)\n",
        "            else:\n",
        "                print(f\"❕Subdirectory '{new_root}' already exists.\")\n",
        "                print(\"Make sure the data inside is relevant. Otherwise, just delete the folder and repeat the cloning process.\")\n",
        "\n",
        "            for file in files:\n",
        "                if fnmatch.fnmatch(file, pattern + \"*\"):\n",
        "                    src_file = os.path.join(root, file)\n",
        "                    dest_file = os.path.join(new_root, file)\n",
        "\n",
        "                    if not os.path.exists(dest_file):\n",
        "                        shutil.copy2(src_file, dest_file)  # copy metadata as well\n",
        "                    else:\n",
        "                        print(f\"❗️File '{dest_file}' already exists. Skipping.\")\n",
        "\n",
        "            print(f\" ✓ Copying files complete.\\n\")\n",
        "        print(\"✅ Copying dataset complete.\")\n",
        "\n",
        "    except Exception as e:\n",
        "        print(f\"❌ An error occurred: {e}\")"
      ]
    },
    {
      "cell_type": "code",
      "execution_count": 6,
      "metadata": {
        "id": "GDt55QWyNxzJ"
      },
      "outputs": [],
      "source": [
        "def save_on_cloud(source: str, destination: str):\n",
        "    \"\"\"\n",
        "    Saves a folder to a cloud storage location (e.g., Google Drive in Colab).\n",
        "\n",
        "    Args:\n",
        "        source (str): The path to the source folder.\n",
        "        destination (str): The path to the destination folder (in cloud storage).\n",
        "    \"\"\"\n",
        "    # 0. Input Validation (Assertions)\n",
        "    assert isinstance(source, str), \"Source must be a string.\"\n",
        "    assert isinstance(destination, str), \"Destination must be a string.\"\n",
        "\n",
        "    try:\n",
        "        # 1. Verify Source Folder\n",
        "        if not os.path.exists(destination):\n",
        "            os.makedirs(destination)\n",
        "\n",
        "        # 2. Copy the Folder\n",
        "        shutil.copytree(source, destination, dirs_exist_ok=True)\n",
        "        print(\"✅ Folder copied successfully:\\n  \",source,\"\\n  -->\",destination)\n",
        "\n",
        "    except Exception as e:\n",
        "        print(f\"❌ An error occurred: {e}\")"
      ]
    },
    {
      "cell_type": "markdown",
      "metadata": {
        "id": "-9BjrhsmI2C3"
      },
      "source": [
        "# Datasets builder"
      ]
    },
    {
      "cell_type": "markdown",
      "metadata": {
        "id": "IlPjpooldQG-"
      },
      "source": [
        "## Importing from Drive"
      ]
    },
    {
      "cell_type": "code",
      "execution_count": 7,
      "metadata": {
        "id": "iddWd3iDSpbo"
      },
      "outputs": [],
      "source": [
        "!rm -rf /content/sample_data"
      ]
    },
    {
      "cell_type": "code",
      "execution_count": 9,
      "metadata": {
        "colab": {
          "base_uri": "https://localhost:8080/"
        },
        "id": "WtXftT0vSNOA",
        "outputId": "c4a03335-dca6-4fb9-936e-6568b736a88a"
      },
      "outputs": [
        {
          "name": "stdout",
          "output_type": "stream",
          "text": [
            "Mounted at /content/drive\n"
          ]
        }
      ],
      "source": [
        "from google.colab import drive\n",
        "drive.mount('/content/drive')"
      ]
    },
    {
      "cell_type": "code",
      "execution_count": 11,
      "metadata": {
        "colab": {
          "base_uri": "https://localhost:8080/"
        },
        "id": "S_h_JyUvSWxc",
        "outputId": "50fbde26-38f4-4ba9-f57f-4b1bcb0e335a"
      },
      "outputs": [
        {
          "name": "stdout",
          "output_type": "stream",
          "text": [
            "3.5m.v3i.yolov8  3m60.v1i.yolov8  5m60.v1i.yolov8  5m.v1i.yolov8\n"
          ]
        }
      ],
      "source": [
        "# Check if the cloud path is ok and the dataset can be found\n",
        "!ls /content/drive/MyDrive/YOLO"
      ]
    },
    {
      "cell_type": "code",
      "execution_count": 10,
      "metadata": {
        "colab": {
          "base_uri": "https://localhost:8080/"
        },
        "id": "XVafy73bU2PM",
        "outputId": "737c88bc-1067-49bc-b983-ccbdeca03c39"
      },
      "outputs": [
        {
          "name": "stdout",
          "output_type": "stream",
          "text": [
            "There are 4 dataset options:\n"
          ]
        },
        {
          "data": {
            "text/plain": [
              "['3.5m.v3i.yolov8', '3m60.v1i.yolov8', '5m.v1i.yolov8', '5m60.v1i.yolov8']"
            ]
          },
          "execution_count": 10,
          "metadata": {},
          "output_type": "execute_result"
        }
      ],
      "source": [
        "drive_path = '/content/drive/MyDrive/YOLO'\n",
        "drive_datasets_paths = os.listdir(drive_path)\n",
        "drive_datasets = len(drive_datasets_paths)\n",
        "if (drive_datasets) > 1:\n",
        "    print(\"There are %d dataset options:\" % drive_datasets)\n",
        "else:\n",
        "    print(\"Theres is only 1 dataset:\")\n",
        "drive_datasets_paths"
      ]
    },
    {
      "cell_type": "code",
      "execution_count": 12,
      "metadata": {
        "colab": {
          "base_uri": "https://localhost:8080/"
        },
        "id": "5uy8TPqv5NwL",
        "outputId": "ebf4ad7a-21b0-45ed-f544-092feb04c5fc"
      },
      "outputs": [
        {
          "name": "stdout",
          "output_type": "stream",
          "text": [
            "Choosed model: 5m60.v1i.yolov8\n"
          ]
        }
      ],
      "source": [
        "choose_dataset = 4\n",
        "index = choose_dataset - 1\n",
        "model_name = os.listdir(drive_path)[index]\n",
        "print(\"Choosed model:\", model_name)"
      ]
    },
    {
      "cell_type": "markdown",
      "metadata": {
        "id": "JawOcWqws1ON"
      },
      "source": [
        "***Readme:***\n",
        "*   **Option 1:** is desirable if you need to test many subset combinations in the same session (avoid downloading data twice from the cloud).\n",
        "*   **Option 3:** is best if you're just going to test one subset combination  (avoid downloading unnecessary data from the cloud).\n",
        "\n"
      ]
    },
    {
      "cell_type": "code",
      "execution_count": 13,
      "metadata": {
        "colab": {
          "base_uri": "https://localhost:8080/"
        },
        "id": "KrSd41yvShIv",
        "outputId": "a15a1236-7477-48ae-c82a-b7528bf51d94"
      },
      "outputs": [
        {
          "name": "stdout",
          "output_type": "stream",
          "text": [
            "cp: cannot create directory '/content/YOLO/5m60.v1i.yolov8': No such file or directory\n"
          ]
        }
      ],
      "source": [
        "# Option 1 (download full dataset)\n",
        "source = f\"/content/drive/MyDrive/YOLO/{model_name}\"\n",
        "dest = f\"/content/YOLO/{model_name}\"\n",
        "#!mkdir /content/YOLO/\n",
        "!cp -r $source $dest\n",
        "src_folder = dest"
      ]
    },
    {
      "cell_type": "code",
      "execution_count": null,
      "metadata": {
        "id": "EnH1ab_4SgxT"
      },
      "outputs": [],
      "source": [
        "#!mkdir /content/YOLO"
      ]
    },
    {
      "cell_type": "code",
      "execution_count": null,
      "metadata": {
        "id": "8T9Xl_AzRvkW"
      },
      "outputs": [],
      "source": [
        "source = \"/content/YOLO/3m60.v1i.yolov8.S/valid\"\n",
        "dest = \"/content/YOLO/3m60.v1i.yolov8.M/valid\"\n",
        "!mv $source $dest"
      ]
    },
    {
      "cell_type": "code",
      "execution_count": 15,
      "metadata": {
        "colab": {
          "base_uri": "https://localhost:8080/"
        },
        "id": "AdBTa0F0Z0Me",
        "outputId": "785c3a4f-388b-4ee3-9103-04d70ab16c47"
      },
      "outputs": [
        {
          "name": "stdout",
          "output_type": "stream",
          "text": [
            "Directory '/content/drive/MyDrive/YOLO/5m60.v1i.yolov8' copied successfully to '/content/YOLO/5m60.v1i.yolov8'\n"
          ]
        }
      ],
      "source": [
        "import shutil\n",
        "import os\n",
        "\n",
        "source_dir = source\n",
        "destination_dir = dest\n",
        "\n",
        "try:\n",
        "    shutil.copytree(source_dir, destination_dir)\n",
        "    print(f\"Directory '{source_dir}' copied successfully to '{destination_dir}'\")\n",
        "except FileExistsError:\n",
        "    print(f\"Destination directory '{destination_dir}' already exists.\")\n",
        "    # You can handle this in different ways:\n",
        "    # - Remove the existing directory and try again:\n",
        "    # shutil.rmtree(destination_dir)  # Be very careful with this!\n",
        "    # shutil.copytree(source_dir, destination_dir)\n",
        "    # - Merge the directories (more complex, requires custom logic)\n",
        "    # - Prompt the user\n",
        "except Exception as e:\n",
        "    print(f\"Error copying directory: {e}\")\n",
        "\n",
        "\n",
        "# Example with error handling and overwrite:\n",
        "def copy_directory(source, destination, overwrite=True):\n",
        "    try:\n",
        "        if overwrite and os.path.exists(destination):\n",
        "            shutil.rmtree(destination)  # Remove existing directory\n",
        "        shutil.copytree(source, destination)\n",
        "        print(f\"Directory '{source}' copied to '{destination}'\")\n",
        "        return True  # Indicate success\n",
        "    except FileExistsError:\n",
        "        print(f\"Destination '{destination}' exists. Use overwrite=True to replace.\")\n",
        "        return False  # Indicate failure"
      ]
    },
    {
      "cell_type": "code",
      "execution_count": 16,
      "metadata": {
        "colab": {
          "base_uri": "https://localhost:8080/"
        },
        "id": "WDKbTn0IaI-r",
        "outputId": "0e1e6676-b5f7-4e36-945d-70bacfbd001a"
      },
      "outputs": [
        {
          "name": "stdout",
          "output_type": "stream",
          "text": [
            "Directory '/content/drive/MyDrive/YOLO/5m60.v1i.yolov8' copied to '/content/YOLO/5m60.v1i.yolov8'\n"
          ]
        },
        {
          "data": {
            "text/plain": [
              "True"
            ]
          },
          "execution_count": 16,
          "metadata": {},
          "output_type": "execute_result"
        }
      ],
      "source": [
        "copy_directory(source, dest, overwrite=True)"
      ]
    },
    {
      "cell_type": "markdown",
      "metadata": {
        "id": "EJFL51PxJcB8"
      },
      "source": [
        "## Download model"
      ]
    },
    {
      "cell_type": "code",
      "execution_count": 17,
      "metadata": {
        "colab": {
          "base_uri": "https://localhost:8080/"
        },
        "id": "zK1ESTQsJEGx",
        "outputId": "49716d5f-cdac-4639-93d4-4b17d62d9991"
      },
      "outputs": [
        {
          "name": "stdout",
          "output_type": "stream",
          "text": [
            "Creating new Ultralytics Settings v0.0.6 file ✅ \n",
            "View Ultralytics Settings with 'yolo settings' or at '/root/.config/Ultralytics/settings.json'\n",
            "Update Settings with 'yolo settings key=value', i.e. 'yolo settings runs_dir=path/to/dir'. For help see https://docs.ultralytics.com/quickstart/#ultralytics-settings.\n",
            "Downloading https://github.com/ultralytics/assets/releases/download/v8.3.0/yolov8n.pt to 'yolov8n.pt'...\n"
          ]
        },
        {
          "name": "stderr",
          "output_type": "stream",
          "text": [
            "100%|██████████| 6.25M/6.25M [00:00<00:00, 123MB/s]\n"
          ]
        }
      ],
      "source": [
        "from ultralytics import YOLO\n",
        "\n",
        "# Load the YOLO model\n",
        "model = YOLO(\"yolov8n.pt\")"
      ]
    },
    {
      "cell_type": "markdown",
      "metadata": {
        "id": "qS7qPrylKSxm"
      },
      "source": [
        "# Finetuning"
      ]
    },
    {
      "cell_type": "markdown",
      "metadata": {
        "id": "2ZrxyjgOZhOR"
      },
      "source": [
        "### Info"
      ]
    },
    {
      "cell_type": "code",
      "execution_count": 18,
      "metadata": {
        "colab": {
          "base_uri": "https://localhost:8080/"
        },
        "id": "igZPwDJsOPUK",
        "outputId": "75c695c3-4043-4e93-88ed-d6aa6fa73b5f"
      },
      "outputs": [
        {
          "name": "stdout",
          "output_type": "stream",
          "text": [
            "Sun Feb 16 01:00:21 2025       \n",
            "+-----------------------------------------------------------------------------------------+\n",
            "| NVIDIA-SMI 550.54.15              Driver Version: 550.54.15      CUDA Version: 12.4     |\n",
            "|-----------------------------------------+------------------------+----------------------+\n",
            "| GPU  Name                 Persistence-M | Bus-Id          Disp.A | Volatile Uncorr. ECC |\n",
            "| Fan  Temp   Perf          Pwr:Usage/Cap |           Memory-Usage | GPU-Util  Compute M. |\n",
            "|                                         |                        |               MIG M. |\n",
            "|=========================================+========================+======================|\n",
            "|   0  Tesla T4                       Off |   00000000:00:04.0 Off |                    0 |\n",
            "| N/A   45C    P8             11W /   70W |       0MiB /  15360MiB |      0%      Default |\n",
            "|                                         |                        |                  N/A |\n",
            "+-----------------------------------------+------------------------+----------------------+\n",
            "                                                                                         \n",
            "+-----------------------------------------------------------------------------------------+\n",
            "| Processes:                                                                              |\n",
            "|  GPU   GI   CI        PID   Type   Process name                              GPU Memory |\n",
            "|        ID   ID                                                               Usage      |\n",
            "|=========================================================================================|\n",
            "|  No running processes found                                                             |\n",
            "+-----------------------------------------------------------------------------------------+\n"
          ]
        }
      ],
      "source": [
        "!nvidia-smi"
      ]
    },
    {
      "cell_type": "code",
      "execution_count": 19,
      "metadata": {
        "colab": {
          "base_uri": "https://localhost:8080/"
        },
        "id": "_M1W78eLN99E",
        "outputId": "cfec42a9-9314-4fea-e81c-65ef5178f56d"
      },
      "outputs": [
        {
          "name": "stdout",
          "output_type": "stream",
          "text": [
            "8.3.75\n"
          ]
        }
      ],
      "source": [
        "!yolo version"
      ]
    },
    {
      "cell_type": "markdown",
      "metadata": {
        "id": "vk0e0L3bPHEl"
      },
      "source": [
        "-----\n",
        "## Experiment 10 *(full dataset)*\n",
        "### *5m | 60º | large*"
      ]
    },
    {
      "cell_type": "markdown",
      "metadata": {
        "id": "ucbubVBLQBvd"
      },
      "source": [
        "### Train"
      ]
    },
    {
      "cell_type": "code",
      "execution_count": 20,
      "metadata": {
        "colab": {
          "base_uri": "https://localhost:8080/"
        },
        "id": "0DNsH_JsJlQf",
        "outputId": "20905227-b11b-414f-8bef-ada99bcf4ae4"
      },
      "outputs": [
        {
          "name": "stdout",
          "output_type": "stream",
          "text": [
            "Ultralytics 8.3.75 🚀 Python-3.11.11 torch-2.5.1+cu124 CUDA:0 (Tesla T4, 15095MiB)\n",
            "\u001b[34m\u001b[1mengine/trainer: \u001b[0mtask=detect, mode=train, model=yolov8n.pt, data=/content/YOLO/5m60.v1i.yolov8/data.yaml, epochs=100, time=None, patience=100, batch=64, imgsz=240, save=True, save_period=-1, cache=False, device=None, workers=8, project=None, name=train, exist_ok=False, pretrained=True, optimizer=auto, verbose=True, seed=0, deterministic=True, single_cls=False, rect=False, cos_lr=False, close_mosaic=10, resume=False, amp=True, fraction=1.0, profile=False, freeze=10, multi_scale=False, overlap_mask=True, mask_ratio=4, dropout=0.0, val=True, split=val, save_json=False, save_hybrid=False, conf=None, iou=0.7, max_det=300, half=False, dnn=False, plots=True, source=None, vid_stride=1, stream_buffer=False, visualize=False, augment=False, agnostic_nms=False, classes=None, retina_masks=False, embed=None, show=False, save_frames=False, save_txt=False, save_conf=False, save_crop=False, show_labels=True, show_conf=True, show_boxes=True, line_width=None, format=torchscript, keras=False, optimize=False, int8=False, dynamic=False, simplify=True, opset=None, workspace=None, nms=False, lr0=0.01, lrf=0.01, momentum=0.937, weight_decay=0.0005, warmup_epochs=3.0, warmup_momentum=0.8, warmup_bias_lr=0.1, box=7.5, cls=0.5, dfl=1.5, pose=12.0, kobj=1.0, nbs=64, hsv_h=0.015, hsv_s=0.7, hsv_v=0.4, degrees=0.0, translate=0.1, scale=0.5, shear=0.0, perspective=0.0, flipud=0.0, fliplr=0.5, bgr=0.0, mosaic=1.0, mixup=0.0, copy_paste=0.0, copy_paste_mode=flip, auto_augment=randaugment, erasing=0.4, crop_fraction=1.0, cfg=None, tracker=botsort.yaml, save_dir=runs/detect/train\n",
            "Downloading https://ultralytics.com/assets/Arial.ttf to '/root/.config/Ultralytics/Arial.ttf'...\n"
          ]
        },
        {
          "name": "stderr",
          "output_type": "stream",
          "text": [
            "100%|██████████| 755k/755k [00:00<00:00, 16.6MB/s]\n"
          ]
        },
        {
          "name": "stdout",
          "output_type": "stream",
          "text": [
            "Overriding model.yaml nc=80 with nc=1\n",
            "\n",
            "                   from  n    params  module                                       arguments                     \n",
            "  0                  -1  1       464  ultralytics.nn.modules.conv.Conv             [3, 16, 3, 2]                 \n",
            "  1                  -1  1      4672  ultralytics.nn.modules.conv.Conv             [16, 32, 3, 2]                \n",
            "  2                  -1  1      7360  ultralytics.nn.modules.block.C2f             [32, 32, 1, True]             \n",
            "  3                  -1  1     18560  ultralytics.nn.modules.conv.Conv             [32, 64, 3, 2]                \n",
            "  4                  -1  2     49664  ultralytics.nn.modules.block.C2f             [64, 64, 2, True]             \n",
            "  5                  -1  1     73984  ultralytics.nn.modules.conv.Conv             [64, 128, 3, 2]               \n",
            "  6                  -1  2    197632  ultralytics.nn.modules.block.C2f             [128, 128, 2, True]           \n",
            "  7                  -1  1    295424  ultralytics.nn.modules.conv.Conv             [128, 256, 3, 2]              \n",
            "  8                  -1  1    460288  ultralytics.nn.modules.block.C2f             [256, 256, 1, True]           \n",
            "  9                  -1  1    164608  ultralytics.nn.modules.block.SPPF            [256, 256, 5]                 \n",
            " 10                  -1  1         0  torch.nn.modules.upsampling.Upsample         [None, 2, 'nearest']          \n",
            " 11             [-1, 6]  1         0  ultralytics.nn.modules.conv.Concat           [1]                           \n",
            " 12                  -1  1    148224  ultralytics.nn.modules.block.C2f             [384, 128, 1]                 \n",
            " 13                  -1  1         0  torch.nn.modules.upsampling.Upsample         [None, 2, 'nearest']          \n",
            " 14             [-1, 4]  1         0  ultralytics.nn.modules.conv.Concat           [1]                           \n",
            " 15                  -1  1     37248  ultralytics.nn.modules.block.C2f             [192, 64, 1]                  \n",
            " 16                  -1  1     36992  ultralytics.nn.modules.conv.Conv             [64, 64, 3, 2]                \n",
            " 17            [-1, 12]  1         0  ultralytics.nn.modules.conv.Concat           [1]                           \n",
            " 18                  -1  1    123648  ultralytics.nn.modules.block.C2f             [192, 128, 1]                 \n",
            " 19                  -1  1    147712  ultralytics.nn.modules.conv.Conv             [128, 128, 3, 2]              \n",
            " 20             [-1, 9]  1         0  ultralytics.nn.modules.conv.Concat           [1]                           \n",
            " 21                  -1  1    493056  ultralytics.nn.modules.block.C2f             [384, 256, 1]                 \n",
            " 22        [15, 18, 21]  1    751507  ultralytics.nn.modules.head.Detect           [1, [64, 128, 256]]           \n",
            "Model summary: 225 layers, 3,011,043 parameters, 3,011,027 gradients, 8.2 GFLOPs\n",
            "\n",
            "Transferred 319/355 items from pretrained weights\n",
            "\u001b[34m\u001b[1mTensorBoard: \u001b[0mStart with 'tensorboard --logdir runs/detect/train', view at http://localhost:6006/\n",
            "Freezing layer 'model.0.conv.weight'\n",
            "Freezing layer 'model.0.bn.weight'\n",
            "Freezing layer 'model.0.bn.bias'\n",
            "Freezing layer 'model.1.conv.weight'\n",
            "Freezing layer 'model.1.bn.weight'\n",
            "Freezing layer 'model.1.bn.bias'\n",
            "Freezing layer 'model.2.cv1.conv.weight'\n",
            "Freezing layer 'model.2.cv1.bn.weight'\n",
            "Freezing layer 'model.2.cv1.bn.bias'\n",
            "Freezing layer 'model.2.cv2.conv.weight'\n",
            "Freezing layer 'model.2.cv2.bn.weight'\n",
            "Freezing layer 'model.2.cv2.bn.bias'\n",
            "Freezing layer 'model.2.m.0.cv1.conv.weight'\n",
            "Freezing layer 'model.2.m.0.cv1.bn.weight'\n",
            "Freezing layer 'model.2.m.0.cv1.bn.bias'\n",
            "Freezing layer 'model.2.m.0.cv2.conv.weight'\n",
            "Freezing layer 'model.2.m.0.cv2.bn.weight'\n",
            "Freezing layer 'model.2.m.0.cv2.bn.bias'\n",
            "Freezing layer 'model.3.conv.weight'\n",
            "Freezing layer 'model.3.bn.weight'\n",
            "Freezing layer 'model.3.bn.bias'\n",
            "Freezing layer 'model.4.cv1.conv.weight'\n",
            "Freezing layer 'model.4.cv1.bn.weight'\n",
            "Freezing layer 'model.4.cv1.bn.bias'\n",
            "Freezing layer 'model.4.cv2.conv.weight'\n",
            "Freezing layer 'model.4.cv2.bn.weight'\n",
            "Freezing layer 'model.4.cv2.bn.bias'\n",
            "Freezing layer 'model.4.m.0.cv1.conv.weight'\n",
            "Freezing layer 'model.4.m.0.cv1.bn.weight'\n",
            "Freezing layer 'model.4.m.0.cv1.bn.bias'\n",
            "Freezing layer 'model.4.m.0.cv2.conv.weight'\n",
            "Freezing layer 'model.4.m.0.cv2.bn.weight'\n",
            "Freezing layer 'model.4.m.0.cv2.bn.bias'\n",
            "Freezing layer 'model.4.m.1.cv1.conv.weight'\n",
            "Freezing layer 'model.4.m.1.cv1.bn.weight'\n",
            "Freezing layer 'model.4.m.1.cv1.bn.bias'\n",
            "Freezing layer 'model.4.m.1.cv2.conv.weight'\n",
            "Freezing layer 'model.4.m.1.cv2.bn.weight'\n",
            "Freezing layer 'model.4.m.1.cv2.bn.bias'\n",
            "Freezing layer 'model.5.conv.weight'\n",
            "Freezing layer 'model.5.bn.weight'\n",
            "Freezing layer 'model.5.bn.bias'\n",
            "Freezing layer 'model.6.cv1.conv.weight'\n",
            "Freezing layer 'model.6.cv1.bn.weight'\n",
            "Freezing layer 'model.6.cv1.bn.bias'\n",
            "Freezing layer 'model.6.cv2.conv.weight'\n",
            "Freezing layer 'model.6.cv2.bn.weight'\n",
            "Freezing layer 'model.6.cv2.bn.bias'\n",
            "Freezing layer 'model.6.m.0.cv1.conv.weight'\n",
            "Freezing layer 'model.6.m.0.cv1.bn.weight'\n",
            "Freezing layer 'model.6.m.0.cv1.bn.bias'\n",
            "Freezing layer 'model.6.m.0.cv2.conv.weight'\n",
            "Freezing layer 'model.6.m.0.cv2.bn.weight'\n",
            "Freezing layer 'model.6.m.0.cv2.bn.bias'\n",
            "Freezing layer 'model.6.m.1.cv1.conv.weight'\n",
            "Freezing layer 'model.6.m.1.cv1.bn.weight'\n",
            "Freezing layer 'model.6.m.1.cv1.bn.bias'\n",
            "Freezing layer 'model.6.m.1.cv2.conv.weight'\n",
            "Freezing layer 'model.6.m.1.cv2.bn.weight'\n",
            "Freezing layer 'model.6.m.1.cv2.bn.bias'\n",
            "Freezing layer 'model.7.conv.weight'\n",
            "Freezing layer 'model.7.bn.weight'\n",
            "Freezing layer 'model.7.bn.bias'\n",
            "Freezing layer 'model.8.cv1.conv.weight'\n",
            "Freezing layer 'model.8.cv1.bn.weight'\n",
            "Freezing layer 'model.8.cv1.bn.bias'\n",
            "Freezing layer 'model.8.cv2.conv.weight'\n",
            "Freezing layer 'model.8.cv2.bn.weight'\n",
            "Freezing layer 'model.8.cv2.bn.bias'\n",
            "Freezing layer 'model.8.m.0.cv1.conv.weight'\n",
            "Freezing layer 'model.8.m.0.cv1.bn.weight'\n",
            "Freezing layer 'model.8.m.0.cv1.bn.bias'\n",
            "Freezing layer 'model.8.m.0.cv2.conv.weight'\n",
            "Freezing layer 'model.8.m.0.cv2.bn.weight'\n",
            "Freezing layer 'model.8.m.0.cv2.bn.bias'\n",
            "Freezing layer 'model.9.cv1.conv.weight'\n",
            "Freezing layer 'model.9.cv1.bn.weight'\n",
            "Freezing layer 'model.9.cv1.bn.bias'\n",
            "Freezing layer 'model.9.cv2.conv.weight'\n",
            "Freezing layer 'model.9.cv2.bn.weight'\n",
            "Freezing layer 'model.9.cv2.bn.bias'\n",
            "Freezing layer 'model.22.dfl.conv.weight'\n",
            "\u001b[34m\u001b[1mAMP: \u001b[0mrunning Automatic Mixed Precision (AMP) checks...\n",
            "Downloading https://github.com/ultralytics/assets/releases/download/v8.3.0/yolo11n.pt to 'yolo11n.pt'...\n"
          ]
        },
        {
          "name": "stderr",
          "output_type": "stream",
          "text": [
            "100%|██████████| 5.35M/5.35M [00:00<00:00, 101MB/s]\n"
          ]
        },
        {
          "name": "stdout",
          "output_type": "stream",
          "text": [
            "\u001b[34m\u001b[1mAMP: \u001b[0mchecks passed ✅\n",
            "WARNING ⚠️ imgsz=[240] must be multiple of max stride 32, updating to [256]\n"
          ]
        },
        {
          "name": "stderr",
          "output_type": "stream",
          "text": [
            "\u001b[34m\u001b[1mtrain: \u001b[0mScanning /content/YOLO/5m60.v1i.yolov8/train/labels... 189 images, 0 backgrounds, 0 corrupt: 100%|██████████| 189/189 [00:00<00:00, 1703.36it/s]"
          ]
        },
        {
          "name": "stdout",
          "output_type": "stream",
          "text": [
            "\u001b[34m\u001b[1mtrain: \u001b[0mNew cache created: /content/YOLO/5m60.v1i.yolov8/train/labels.cache\n"
          ]
        },
        {
          "name": "stderr",
          "output_type": "stream",
          "text": [
            "\n"
          ]
        },
        {
          "name": "stdout",
          "output_type": "stream",
          "text": [
            "\u001b[34m\u001b[1malbumentations: \u001b[0mBlur(p=0.01, blur_limit=(3, 7)), MedianBlur(p=0.01, blur_limit=(3, 7)), ToGray(p=0.01, num_output_channels=3, method='weighted_average'), CLAHE(p=0.01, clip_limit=(1.0, 4.0), tile_grid_size=(8, 8))\n"
          ]
        },
        {
          "name": "stderr",
          "output_type": "stream",
          "text": [
            "\u001b[34m\u001b[1mval: \u001b[0mScanning /content/YOLO/5m60.v1i.yolov8/valid/labels... 110 images, 3 backgrounds, 0 corrupt: 100%|██████████| 110/110 [00:00<00:00, 1013.88it/s]"
          ]
        },
        {
          "name": "stdout",
          "output_type": "stream",
          "text": [
            "\u001b[34m\u001b[1mval: \u001b[0mNew cache created: /content/YOLO/5m60.v1i.yolov8/valid/labels.cache\n"
          ]
        },
        {
          "name": "stderr",
          "output_type": "stream",
          "text": [
            "\n"
          ]
        },
        {
          "name": "stdout",
          "output_type": "stream",
          "text": [
            "Plotting labels to runs/detect/train/labels.jpg... \n",
            "\u001b[34m\u001b[1moptimizer:\u001b[0m 'optimizer=auto' found, ignoring 'lr0=0.01' and 'momentum=0.937' and determining best 'optimizer', 'lr0' and 'momentum' automatically... \n",
            "\u001b[34m\u001b[1moptimizer:\u001b[0m AdamW(lr=0.002, momentum=0.9) with parameter groups 57 weight(decay=0.0), 64 weight(decay=0.0005), 63 bias(decay=0.0)\n",
            "\u001b[34m\u001b[1mTensorBoard: \u001b[0mmodel graph visualization added ✅\n",
            "Image sizes 256 train, 256 val\n",
            "Using 2 dataloader workers\n",
            "Logging results to \u001b[1mruns/detect/train\u001b[0m\n",
            "Starting training for 100 epochs...\n",
            "\n",
            "      Epoch    GPU_mem   box_loss   cls_loss   dfl_loss  Instances       Size\n"
          ]
        },
        {
          "name": "stderr",
          "output_type": "stream",
          "text": [
            "      1/100      1.02G      3.201       3.57      2.296       1578        256: 100%|██████████| 3/3 [00:02<00:00,  1.06it/s]\n",
            "                 Class     Images  Instances      Box(P          R      mAP50  mAP50-95): 100%|██████████| 1/1 [00:01<00:00,  1.99s/it]"
          ]
        },
        {
          "name": "stdout",
          "output_type": "stream",
          "text": [
            "                   all        110       1910     0.0152      0.119    0.00886    0.00259\n"
          ]
        },
        {
          "name": "stderr",
          "output_type": "stream",
          "text": [
            "\n"
          ]
        },
        {
          "name": "stdout",
          "output_type": "stream",
          "text": [
            "\n",
            "      Epoch    GPU_mem   box_loss   cls_loss   dfl_loss  Instances       Size\n"
          ]
        },
        {
          "name": "stderr",
          "output_type": "stream",
          "text": [
            "      2/100      1.02G      3.195       3.57      2.273       1677        256: 100%|██████████| 3/3 [00:00<00:00,  3.47it/s]\n",
            "                 Class     Images  Instances      Box(P          R      mAP50  mAP50-95): 100%|██████████| 1/1 [00:00<00:00,  2.07it/s]"
          ]
        },
        {
          "name": "stdout",
          "output_type": "stream",
          "text": [
            "                   all        110       1910     0.0153      0.123      0.009    0.00266\n"
          ]
        },
        {
          "name": "stderr",
          "output_type": "stream",
          "text": [
            "\n"
          ]
        },
        {
          "name": "stdout",
          "output_type": "stream",
          "text": [
            "\n",
            "      Epoch    GPU_mem   box_loss   cls_loss   dfl_loss  Instances       Size\n"
          ]
        },
        {
          "name": "stderr",
          "output_type": "stream",
          "text": [
            "      3/100     0.986G      3.162      3.538      2.215       1681        256: 100%|██████████| 3/3 [00:00<00:00,  5.13it/s]\n",
            "                 Class     Images  Instances      Box(P          R      mAP50  mAP50-95): 100%|██████████| 1/1 [00:00<00:00,  1.66it/s]"
          ]
        },
        {
          "name": "stdout",
          "output_type": "stream",
          "text": [
            "                   all        110       1910     0.0171      0.145     0.0104    0.00312\n"
          ]
        },
        {
          "name": "stderr",
          "output_type": "stream",
          "text": [
            "\n"
          ]
        },
        {
          "name": "stdout",
          "output_type": "stream",
          "text": [
            "\n",
            "      Epoch    GPU_mem   box_loss   cls_loss   dfl_loss  Instances       Size\n"
          ]
        },
        {
          "name": "stderr",
          "output_type": "stream",
          "text": [
            "      4/100     0.963G      3.062      3.432      2.122       1656        256: 100%|██████████| 3/3 [00:00<00:00,  4.79it/s]\n",
            "                 Class     Images  Instances      Box(P          R      mAP50  mAP50-95): 100%|██████████| 1/1 [00:00<00:00,  1.44it/s]"
          ]
        },
        {
          "name": "stdout",
          "output_type": "stream",
          "text": [
            "                   all        110       1910     0.0163      0.148     0.0102     0.0032\n"
          ]
        },
        {
          "name": "stderr",
          "output_type": "stream",
          "text": [
            "\n"
          ]
        },
        {
          "name": "stdout",
          "output_type": "stream",
          "text": [
            "\n",
            "      Epoch    GPU_mem   box_loss   cls_loss   dfl_loss  Instances       Size\n"
          ]
        },
        {
          "name": "stderr",
          "output_type": "stream",
          "text": [
            "      5/100      0.91G      2.993      3.277      2.018       1801        256: 100%|██████████| 3/3 [00:00<00:00,  4.55it/s]\n",
            "                 Class     Images  Instances      Box(P          R      mAP50  mAP50-95): 100%|██████████| 1/1 [00:00<00:00,  1.66it/s]"
          ]
        },
        {
          "name": "stdout",
          "output_type": "stream",
          "text": [
            "                   all        110       1910     0.0252      0.272     0.0171    0.00563\n"
          ]
        },
        {
          "name": "stderr",
          "output_type": "stream",
          "text": [
            "\n"
          ]
        },
        {
          "name": "stdout",
          "output_type": "stream",
          "text": [
            "\n",
            "      Epoch    GPU_mem   box_loss   cls_loss   dfl_loss  Instances       Size\n"
          ]
        },
        {
          "name": "stderr",
          "output_type": "stream",
          "text": [
            "      6/100     0.984G      2.962      3.098      1.963       1769        256: 100%|██████████| 3/3 [00:01<00:00,  3.00it/s]\n",
            "                 Class     Images  Instances      Box(P          R      mAP50  mAP50-95): 100%|██████████| 1/1 [00:00<00:00,  1.01it/s]"
          ]
        },
        {
          "name": "stdout",
          "output_type": "stream",
          "text": [
            "                   all        110       1910     0.0316      0.534     0.0263    0.00895\n"
          ]
        },
        {
          "name": "stderr",
          "output_type": "stream",
          "text": [
            "\n"
          ]
        },
        {
          "name": "stdout",
          "output_type": "stream",
          "text": [
            "\n",
            "      Epoch    GPU_mem   box_loss   cls_loss   dfl_loss  Instances       Size\n"
          ]
        },
        {
          "name": "stderr",
          "output_type": "stream",
          "text": [
            "      7/100     0.895G       2.96      2.863      1.882       1712        256: 100%|██████████| 3/3 [00:00<00:00,  3.10it/s]\n",
            "                 Class     Images  Instances      Box(P          R      mAP50  mAP50-95): 100%|██████████| 1/1 [00:00<00:00,  1.66it/s]"
          ]
        },
        {
          "name": "stdout",
          "output_type": "stream",
          "text": [
            "                   all        110       1910     0.0356      0.601     0.0359     0.0123\n"
          ]
        },
        {
          "name": "stderr",
          "output_type": "stream",
          "text": [
            "\n"
          ]
        },
        {
          "name": "stdout",
          "output_type": "stream",
          "text": [
            "\n",
            "      Epoch    GPU_mem   box_loss   cls_loss   dfl_loss  Instances       Size\n"
          ]
        },
        {
          "name": "stderr",
          "output_type": "stream",
          "text": [
            "      8/100     0.904G      2.909      2.675      1.856       1631        256: 100%|██████████| 3/3 [00:00<00:00,  4.63it/s]\n",
            "                 Class     Images  Instances      Box(P          R      mAP50  mAP50-95): 100%|██████████| 1/1 [00:00<00:00,  1.75it/s]"
          ]
        },
        {
          "name": "stdout",
          "output_type": "stream",
          "text": [
            "                   all        110       1910     0.0406      0.654     0.0904     0.0265\n"
          ]
        },
        {
          "name": "stderr",
          "output_type": "stream",
          "text": [
            "\n"
          ]
        },
        {
          "name": "stdout",
          "output_type": "stream",
          "text": [
            "\n",
            "      Epoch    GPU_mem   box_loss   cls_loss   dfl_loss  Instances       Size\n"
          ]
        },
        {
          "name": "stderr",
          "output_type": "stream",
          "text": [
            "      9/100      1.11G      2.919      2.478      1.798       1847        256: 100%|██████████| 3/3 [00:00<00:00,  4.36it/s]\n",
            "                 Class     Images  Instances      Box(P          R      mAP50  mAP50-95): 100%|██████████| 1/1 [00:00<00:00,  1.83it/s]"
          ]
        },
        {
          "name": "stdout",
          "output_type": "stream",
          "text": [
            "                   all        110       1910      0.338      0.142      0.143     0.0424\n"
          ]
        },
        {
          "name": "stderr",
          "output_type": "stream",
          "text": [
            "\n"
          ]
        },
        {
          "name": "stdout",
          "output_type": "stream",
          "text": [
            "\n",
            "      Epoch    GPU_mem   box_loss   cls_loss   dfl_loss  Instances       Size\n"
          ]
        },
        {
          "name": "stderr",
          "output_type": "stream",
          "text": [
            "     10/100      1.01G       2.84      2.391      1.781       1650        256: 100%|██████████| 3/3 [00:00<00:00,  4.31it/s]\n",
            "                 Class     Images  Instances      Box(P          R      mAP50  mAP50-95): 100%|██████████| 1/1 [00:00<00:00,  1.80it/s]"
          ]
        },
        {
          "name": "stdout",
          "output_type": "stream",
          "text": [
            "                   all        110       1910      0.251      0.238      0.162     0.0495\n"
          ]
        },
        {
          "name": "stderr",
          "output_type": "stream",
          "text": [
            "\n"
          ]
        },
        {
          "name": "stdout",
          "output_type": "stream",
          "text": [
            "\n",
            "      Epoch    GPU_mem   box_loss   cls_loss   dfl_loss  Instances       Size\n"
          ]
        },
        {
          "name": "stderr",
          "output_type": "stream",
          "text": [
            "     11/100      1.02G      2.824      2.287       1.77       1678        256: 100%|██████████| 3/3 [00:00<00:00,  4.53it/s]\n",
            "                 Class     Images  Instances      Box(P          R      mAP50  mAP50-95): 100%|██████████| 1/1 [00:00<00:00,  1.78it/s]"
          ]
        },
        {
          "name": "stdout",
          "output_type": "stream",
          "text": [
            "                   all        110       1910       0.21      0.295       0.15     0.0463\n"
          ]
        },
        {
          "name": "stderr",
          "output_type": "stream",
          "text": [
            "\n"
          ]
        },
        {
          "name": "stdout",
          "output_type": "stream",
          "text": [
            "\n",
            "      Epoch    GPU_mem   box_loss   cls_loss   dfl_loss  Instances       Size\n"
          ]
        },
        {
          "name": "stderr",
          "output_type": "stream",
          "text": [
            "     12/100     0.919G      2.802      2.182      1.754       1599        256: 100%|██████████| 3/3 [00:00<00:00,  4.58it/s]\n",
            "                 Class     Images  Instances      Box(P          R      mAP50  mAP50-95): 100%|██████████| 1/1 [00:00<00:00,  1.59it/s]"
          ]
        },
        {
          "name": "stdout",
          "output_type": "stream",
          "text": [
            "                   all        110       1910       0.23      0.286       0.17     0.0503\n"
          ]
        },
        {
          "name": "stderr",
          "output_type": "stream",
          "text": [
            "\n"
          ]
        },
        {
          "name": "stdout",
          "output_type": "stream",
          "text": [
            "\n",
            "      Epoch    GPU_mem   box_loss   cls_loss   dfl_loss  Instances       Size\n"
          ]
        },
        {
          "name": "stderr",
          "output_type": "stream",
          "text": [
            "     13/100      1.02G      2.775      2.109      1.715       1746        256: 100%|██████████| 3/3 [00:00<00:00,  3.13it/s]\n",
            "                 Class     Images  Instances      Box(P          R      mAP50  mAP50-95): 100%|██████████| 1/1 [00:01<00:00,  1.05s/it]"
          ]
        },
        {
          "name": "stdout",
          "output_type": "stream",
          "text": [
            "                   all        110       1910      0.224      0.298      0.169     0.0487\n"
          ]
        },
        {
          "name": "stderr",
          "output_type": "stream",
          "text": [
            "\n"
          ]
        },
        {
          "name": "stdout",
          "output_type": "stream",
          "text": [
            "\n",
            "      Epoch    GPU_mem   box_loss   cls_loss   dfl_loss  Instances       Size\n"
          ]
        },
        {
          "name": "stderr",
          "output_type": "stream",
          "text": [
            "     14/100     0.931G      2.799      2.034      1.714       1890        256: 100%|██████████| 3/3 [00:00<00:00,  4.30it/s]\n",
            "                 Class     Images  Instances      Box(P          R      mAP50  mAP50-95): 100%|██████████| 1/1 [00:00<00:00,  1.82it/s]"
          ]
        },
        {
          "name": "stdout",
          "output_type": "stream",
          "text": [
            "                   all        110       1910      0.207      0.315      0.166      0.047\n"
          ]
        },
        {
          "name": "stderr",
          "output_type": "stream",
          "text": [
            "\n"
          ]
        },
        {
          "name": "stdout",
          "output_type": "stream",
          "text": [
            "\n",
            "      Epoch    GPU_mem   box_loss   cls_loss   dfl_loss  Instances       Size\n"
          ]
        },
        {
          "name": "stderr",
          "output_type": "stream",
          "text": [
            "     15/100     0.965G      2.789      1.967      1.675       1677        256: 100%|██████████| 3/3 [00:00<00:00,  4.28it/s]\n",
            "                 Class     Images  Instances      Box(P          R      mAP50  mAP50-95): 100%|██████████| 1/1 [00:00<00:00,  1.85it/s]"
          ]
        },
        {
          "name": "stdout",
          "output_type": "stream",
          "text": [
            "                   all        110       1910      0.253      0.299      0.185     0.0536\n"
          ]
        },
        {
          "name": "stderr",
          "output_type": "stream",
          "text": [
            "\n"
          ]
        },
        {
          "name": "stdout",
          "output_type": "stream",
          "text": [
            "\n",
            "      Epoch    GPU_mem   box_loss   cls_loss   dfl_loss  Instances       Size\n"
          ]
        },
        {
          "name": "stderr",
          "output_type": "stream",
          "text": [
            "     16/100     0.946G      2.773       1.95      1.667       1497        256: 100%|██████████| 3/3 [00:00<00:00,  4.23it/s]\n",
            "                 Class     Images  Instances      Box(P          R      mAP50  mAP50-95): 100%|██████████| 1/1 [00:00<00:00,  1.85it/s]"
          ]
        },
        {
          "name": "stdout",
          "output_type": "stream",
          "text": [
            "                   all        110       1910      0.267      0.286      0.186     0.0557\n"
          ]
        },
        {
          "name": "stderr",
          "output_type": "stream",
          "text": [
            "\n"
          ]
        },
        {
          "name": "stdout",
          "output_type": "stream",
          "text": [
            "\n",
            "      Epoch    GPU_mem   box_loss   cls_loss   dfl_loss  Instances       Size\n"
          ]
        },
        {
          "name": "stderr",
          "output_type": "stream",
          "text": [
            "     17/100     0.975G       2.72      1.935      1.685       1701        256: 100%|██████████| 3/3 [00:00<00:00,  4.68it/s]\n",
            "                 Class     Images  Instances      Box(P          R      mAP50  mAP50-95): 100%|██████████| 1/1 [00:00<00:00,  1.75it/s]"
          ]
        },
        {
          "name": "stdout",
          "output_type": "stream",
          "text": [
            "                   all        110       1910      0.268      0.295      0.187     0.0543\n"
          ]
        },
        {
          "name": "stderr",
          "output_type": "stream",
          "text": [
            "\n"
          ]
        },
        {
          "name": "stdout",
          "output_type": "stream",
          "text": [
            "\n",
            "      Epoch    GPU_mem   box_loss   cls_loss   dfl_loss  Instances       Size\n"
          ]
        },
        {
          "name": "stderr",
          "output_type": "stream",
          "text": [
            "     18/100      1.02G      2.762      1.865      1.669       1924        256: 100%|██████████| 3/3 [00:00<00:00,  4.27it/s]\n",
            "                 Class     Images  Instances      Box(P          R      mAP50  mAP50-95): 100%|██████████| 1/1 [00:00<00:00,  1.96it/s]"
          ]
        },
        {
          "name": "stdout",
          "output_type": "stream",
          "text": [
            "                   all        110       1910      0.224      0.292      0.157     0.0457\n"
          ]
        },
        {
          "name": "stderr",
          "output_type": "stream",
          "text": [
            "\n"
          ]
        },
        {
          "name": "stdout",
          "output_type": "stream",
          "text": [
            "\n",
            "      Epoch    GPU_mem   box_loss   cls_loss   dfl_loss  Instances       Size\n"
          ]
        },
        {
          "name": "stderr",
          "output_type": "stream",
          "text": [
            "     19/100      1.04G      2.706      1.811      1.622       1739        256: 100%|██████████| 3/3 [00:00<00:00,  4.77it/s]\n",
            "                 Class     Images  Instances      Box(P          R      mAP50  mAP50-95): 100%|██████████| 1/1 [00:00<00:00,  1.07it/s]"
          ]
        },
        {
          "name": "stdout",
          "output_type": "stream",
          "text": [
            "                   all        110       1910      0.217      0.288      0.156     0.0459\n"
          ]
        },
        {
          "name": "stderr",
          "output_type": "stream",
          "text": [
            "\n"
          ]
        },
        {
          "name": "stdout",
          "output_type": "stream",
          "text": [
            "\n",
            "      Epoch    GPU_mem   box_loss   cls_loss   dfl_loss  Instances       Size\n"
          ]
        },
        {
          "name": "stderr",
          "output_type": "stream",
          "text": [
            "     20/100      1.08G        2.7      1.794      1.637       1659        256: 100%|██████████| 3/3 [00:00<00:00,  3.23it/s]\n",
            "                 Class     Images  Instances      Box(P          R      mAP50  mAP50-95): 100%|██████████| 1/1 [00:00<00:00,  1.01it/s]"
          ]
        },
        {
          "name": "stdout",
          "output_type": "stream",
          "text": [
            "                   all        110       1910      0.184      0.279      0.135     0.0413\n"
          ]
        },
        {
          "name": "stderr",
          "output_type": "stream",
          "text": [
            "\n"
          ]
        },
        {
          "name": "stdout",
          "output_type": "stream",
          "text": [
            "\n",
            "      Epoch    GPU_mem   box_loss   cls_loss   dfl_loss  Instances       Size\n"
          ]
        },
        {
          "name": "stderr",
          "output_type": "stream",
          "text": [
            "     21/100     0.967G      2.674      1.764      1.655       1683        256: 100%|██████████| 3/3 [00:00<00:00,  4.44it/s]\n",
            "                 Class     Images  Instances      Box(P          R      mAP50  mAP50-95): 100%|██████████| 1/1 [00:00<00:00,  1.85it/s]"
          ]
        },
        {
          "name": "stdout",
          "output_type": "stream",
          "text": [
            "                   all        110       1910        0.2      0.246      0.143     0.0439\n"
          ]
        },
        {
          "name": "stderr",
          "output_type": "stream",
          "text": [
            "\n"
          ]
        },
        {
          "name": "stdout",
          "output_type": "stream",
          "text": [
            "\n",
            "      Epoch    GPU_mem   box_loss   cls_loss   dfl_loss  Instances       Size\n"
          ]
        },
        {
          "name": "stderr",
          "output_type": "stream",
          "text": [
            "     22/100     0.977G      2.598      1.742      1.651       1840        256: 100%|██████████| 3/3 [00:00<00:00,  4.47it/s]\n",
            "                 Class     Images  Instances      Box(P          R      mAP50  mAP50-95): 100%|██████████| 1/1 [00:00<00:00,  1.71it/s]"
          ]
        },
        {
          "name": "stdout",
          "output_type": "stream",
          "text": [
            "                   all        110       1910       0.19      0.259      0.155     0.0479\n"
          ]
        },
        {
          "name": "stderr",
          "output_type": "stream",
          "text": [
            "\n"
          ]
        },
        {
          "name": "stdout",
          "output_type": "stream",
          "text": [
            "\n",
            "      Epoch    GPU_mem   box_loss   cls_loss   dfl_loss  Instances       Size\n"
          ]
        },
        {
          "name": "stderr",
          "output_type": "stream",
          "text": [
            "     23/100     0.912G      2.672      1.749      1.654       1600        256: 100%|██████████| 3/3 [00:00<00:00,  4.82it/s]\n",
            "                 Class     Images  Instances      Box(P          R      mAP50  mAP50-95): 100%|██████████| 1/1 [00:00<00:00,  1.66it/s]"
          ]
        },
        {
          "name": "stdout",
          "output_type": "stream",
          "text": [
            "                   all        110       1910      0.214      0.275      0.154     0.0464\n"
          ]
        },
        {
          "name": "stderr",
          "output_type": "stream",
          "text": [
            "\n"
          ]
        },
        {
          "name": "stdout",
          "output_type": "stream",
          "text": [
            "\n",
            "      Epoch    GPU_mem   box_loss   cls_loss   dfl_loss  Instances       Size\n"
          ]
        },
        {
          "name": "stderr",
          "output_type": "stream",
          "text": [
            "     24/100      1.01G      2.629      1.706      1.613       1948        256: 100%|██████████| 3/3 [00:00<00:00,  4.50it/s]\n",
            "                 Class     Images  Instances      Box(P          R      mAP50  mAP50-95): 100%|██████████| 1/1 [00:00<00:00,  1.73it/s]"
          ]
        },
        {
          "name": "stdout",
          "output_type": "stream",
          "text": [
            "                   all        110       1910       0.26      0.287      0.175     0.0539\n"
          ]
        },
        {
          "name": "stderr",
          "output_type": "stream",
          "text": [
            "\n"
          ]
        },
        {
          "name": "stdout",
          "output_type": "stream",
          "text": [
            "\n",
            "      Epoch    GPU_mem   box_loss   cls_loss   dfl_loss  Instances       Size\n"
          ]
        },
        {
          "name": "stderr",
          "output_type": "stream",
          "text": [
            "     25/100      1.04G      2.597      1.685      1.603       1778        256: 100%|██████████| 3/3 [00:00<00:00,  4.13it/s]\n",
            "                 Class     Images  Instances      Box(P          R      mAP50  mAP50-95): 100%|██████████| 1/1 [00:00<00:00,  1.79it/s]"
          ]
        },
        {
          "name": "stdout",
          "output_type": "stream",
          "text": [
            "                   all        110       1910      0.281      0.312      0.211     0.0667\n"
          ]
        },
        {
          "name": "stderr",
          "output_type": "stream",
          "text": [
            "\n"
          ]
        },
        {
          "name": "stdout",
          "output_type": "stream",
          "text": [
            "\n",
            "      Epoch    GPU_mem   box_loss   cls_loss   dfl_loss  Instances       Size\n"
          ]
        },
        {
          "name": "stderr",
          "output_type": "stream",
          "text": [
            "     26/100     0.923G      2.561      1.696      1.634       1494        256: 100%|██████████| 3/3 [00:00<00:00,  4.13it/s]\n",
            "                 Class     Images  Instances      Box(P          R      mAP50  mAP50-95): 100%|██████████| 1/1 [00:00<00:00,  1.12it/s]"
          ]
        },
        {
          "name": "stdout",
          "output_type": "stream",
          "text": [
            "                   all        110       1910       0.29      0.298      0.209     0.0667\n"
          ]
        },
        {
          "name": "stderr",
          "output_type": "stream",
          "text": [
            "\n"
          ]
        },
        {
          "name": "stdout",
          "output_type": "stream",
          "text": [
            "\n",
            "      Epoch    GPU_mem   box_loss   cls_loss   dfl_loss  Instances       Size\n"
          ]
        },
        {
          "name": "stderr",
          "output_type": "stream",
          "text": [
            "     27/100      1.02G      2.562      1.679      1.636       1365        256: 100%|██████████| 3/3 [00:00<00:00,  3.21it/s]\n",
            "                 Class     Images  Instances      Box(P          R      mAP50  mAP50-95): 100%|██████████| 1/1 [00:00<00:00,  1.04it/s]"
          ]
        },
        {
          "name": "stdout",
          "output_type": "stream",
          "text": [
            "                   all        110       1910      0.281      0.279      0.198     0.0622\n"
          ]
        },
        {
          "name": "stderr",
          "output_type": "stream",
          "text": [
            "\n"
          ]
        },
        {
          "name": "stdout",
          "output_type": "stream",
          "text": [
            "\n",
            "      Epoch    GPU_mem   box_loss   cls_loss   dfl_loss  Instances       Size\n"
          ]
        },
        {
          "name": "stderr",
          "output_type": "stream",
          "text": [
            "     28/100      1.05G      2.565      1.683      1.636       1717        256: 100%|██████████| 3/3 [00:00<00:00,  4.42it/s]\n",
            "                 Class     Images  Instances      Box(P          R      mAP50  mAP50-95): 100%|██████████| 1/1 [00:00<00:00,  1.77it/s]"
          ]
        },
        {
          "name": "stdout",
          "output_type": "stream",
          "text": [
            "                   all        110       1910      0.321      0.306      0.233     0.0701\n"
          ]
        },
        {
          "name": "stderr",
          "output_type": "stream",
          "text": [
            "\n"
          ]
        },
        {
          "name": "stdout",
          "output_type": "stream",
          "text": [
            "\n",
            "      Epoch    GPU_mem   box_loss   cls_loss   dfl_loss  Instances       Size\n"
          ]
        },
        {
          "name": "stderr",
          "output_type": "stream",
          "text": [
            "     29/100      1.02G      2.566      1.665      1.672       1809        256: 100%|██████████| 3/3 [00:00<00:00,  4.91it/s]\n",
            "                 Class     Images  Instances      Box(P          R      mAP50  mAP50-95): 100%|██████████| 1/1 [00:00<00:00,  1.69it/s]"
          ]
        },
        {
          "name": "stdout",
          "output_type": "stream",
          "text": [
            "                   all        110       1910      0.327      0.316      0.236     0.0714\n"
          ]
        },
        {
          "name": "stderr",
          "output_type": "stream",
          "text": [
            "\n"
          ]
        },
        {
          "name": "stdout",
          "output_type": "stream",
          "text": [
            "\n",
            "      Epoch    GPU_mem   box_loss   cls_loss   dfl_loss  Instances       Size\n"
          ]
        },
        {
          "name": "stderr",
          "output_type": "stream",
          "text": [
            "     30/100     0.963G      2.534      1.645      1.634       1474        256: 100%|██████████| 3/3 [00:00<00:00,  4.06it/s]\n",
            "                 Class     Images  Instances      Box(P          R      mAP50  mAP50-95): 100%|██████████| 1/1 [00:00<00:00,  1.98it/s]"
          ]
        },
        {
          "name": "stdout",
          "output_type": "stream",
          "text": [
            "                   all        110       1910      0.297       0.31      0.214     0.0634\n"
          ]
        },
        {
          "name": "stderr",
          "output_type": "stream",
          "text": [
            "\n"
          ]
        },
        {
          "name": "stdout",
          "output_type": "stream",
          "text": [
            "\n",
            "      Epoch    GPU_mem   box_loss   cls_loss   dfl_loss  Instances       Size\n"
          ]
        },
        {
          "name": "stderr",
          "output_type": "stream",
          "text": [
            "     31/100     0.956G      2.555      1.668      1.623       1701        256: 100%|██████████| 3/3 [00:00<00:00,  4.45it/s]\n",
            "                 Class     Images  Instances      Box(P          R      mAP50  mAP50-95): 100%|██████████| 1/1 [00:00<00:00,  1.86it/s]"
          ]
        },
        {
          "name": "stdout",
          "output_type": "stream",
          "text": [
            "                   all        110       1910      0.332      0.308       0.24     0.0749\n"
          ]
        },
        {
          "name": "stderr",
          "output_type": "stream",
          "text": [
            "\n"
          ]
        },
        {
          "name": "stdout",
          "output_type": "stream",
          "text": [
            "\n",
            "      Epoch    GPU_mem   box_loss   cls_loss   dfl_loss  Instances       Size\n"
          ]
        },
        {
          "name": "stderr",
          "output_type": "stream",
          "text": [
            "     32/100     0.875G      2.506      1.635      1.616       1589        256: 100%|██████████| 3/3 [00:00<00:00,  4.42it/s]\n",
            "                 Class     Images  Instances      Box(P          R      mAP50  mAP50-95): 100%|██████████| 1/1 [00:00<00:00,  1.87it/s]"
          ]
        },
        {
          "name": "stdout",
          "output_type": "stream",
          "text": [
            "                   all        110       1910      0.276      0.279      0.206     0.0656\n"
          ]
        },
        {
          "name": "stderr",
          "output_type": "stream",
          "text": [
            "\n"
          ]
        },
        {
          "name": "stdout",
          "output_type": "stream",
          "text": [
            "\n",
            "      Epoch    GPU_mem   box_loss   cls_loss   dfl_loss  Instances       Size\n"
          ]
        },
        {
          "name": "stderr",
          "output_type": "stream",
          "text": [
            "     33/100     0.912G      2.496      1.611      1.621       1593        256: 100%|██████████| 3/3 [00:00<00:00,  4.34it/s]\n",
            "                 Class     Images  Instances      Box(P          R      mAP50  mAP50-95): 100%|██████████| 1/1 [00:01<00:00,  1.04s/it]"
          ]
        },
        {
          "name": "stdout",
          "output_type": "stream",
          "text": [
            "                   all        110       1910      0.266      0.263       0.19     0.0605\n"
          ]
        },
        {
          "name": "stderr",
          "output_type": "stream",
          "text": [
            "\n"
          ]
        },
        {
          "name": "stdout",
          "output_type": "stream",
          "text": [
            "\n",
            "      Epoch    GPU_mem   box_loss   cls_loss   dfl_loss  Instances       Size\n"
          ]
        },
        {
          "name": "stderr",
          "output_type": "stream",
          "text": [
            "     34/100     0.929G      2.497      1.642      1.642       1860        256: 100%|██████████| 3/3 [00:00<00:00,  4.10it/s]\n",
            "                 Class     Images  Instances      Box(P          R      mAP50  mAP50-95): 100%|██████████| 1/1 [00:01<00:00,  1.11s/it]"
          ]
        },
        {
          "name": "stdout",
          "output_type": "stream",
          "text": [
            "                   all        110       1910       0.28      0.258      0.196     0.0603\n"
          ]
        },
        {
          "name": "stderr",
          "output_type": "stream",
          "text": [
            "\n"
          ]
        },
        {
          "name": "stdout",
          "output_type": "stream",
          "text": [
            "\n",
            "      Epoch    GPU_mem   box_loss   cls_loss   dfl_loss  Instances       Size\n"
          ]
        },
        {
          "name": "stderr",
          "output_type": "stream",
          "text": [
            "     35/100     0.906G      2.549      1.616      1.612       1789        256: 100%|██████████| 3/3 [00:00<00:00,  4.65it/s]\n",
            "                 Class     Images  Instances      Box(P          R      mAP50  mAP50-95): 100%|██████████| 1/1 [00:00<00:00,  1.66it/s]"
          ]
        },
        {
          "name": "stdout",
          "output_type": "stream",
          "text": [
            "                   all        110       1910      0.275      0.279      0.189     0.0597\n"
          ]
        },
        {
          "name": "stderr",
          "output_type": "stream",
          "text": [
            "\n"
          ]
        },
        {
          "name": "stdout",
          "output_type": "stream",
          "text": [
            "\n",
            "      Epoch    GPU_mem   box_loss   cls_loss   dfl_loss  Instances       Size\n"
          ]
        },
        {
          "name": "stderr",
          "output_type": "stream",
          "text": [
            "     36/100      1.01G      2.544      1.673      1.642       1800        256: 100%|██████████| 3/3 [00:00<00:00,  4.56it/s]\n",
            "                 Class     Images  Instances      Box(P          R      mAP50  mAP50-95): 100%|██████████| 1/1 [00:00<00:00,  1.69it/s]"
          ]
        },
        {
          "name": "stdout",
          "output_type": "stream",
          "text": [
            "                   all        110       1910      0.318      0.285       0.21     0.0666\n"
          ]
        },
        {
          "name": "stderr",
          "output_type": "stream",
          "text": [
            "\n"
          ]
        },
        {
          "name": "stdout",
          "output_type": "stream",
          "text": [
            "\n",
            "      Epoch    GPU_mem   box_loss   cls_loss   dfl_loss  Instances       Size\n"
          ]
        },
        {
          "name": "stderr",
          "output_type": "stream",
          "text": [
            "     37/100      1.06G      2.482      1.615      1.618       1822        256: 100%|██████████| 3/3 [00:00<00:00,  4.77it/s]\n",
            "                 Class     Images  Instances      Box(P          R      mAP50  mAP50-95): 100%|██████████| 1/1 [00:00<00:00,  1.74it/s]"
          ]
        },
        {
          "name": "stdout",
          "output_type": "stream",
          "text": [
            "                   all        110       1910      0.297        0.3      0.214     0.0685\n"
          ]
        },
        {
          "name": "stderr",
          "output_type": "stream",
          "text": [
            "\n"
          ]
        },
        {
          "name": "stdout",
          "output_type": "stream",
          "text": [
            "\n",
            "      Epoch    GPU_mem   box_loss   cls_loss   dfl_loss  Instances       Size\n"
          ]
        },
        {
          "name": "stderr",
          "output_type": "stream",
          "text": [
            "     38/100     0.933G      2.493      1.591      1.601       1822        256: 100%|██████████| 3/3 [00:00<00:00,  4.57it/s]\n",
            "                 Class     Images  Instances      Box(P          R      mAP50  mAP50-95): 100%|██████████| 1/1 [00:00<00:00,  1.73it/s]"
          ]
        },
        {
          "name": "stdout",
          "output_type": "stream",
          "text": [
            "                   all        110       1910      0.283      0.298      0.203     0.0636\n"
          ]
        },
        {
          "name": "stderr",
          "output_type": "stream",
          "text": [
            "\n"
          ]
        },
        {
          "name": "stdout",
          "output_type": "stream",
          "text": [
            "\n",
            "      Epoch    GPU_mem   box_loss   cls_loss   dfl_loss  Instances       Size\n"
          ]
        },
        {
          "name": "stderr",
          "output_type": "stream",
          "text": [
            "     39/100      1.08G      2.504       1.61      1.597       1786        256: 100%|██████████| 3/3 [00:00<00:00,  5.21it/s]\n",
            "                 Class     Images  Instances      Box(P          R      mAP50  mAP50-95): 100%|██████████| 1/1 [00:00<00:00,  1.56it/s]"
          ]
        },
        {
          "name": "stdout",
          "output_type": "stream",
          "text": [
            "                   all        110       1910      0.272      0.255      0.201     0.0628\n"
          ]
        },
        {
          "name": "stderr",
          "output_type": "stream",
          "text": [
            "\n"
          ]
        },
        {
          "name": "stdout",
          "output_type": "stream",
          "text": [
            "\n",
            "      Epoch    GPU_mem   box_loss   cls_loss   dfl_loss  Instances       Size\n"
          ]
        },
        {
          "name": "stderr",
          "output_type": "stream",
          "text": [
            "     40/100     0.912G      2.474      1.619      1.616       1493        256: 100%|██████████| 3/3 [00:00<00:00,  4.06it/s]\n",
            "                 Class     Images  Instances      Box(P          R      mAP50  mAP50-95): 100%|██████████| 1/1 [00:00<00:00,  1.20it/s]"
          ]
        },
        {
          "name": "stdout",
          "output_type": "stream",
          "text": [
            "                   all        110       1910        0.3      0.246      0.214     0.0673\n"
          ]
        },
        {
          "name": "stderr",
          "output_type": "stream",
          "text": [
            "\n"
          ]
        },
        {
          "name": "stdout",
          "output_type": "stream",
          "text": [
            "\n",
            "      Epoch    GPU_mem   box_loss   cls_loss   dfl_loss  Instances       Size\n"
          ]
        },
        {
          "name": "stderr",
          "output_type": "stream",
          "text": [
            "     41/100         1G      2.484      1.619      1.608       1825        256: 100%|██████████| 3/3 [00:00<00:00,  3.52it/s]\n",
            "                 Class     Images  Instances      Box(P          R      mAP50  mAP50-95): 100%|██████████| 1/1 [00:01<00:00,  1.10s/it]"
          ]
        },
        {
          "name": "stdout",
          "output_type": "stream",
          "text": [
            "                   all        110       1910       0.29       0.27      0.221     0.0697\n"
          ]
        },
        {
          "name": "stderr",
          "output_type": "stream",
          "text": [
            "\n"
          ]
        },
        {
          "name": "stdout",
          "output_type": "stream",
          "text": [
            "\n",
            "      Epoch    GPU_mem   box_loss   cls_loss   dfl_loss  Instances       Size\n"
          ]
        },
        {
          "name": "stderr",
          "output_type": "stream",
          "text": [
            "     42/100     0.883G      2.462      1.631      1.614       1909        256: 100%|██████████| 3/3 [00:00<00:00,  4.56it/s]\n",
            "                 Class     Images  Instances      Box(P          R      mAP50  mAP50-95): 100%|██████████| 1/1 [00:00<00:00,  1.79it/s]"
          ]
        },
        {
          "name": "stdout",
          "output_type": "stream",
          "text": [
            "                   all        110       1910      0.291      0.282      0.224     0.0701\n"
          ]
        },
        {
          "name": "stderr",
          "output_type": "stream",
          "text": [
            "\n"
          ]
        },
        {
          "name": "stdout",
          "output_type": "stream",
          "text": [
            "\n",
            "      Epoch    GPU_mem   box_loss   cls_loss   dfl_loss  Instances       Size\n"
          ]
        },
        {
          "name": "stderr",
          "output_type": "stream",
          "text": [
            "     43/100     0.933G      2.433      1.605      1.604       1705        256: 100%|██████████| 3/3 [00:00<00:00,  4.64it/s]\n",
            "                 Class     Images  Instances      Box(P          R      mAP50  mAP50-95): 100%|██████████| 1/1 [00:00<00:00,  1.82it/s]"
          ]
        },
        {
          "name": "stdout",
          "output_type": "stream",
          "text": [
            "                   all        110       1910      0.325      0.259      0.233     0.0757\n"
          ]
        },
        {
          "name": "stderr",
          "output_type": "stream",
          "text": [
            "\n"
          ]
        },
        {
          "name": "stdout",
          "output_type": "stream",
          "text": [
            "\n",
            "      Epoch    GPU_mem   box_loss   cls_loss   dfl_loss  Instances       Size\n"
          ]
        },
        {
          "name": "stderr",
          "output_type": "stream",
          "text": [
            "     44/100     0.923G      2.431      1.587      1.597       1591        256: 100%|██████████| 3/3 [00:00<00:00,  4.56it/s]\n",
            "                 Class     Images  Instances      Box(P          R      mAP50  mAP50-95): 100%|██████████| 1/1 [00:00<00:00,  1.78it/s]"
          ]
        },
        {
          "name": "stdout",
          "output_type": "stream",
          "text": [
            "                   all        110       1910      0.305      0.305      0.248     0.0805\n"
          ]
        },
        {
          "name": "stderr",
          "output_type": "stream",
          "text": [
            "\n"
          ]
        },
        {
          "name": "stdout",
          "output_type": "stream",
          "text": [
            "\n",
            "      Epoch    GPU_mem   box_loss   cls_loss   dfl_loss  Instances       Size\n"
          ]
        },
        {
          "name": "stderr",
          "output_type": "stream",
          "text": [
            "     45/100      0.91G      2.428      1.578       1.59       1752        256: 100%|██████████| 3/3 [00:00<00:00,  4.80it/s]\n",
            "                 Class     Images  Instances      Box(P          R      mAP50  mAP50-95): 100%|██████████| 1/1 [00:00<00:00,  1.72it/s]"
          ]
        },
        {
          "name": "stdout",
          "output_type": "stream",
          "text": [
            "                   all        110       1910      0.324      0.303      0.249     0.0781\n"
          ]
        },
        {
          "name": "stderr",
          "output_type": "stream",
          "text": [
            "\n"
          ]
        },
        {
          "name": "stdout",
          "output_type": "stream",
          "text": [
            "\n",
            "      Epoch    GPU_mem   box_loss   cls_loss   dfl_loss  Instances       Size\n"
          ]
        },
        {
          "name": "stderr",
          "output_type": "stream",
          "text": [
            "     46/100     0.912G      2.468      1.566      1.586       2019        256: 100%|██████████| 3/3 [00:00<00:00,  4.44it/s]\n",
            "                 Class     Images  Instances      Box(P          R      mAP50  mAP50-95): 100%|██████████| 1/1 [00:00<00:00,  1.67it/s]"
          ]
        },
        {
          "name": "stdout",
          "output_type": "stream",
          "text": [
            "                   all        110       1910      0.318      0.301      0.237      0.076\n"
          ]
        },
        {
          "name": "stderr",
          "output_type": "stream",
          "text": [
            "\n"
          ]
        },
        {
          "name": "stdout",
          "output_type": "stream",
          "text": [
            "\n",
            "      Epoch    GPU_mem   box_loss   cls_loss   dfl_loss  Instances       Size\n"
          ]
        },
        {
          "name": "stderr",
          "output_type": "stream",
          "text": [
            "     47/100     0.906G      2.444      1.607      1.591       1872        256: 100%|██████████| 3/3 [00:00<00:00,  3.91it/s]\n",
            "                 Class     Images  Instances      Box(P          R      mAP50  mAP50-95): 100%|██████████| 1/1 [00:00<00:00,  1.23it/s]"
          ]
        },
        {
          "name": "stdout",
          "output_type": "stream",
          "text": [
            "                   all        110       1910      0.321      0.287      0.232     0.0739\n"
          ]
        },
        {
          "name": "stderr",
          "output_type": "stream",
          "text": [
            "\n"
          ]
        },
        {
          "name": "stdout",
          "output_type": "stream",
          "text": [
            "\n",
            "      Epoch    GPU_mem   box_loss   cls_loss   dfl_loss  Instances       Size\n"
          ]
        },
        {
          "name": "stderr",
          "output_type": "stream",
          "text": [
            "     48/100      0.95G      2.473      1.581      1.595       2012        256: 100%|██████████| 3/3 [00:00<00:00,  3.21it/s]\n",
            "                 Class     Images  Instances      Box(P          R      mAP50  mAP50-95): 100%|██████████| 1/1 [00:00<00:00,  1.07it/s]"
          ]
        },
        {
          "name": "stdout",
          "output_type": "stream",
          "text": [
            "                   all        110       1910      0.307       0.32      0.242     0.0785\n"
          ]
        },
        {
          "name": "stderr",
          "output_type": "stream",
          "text": [
            "\n"
          ]
        },
        {
          "name": "stdout",
          "output_type": "stream",
          "text": [
            "\n",
            "      Epoch    GPU_mem   box_loss   cls_loss   dfl_loss  Instances       Size\n"
          ]
        },
        {
          "name": "stderr",
          "output_type": "stream",
          "text": [
            "     49/100      1.05G      2.422      1.605      1.577       1690        256: 100%|██████████| 3/3 [00:00<00:00,  4.60it/s]\n",
            "                 Class     Images  Instances      Box(P          R      mAP50  mAP50-95): 100%|██████████| 1/1 [00:00<00:00,  1.70it/s]"
          ]
        },
        {
          "name": "stdout",
          "output_type": "stream",
          "text": [
            "                   all        110       1910      0.322       0.32       0.26     0.0843\n"
          ]
        },
        {
          "name": "stderr",
          "output_type": "stream",
          "text": [
            "\n"
          ]
        },
        {
          "name": "stdout",
          "output_type": "stream",
          "text": [
            "\n",
            "      Epoch    GPU_mem   box_loss   cls_loss   dfl_loss  Instances       Size\n"
          ]
        },
        {
          "name": "stderr",
          "output_type": "stream",
          "text": [
            "     50/100      1.02G      2.414      1.576      1.562       1739        256: 100%|██████████| 3/3 [00:00<00:00,  4.34it/s]\n",
            "                 Class     Images  Instances      Box(P          R      mAP50  mAP50-95): 100%|██████████| 1/1 [00:00<00:00,  1.78it/s]"
          ]
        },
        {
          "name": "stdout",
          "output_type": "stream",
          "text": [
            "                   all        110       1910      0.311      0.326      0.251     0.0814\n"
          ]
        },
        {
          "name": "stderr",
          "output_type": "stream",
          "text": [
            "\n"
          ]
        },
        {
          "name": "stdout",
          "output_type": "stream",
          "text": [
            "\n",
            "      Epoch    GPU_mem   box_loss   cls_loss   dfl_loss  Instances       Size\n"
          ]
        },
        {
          "name": "stderr",
          "output_type": "stream",
          "text": [
            "     51/100     0.891G      2.401      1.569      1.571       1693        256: 100%|██████████| 3/3 [00:00<00:00,  4.82it/s]\n",
            "                 Class     Images  Instances      Box(P          R      mAP50  mAP50-95): 100%|██████████| 1/1 [00:00<00:00,  1.74it/s]"
          ]
        },
        {
          "name": "stdout",
          "output_type": "stream",
          "text": [
            "                   all        110       1910      0.314       0.32      0.248      0.081\n"
          ]
        },
        {
          "name": "stderr",
          "output_type": "stream",
          "text": [
            "\n"
          ]
        },
        {
          "name": "stdout",
          "output_type": "stream",
          "text": [
            "\n",
            "      Epoch    GPU_mem   box_loss   cls_loss   dfl_loss  Instances       Size\n"
          ]
        },
        {
          "name": "stderr",
          "output_type": "stream",
          "text": [
            "     52/100     0.898G      2.438      1.576      1.586       1722        256: 100%|██████████| 3/3 [00:00<00:00,  5.04it/s]\n",
            "                 Class     Images  Instances      Box(P          R      mAP50  mAP50-95): 100%|██████████| 1/1 [00:00<00:00,  1.60it/s]"
          ]
        },
        {
          "name": "stdout",
          "output_type": "stream",
          "text": [
            "                   all        110       1910      0.303      0.337      0.251     0.0838\n"
          ]
        },
        {
          "name": "stderr",
          "output_type": "stream",
          "text": [
            "\n"
          ]
        },
        {
          "name": "stdout",
          "output_type": "stream",
          "text": [
            "\n",
            "      Epoch    GPU_mem   box_loss   cls_loss   dfl_loss  Instances       Size\n"
          ]
        },
        {
          "name": "stderr",
          "output_type": "stream",
          "text": [
            "     53/100     0.923G       2.43      1.571       1.57       1845        256: 100%|██████████| 3/3 [00:00<00:00,  5.05it/s]\n",
            "                 Class     Images  Instances      Box(P          R      mAP50  mAP50-95): 100%|██████████| 1/1 [00:00<00:00,  1.61it/s]"
          ]
        },
        {
          "name": "stdout",
          "output_type": "stream",
          "text": [
            "                   all        110       1910      0.328      0.332      0.271     0.0895\n"
          ]
        },
        {
          "name": "stderr",
          "output_type": "stream",
          "text": [
            "\n"
          ]
        },
        {
          "name": "stdout",
          "output_type": "stream",
          "text": [
            "\n",
            "      Epoch    GPU_mem   box_loss   cls_loss   dfl_loss  Instances       Size\n"
          ]
        },
        {
          "name": "stderr",
          "output_type": "stream",
          "text": [
            "     54/100     0.973G       2.39      1.555      1.564       1849        256: 100%|██████████| 3/3 [00:00<00:00,  4.34it/s]\n",
            "                 Class     Images  Instances      Box(P          R      mAP50  mAP50-95): 100%|██████████| 1/1 [00:00<00:00,  1.16it/s]"
          ]
        },
        {
          "name": "stdout",
          "output_type": "stream",
          "text": [
            "                   all        110       1910      0.323      0.338      0.264     0.0874\n"
          ]
        },
        {
          "name": "stderr",
          "output_type": "stream",
          "text": [
            "\n"
          ]
        },
        {
          "name": "stdout",
          "output_type": "stream",
          "text": [
            "\n",
            "      Epoch    GPU_mem   box_loss   cls_loss   dfl_loss  Instances       Size\n"
          ]
        },
        {
          "name": "stderr",
          "output_type": "stream",
          "text": [
            "     55/100      0.96G      2.409      1.552       1.57       1770        256: 100%|██████████| 3/3 [00:00<00:00,  3.35it/s]\n",
            "                 Class     Images  Instances      Box(P          R      mAP50  mAP50-95): 100%|██████████| 1/1 [00:01<00:00,  1.09s/it]"
          ]
        },
        {
          "name": "stdout",
          "output_type": "stream",
          "text": [
            "                   all        110       1910      0.346       0.32      0.269     0.0858\n"
          ]
        },
        {
          "name": "stderr",
          "output_type": "stream",
          "text": [
            "\n"
          ]
        },
        {
          "name": "stdout",
          "output_type": "stream",
          "text": [
            "\n",
            "      Epoch    GPU_mem   box_loss   cls_loss   dfl_loss  Instances       Size\n"
          ]
        },
        {
          "name": "stderr",
          "output_type": "stream",
          "text": [
            "     56/100     0.898G      2.375      1.567      1.559       1698        256: 100%|██████████| 3/3 [00:00<00:00,  5.16it/s]\n",
            "                 Class     Images  Instances      Box(P          R      mAP50  mAP50-95): 100%|██████████| 1/1 [00:00<00:00,  1.55it/s]"
          ]
        },
        {
          "name": "stdout",
          "output_type": "stream",
          "text": [
            "                   all        110       1910      0.346       0.31      0.269     0.0854\n"
          ]
        },
        {
          "name": "stderr",
          "output_type": "stream",
          "text": [
            "\n"
          ]
        },
        {
          "name": "stdout",
          "output_type": "stream",
          "text": [
            "\n",
            "      Epoch    GPU_mem   box_loss   cls_loss   dfl_loss  Instances       Size\n"
          ]
        },
        {
          "name": "stderr",
          "output_type": "stream",
          "text": [
            "     57/100      1.01G      2.373       1.56      1.569       2037        256: 100%|██████████| 3/3 [00:00<00:00,  4.25it/s]\n",
            "                 Class     Images  Instances      Box(P          R      mAP50  mAP50-95): 100%|██████████| 1/1 [00:00<00:00,  1.67it/s]"
          ]
        },
        {
          "name": "stdout",
          "output_type": "stream",
          "text": [
            "                   all        110       1910      0.348      0.295      0.262     0.0826\n"
          ]
        },
        {
          "name": "stderr",
          "output_type": "stream",
          "text": [
            "\n"
          ]
        },
        {
          "name": "stdout",
          "output_type": "stream",
          "text": [
            "\n",
            "      Epoch    GPU_mem   box_loss   cls_loss   dfl_loss  Instances       Size\n"
          ]
        },
        {
          "name": "stderr",
          "output_type": "stream",
          "text": [
            "     58/100     0.992G      2.401      1.568      1.573       1616        256: 100%|██████████| 3/3 [00:00<00:00,  4.29it/s]\n",
            "                 Class     Images  Instances      Box(P          R      mAP50  mAP50-95): 100%|██████████| 1/1 [00:00<00:00,  1.83it/s]"
          ]
        },
        {
          "name": "stdout",
          "output_type": "stream",
          "text": [
            "                   all        110       1910      0.312      0.332      0.248     0.0806\n"
          ]
        },
        {
          "name": "stderr",
          "output_type": "stream",
          "text": [
            "\n"
          ]
        },
        {
          "name": "stdout",
          "output_type": "stream",
          "text": [
            "\n",
            "      Epoch    GPU_mem   box_loss   cls_loss   dfl_loss  Instances       Size\n"
          ]
        },
        {
          "name": "stderr",
          "output_type": "stream",
          "text": [
            "     59/100     0.988G      2.422      1.563      1.555       1827        256: 100%|██████████| 3/3 [00:00<00:00,  4.28it/s]\n",
            "                 Class     Images  Instances      Box(P          R      mAP50  mAP50-95): 100%|██████████| 1/1 [00:00<00:00,  1.78it/s]"
          ]
        },
        {
          "name": "stdout",
          "output_type": "stream",
          "text": [
            "                   all        110       1910      0.325      0.332      0.261     0.0829\n"
          ]
        },
        {
          "name": "stderr",
          "output_type": "stream",
          "text": [
            "\n"
          ]
        },
        {
          "name": "stdout",
          "output_type": "stream",
          "text": [
            "\n",
            "      Epoch    GPU_mem   box_loss   cls_loss   dfl_loss  Instances       Size\n"
          ]
        },
        {
          "name": "stderr",
          "output_type": "stream",
          "text": [
            "     60/100     0.992G      2.365      1.569      1.564       1770        256: 100%|██████████| 3/3 [00:00<00:00,  4.39it/s]\n",
            "                 Class     Images  Instances      Box(P          R      mAP50  mAP50-95): 100%|██████████| 1/1 [00:00<00:00,  1.85it/s]"
          ]
        },
        {
          "name": "stdout",
          "output_type": "stream",
          "text": [
            "                   all        110       1910       0.34      0.333      0.271     0.0881\n"
          ]
        },
        {
          "name": "stderr",
          "output_type": "stream",
          "text": [
            "\n"
          ]
        },
        {
          "name": "stdout",
          "output_type": "stream",
          "text": [
            "\n",
            "      Epoch    GPU_mem   box_loss   cls_loss   dfl_loss  Instances       Size\n"
          ]
        },
        {
          "name": "stderr",
          "output_type": "stream",
          "text": [
            "     61/100      0.95G      2.378      1.561      1.563       1727        256: 100%|██████████| 3/3 [00:00<00:00,  3.39it/s]\n",
            "                 Class     Images  Instances      Box(P          R      mAP50  mAP50-95): 100%|██████████| 1/1 [00:00<00:00,  1.13it/s]"
          ]
        },
        {
          "name": "stdout",
          "output_type": "stream",
          "text": [
            "                   all        110       1910      0.369       0.33      0.284     0.0926\n"
          ]
        },
        {
          "name": "stderr",
          "output_type": "stream",
          "text": [
            "\n"
          ]
        },
        {
          "name": "stdout",
          "output_type": "stream",
          "text": [
            "\n",
            "      Epoch    GPU_mem   box_loss   cls_loss   dfl_loss  Instances       Size\n"
          ]
        },
        {
          "name": "stderr",
          "output_type": "stream",
          "text": [
            "     62/100     0.948G      2.351      1.541      1.532       1778        256: 100%|██████████| 3/3 [00:01<00:00,  2.78it/s]\n",
            "                 Class     Images  Instances      Box(P          R      mAP50  mAP50-95): 100%|██████████| 1/1 [00:00<00:00,  1.08it/s]"
          ]
        },
        {
          "name": "stdout",
          "output_type": "stream",
          "text": [
            "                   all        110       1910      0.363      0.333      0.281     0.0898\n"
          ]
        },
        {
          "name": "stderr",
          "output_type": "stream",
          "text": [
            "\n"
          ]
        },
        {
          "name": "stdout",
          "output_type": "stream",
          "text": [
            "\n",
            "      Epoch    GPU_mem   box_loss   cls_loss   dfl_loss  Instances       Size\n"
          ]
        },
        {
          "name": "stderr",
          "output_type": "stream",
          "text": [
            "     63/100     0.952G      2.385      1.561      1.548       1736        256: 100%|██████████| 3/3 [00:00<00:00,  4.27it/s]\n",
            "                 Class     Images  Instances      Box(P          R      mAP50  mAP50-95): 100%|██████████| 1/1 [00:00<00:00,  1.71it/s]"
          ]
        },
        {
          "name": "stdout",
          "output_type": "stream",
          "text": [
            "                   all        110       1910      0.375      0.342      0.293     0.0925\n"
          ]
        },
        {
          "name": "stderr",
          "output_type": "stream",
          "text": [
            "\n"
          ]
        },
        {
          "name": "stdout",
          "output_type": "stream",
          "text": [
            "\n",
            "      Epoch    GPU_mem   box_loss   cls_loss   dfl_loss  Instances       Size\n"
          ]
        },
        {
          "name": "stderr",
          "output_type": "stream",
          "text": [
            "     64/100      1.02G      2.378      1.541       1.56       1873        256: 100%|██████████| 3/3 [00:00<00:00,  5.00it/s]\n",
            "                 Class     Images  Instances      Box(P          R      mAP50  mAP50-95): 100%|██████████| 1/1 [00:00<00:00,  1.57it/s]"
          ]
        },
        {
          "name": "stdout",
          "output_type": "stream",
          "text": [
            "                   all        110       1910      0.364      0.341      0.298     0.0972\n"
          ]
        },
        {
          "name": "stderr",
          "output_type": "stream",
          "text": [
            "\n"
          ]
        },
        {
          "name": "stdout",
          "output_type": "stream",
          "text": [
            "\n",
            "      Epoch    GPU_mem   box_loss   cls_loss   dfl_loss  Instances       Size\n"
          ]
        },
        {
          "name": "stderr",
          "output_type": "stream",
          "text": [
            "     65/100     0.923G      2.368      1.539      1.546       1748        256: 100%|██████████| 3/3 [00:00<00:00,  4.45it/s]\n",
            "                 Class     Images  Instances      Box(P          R      mAP50  mAP50-95): 100%|██████████| 1/1 [00:00<00:00,  1.71it/s]"
          ]
        },
        {
          "name": "stdout",
          "output_type": "stream",
          "text": [
            "                   all        110       1910      0.371      0.337      0.294     0.0961\n"
          ]
        },
        {
          "name": "stderr",
          "output_type": "stream",
          "text": [
            "\n"
          ]
        },
        {
          "name": "stdout",
          "output_type": "stream",
          "text": [
            "\n",
            "      Epoch    GPU_mem   box_loss   cls_loss   dfl_loss  Instances       Size\n"
          ]
        },
        {
          "name": "stderr",
          "output_type": "stream",
          "text": [
            "     66/100      1.02G      2.347      1.563      1.548       1529        256: 100%|██████████| 3/3 [00:00<00:00,  4.22it/s]\n",
            "                 Class     Images  Instances      Box(P          R      mAP50  mAP50-95): 100%|██████████| 1/1 [00:00<00:00,  1.78it/s]"
          ]
        },
        {
          "name": "stdout",
          "output_type": "stream",
          "text": [
            "                   all        110       1910      0.382      0.326      0.289     0.0935\n"
          ]
        },
        {
          "name": "stderr",
          "output_type": "stream",
          "text": [
            "\n"
          ]
        },
        {
          "name": "stdout",
          "output_type": "stream",
          "text": [
            "\n",
            "      Epoch    GPU_mem   box_loss   cls_loss   dfl_loss  Instances       Size\n"
          ]
        },
        {
          "name": "stderr",
          "output_type": "stream",
          "text": [
            "     67/100     0.931G      2.356      1.544      1.543       1899        256: 100%|██████████| 3/3 [00:00<00:00,  5.67it/s]\n",
            "                 Class     Images  Instances      Box(P          R      mAP50  mAP50-95): 100%|██████████| 1/1 [00:00<00:00,  1.41it/s]"
          ]
        },
        {
          "name": "stdout",
          "output_type": "stream",
          "text": [
            "                   all        110       1910      0.352      0.338      0.282     0.0885\n"
          ]
        },
        {
          "name": "stderr",
          "output_type": "stream",
          "text": [
            "\n"
          ]
        },
        {
          "name": "stdout",
          "output_type": "stream",
          "text": [
            "\n",
            "      Epoch    GPU_mem   box_loss   cls_loss   dfl_loss  Instances       Size\n"
          ]
        },
        {
          "name": "stderr",
          "output_type": "stream",
          "text": [
            "     68/100     0.944G      2.346      1.557      1.555       1738        256: 100%|██████████| 3/3 [00:00<00:00,  3.25it/s]\n",
            "                 Class     Images  Instances      Box(P          R      mAP50  mAP50-95): 100%|██████████| 1/1 [00:00<00:00,  1.05it/s]"
          ]
        },
        {
          "name": "stdout",
          "output_type": "stream",
          "text": [
            "                   all        110       1910      0.369       0.32      0.277     0.0898\n"
          ]
        },
        {
          "name": "stderr",
          "output_type": "stream",
          "text": [
            "\n"
          ]
        },
        {
          "name": "stdout",
          "output_type": "stream",
          "text": [
            "\n",
            "      Epoch    GPU_mem   box_loss   cls_loss   dfl_loss  Instances       Size\n"
          ]
        },
        {
          "name": "stderr",
          "output_type": "stream",
          "text": [
            "     69/100     0.996G      2.347       1.54      1.535       1888        256: 100%|██████████| 3/3 [00:00<00:00,  3.21it/s]\n",
            "                 Class     Images  Instances      Box(P          R      mAP50  mAP50-95): 100%|██████████| 1/1 [00:00<00:00,  1.09it/s]"
          ]
        },
        {
          "name": "stdout",
          "output_type": "stream",
          "text": [
            "                   all        110       1910      0.364      0.326      0.283      0.091\n"
          ]
        },
        {
          "name": "stderr",
          "output_type": "stream",
          "text": [
            "\n"
          ]
        },
        {
          "name": "stdout",
          "output_type": "stream",
          "text": [
            "\n",
            "      Epoch    GPU_mem   box_loss   cls_loss   dfl_loss  Instances       Size\n"
          ]
        },
        {
          "name": "stderr",
          "output_type": "stream",
          "text": [
            "     70/100     0.954G      2.305      1.558      1.524       1669        256: 100%|██████████| 3/3 [00:00<00:00,  4.21it/s]\n",
            "                 Class     Images  Instances      Box(P          R      mAP50  mAP50-95): 100%|██████████| 1/1 [00:00<00:00,  1.94it/s]"
          ]
        },
        {
          "name": "stdout",
          "output_type": "stream",
          "text": [
            "                   all        110       1910      0.357      0.323       0.28     0.0887\n"
          ]
        },
        {
          "name": "stderr",
          "output_type": "stream",
          "text": [
            "\n"
          ]
        },
        {
          "name": "stdout",
          "output_type": "stream",
          "text": [
            "\n",
            "      Epoch    GPU_mem   box_loss   cls_loss   dfl_loss  Instances       Size\n"
          ]
        },
        {
          "name": "stderr",
          "output_type": "stream",
          "text": [
            "     71/100     0.893G      2.311      1.563      1.565       1518        256: 100%|██████████| 3/3 [00:00<00:00,  4.77it/s]\n",
            "                 Class     Images  Instances      Box(P          R      mAP50  mAP50-95): 100%|██████████| 1/1 [00:00<00:00,  1.83it/s]"
          ]
        },
        {
          "name": "stdout",
          "output_type": "stream",
          "text": [
            "                   all        110       1910      0.342      0.357      0.285     0.0913\n"
          ]
        },
        {
          "name": "stderr",
          "output_type": "stream",
          "text": [
            "\n"
          ]
        },
        {
          "name": "stdout",
          "output_type": "stream",
          "text": [
            "\n",
            "      Epoch    GPU_mem   box_loss   cls_loss   dfl_loss  Instances       Size\n"
          ]
        },
        {
          "name": "stderr",
          "output_type": "stream",
          "text": [
            "     72/100     0.937G      2.323      1.538      1.552       1744        256: 100%|██████████| 3/3 [00:00<00:00,  4.73it/s]\n",
            "                 Class     Images  Instances      Box(P          R      mAP50  mAP50-95): 100%|██████████| 1/1 [00:00<00:00,  1.64it/s]"
          ]
        },
        {
          "name": "stdout",
          "output_type": "stream",
          "text": [
            "                   all        110       1910      0.343       0.35      0.274      0.089\n"
          ]
        },
        {
          "name": "stderr",
          "output_type": "stream",
          "text": [
            "\n"
          ]
        },
        {
          "name": "stdout",
          "output_type": "stream",
          "text": [
            "\n",
            "      Epoch    GPU_mem   box_loss   cls_loss   dfl_loss  Instances       Size\n"
          ]
        },
        {
          "name": "stderr",
          "output_type": "stream",
          "text": [
            "     73/100      1.04G      2.339       1.56      1.555       1738        256: 100%|██████████| 3/3 [00:00<00:00,  4.65it/s]\n",
            "                 Class     Images  Instances      Box(P          R      mAP50  mAP50-95): 100%|██████████| 1/1 [00:00<00:00,  1.59it/s]"
          ]
        },
        {
          "name": "stdout",
          "output_type": "stream",
          "text": [
            "                   all        110       1910      0.337      0.345      0.268     0.0875\n"
          ]
        },
        {
          "name": "stderr",
          "output_type": "stream",
          "text": [
            "\n"
          ]
        },
        {
          "name": "stdout",
          "output_type": "stream",
          "text": [
            "\n",
            "      Epoch    GPU_mem   box_loss   cls_loss   dfl_loss  Instances       Size\n"
          ]
        },
        {
          "name": "stderr",
          "output_type": "stream",
          "text": [
            "     74/100     0.906G      2.292      1.542      1.533       1626        256: 100%|██████████| 3/3 [00:00<00:00,  4.80it/s]\n",
            "                 Class     Images  Instances      Box(P          R      mAP50  mAP50-95): 100%|██████████| 1/1 [00:00<00:00,  1.65it/s]"
          ]
        },
        {
          "name": "stdout",
          "output_type": "stream",
          "text": [
            "                   all        110       1910      0.353       0.35      0.282     0.0936\n"
          ]
        },
        {
          "name": "stderr",
          "output_type": "stream",
          "text": [
            "\n"
          ]
        },
        {
          "name": "stdout",
          "output_type": "stream",
          "text": [
            "\n",
            "      Epoch    GPU_mem   box_loss   cls_loss   dfl_loss  Instances       Size\n"
          ]
        },
        {
          "name": "stderr",
          "output_type": "stream",
          "text": [
            "     75/100     0.916G       2.29      1.526      1.528       1479        256: 100%|██████████| 3/3 [00:00<00:00,  3.18it/s]\n",
            "                 Class     Images  Instances      Box(P          R      mAP50  mAP50-95): 100%|██████████| 1/1 [00:00<00:00,  1.25it/s]"
          ]
        },
        {
          "name": "stdout",
          "output_type": "stream",
          "text": [
            "                   all        110       1910      0.352      0.352       0.29     0.0977\n"
          ]
        },
        {
          "name": "stderr",
          "output_type": "stream",
          "text": [
            "\n"
          ]
        },
        {
          "name": "stdout",
          "output_type": "stream",
          "text": [
            "\n",
            "      Epoch    GPU_mem   box_loss   cls_loss   dfl_loss  Instances       Size\n"
          ]
        },
        {
          "name": "stderr",
          "output_type": "stream",
          "text": [
            "     76/100     0.914G      2.292      1.519      1.515       1556        256: 100%|██████████| 3/3 [00:01<00:00,  2.98it/s]\n",
            "                 Class     Images  Instances      Box(P          R      mAP50  mAP50-95): 100%|██████████| 1/1 [00:00<00:00,  1.04it/s]"
          ]
        },
        {
          "name": "stdout",
          "output_type": "stream",
          "text": [
            "                   all        110       1910      0.355      0.341      0.277     0.0916\n"
          ]
        },
        {
          "name": "stderr",
          "output_type": "stream",
          "text": [
            "\n"
          ]
        },
        {
          "name": "stdout",
          "output_type": "stream",
          "text": [
            "\n",
            "      Epoch    GPU_mem   box_loss   cls_loss   dfl_loss  Instances       Size\n"
          ]
        },
        {
          "name": "stderr",
          "output_type": "stream",
          "text": [
            "     77/100      1.01G      2.305      1.534       1.53       1609        256: 100%|██████████| 3/3 [00:00<00:00,  4.20it/s]\n",
            "                 Class     Images  Instances      Box(P          R      mAP50  mAP50-95): 100%|██████████| 1/1 [00:00<00:00,  1.93it/s]"
          ]
        },
        {
          "name": "stdout",
          "output_type": "stream",
          "text": [
            "                   all        110       1910      0.358      0.337      0.283     0.0918\n"
          ]
        },
        {
          "name": "stderr",
          "output_type": "stream",
          "text": [
            "\n"
          ]
        },
        {
          "name": "stdout",
          "output_type": "stream",
          "text": [
            "\n",
            "      Epoch    GPU_mem   box_loss   cls_loss   dfl_loss  Instances       Size\n"
          ]
        },
        {
          "name": "stderr",
          "output_type": "stream",
          "text": [
            "     78/100     0.942G      2.302      1.532       1.53       1795        256: 100%|██████████| 3/3 [00:00<00:00,  4.28it/s]\n",
            "                 Class     Images  Instances      Box(P          R      mAP50  mAP50-95): 100%|██████████| 1/1 [00:00<00:00,  1.86it/s]"
          ]
        },
        {
          "name": "stdout",
          "output_type": "stream",
          "text": [
            "                   all        110       1910      0.365      0.352      0.286     0.0923\n"
          ]
        },
        {
          "name": "stderr",
          "output_type": "stream",
          "text": [
            "\n"
          ]
        },
        {
          "name": "stdout",
          "output_type": "stream",
          "text": [
            "\n",
            "      Epoch    GPU_mem   box_loss   cls_loss   dfl_loss  Instances       Size\n"
          ]
        },
        {
          "name": "stderr",
          "output_type": "stream",
          "text": [
            "     79/100      1.01G      2.357      1.523      1.537       1848        256: 100%|██████████| 3/3 [00:00<00:00,  4.49it/s]\n",
            "                 Class     Images  Instances      Box(P          R      mAP50  mAP50-95): 100%|██████████| 1/1 [00:00<00:00,  1.77it/s]"
          ]
        },
        {
          "name": "stdout",
          "output_type": "stream",
          "text": [
            "                   all        110       1910      0.345      0.346      0.281     0.0913\n"
          ]
        },
        {
          "name": "stderr",
          "output_type": "stream",
          "text": [
            "\n"
          ]
        },
        {
          "name": "stdout",
          "output_type": "stream",
          "text": [
            "\n",
            "      Epoch    GPU_mem   box_loss   cls_loss   dfl_loss  Instances       Size\n"
          ]
        },
        {
          "name": "stderr",
          "output_type": "stream",
          "text": [
            "     80/100     0.975G      2.301      1.505       1.52       1803        256: 100%|██████████| 3/3 [00:00<00:00,  5.05it/s]\n",
            "                 Class     Images  Instances      Box(P          R      mAP50  mAP50-95): 100%|██████████| 1/1 [00:00<00:00,  1.55it/s]"
          ]
        },
        {
          "name": "stdout",
          "output_type": "stream",
          "text": [
            "                   all        110       1910       0.34      0.351      0.272     0.0898\n"
          ]
        },
        {
          "name": "stderr",
          "output_type": "stream",
          "text": [
            "\n"
          ]
        },
        {
          "name": "stdout",
          "output_type": "stream",
          "text": [
            "\n",
            "      Epoch    GPU_mem   box_loss   cls_loss   dfl_loss  Instances       Size\n"
          ]
        },
        {
          "name": "stderr",
          "output_type": "stream",
          "text": [
            "     81/100      1.01G      2.325      1.524      1.526       1818        256: 100%|██████████| 3/3 [00:00<00:00,  4.50it/s]\n",
            "                 Class     Images  Instances      Box(P          R      mAP50  mAP50-95): 100%|██████████| 1/1 [00:00<00:00,  1.69it/s]"
          ]
        },
        {
          "name": "stdout",
          "output_type": "stream",
          "text": [
            "                   all        110       1910      0.354      0.338      0.279     0.0902\n"
          ]
        },
        {
          "name": "stderr",
          "output_type": "stream",
          "text": [
            "\n"
          ]
        },
        {
          "name": "stdout",
          "output_type": "stream",
          "text": [
            "\n",
            "      Epoch    GPU_mem   box_loss   cls_loss   dfl_loss  Instances       Size\n"
          ]
        },
        {
          "name": "stderr",
          "output_type": "stream",
          "text": [
            "     82/100     0.923G      2.294      1.501      1.501       1768        256: 100%|██████████| 3/3 [00:00<00:00,  4.00it/s]\n",
            "                 Class     Images  Instances      Box(P          R      mAP50  mAP50-95): 100%|██████████| 1/1 [00:00<00:00,  1.05it/s]"
          ]
        },
        {
          "name": "stdout",
          "output_type": "stream",
          "text": [
            "                   all        110       1910      0.362       0.34      0.285     0.0949\n"
          ]
        },
        {
          "name": "stderr",
          "output_type": "stream",
          "text": [
            "\n"
          ]
        },
        {
          "name": "stdout",
          "output_type": "stream",
          "text": [
            "\n",
            "      Epoch    GPU_mem   box_loss   cls_loss   dfl_loss  Instances       Size\n"
          ]
        },
        {
          "name": "stderr",
          "output_type": "stream",
          "text": [
            "     83/100      1.03G      2.302      1.508      1.523       1893        256: 100%|██████████| 3/3 [00:01<00:00,  2.92it/s]\n",
            "                 Class     Images  Instances      Box(P          R      mAP50  mAP50-95): 100%|██████████| 1/1 [00:00<00:00,  1.04it/s]"
          ]
        },
        {
          "name": "stdout",
          "output_type": "stream",
          "text": [
            "                   all        110       1910      0.366      0.338      0.295     0.0987\n"
          ]
        },
        {
          "name": "stderr",
          "output_type": "stream",
          "text": [
            "\n"
          ]
        },
        {
          "name": "stdout",
          "output_type": "stream",
          "text": [
            "\n",
            "      Epoch    GPU_mem   box_loss   cls_loss   dfl_loss  Instances       Size\n"
          ]
        },
        {
          "name": "stderr",
          "output_type": "stream",
          "text": [
            "     84/100     0.977G      2.293      1.507      1.511       1838        256: 100%|██████████| 3/3 [00:00<00:00,  4.57it/s]\n",
            "                 Class     Images  Instances      Box(P          R      mAP50  mAP50-95): 100%|██████████| 1/1 [00:00<00:00,  1.51it/s]"
          ]
        },
        {
          "name": "stdout",
          "output_type": "stream",
          "text": [
            "                   all        110       1910      0.374      0.339        0.3     0.0999\n"
          ]
        },
        {
          "name": "stderr",
          "output_type": "stream",
          "text": [
            "\n"
          ]
        },
        {
          "name": "stdout",
          "output_type": "stream",
          "text": [
            "\n",
            "      Epoch    GPU_mem   box_loss   cls_loss   dfl_loss  Instances       Size\n"
          ]
        },
        {
          "name": "stderr",
          "output_type": "stream",
          "text": [
            "     85/100     0.969G      2.309      1.533       1.53       1508        256: 100%|██████████| 3/3 [00:00<00:00,  4.85it/s]\n",
            "                 Class     Images  Instances      Box(P          R      mAP50  mAP50-95): 100%|██████████| 1/1 [00:00<00:00,  1.73it/s]"
          ]
        },
        {
          "name": "stdout",
          "output_type": "stream",
          "text": [
            "                   all        110       1910      0.372      0.336      0.296     0.0982\n"
          ]
        },
        {
          "name": "stderr",
          "output_type": "stream",
          "text": [
            "\n"
          ]
        },
        {
          "name": "stdout",
          "output_type": "stream",
          "text": [
            "\n",
            "      Epoch    GPU_mem   box_loss   cls_loss   dfl_loss  Instances       Size\n"
          ]
        },
        {
          "name": "stderr",
          "output_type": "stream",
          "text": [
            "     86/100     0.898G      2.309      1.521      1.528       1614        256: 100%|██████████| 3/3 [00:00<00:00,  4.52it/s]\n",
            "                 Class     Images  Instances      Box(P          R      mAP50  mAP50-95): 100%|██████████| 1/1 [00:00<00:00,  1.74it/s]"
          ]
        },
        {
          "name": "stdout",
          "output_type": "stream",
          "text": [
            "                   all        110       1910      0.372      0.335      0.296     0.0972\n"
          ]
        },
        {
          "name": "stderr",
          "output_type": "stream",
          "text": [
            "\n"
          ]
        },
        {
          "name": "stdout",
          "output_type": "stream",
          "text": [
            "\n",
            "      Epoch    GPU_mem   box_loss   cls_loss   dfl_loss  Instances       Size\n"
          ]
        },
        {
          "name": "stderr",
          "output_type": "stream",
          "text": [
            "     87/100     0.984G      2.291      1.516      1.512       1815        256: 100%|██████████| 3/3 [00:00<00:00,  4.48it/s]\n",
            "                 Class     Images  Instances      Box(P          R      mAP50  mAP50-95): 100%|██████████| 1/1 [00:00<00:00,  1.76it/s]"
          ]
        },
        {
          "name": "stdout",
          "output_type": "stream",
          "text": [
            "                   all        110       1910      0.376      0.337      0.301     0.0992\n"
          ]
        },
        {
          "name": "stderr",
          "output_type": "stream",
          "text": [
            "\n"
          ]
        },
        {
          "name": "stdout",
          "output_type": "stream",
          "text": [
            "\n",
            "      Epoch    GPU_mem   box_loss   cls_loss   dfl_loss  Instances       Size\n"
          ]
        },
        {
          "name": "stderr",
          "output_type": "stream",
          "text": [
            "     88/100     0.967G      2.256      1.498      1.489       1723        256: 100%|██████████| 3/3 [00:00<00:00,  4.29it/s]\n",
            "                 Class     Images  Instances      Box(P          R      mAP50  mAP50-95): 100%|██████████| 1/1 [00:00<00:00,  1.84it/s]"
          ]
        },
        {
          "name": "stdout",
          "output_type": "stream",
          "text": [
            "                   all        110       1910      0.381      0.338      0.306        0.1\n"
          ]
        },
        {
          "name": "stderr",
          "output_type": "stream",
          "text": [
            "\n"
          ]
        },
        {
          "name": "stdout",
          "output_type": "stream",
          "text": [
            "\n",
            "      Epoch    GPU_mem   box_loss   cls_loss   dfl_loss  Instances       Size\n"
          ]
        },
        {
          "name": "stderr",
          "output_type": "stream",
          "text": [
            "     89/100     0.984G      2.269      1.498      1.498       1682        256: 100%|██████████| 3/3 [00:00<00:00,  3.27it/s]\n",
            "                 Class     Images  Instances      Box(P          R      mAP50  mAP50-95): 100%|██████████| 1/1 [00:00<00:00,  1.21it/s]"
          ]
        },
        {
          "name": "stdout",
          "output_type": "stream",
          "text": [
            "                   all        110       1910      0.367       0.34      0.299     0.0999\n"
          ]
        },
        {
          "name": "stderr",
          "output_type": "stream",
          "text": [
            "\n"
          ]
        },
        {
          "name": "stdout",
          "output_type": "stream",
          "text": [
            "\n",
            "      Epoch    GPU_mem   box_loss   cls_loss   dfl_loss  Instances       Size\n"
          ]
        },
        {
          "name": "stderr",
          "output_type": "stream",
          "text": [
            "     90/100         1G      2.282      1.509      1.502       1699        256: 100%|██████████| 3/3 [00:00<00:00,  3.50it/s]\n",
            "                 Class     Images  Instances      Box(P          R      mAP50  mAP50-95): 100%|██████████| 1/1 [00:01<00:00,  1.06s/it]"
          ]
        },
        {
          "name": "stdout",
          "output_type": "stream",
          "text": [
            "                   all        110       1910      0.371      0.337      0.302     0.0998\n"
          ]
        },
        {
          "name": "stderr",
          "output_type": "stream",
          "text": [
            "\n"
          ]
        },
        {
          "name": "stdout",
          "output_type": "stream",
          "text": [
            "Closing dataloader mosaic\n",
            "\u001b[34m\u001b[1malbumentations: \u001b[0mBlur(p=0.01, blur_limit=(3, 7)), MedianBlur(p=0.01, blur_limit=(3, 7)), ToGray(p=0.01, num_output_channels=3, method='weighted_average'), CLAHE(p=0.01, clip_limit=(1.0, 4.0), tile_grid_size=(8, 8))\n",
            "\n",
            "      Epoch    GPU_mem   box_loss   cls_loss   dfl_loss  Instances       Size\n"
          ]
        },
        {
          "name": "stderr",
          "output_type": "stream",
          "text": [
            "     91/100      0.83G      2.278      1.705      1.544       1015        256: 100%|██████████| 3/3 [00:01<00:00,  1.54it/s]\n",
            "                 Class     Images  Instances      Box(P          R      mAP50  mAP50-95): 100%|██████████| 1/1 [00:00<00:00,  1.20it/s]"
          ]
        },
        {
          "name": "stdout",
          "output_type": "stream",
          "text": [
            "                   all        110       1910       0.38       0.33      0.298      0.101\n"
          ]
        },
        {
          "name": "stderr",
          "output_type": "stream",
          "text": [
            "\n"
          ]
        },
        {
          "name": "stdout",
          "output_type": "stream",
          "text": [
            "\n",
            "      Epoch    GPU_mem   box_loss   cls_loss   dfl_loss  Instances       Size\n"
          ]
        },
        {
          "name": "stderr",
          "output_type": "stream",
          "text": [
            "     92/100     0.765G      2.213      1.595      1.517        932        256: 100%|██████████| 3/3 [00:00<00:00,  4.79it/s]\n",
            "                 Class     Images  Instances      Box(P          R      mAP50  mAP50-95): 100%|██████████| 1/1 [00:00<00:00,  1.80it/s]"
          ]
        },
        {
          "name": "stdout",
          "output_type": "stream",
          "text": [
            "                   all        110       1910      0.365      0.334      0.291     0.0974\n"
          ]
        },
        {
          "name": "stderr",
          "output_type": "stream",
          "text": [
            "\n"
          ]
        },
        {
          "name": "stdout",
          "output_type": "stream",
          "text": [
            "\n",
            "      Epoch    GPU_mem   box_loss   cls_loss   dfl_loss  Instances       Size\n"
          ]
        },
        {
          "name": "stderr",
          "output_type": "stream",
          "text": [
            "     93/100      0.78G      2.238      1.617      1.541        957        256: 100%|██████████| 3/3 [00:00<00:00,  4.72it/s]\n",
            "                 Class     Images  Instances      Box(P          R      mAP50  mAP50-95): 100%|██████████| 1/1 [00:00<00:00,  1.86it/s]"
          ]
        },
        {
          "name": "stdout",
          "output_type": "stream",
          "text": [
            "                   all        110       1910      0.361      0.326      0.285     0.0959\n"
          ]
        },
        {
          "name": "stderr",
          "output_type": "stream",
          "text": [
            "\n"
          ]
        },
        {
          "name": "stdout",
          "output_type": "stream",
          "text": [
            "\n",
            "      Epoch    GPU_mem   box_loss   cls_loss   dfl_loss  Instances       Size\n"
          ]
        },
        {
          "name": "stderr",
          "output_type": "stream",
          "text": [
            "     94/100      0.78G       2.18      1.587       1.53       1009        256: 100%|██████████| 3/3 [00:00<00:00,  4.74it/s]\n",
            "                 Class     Images  Instances      Box(P          R      mAP50  mAP50-95): 100%|██████████| 1/1 [00:00<00:00,  1.67it/s]"
          ]
        },
        {
          "name": "stdout",
          "output_type": "stream",
          "text": [
            "                   all        110       1910      0.372      0.338      0.292     0.0981\n"
          ]
        },
        {
          "name": "stderr",
          "output_type": "stream",
          "text": [
            "\n"
          ]
        },
        {
          "name": "stdout",
          "output_type": "stream",
          "text": [
            "\n",
            "      Epoch    GPU_mem   box_loss   cls_loss   dfl_loss  Instances       Size\n"
          ]
        },
        {
          "name": "stderr",
          "output_type": "stream",
          "text": [
            "     95/100     0.786G      2.203      1.565      1.542       1027        256: 100%|██████████| 3/3 [00:00<00:00,  3.79it/s]\n",
            "                 Class     Images  Instances      Box(P          R      mAP50  mAP50-95): 100%|██████████| 1/1 [00:00<00:00,  1.33it/s]"
          ]
        },
        {
          "name": "stdout",
          "output_type": "stream",
          "text": [
            "                   all        110       1910      0.375      0.334      0.295        0.1\n"
          ]
        },
        {
          "name": "stderr",
          "output_type": "stream",
          "text": [
            "\n"
          ]
        },
        {
          "name": "stdout",
          "output_type": "stream",
          "text": [
            "\n",
            "      Epoch    GPU_mem   box_loss   cls_loss   dfl_loss  Instances       Size\n"
          ]
        },
        {
          "name": "stderr",
          "output_type": "stream",
          "text": [
            "     96/100     0.759G      2.174      1.551      1.526       1087        256: 100%|██████████| 3/3 [00:00<00:00,  3.40it/s]\n",
            "                 Class     Images  Instances      Box(P          R      mAP50  mAP50-95): 100%|██████████| 1/1 [00:01<00:00,  1.01s/it]"
          ]
        },
        {
          "name": "stdout",
          "output_type": "stream",
          "text": [
            "                   all        110       1910      0.385      0.339      0.302      0.102\n"
          ]
        },
        {
          "name": "stderr",
          "output_type": "stream",
          "text": [
            "\n"
          ]
        },
        {
          "name": "stdout",
          "output_type": "stream",
          "text": [
            "\n",
            "      Epoch    GPU_mem   box_loss   cls_loss   dfl_loss  Instances       Size\n"
          ]
        },
        {
          "name": "stderr",
          "output_type": "stream",
          "text": [
            "     97/100     0.772G      2.179      1.545      1.524        977        256: 100%|██████████| 3/3 [00:00<00:00,  4.85it/s]\n",
            "                 Class     Images  Instances      Box(P          R      mAP50  mAP50-95): 100%|██████████| 1/1 [00:00<00:00,  1.81it/s]"
          ]
        },
        {
          "name": "stdout",
          "output_type": "stream",
          "text": [
            "                   all        110       1910      0.386      0.345      0.307      0.104\n"
          ]
        },
        {
          "name": "stderr",
          "output_type": "stream",
          "text": [
            "\n"
          ]
        },
        {
          "name": "stdout",
          "output_type": "stream",
          "text": [
            "\n",
            "      Epoch    GPU_mem   box_loss   cls_loss   dfl_loss  Instances       Size\n"
          ]
        },
        {
          "name": "stderr",
          "output_type": "stream",
          "text": [
            "     98/100     0.778G       2.22      1.553      1.535       1037        256: 100%|██████████| 3/3 [00:00<00:00,  4.59it/s]\n",
            "                 Class     Images  Instances      Box(P          R      mAP50  mAP50-95): 100%|██████████| 1/1 [00:00<00:00,  1.87it/s]"
          ]
        },
        {
          "name": "stdout",
          "output_type": "stream",
          "text": [
            "                   all        110       1910       0.38      0.343      0.307      0.103\n"
          ]
        },
        {
          "name": "stderr",
          "output_type": "stream",
          "text": [
            "\n"
          ]
        },
        {
          "name": "stdout",
          "output_type": "stream",
          "text": [
            "\n",
            "      Epoch    GPU_mem   box_loss   cls_loss   dfl_loss  Instances       Size\n"
          ]
        },
        {
          "name": "stderr",
          "output_type": "stream",
          "text": [
            "     99/100     0.824G      2.181      1.534      1.524       1052        256: 100%|██████████| 3/3 [00:00<00:00,  4.70it/s]\n",
            "                 Class     Images  Instances      Box(P          R      mAP50  mAP50-95): 100%|██████████| 1/1 [00:00<00:00,  1.71it/s]"
          ]
        },
        {
          "name": "stdout",
          "output_type": "stream",
          "text": [
            "                   all        110       1910      0.383       0.34      0.309      0.104\n"
          ]
        },
        {
          "name": "stderr",
          "output_type": "stream",
          "text": [
            "\n"
          ]
        },
        {
          "name": "stdout",
          "output_type": "stream",
          "text": [
            "\n",
            "      Epoch    GPU_mem   box_loss   cls_loss   dfl_loss  Instances       Size\n"
          ]
        },
        {
          "name": "stderr",
          "output_type": "stream",
          "text": [
            "    100/100     0.835G       2.15      1.533      1.504       1035        256: 100%|██████████| 3/3 [00:00<00:00,  4.88it/s]\n",
            "                 Class     Images  Instances      Box(P          R      mAP50  mAP50-95): 100%|██████████| 1/1 [00:00<00:00,  1.79it/s]"
          ]
        },
        {
          "name": "stdout",
          "output_type": "stream",
          "text": [
            "                   all        110       1910      0.381      0.349       0.31      0.105\n"
          ]
        },
        {
          "name": "stderr",
          "output_type": "stream",
          "text": [
            "\n"
          ]
        },
        {
          "name": "stdout",
          "output_type": "stream",
          "text": [
            "\n",
            "100 epochs completed in 0.060 hours.\n",
            "Optimizer stripped from runs/detect/train/weights/last.pt, 6.2MB\n",
            "Optimizer stripped from runs/detect/train/weights/best.pt, 6.2MB\n",
            "\n",
            "Validating runs/detect/train/weights/best.pt...\n",
            "Ultralytics 8.3.75 🚀 Python-3.11.11 torch-2.5.1+cu124 CUDA:0 (Tesla T4, 15095MiB)\n",
            "Model summary (fused): 168 layers, 3,005,843 parameters, 0 gradients, 8.1 GFLOPs\n"
          ]
        },
        {
          "name": "stderr",
          "output_type": "stream",
          "text": [
            "                 Class     Images  Instances      Box(P          R      mAP50  mAP50-95): 100%|██████████| 1/1 [00:00<00:00,  1.40it/s]\n"
          ]
        },
        {
          "name": "stdout",
          "output_type": "stream",
          "text": [
            "                   all        110       1910      0.376      0.349      0.309      0.105\n",
            "Speed: 0.0ms preprocess, 0.4ms inference, 0.0ms loss, 1.2ms postprocess per image\n",
            "Results saved to \u001b[1mruns/detect/train\u001b[0m\n"
          ]
        },
        {
          "data": {
            "text/plain": [
              "ultralytics.utils.metrics.DetMetrics object with attributes:\n",
              "\n",
              "ap_class_index: array([0])\n",
              "box: ultralytics.utils.metrics.Metric object\n",
              "confusion_matrix: <ultralytics.utils.metrics.ConfusionMatrix object at 0x782193c81450>\n",
              "curves: ['Precision-Recall(B)', 'F1-Confidence(B)', 'Precision-Confidence(B)', 'Recall-Confidence(B)']\n",
              "curves_results: [[array([          0,    0.001001,    0.002002,    0.003003,    0.004004,    0.005005,    0.006006,    0.007007,    0.008008,    0.009009,     0.01001,    0.011011,    0.012012,    0.013013,    0.014014,    0.015015,    0.016016,    0.017017,    0.018018,    0.019019,     0.02002,    0.021021,    0.022022,    0.023023,\n",
              "          0.024024,    0.025025,    0.026026,    0.027027,    0.028028,    0.029029,     0.03003,    0.031031,    0.032032,    0.033033,    0.034034,    0.035035,    0.036036,    0.037037,    0.038038,    0.039039,     0.04004,    0.041041,    0.042042,    0.043043,    0.044044,    0.045045,    0.046046,    0.047047,\n",
              "          0.048048,    0.049049,     0.05005,    0.051051,    0.052052,    0.053053,    0.054054,    0.055055,    0.056056,    0.057057,    0.058058,    0.059059,     0.06006,    0.061061,    0.062062,    0.063063,    0.064064,    0.065065,    0.066066,    0.067067,    0.068068,    0.069069,     0.07007,    0.071071,\n",
              "          0.072072,    0.073073,    0.074074,    0.075075,    0.076076,    0.077077,    0.078078,    0.079079,     0.08008,    0.081081,    0.082082,    0.083083,    0.084084,    0.085085,    0.086086,    0.087087,    0.088088,    0.089089,     0.09009,    0.091091,    0.092092,    0.093093,    0.094094,    0.095095,\n",
              "          0.096096,    0.097097,    0.098098,    0.099099,      0.1001,      0.1011,      0.1021,      0.1031,      0.1041,     0.10511,     0.10611,     0.10711,     0.10811,     0.10911,     0.11011,     0.11111,     0.11211,     0.11311,     0.11411,     0.11512,     0.11612,     0.11712,     0.11812,     0.11912,\n",
              "           0.12012,     0.12112,     0.12212,     0.12312,     0.12412,     0.12513,     0.12613,     0.12713,     0.12813,     0.12913,     0.13013,     0.13113,     0.13213,     0.13313,     0.13413,     0.13514,     0.13614,     0.13714,     0.13814,     0.13914,     0.14014,     0.14114,     0.14214,     0.14314,\n",
              "           0.14414,     0.14515,     0.14615,     0.14715,     0.14815,     0.14915,     0.15015,     0.15115,     0.15215,     0.15315,     0.15415,     0.15516,     0.15616,     0.15716,     0.15816,     0.15916,     0.16016,     0.16116,     0.16216,     0.16316,     0.16416,     0.16517,     0.16617,     0.16717,\n",
              "           0.16817,     0.16917,     0.17017,     0.17117,     0.17217,     0.17317,     0.17417,     0.17518,     0.17618,     0.17718,     0.17818,     0.17918,     0.18018,     0.18118,     0.18218,     0.18318,     0.18418,     0.18519,     0.18619,     0.18719,     0.18819,     0.18919,     0.19019,     0.19119,\n",
              "           0.19219,     0.19319,     0.19419,      0.1952,      0.1962,      0.1972,      0.1982,      0.1992,      0.2002,      0.2012,      0.2022,      0.2032,      0.2042,     0.20521,     0.20621,     0.20721,     0.20821,     0.20921,     0.21021,     0.21121,     0.21221,     0.21321,     0.21421,     0.21522,\n",
              "           0.21622,     0.21722,     0.21822,     0.21922,     0.22022,     0.22122,     0.22222,     0.22322,     0.22422,     0.22523,     0.22623,     0.22723,     0.22823,     0.22923,     0.23023,     0.23123,     0.23223,     0.23323,     0.23423,     0.23524,     0.23624,     0.23724,     0.23824,     0.23924,\n",
              "           0.24024,     0.24124,     0.24224,     0.24324,     0.24424,     0.24525,     0.24625,     0.24725,     0.24825,     0.24925,     0.25025,     0.25125,     0.25225,     0.25325,     0.25425,     0.25526,     0.25626,     0.25726,     0.25826,     0.25926,     0.26026,     0.26126,     0.26226,     0.26326,\n",
              "           0.26426,     0.26527,     0.26627,     0.26727,     0.26827,     0.26927,     0.27027,     0.27127,     0.27227,     0.27327,     0.27427,     0.27528,     0.27628,     0.27728,     0.27828,     0.27928,     0.28028,     0.28128,     0.28228,     0.28328,     0.28428,     0.28529,     0.28629,     0.28729,\n",
              "           0.28829,     0.28929,     0.29029,     0.29129,     0.29229,     0.29329,     0.29429,      0.2953,      0.2963,      0.2973,      0.2983,      0.2993,      0.3003,      0.3013,      0.3023,      0.3033,      0.3043,     0.30531,     0.30631,     0.30731,     0.30831,     0.30931,     0.31031,     0.31131,\n",
              "           0.31231,     0.31331,     0.31431,     0.31532,     0.31632,     0.31732,     0.31832,     0.31932,     0.32032,     0.32132,     0.32232,     0.32332,     0.32432,     0.32533,     0.32633,     0.32733,     0.32833,     0.32933,     0.33033,     0.33133,     0.33233,     0.33333,     0.33433,     0.33534,\n",
              "           0.33634,     0.33734,     0.33834,     0.33934,     0.34034,     0.34134,     0.34234,     0.34334,     0.34434,     0.34535,     0.34635,     0.34735,     0.34835,     0.34935,     0.35035,     0.35135,     0.35235,     0.35335,     0.35435,     0.35536,     0.35636,     0.35736,     0.35836,     0.35936,\n",
              "           0.36036,     0.36136,     0.36236,     0.36336,     0.36436,     0.36537,     0.36637,     0.36737,     0.36837,     0.36937,     0.37037,     0.37137,     0.37237,     0.37337,     0.37437,     0.37538,     0.37638,     0.37738,     0.37838,     0.37938,     0.38038,     0.38138,     0.38238,     0.38338,\n",
              "           0.38438,     0.38539,     0.38639,     0.38739,     0.38839,     0.38939,     0.39039,     0.39139,     0.39239,     0.39339,     0.39439,      0.3954,      0.3964,      0.3974,      0.3984,      0.3994,      0.4004,      0.4014,      0.4024,      0.4034,      0.4044,     0.40541,     0.40641,     0.40741,\n",
              "           0.40841,     0.40941,     0.41041,     0.41141,     0.41241,     0.41341,     0.41441,     0.41542,     0.41642,     0.41742,     0.41842,     0.41942,     0.42042,     0.42142,     0.42242,     0.42342,     0.42442,     0.42543,     0.42643,     0.42743,     0.42843,     0.42943,     0.43043,     0.43143,\n",
              "           0.43243,     0.43343,     0.43443,     0.43544,     0.43644,     0.43744,     0.43844,     0.43944,     0.44044,     0.44144,     0.44244,     0.44344,     0.44444,     0.44545,     0.44645,     0.44745,     0.44845,     0.44945,     0.45045,     0.45145,     0.45245,     0.45345,     0.45445,     0.45546,\n",
              "           0.45646,     0.45746,     0.45846,     0.45946,     0.46046,     0.46146,     0.46246,     0.46346,     0.46446,     0.46547,     0.46647,     0.46747,     0.46847,     0.46947,     0.47047,     0.47147,     0.47247,     0.47347,     0.47447,     0.47548,     0.47648,     0.47748,     0.47848,     0.47948,\n",
              "           0.48048,     0.48148,     0.48248,     0.48348,     0.48448,     0.48549,     0.48649,     0.48749,     0.48849,     0.48949,     0.49049,     0.49149,     0.49249,     0.49349,     0.49449,      0.4955,      0.4965,      0.4975,      0.4985,      0.4995,      0.5005,      0.5015,      0.5025,      0.5035,\n",
              "            0.5045,     0.50551,     0.50651,     0.50751,     0.50851,     0.50951,     0.51051,     0.51151,     0.51251,     0.51351,     0.51451,     0.51552,     0.51652,     0.51752,     0.51852,     0.51952,     0.52052,     0.52152,     0.52252,     0.52352,     0.52452,     0.52553,     0.52653,     0.52753,\n",
              "           0.52853,     0.52953,     0.53053,     0.53153,     0.53253,     0.53353,     0.53453,     0.53554,     0.53654,     0.53754,     0.53854,     0.53954,     0.54054,     0.54154,     0.54254,     0.54354,     0.54454,     0.54555,     0.54655,     0.54755,     0.54855,     0.54955,     0.55055,     0.55155,\n",
              "           0.55255,     0.55355,     0.55455,     0.55556,     0.55656,     0.55756,     0.55856,     0.55956,     0.56056,     0.56156,     0.56256,     0.56356,     0.56456,     0.56557,     0.56657,     0.56757,     0.56857,     0.56957,     0.57057,     0.57157,     0.57257,     0.57357,     0.57457,     0.57558,\n",
              "           0.57658,     0.57758,     0.57858,     0.57958,     0.58058,     0.58158,     0.58258,     0.58358,     0.58458,     0.58559,     0.58659,     0.58759,     0.58859,     0.58959,     0.59059,     0.59159,     0.59259,     0.59359,     0.59459,      0.5956,      0.5966,      0.5976,      0.5986,      0.5996,\n",
              "            0.6006,      0.6016,      0.6026,      0.6036,      0.6046,     0.60561,     0.60661,     0.60761,     0.60861,     0.60961,     0.61061,     0.61161,     0.61261,     0.61361,     0.61461,     0.61562,     0.61662,     0.61762,     0.61862,     0.61962,     0.62062,     0.62162,     0.62262,     0.62362,\n",
              "           0.62462,     0.62563,     0.62663,     0.62763,     0.62863,     0.62963,     0.63063,     0.63163,     0.63263,     0.63363,     0.63463,     0.63564,     0.63664,     0.63764,     0.63864,     0.63964,     0.64064,     0.64164,     0.64264,     0.64364,     0.64464,     0.64565,     0.64665,     0.64765,\n",
              "           0.64865,     0.64965,     0.65065,     0.65165,     0.65265,     0.65365,     0.65465,     0.65566,     0.65666,     0.65766,     0.65866,     0.65966,     0.66066,     0.66166,     0.66266,     0.66366,     0.66466,     0.66567,     0.66667,     0.66767,     0.66867,     0.66967,     0.67067,     0.67167,\n",
              "           0.67267,     0.67367,     0.67467,     0.67568,     0.67668,     0.67768,     0.67868,     0.67968,     0.68068,     0.68168,     0.68268,     0.68368,     0.68468,     0.68569,     0.68669,     0.68769,     0.68869,     0.68969,     0.69069,     0.69169,     0.69269,     0.69369,     0.69469,      0.6957,\n",
              "            0.6967,      0.6977,      0.6987,      0.6997,      0.7007,      0.7017,      0.7027,      0.7037,      0.7047,     0.70571,     0.70671,     0.70771,     0.70871,     0.70971,     0.71071,     0.71171,     0.71271,     0.71371,     0.71471,     0.71572,     0.71672,     0.71772,     0.71872,     0.71972,\n",
              "           0.72072,     0.72172,     0.72272,     0.72372,     0.72472,     0.72573,     0.72673,     0.72773,     0.72873,     0.72973,     0.73073,     0.73173,     0.73273,     0.73373,     0.73473,     0.73574,     0.73674,     0.73774,     0.73874,     0.73974,     0.74074,     0.74174,     0.74274,     0.74374,\n",
              "           0.74474,     0.74575,     0.74675,     0.74775,     0.74875,     0.74975,     0.75075,     0.75175,     0.75275,     0.75375,     0.75475,     0.75576,     0.75676,     0.75776,     0.75876,     0.75976,     0.76076,     0.76176,     0.76276,     0.76376,     0.76476,     0.76577,     0.76677,     0.76777,\n",
              "           0.76877,     0.76977,     0.77077,     0.77177,     0.77277,     0.77377,     0.77477,     0.77578,     0.77678,     0.77778,     0.77878,     0.77978,     0.78078,     0.78178,     0.78278,     0.78378,     0.78478,     0.78579,     0.78679,     0.78779,     0.78879,     0.78979,     0.79079,     0.79179,\n",
              "           0.79279,     0.79379,     0.79479,      0.7958,      0.7968,      0.7978,      0.7988,      0.7998,      0.8008,      0.8018,      0.8028,      0.8038,      0.8048,     0.80581,     0.80681,     0.80781,     0.80881,     0.80981,     0.81081,     0.81181,     0.81281,     0.81381,     0.81481,     0.81582,\n",
              "           0.81682,     0.81782,     0.81882,     0.81982,     0.82082,     0.82182,     0.82282,     0.82382,     0.82482,     0.82583,     0.82683,     0.82783,     0.82883,     0.82983,     0.83083,     0.83183,     0.83283,     0.83383,     0.83483,     0.83584,     0.83684,     0.83784,     0.83884,     0.83984,\n",
              "           0.84084,     0.84184,     0.84284,     0.84384,     0.84484,     0.84585,     0.84685,     0.84785,     0.84885,     0.84985,     0.85085,     0.85185,     0.85285,     0.85385,     0.85485,     0.85586,     0.85686,     0.85786,     0.85886,     0.85986,     0.86086,     0.86186,     0.86286,     0.86386,\n",
              "           0.86486,     0.86587,     0.86687,     0.86787,     0.86887,     0.86987,     0.87087,     0.87187,     0.87287,     0.87387,     0.87487,     0.87588,     0.87688,     0.87788,     0.87888,     0.87988,     0.88088,     0.88188,     0.88288,     0.88388,     0.88488,     0.88589,     0.88689,     0.88789,\n",
              "           0.88889,     0.88989,     0.89089,     0.89189,     0.89289,     0.89389,     0.89489,      0.8959,      0.8969,      0.8979,      0.8989,      0.8999,      0.9009,      0.9019,      0.9029,      0.9039,      0.9049,     0.90591,     0.90691,     0.90791,     0.90891,     0.90991,     0.91091,     0.91191,\n",
              "           0.91291,     0.91391,     0.91491,     0.91592,     0.91692,     0.91792,     0.91892,     0.91992,     0.92092,     0.92192,     0.92292,     0.92392,     0.92492,     0.92593,     0.92693,     0.92793,     0.92893,     0.92993,     0.93093,     0.93193,     0.93293,     0.93393,     0.93493,     0.93594,\n",
              "           0.93694,     0.93794,     0.93894,     0.93994,     0.94094,     0.94194,     0.94294,     0.94394,     0.94494,     0.94595,     0.94695,     0.94795,     0.94895,     0.94995,     0.95095,     0.95195,     0.95295,     0.95395,     0.95495,     0.95596,     0.95696,     0.95796,     0.95896,     0.95996,\n",
              "           0.96096,     0.96196,     0.96296,     0.96396,     0.96496,     0.96597,     0.96697,     0.96797,     0.96897,     0.96997,     0.97097,     0.97197,     0.97297,     0.97397,     0.97497,     0.97598,     0.97698,     0.97798,     0.97898,     0.97998,     0.98098,     0.98198,     0.98298,     0.98398,\n",
              "           0.98498,     0.98599,     0.98699,     0.98799,     0.98899,     0.98999,     0.99099,     0.99199,     0.99299,     0.99399,     0.99499,       0.996,       0.997,       0.998,       0.999,           1]), array([[          1,           1,           1,           1,           1,           1,           1,           1,           1,     0.91176,     0.91176,     0.91176,     0.91176,     0.91176,     0.91176,     0.91176,     0.91176,         0.9,         0.9,         0.9,         0.9,         0.9,         0.9,\n",
              "                0.9,     0.89091,     0.89091,     0.87719,     0.82812,      0.8209,      0.8169,      0.8169,     0.81333,      0.7957,      0.7957,      0.7957,      0.7957,      0.7957,      0.7957,      0.7957,     0.79464,     0.79464,     0.79464,     0.79464,     0.79464,     0.79464,     0.79464,\n",
              "            0.79464,     0.78947,     0.78462,     0.78462,     0.78462,     0.78462,     0.78462,     0.78462,     0.78261,     0.78261,     0.78261,     0.77857,     0.77181,     0.77181,     0.77181,     0.75949,     0.75949,     0.75776,      0.7561,        0.75,        0.75,        0.75,        0.75,\n",
              "               0.75,     0.74863,     0.74863,     0.74731,     0.74178,     0.74178,     0.74178,     0.74178,     0.74178,     0.74178,     0.74178,     0.74178,     0.74178,     0.74178,     0.73953,     0.73571,     0.73571,     0.73571,     0.73571,     0.73571,     0.73571,     0.73571,     0.73571,\n",
              "            0.73571,     0.73571,     0.73571,     0.73571,     0.73571,     0.73571,     0.73571,     0.73571,     0.73571,     0.73571,     0.73571,     0.73571,     0.73571,     0.73571,     0.73571,     0.73571,     0.73404,     0.73333,     0.72945,     0.72945,     0.72819,     0.72819,     0.72667,\n",
              "            0.72436,     0.72436,     0.72436,     0.72436,     0.71698,      0.7037,      0.7037,      0.7037,      0.7037,      0.7037,      0.7037,      0.7037,      0.7037,      0.7037,      0.7037,     0.70339,     0.70112,     0.69972,     0.69945,     0.69919,     0.69811,     0.69029,     0.69029,\n",
              "             0.6875,      0.6791,      0.6791,      0.6791,      0.6791,     0.67402,     0.67153,     0.66746,     0.66746,     0.66589,     0.66589,     0.66589,     0.66589,     0.65237,     0.65179,     0.65111,     0.64488,      0.6444,      0.6444,     0.64375,     0.64375,     0.64375,     0.64375,\n",
              "            0.64375,     0.64315,     0.64271,     0.64213,      0.6371,     0.63366,     0.63366,     0.63261,     0.63218,     0.63218,     0.63218,     0.63218,     0.63168,     0.62594,      0.6205,      0.6205,      0.6205,      0.6205,      0.6205,      0.6205,     0.61964,     0.61922,     0.61837,\n",
              "            0.61324,     0.61246,     0.61168,     0.60988,      0.6084,      0.6084,     0.60265,     0.59967,     0.59612,     0.59612,     0.59459,     0.59459,     0.59429,     0.58906,     0.58578,     0.58258,     0.58258,     0.58258,     0.58258,     0.57801,     0.57205,     0.57205,     0.56897,\n",
              "            0.56897,     0.56615,     0.56338,     0.56077,     0.56077,     0.56077,     0.55571,     0.55466,     0.55451,     0.54993,     0.54712,     0.54712,     0.54628,     0.53442,     0.53442,     0.53442,     0.53442,     0.53374,     0.53374,     0.53374,     0.53374,     0.53358,     0.53133,\n",
              "            0.53133,     0.53125,     0.52859,     0.52859,     0.52859,     0.52859,     0.52859,     0.52787,     0.52787,     0.52787,     0.52787,     0.52787,     0.52787,     0.52602,      0.5259,     0.52212,     0.52212,      0.5215,     0.51407,     0.51016,     0.50795,     0.50473,     0.50156,\n",
              "            0.50155,     0.49846,     0.49695,     0.49546,     0.49401,     0.49401,     0.49255,     0.49211,     0.49022,     0.49022,      0.4893,     0.48842,     0.48799,     0.48755,     0.48667,     0.48124,     0.48089,     0.48052,      0.4775,     0.47112,     0.47112,      0.4708,     0.47048,\n",
              "            0.46897,     0.46861,     0.46475,     0.46475,     0.46413,     0.46141,     0.45879,     0.45432,     0.45401,     0.45124,     0.45021,     0.44526,     0.44355,     0.44355,     0.44295,     0.44295,     0.44295,     0.43862,     0.43721,     0.43562,     0.43505,     0.43359,     0.43182,\n",
              "             0.4317,     0.43016,     0.43016,     0.43016,     0.42773,     0.42637,     0.42566,     0.42413,     0.42413,     0.42222,     0.41926,     0.41908,     0.41901,     0.41534,     0.41534,     0.41534,     0.41144,     0.41105,     0.41105,     0.41105,     0.41105,       0.408,     0.40539,\n",
              "            0.40539,     0.40313,     0.40312,     0.40155,     0.40129,     0.39898,     0.39472,     0.39375,     0.39339,     0.39244,     0.39198,     0.39024,     0.39024,      0.3899,     0.38979,     0.38979,     0.38979,     0.38979,     0.38717,     0.38717,     0.38664,     0.38664,     0.38664,\n",
              "            0.38664,     0.38524,       0.379,     0.37627,     0.37591,     0.37333,     0.37333,     0.37245,     0.37245,     0.37232,     0.37205,     0.37112,     0.36808,     0.36808,     0.36718,     0.36532,     0.36359,     0.36359,     0.36231,     0.36231,     0.36097,     0.36097,     0.36093,\n",
              "             0.3601,     0.35947,      0.3583,     0.35783,     0.35686,     0.35466,     0.35463,     0.35457,     0.35332,     0.35257,      0.3508,     0.34957,     0.34902,     0.34807,     0.34807,     0.34641,     0.34539,     0.34422,     0.34422,     0.34211,     0.34162,     0.34113,     0.34079,\n",
              "            0.33985,     0.33541,     0.33541,     0.33466,     0.33436,     0.33436,      0.3326,     0.33173,     0.33045,     0.33017,     0.32975,      0.3292,     0.32907,     0.32824,     0.32687,       0.325,       0.325,     0.32436,     0.32436,     0.32423,     0.32386,     0.32361,     0.32075,\n",
              "            0.31976,     0.31421,     0.31277,     0.31111,      0.3071,     0.30413,     0.30389,     0.30389,     0.30384,     0.30356,     0.30182,     0.30078,     0.29865,     0.29865,     0.29865,     0.29865,      0.2984,      0.2958,     0.29532,     0.29381,     0.29381,     0.29224,     0.29221,\n",
              "            0.29221,     0.29172,     0.28954,     0.28954,     0.28954,     0.28954,     0.28954,     0.28954,     0.28954,     0.28954,     0.28954,     0.28831,     0.28816,     0.28815,     0.28748,     0.28699,     0.28576,     0.28576,     0.28497,     0.28409,     0.28257,     0.28095,     0.27861,\n",
              "            0.27778,     0.27537,      0.2747,     0.27161,     0.27057,     0.27011,     0.26865,     0.26865,     0.26621,     0.26615,     0.26604,     0.26602,     0.26586,     0.26586,     0.26359,     0.26211,     0.26021,     0.25983,     0.25921,     0.25898,     0.25736,      0.2569,     0.25688,\n",
              "            0.25688,     0.25687,     0.25286,     0.25258,     0.25141,     0.25141,     0.25141,        0.25,     0.24776,     0.24705,      0.2466,     0.24655,     0.24597,     0.24471,      0.2432,      0.2432,      0.2432,      0.2432,     0.24285,     0.24285,     0.24207,     0.24137,     0.23942,\n",
              "            0.23825,     0.23798,     0.23541,     0.23527,     0.23512,      0.2351,     0.23483,     0.23257,     0.23244,     0.23073,     0.22932,     0.22911,     0.22903,      0.2263,     0.22359,     0.22359,     0.22359,     0.22356,     0.22262,     0.22049,     0.22016,     0.22007,       0.219,\n",
              "              0.219,     0.21732,     0.21524,     0.21477,     0.21424,       0.214,     0.20984,     0.20974,     0.20929,     0.20813,      0.2074,     0.20619,     0.20552,     0.20485,     0.20401,       0.201,     0.20081,     0.20054,     0.20054,     0.20042,     0.19958,     0.19917,     0.19883,\n",
              "            0.19876,      0.1972,      0.1967,      0.1967,     0.19664,     0.19664,     0.19596,     0.19547,     0.19431,     0.19431,     0.19118,     0.19089,     0.19033,     0.18989,     0.18944,     0.18912,     0.18903,     0.18772,     0.18636,     0.18616,      0.1854,     0.18489,      0.1846,\n",
              "            0.18324,     0.18292,     0.18281,     0.18275,     0.18248,     0.18248,     0.18219,     0.18026,     0.18016,     0.17917,     0.17801,     0.17568,      0.1755,     0.17491,     0.17442,     0.17428,     0.17297,     0.17157,     0.16999,     0.16835,     0.16679,     0.16652,     0.16606,\n",
              "            0.16577,     0.16496,     0.16492,     0.16419,     0.16419,     0.16162,      0.1614,     0.15996,      0.1589,       0.158,       0.158,     0.15709,     0.15637,     0.15564,     0.15541,     0.15475,     0.15373,     0.15263,     0.15077,     0.15053,     0.14956,     0.14925,      0.1479,\n",
              "            0.14783,     0.14715,     0.14698,     0.14563,     0.14524,     0.14505,     0.14505,     0.14473,     0.14332,     0.14325,     0.14325,     0.14325,     0.14294,     0.14138,     0.14099,     0.14099,     0.14099,     0.13967,      0.1378,     0.13614,     0.13557,     0.13484,     0.13447,\n",
              "            0.13421,     0.13404,     0.13403,     0.13333,     0.13256,     0.13256,     0.13256,     0.13098,     0.13096,     0.12973,     0.12804,     0.12804,     0.12772,      0.1276,     0.12731,     0.12731,     0.12726,     0.12688,     0.12688,     0.12688,     0.12603,     0.12516,     0.12468,\n",
              "            0.12456,      0.1241,     0.12374,     0.12374,     0.12206,     0.12059,     0.11989,     0.11948,     0.11905,     0.11898,     0.11732,     0.11588,     0.11575,     0.11548,     0.11548,     0.11506,     0.11399,     0.11335,     0.11323,      0.1127,     0.11169,     0.11075,     0.11075,\n",
              "            0.11065,     0.11021,     0.10989,     0.10976,     0.10958,     0.10936,     0.10902,     0.10851,     0.10773,     0.10741,     0.10698,     0.10553,     0.10479,     0.10438,     0.10297,     0.10203,     0.10169,     0.10107,     0.10065,    0.099545,    0.099103,    0.097962,    0.097399,\n",
              "           0.097179,    0.096694,    0.096488,    0.096239,    0.095914,      0.0958,    0.095752,    0.095638,    0.095638,    0.094881,    0.094669,    0.094669,    0.094669,    0.093908,    0.093464,    0.092516,    0.090192,    0.089151,    0.088593,    0.088095,    0.087658,     0.08687,    0.086763,\n",
              "           0.086079,    0.085558,    0.085329,    0.084946,    0.083827,    0.082667,    0.082151,    0.081126,    0.080806,    0.080545,    0.079783,    0.078258,    0.077448,    0.077109,    0.076997,    0.076367,    0.075217,    0.074906,    0.074534,    0.074082,    0.073821,     0.07209,    0.071782,\n",
              "           0.071658,    0.071408,    0.071076,    0.070536,    0.070097,    0.069261,    0.068231,    0.067884,    0.067619,     0.06677,    0.066661,    0.066283,    0.065892,    0.065606,     0.06487,     0.06324,    0.063018,    0.061924,    0.061037,    0.060133,    0.059909,     0.05857,    0.058339,\n",
              "           0.056607,     0.05556,    0.052912,    0.051575,    0.048972,    0.045749,    0.045533,    0.045317,    0.045102,    0.044886,     0.04467,    0.044454,    0.044238,    0.044023,    0.043807,    0.043591,    0.043375,    0.043159,    0.042944,    0.042728,    0.042512,    0.042296,     0.04208,\n",
              "           0.041865,    0.041649,    0.041433,    0.041217,    0.041001,    0.040786,     0.04057,    0.040354,    0.040138,    0.039922,    0.039707,    0.039491,    0.039275,    0.039059,    0.038843,    0.038628,    0.038412,    0.038196,     0.03798,    0.037765,    0.037549,    0.037333,    0.037117,\n",
              "           0.036901,    0.036686,     0.03647,    0.036254,    0.036038,    0.035822,    0.035607,    0.035391,    0.035175,    0.034959,    0.034743,    0.034528,    0.034312,    0.034096,     0.03388,    0.033664,    0.033449,    0.033233,    0.033017,    0.032801,    0.032585,     0.03237,    0.032154,\n",
              "           0.031938,    0.031722,    0.031506,    0.031291,    0.031075,    0.030859,    0.030643,    0.030427,    0.030212,    0.029996,     0.02978,    0.029564,    0.029348,    0.029133,    0.028917,    0.028701,    0.028485,    0.028269,    0.028054,    0.027838,    0.027622,    0.027406,     0.02719,\n",
              "           0.026975,    0.026759,    0.026543,    0.026327,    0.026111,    0.025896,     0.02568,    0.025464,    0.025248,    0.025032,    0.024817,    0.024601,    0.024385,    0.024169,    0.023953,    0.023738,    0.023522,    0.023306,     0.02309,    0.022874,    0.022659,    0.022443,    0.022227,\n",
              "           0.022011,    0.021796,     0.02158,    0.021364,    0.021148,    0.020932,    0.020717,    0.020501,    0.020285,    0.020069,    0.019853,    0.019638,    0.019422,    0.019206,     0.01899,    0.018774,    0.018559,    0.018343,    0.018127,    0.017911,    0.017695,     0.01748,    0.017264,\n",
              "           0.017048,    0.016832,    0.016616,    0.016401,    0.016185,    0.015969,    0.015753,    0.015537,    0.015322,    0.015106,     0.01489,    0.014674,    0.014458,    0.014243,    0.014027,    0.013811,    0.013595,    0.013379,    0.013164,    0.012948,    0.012732,    0.012516,      0.0123,\n",
              "           0.012085,    0.011869,    0.011653,    0.011437,    0.011221,    0.011006,     0.01079,    0.010574,    0.010358,    0.010142,   0.0099267,   0.0097109,   0.0094951,   0.0092793,   0.0090635,   0.0088477,   0.0086319,   0.0084161,   0.0082003,   0.0079845,   0.0077687,   0.0075529,   0.0073371,\n",
              "          0.0071213,   0.0069055,   0.0066897,   0.0064739,   0.0062581,   0.0060423,   0.0058265,   0.0056107,   0.0053949,   0.0051791,   0.0049633,   0.0047475,   0.0045317,   0.0043159,   0.0041001,   0.0038843,   0.0036686,   0.0034528,    0.003237,   0.0030212,   0.0028054,   0.0025896,   0.0023738,\n",
              "           0.002158,   0.0019422,   0.0017264,   0.0015106,   0.0012948,    0.001079,  0.00086319,  0.00064739,  0.00043159,   0.0002158,           0]]), 'Recall', 'Precision'], [array([          0,    0.001001,    0.002002,    0.003003,    0.004004,    0.005005,    0.006006,    0.007007,    0.008008,    0.009009,     0.01001,    0.011011,    0.012012,    0.013013,    0.014014,    0.015015,    0.016016,    0.017017,    0.018018,    0.019019,     0.02002,    0.021021,    0.022022,    0.023023,\n",
              "          0.024024,    0.025025,    0.026026,    0.027027,    0.028028,    0.029029,     0.03003,    0.031031,    0.032032,    0.033033,    0.034034,    0.035035,    0.036036,    0.037037,    0.038038,    0.039039,     0.04004,    0.041041,    0.042042,    0.043043,    0.044044,    0.045045,    0.046046,    0.047047,\n",
              "          0.048048,    0.049049,     0.05005,    0.051051,    0.052052,    0.053053,    0.054054,    0.055055,    0.056056,    0.057057,    0.058058,    0.059059,     0.06006,    0.061061,    0.062062,    0.063063,    0.064064,    0.065065,    0.066066,    0.067067,    0.068068,    0.069069,     0.07007,    0.071071,\n",
              "          0.072072,    0.073073,    0.074074,    0.075075,    0.076076,    0.077077,    0.078078,    0.079079,     0.08008,    0.081081,    0.082082,    0.083083,    0.084084,    0.085085,    0.086086,    0.087087,    0.088088,    0.089089,     0.09009,    0.091091,    0.092092,    0.093093,    0.094094,    0.095095,\n",
              "          0.096096,    0.097097,    0.098098,    0.099099,      0.1001,      0.1011,      0.1021,      0.1031,      0.1041,     0.10511,     0.10611,     0.10711,     0.10811,     0.10911,     0.11011,     0.11111,     0.11211,     0.11311,     0.11411,     0.11512,     0.11612,     0.11712,     0.11812,     0.11912,\n",
              "           0.12012,     0.12112,     0.12212,     0.12312,     0.12412,     0.12513,     0.12613,     0.12713,     0.12813,     0.12913,     0.13013,     0.13113,     0.13213,     0.13313,     0.13413,     0.13514,     0.13614,     0.13714,     0.13814,     0.13914,     0.14014,     0.14114,     0.14214,     0.14314,\n",
              "           0.14414,     0.14515,     0.14615,     0.14715,     0.14815,     0.14915,     0.15015,     0.15115,     0.15215,     0.15315,     0.15415,     0.15516,     0.15616,     0.15716,     0.15816,     0.15916,     0.16016,     0.16116,     0.16216,     0.16316,     0.16416,     0.16517,     0.16617,     0.16717,\n",
              "           0.16817,     0.16917,     0.17017,     0.17117,     0.17217,     0.17317,     0.17417,     0.17518,     0.17618,     0.17718,     0.17818,     0.17918,     0.18018,     0.18118,     0.18218,     0.18318,     0.18418,     0.18519,     0.18619,     0.18719,     0.18819,     0.18919,     0.19019,     0.19119,\n",
              "           0.19219,     0.19319,     0.19419,      0.1952,      0.1962,      0.1972,      0.1982,      0.1992,      0.2002,      0.2012,      0.2022,      0.2032,      0.2042,     0.20521,     0.20621,     0.20721,     0.20821,     0.20921,     0.21021,     0.21121,     0.21221,     0.21321,     0.21421,     0.21522,\n",
              "           0.21622,     0.21722,     0.21822,     0.21922,     0.22022,     0.22122,     0.22222,     0.22322,     0.22422,     0.22523,     0.22623,     0.22723,     0.22823,     0.22923,     0.23023,     0.23123,     0.23223,     0.23323,     0.23423,     0.23524,     0.23624,     0.23724,     0.23824,     0.23924,\n",
              "           0.24024,     0.24124,     0.24224,     0.24324,     0.24424,     0.24525,     0.24625,     0.24725,     0.24825,     0.24925,     0.25025,     0.25125,     0.25225,     0.25325,     0.25425,     0.25526,     0.25626,     0.25726,     0.25826,     0.25926,     0.26026,     0.26126,     0.26226,     0.26326,\n",
              "           0.26426,     0.26527,     0.26627,     0.26727,     0.26827,     0.26927,     0.27027,     0.27127,     0.27227,     0.27327,     0.27427,     0.27528,     0.27628,     0.27728,     0.27828,     0.27928,     0.28028,     0.28128,     0.28228,     0.28328,     0.28428,     0.28529,     0.28629,     0.28729,\n",
              "           0.28829,     0.28929,     0.29029,     0.29129,     0.29229,     0.29329,     0.29429,      0.2953,      0.2963,      0.2973,      0.2983,      0.2993,      0.3003,      0.3013,      0.3023,      0.3033,      0.3043,     0.30531,     0.30631,     0.30731,     0.30831,     0.30931,     0.31031,     0.31131,\n",
              "           0.31231,     0.31331,     0.31431,     0.31532,     0.31632,     0.31732,     0.31832,     0.31932,     0.32032,     0.32132,     0.32232,     0.32332,     0.32432,     0.32533,     0.32633,     0.32733,     0.32833,     0.32933,     0.33033,     0.33133,     0.33233,     0.33333,     0.33433,     0.33534,\n",
              "           0.33634,     0.33734,     0.33834,     0.33934,     0.34034,     0.34134,     0.34234,     0.34334,     0.34434,     0.34535,     0.34635,     0.34735,     0.34835,     0.34935,     0.35035,     0.35135,     0.35235,     0.35335,     0.35435,     0.35536,     0.35636,     0.35736,     0.35836,     0.35936,\n",
              "           0.36036,     0.36136,     0.36236,     0.36336,     0.36436,     0.36537,     0.36637,     0.36737,     0.36837,     0.36937,     0.37037,     0.37137,     0.37237,     0.37337,     0.37437,     0.37538,     0.37638,     0.37738,     0.37838,     0.37938,     0.38038,     0.38138,     0.38238,     0.38338,\n",
              "           0.38438,     0.38539,     0.38639,     0.38739,     0.38839,     0.38939,     0.39039,     0.39139,     0.39239,     0.39339,     0.39439,      0.3954,      0.3964,      0.3974,      0.3984,      0.3994,      0.4004,      0.4014,      0.4024,      0.4034,      0.4044,     0.40541,     0.40641,     0.40741,\n",
              "           0.40841,     0.40941,     0.41041,     0.41141,     0.41241,     0.41341,     0.41441,     0.41542,     0.41642,     0.41742,     0.41842,     0.41942,     0.42042,     0.42142,     0.42242,     0.42342,     0.42442,     0.42543,     0.42643,     0.42743,     0.42843,     0.42943,     0.43043,     0.43143,\n",
              "           0.43243,     0.43343,     0.43443,     0.43544,     0.43644,     0.43744,     0.43844,     0.43944,     0.44044,     0.44144,     0.44244,     0.44344,     0.44444,     0.44545,     0.44645,     0.44745,     0.44845,     0.44945,     0.45045,     0.45145,     0.45245,     0.45345,     0.45445,     0.45546,\n",
              "           0.45646,     0.45746,     0.45846,     0.45946,     0.46046,     0.46146,     0.46246,     0.46346,     0.46446,     0.46547,     0.46647,     0.46747,     0.46847,     0.46947,     0.47047,     0.47147,     0.47247,     0.47347,     0.47447,     0.47548,     0.47648,     0.47748,     0.47848,     0.47948,\n",
              "           0.48048,     0.48148,     0.48248,     0.48348,     0.48448,     0.48549,     0.48649,     0.48749,     0.48849,     0.48949,     0.49049,     0.49149,     0.49249,     0.49349,     0.49449,      0.4955,      0.4965,      0.4975,      0.4985,      0.4995,      0.5005,      0.5015,      0.5025,      0.5035,\n",
              "            0.5045,     0.50551,     0.50651,     0.50751,     0.50851,     0.50951,     0.51051,     0.51151,     0.51251,     0.51351,     0.51451,     0.51552,     0.51652,     0.51752,     0.51852,     0.51952,     0.52052,     0.52152,     0.52252,     0.52352,     0.52452,     0.52553,     0.52653,     0.52753,\n",
              "           0.52853,     0.52953,     0.53053,     0.53153,     0.53253,     0.53353,     0.53453,     0.53554,     0.53654,     0.53754,     0.53854,     0.53954,     0.54054,     0.54154,     0.54254,     0.54354,     0.54454,     0.54555,     0.54655,     0.54755,     0.54855,     0.54955,     0.55055,     0.55155,\n",
              "           0.55255,     0.55355,     0.55455,     0.55556,     0.55656,     0.55756,     0.55856,     0.55956,     0.56056,     0.56156,     0.56256,     0.56356,     0.56456,     0.56557,     0.56657,     0.56757,     0.56857,     0.56957,     0.57057,     0.57157,     0.57257,     0.57357,     0.57457,     0.57558,\n",
              "           0.57658,     0.57758,     0.57858,     0.57958,     0.58058,     0.58158,     0.58258,     0.58358,     0.58458,     0.58559,     0.58659,     0.58759,     0.58859,     0.58959,     0.59059,     0.59159,     0.59259,     0.59359,     0.59459,      0.5956,      0.5966,      0.5976,      0.5986,      0.5996,\n",
              "            0.6006,      0.6016,      0.6026,      0.6036,      0.6046,     0.60561,     0.60661,     0.60761,     0.60861,     0.60961,     0.61061,     0.61161,     0.61261,     0.61361,     0.61461,     0.61562,     0.61662,     0.61762,     0.61862,     0.61962,     0.62062,     0.62162,     0.62262,     0.62362,\n",
              "           0.62462,     0.62563,     0.62663,     0.62763,     0.62863,     0.62963,     0.63063,     0.63163,     0.63263,     0.63363,     0.63463,     0.63564,     0.63664,     0.63764,     0.63864,     0.63964,     0.64064,     0.64164,     0.64264,     0.64364,     0.64464,     0.64565,     0.64665,     0.64765,\n",
              "           0.64865,     0.64965,     0.65065,     0.65165,     0.65265,     0.65365,     0.65465,     0.65566,     0.65666,     0.65766,     0.65866,     0.65966,     0.66066,     0.66166,     0.66266,     0.66366,     0.66466,     0.66567,     0.66667,     0.66767,     0.66867,     0.66967,     0.67067,     0.67167,\n",
              "           0.67267,     0.67367,     0.67467,     0.67568,     0.67668,     0.67768,     0.67868,     0.67968,     0.68068,     0.68168,     0.68268,     0.68368,     0.68468,     0.68569,     0.68669,     0.68769,     0.68869,     0.68969,     0.69069,     0.69169,     0.69269,     0.69369,     0.69469,      0.6957,\n",
              "            0.6967,      0.6977,      0.6987,      0.6997,      0.7007,      0.7017,      0.7027,      0.7037,      0.7047,     0.70571,     0.70671,     0.70771,     0.70871,     0.70971,     0.71071,     0.71171,     0.71271,     0.71371,     0.71471,     0.71572,     0.71672,     0.71772,     0.71872,     0.71972,\n",
              "           0.72072,     0.72172,     0.72272,     0.72372,     0.72472,     0.72573,     0.72673,     0.72773,     0.72873,     0.72973,     0.73073,     0.73173,     0.73273,     0.73373,     0.73473,     0.73574,     0.73674,     0.73774,     0.73874,     0.73974,     0.74074,     0.74174,     0.74274,     0.74374,\n",
              "           0.74474,     0.74575,     0.74675,     0.74775,     0.74875,     0.74975,     0.75075,     0.75175,     0.75275,     0.75375,     0.75475,     0.75576,     0.75676,     0.75776,     0.75876,     0.75976,     0.76076,     0.76176,     0.76276,     0.76376,     0.76476,     0.76577,     0.76677,     0.76777,\n",
              "           0.76877,     0.76977,     0.77077,     0.77177,     0.77277,     0.77377,     0.77477,     0.77578,     0.77678,     0.77778,     0.77878,     0.77978,     0.78078,     0.78178,     0.78278,     0.78378,     0.78478,     0.78579,     0.78679,     0.78779,     0.78879,     0.78979,     0.79079,     0.79179,\n",
              "           0.79279,     0.79379,     0.79479,      0.7958,      0.7968,      0.7978,      0.7988,      0.7998,      0.8008,      0.8018,      0.8028,      0.8038,      0.8048,     0.80581,     0.80681,     0.80781,     0.80881,     0.80981,     0.81081,     0.81181,     0.81281,     0.81381,     0.81481,     0.81582,\n",
              "           0.81682,     0.81782,     0.81882,     0.81982,     0.82082,     0.82182,     0.82282,     0.82382,     0.82482,     0.82583,     0.82683,     0.82783,     0.82883,     0.82983,     0.83083,     0.83183,     0.83283,     0.83383,     0.83483,     0.83584,     0.83684,     0.83784,     0.83884,     0.83984,\n",
              "           0.84084,     0.84184,     0.84284,     0.84384,     0.84484,     0.84585,     0.84685,     0.84785,     0.84885,     0.84985,     0.85085,     0.85185,     0.85285,     0.85385,     0.85485,     0.85586,     0.85686,     0.85786,     0.85886,     0.85986,     0.86086,     0.86186,     0.86286,     0.86386,\n",
              "           0.86486,     0.86587,     0.86687,     0.86787,     0.86887,     0.86987,     0.87087,     0.87187,     0.87287,     0.87387,     0.87487,     0.87588,     0.87688,     0.87788,     0.87888,     0.87988,     0.88088,     0.88188,     0.88288,     0.88388,     0.88488,     0.88589,     0.88689,     0.88789,\n",
              "           0.88889,     0.88989,     0.89089,     0.89189,     0.89289,     0.89389,     0.89489,      0.8959,      0.8969,      0.8979,      0.8989,      0.8999,      0.9009,      0.9019,      0.9029,      0.9039,      0.9049,     0.90591,     0.90691,     0.90791,     0.90891,     0.90991,     0.91091,     0.91191,\n",
              "           0.91291,     0.91391,     0.91491,     0.91592,     0.91692,     0.91792,     0.91892,     0.91992,     0.92092,     0.92192,     0.92292,     0.92392,     0.92492,     0.92593,     0.92693,     0.92793,     0.92893,     0.92993,     0.93093,     0.93193,     0.93293,     0.93393,     0.93493,     0.93594,\n",
              "           0.93694,     0.93794,     0.93894,     0.93994,     0.94094,     0.94194,     0.94294,     0.94394,     0.94494,     0.94595,     0.94695,     0.94795,     0.94895,     0.94995,     0.95095,     0.95195,     0.95295,     0.95395,     0.95495,     0.95596,     0.95696,     0.95796,     0.95896,     0.95996,\n",
              "           0.96096,     0.96196,     0.96296,     0.96396,     0.96496,     0.96597,     0.96697,     0.96797,     0.96897,     0.96997,     0.97097,     0.97197,     0.97297,     0.97397,     0.97497,     0.97598,     0.97698,     0.97798,     0.97898,     0.97998,     0.98098,     0.98198,     0.98298,     0.98398,\n",
              "           0.98498,     0.98599,     0.98699,     0.98799,     0.98899,     0.98999,     0.99099,     0.99199,     0.99299,     0.99399,     0.99499,       0.996,       0.997,       0.998,       0.999,           1]), array([[   0.086808,    0.086808,    0.090002,    0.093055,    0.096692,    0.099964,     0.10253,     0.10475,     0.10702,     0.10903,     0.11133,       0.113,     0.11465,     0.11648,     0.11831,      0.1199,     0.12142,     0.12283,     0.12428,     0.12581,     0.12734,     0.12867,     0.13016,\n",
              "            0.13134,     0.13312,     0.13453,     0.13591,     0.13723,     0.13913,      0.1404,     0.14205,      0.1438,     0.14533,     0.14693,     0.14863,     0.15035,     0.15226,     0.15349,     0.15509,     0.15687,     0.15864,      0.1604,     0.16229,     0.16433,     0.16605,     0.16729,\n",
              "            0.16898,     0.16996,     0.17158,     0.17379,     0.17545,     0.17723,     0.17916,     0.18096,     0.18263,     0.18477,     0.18664,     0.18849,     0.18958,     0.19082,     0.19247,     0.19449,     0.19642,     0.19797,     0.20015,     0.20223,     0.20388,     0.20638,     0.20872,\n",
              "            0.20991,     0.21176,     0.21314,     0.21374,     0.21546,     0.21776,     0.21973,     0.22118,     0.22254,     0.22447,     0.22632,     0.22859,     0.23053,     0.23164,      0.2332,     0.23499,     0.23708,     0.23838,     0.24053,     0.24225,     0.24439,     0.24718,     0.24862,\n",
              "            0.25084,     0.25244,     0.25469,     0.25688,     0.25873,     0.25978,     0.26171,     0.26356,     0.26623,     0.26875,     0.27022,     0.27297,     0.27446,     0.27655,     0.27769,     0.27925,      0.2806,     0.28325,     0.28477,     0.28668,     0.28941,     0.29037,     0.29177,\n",
              "            0.29245,     0.29322,     0.29512,     0.29766,     0.29952,     0.30109,     0.30236,     0.30518,     0.30738,     0.30936,     0.31062,     0.31256,     0.31256,     0.31554,     0.31762,     0.31869,     0.32005,     0.32192,     0.32344,     0.32484,     0.32674,     0.32629,     0.32853,\n",
              "            0.32883,     0.32999,     0.33197,     0.33259,     0.33458,     0.33479,     0.33614,     0.33798,     0.33985,     0.33964,     0.34106,     0.34189,      0.3432,     0.34526,     0.34698,     0.34812,     0.34963,     0.35006,     0.35143,     0.35161,     0.34956,     0.34864,     0.35043,\n",
              "            0.35035,     0.35098,     0.35194,     0.35172,     0.35265,     0.35313,     0.35252,     0.35412,     0.35614,     0.35689,     0.35909,     0.36057,     0.36149,     0.36209,     0.36105,     0.36246,     0.36195,     0.36201,      0.3621,     0.36203,     0.36362,     0.36325,      0.3634,\n",
              "            0.36404,      0.3645,     0.36377,     0.36448,     0.36417,     0.36474,     0.36397,     0.36419,     0.36278,     0.36307,     0.36313,     0.36295,     0.36174,     0.36223,      0.3619,     0.36257,     0.36503,     0.36223,     0.36249,     0.36069,     0.36054,     0.35919,     0.35896,\n",
              "             0.3596,     0.35955,     0.35948,     0.35802,     0.35864,     0.35934,     0.35758,     0.35798,     0.35665,     0.35657,     0.35595,     0.35597,     0.35618,     0.35571,     0.35472,     0.35308,      0.3535,      0.3525,      0.3528,      0.3516,      0.3515,     0.35061,     0.34976,\n",
              "            0.34934,     0.34957,     0.34999,     0.34934,     0.34851,     0.34934,     0.34971,      0.3486,     0.34836,     0.34832,     0.34572,     0.34502,     0.34592,     0.34666,     0.34507,     0.34515,      0.3451,     0.34411,     0.34166,     0.34071,     0.33951,     0.33976,     0.33812,\n",
              "            0.33772,     0.33662,     0.33679,     0.33522,     0.33538,     0.33566,     0.33478,     0.33506,      0.3344,     0.33535,     0.33528,     0.33355,     0.33264,     0.33121,     0.32859,     0.32549,     0.32407,     0.32385,     0.32228,     0.31992,     0.31986,     0.31915,     0.31568,\n",
              "            0.31518,     0.31408,     0.31177,     0.31098,     0.31207,     0.31243,     0.31087,     0.30994,     0.31031,     0.30953,     0.30812,     0.30607,     0.30566,     0.30493,     0.30452,     0.30367,     0.30251,     0.30264,     0.30098,     0.30082,     0.30088,       0.298,     0.29739,\n",
              "            0.29625,     0.29544,     0.29554,     0.29515,     0.29552,     0.29207,     0.29052,     0.29059,     0.28979,     0.28824,     0.28871,     0.28882,     0.28842,     0.28538,     0.28495,     0.28363,     0.28336,      0.2828,     0.28259,     0.28097,     0.27685,     0.27337,     0.27308,\n",
              "            0.27283,     0.27204,     0.27214,     0.27167,     0.27191,     0.27133,     0.26945,     0.26793,     0.26612,     0.26602,     0.26484,     0.26387,     0.26294,     0.26266,     0.26202,     0.26223,     0.26108,     0.25914,     0.25821,      0.2566,      0.2558,     0.25358,     0.25223,\n",
              "            0.25103,     0.24973,     0.24876,     0.24882,     0.24891,     0.24692,     0.24554,      0.2456,     0.24493,     0.24535,     0.24546,      0.2447,     0.24086,     0.23963,     0.23848,     0.23727,     0.23682,     0.23599,     0.23506,      0.2334,     0.23097,      0.2306,     0.22996,\n",
              "            0.22732,     0.22737,     0.22692,     0.22619,      0.2254,     0.22461,      0.2237,     0.22221,     0.22004,     0.21996,     0.21842,     0.21731,     0.21611,     0.21273,     0.21122,      0.2104,      0.2075,     0.20755,     0.20683,     0.20561,      0.2049,     0.20499,      0.2043,\n",
              "            0.20435,     0.20449,     0.20306,     0.20249,     0.20068,      0.2001,     0.19969,     0.19827,     0.19706,     0.19673,     0.19592,     0.19344,      0.1923,     0.19188,     0.19042,     0.18809,     0.18715,      0.1863,     0.18462,     0.18385,       0.183,     0.18139,     0.17988,\n",
              "            0.17957,     0.17926,     0.17859,     0.17635,     0.17592,     0.17349,     0.17095,     0.17008,     0.16996,     0.16922,     0.16919,     0.16833,     0.16661,     0.16574,     0.16486,     0.16421,     0.16416,     0.16372,      0.1623,     0.16142,     0.16062,      0.1584,     0.15708,\n",
              "            0.15526,     0.15388,      0.1522,     0.15202,     0.15136,     0.15089,     0.15045,     0.14964,     0.14888,     0.14805,     0.14716,     0.14689,     0.14667,     0.14644,     0.14359,     0.14335,     0.14311,     0.14287,     0.14238,     0.13908,     0.13878,     0.13848,     0.13659,\n",
              "            0.13623,     0.13556,     0.13511,     0.13495,     0.13234,     0.13237,     0.13242,     0.13087,      0.1309,     0.12847,     0.12755,     0.12738,     0.12619,     0.12573,     0.12218,     0.12126,     0.12088,     0.12057,     0.12026,     0.11992,     0.11946,     0.11952,     0.11952,\n",
              "            0.11859,     0.11772,     0.11685,     0.11638,     0.11601,     0.11404,      0.1131,     0.11228,     0.11181,      0.1115,     0.11152,     0.11162,     0.11167,     0.10968,     0.10921,     0.10805,     0.10671,     0.10587,     0.10545,     0.10495,     0.10242,     0.10194,     0.10178,\n",
              "             0.1018,     0.10024,    0.099986,    0.099313,    0.097898,    0.097579,     0.09726,    0.096419,    0.094928,    0.094448,     0.09354,    0.092541,    0.092564,    0.092147,    0.091659,    0.090694,    0.089728,    0.088847,     0.08887,    0.088802,    0.087995,    0.086907,    0.084988,\n",
              "           0.084252,    0.084033,    0.081155,    0.080402,    0.080158,    0.079913,    0.079669,    0.076259,    0.075277,    0.074294,    0.073834,    0.073395,    0.072409,    0.071904,    0.071794,    0.071684,    0.071574,    0.071465,    0.071355,    0.071245,    0.071135,    0.071025,    0.070239,\n",
              "           0.069284,    0.068292,      0.0673,    0.066306,    0.066211,    0.066224,    0.065036,    0.064538,    0.062816,    0.062349,    0.062359,     0.06237,    0.061775,    0.061403,    0.061409,    0.061416,    0.061422,    0.061428,    0.061436,    0.061444,    0.061452,     0.06146,    0.059224,\n",
              "           0.058889,    0.058555,    0.058541,    0.058556,    0.058407,    0.058252,    0.058098,    0.057943,    0.057789,    0.057634,    0.055966,    0.055631,    0.054961,    0.053952,    0.051981,    0.051744,     0.05149,    0.051152,    0.050814,     0.05077,    0.050781,    0.050798,    0.050403,\n",
              "           0.049719,     0.04938,     0.04904,    0.048701,    0.048361,    0.048022,    0.047682,    0.047342,    0.047002,    0.045899,    0.045888,    0.045742,    0.045596,     0.04545,    0.045304,    0.045157,    0.045011,    0.043662,    0.042979,    0.041451,    0.040938,    0.039928,    0.039578,\n",
              "           0.039236,    0.038849,    0.035806,    0.034812,    0.034123,    0.033887,    0.033896,    0.033718,    0.033459,      0.0332,    0.032941,    0.031573,    0.030839,    0.030717,    0.030595,    0.030473,     0.03035,    0.030228,    0.030106,    0.029984,    0.029859,    0.029669,     0.02948,\n",
              "           0.029291,    0.029102,    0.028913,    0.028751,    0.028602,    0.028453,    0.028305,    0.028156,    0.028007,    0.027858,    0.026954,    0.026516,    0.026168,     0.02582,    0.025518,     0.02522,    0.024921,     0.02468,     0.02449,      0.0243,     0.02411,     0.02392,    0.023647,\n",
              "           0.022949,     0.02269,     0.02262,    0.022551,    0.022481,    0.022411,    0.022341,    0.022271,    0.022201,    0.022131,    0.022061,    0.021992,    0.021922,    0.021852,    0.021782,    0.021671,    0.020972,    0.020578,    0.020387,    0.020197,    0.020006,    0.019815,    0.019569,\n",
              "           0.019149,    0.018728,    0.018644,    0.018645,    0.018646,    0.018647,    0.018648,    0.018649,    0.018649,     0.01865,    0.018651,    0.018652,    0.018645,    0.018528,    0.018411,    0.018294,    0.018177,     0.01806,    0.017943,    0.017826,    0.017709,    0.017604,    0.017529,\n",
              "           0.017454,    0.017378,    0.017303,    0.017228,    0.017153,    0.017077,    0.017002,    0.016927,    0.016851,    0.016776,    0.016701,    0.016626,    0.016598,      0.0166,    0.016601,    0.016602,    0.016603,    0.016605,    0.016606,    0.016607,    0.016608,    0.016609,    0.016609,\n",
              "            0.01661,    0.016611,    0.016612,    0.016613,    0.016614,    0.016614,    0.016322,    0.015794,    0.014471,    0.013766,    0.013244,     0.01282,    0.012412,    0.012058,    0.011705,    0.011365,    0.011062,    0.010759,    0.010455,    0.010152,   0.0098484,   0.0095447,   0.0093357,\n",
              "           0.009239,   0.0091423,   0.0090456,   0.0089489,   0.0088522,   0.0087555,   0.0086588,    0.008562,   0.0084653,   0.0083685,   0.0082718,    0.008175,   0.0080782,   0.0079814,   0.0078846,   0.0077878,    0.007691,   0.0075941,   0.0074973,   0.0074005,   0.0073036,   0.0070911,   0.0068779,\n",
              "          0.0066647,   0.0064515,   0.0052163,   0.0051677,   0.0051192,   0.0050707,   0.0050221,   0.0049736,    0.004925,   0.0048765,   0.0048279,   0.0047794,   0.0047308,   0.0046823,   0.0046337,   0.0045851,   0.0045366,    0.004488,   0.0044394,   0.0043909,   0.0043423,   0.0042937,   0.0042451,\n",
              "          0.0041965,   0.0041633,   0.0041381,    0.004113,   0.0040878,   0.0040627,   0.0040375,   0.0040124,   0.0039872,   0.0039621,   0.0039369,   0.0039118,   0.0038866,   0.0038614,   0.0038363,   0.0038111,    0.003786,   0.0037608,   0.0037356,   0.0037105,   0.0036853,   0.0036602,    0.003635,\n",
              "          0.0036098,   0.0035847,   0.0035595,   0.0035343,   0.0035092,    0.003484,   0.0034588,   0.0034337,   0.0034085,   0.0033833,   0.0033582,    0.003333,   0.0033078,   0.0032827,   0.0032575,   0.0032323,   0.0032071,    0.003182,   0.0031568,    0.003034,   0.0024989,    0.002073,   0.0019936,\n",
              "          0.0019143,   0.0018349,   0.0017556,   0.0016762,   0.0015968,   0.0015174,   0.0014381,   0.0013587,   0.0012793,   0.0011999,   0.0011204,           0,           0,           0,           0,           0,           0,           0,           0,           0,           0,           0,           0,\n",
              "                  0,           0,           0,           0,           0,           0,           0,           0,           0,           0,           0,           0,           0,           0,           0,           0,           0,           0,           0,           0,           0,           0,           0,\n",
              "                  0,           0,           0,           0,           0,           0,           0,           0,           0,           0,           0,           0,           0,           0,           0,           0,           0,           0,           0,           0,           0,           0,           0,\n",
              "                  0,           0,           0,           0,           0,           0,           0,           0,           0,           0,           0,           0,           0,           0,           0,           0,           0,           0,           0,           0,           0,           0,           0,\n",
              "                  0,           0,           0,           0,           0,           0,           0,           0,           0,           0,           0,           0,           0,           0,           0,           0,           0,           0,           0,           0,           0,           0,           0,\n",
              "                  0,           0,           0,           0,           0,           0,           0,           0,           0,           0,           0,           0,           0,           0,           0,           0,           0,           0,           0,           0,           0,           0,           0,\n",
              "                  0,           0,           0,           0,           0,           0,           0,           0,           0,           0,           0]]), 'Confidence', 'F1'], [array([          0,    0.001001,    0.002002,    0.003003,    0.004004,    0.005005,    0.006006,    0.007007,    0.008008,    0.009009,     0.01001,    0.011011,    0.012012,    0.013013,    0.014014,    0.015015,    0.016016,    0.017017,    0.018018,    0.019019,     0.02002,    0.021021,    0.022022,    0.023023,\n",
              "          0.024024,    0.025025,    0.026026,    0.027027,    0.028028,    0.029029,     0.03003,    0.031031,    0.032032,    0.033033,    0.034034,    0.035035,    0.036036,    0.037037,    0.038038,    0.039039,     0.04004,    0.041041,    0.042042,    0.043043,    0.044044,    0.045045,    0.046046,    0.047047,\n",
              "          0.048048,    0.049049,     0.05005,    0.051051,    0.052052,    0.053053,    0.054054,    0.055055,    0.056056,    0.057057,    0.058058,    0.059059,     0.06006,    0.061061,    0.062062,    0.063063,    0.064064,    0.065065,    0.066066,    0.067067,    0.068068,    0.069069,     0.07007,    0.071071,\n",
              "          0.072072,    0.073073,    0.074074,    0.075075,    0.076076,    0.077077,    0.078078,    0.079079,     0.08008,    0.081081,    0.082082,    0.083083,    0.084084,    0.085085,    0.086086,    0.087087,    0.088088,    0.089089,     0.09009,    0.091091,    0.092092,    0.093093,    0.094094,    0.095095,\n",
              "          0.096096,    0.097097,    0.098098,    0.099099,      0.1001,      0.1011,      0.1021,      0.1031,      0.1041,     0.10511,     0.10611,     0.10711,     0.10811,     0.10911,     0.11011,     0.11111,     0.11211,     0.11311,     0.11411,     0.11512,     0.11612,     0.11712,     0.11812,     0.11912,\n",
              "           0.12012,     0.12112,     0.12212,     0.12312,     0.12412,     0.12513,     0.12613,     0.12713,     0.12813,     0.12913,     0.13013,     0.13113,     0.13213,     0.13313,     0.13413,     0.13514,     0.13614,     0.13714,     0.13814,     0.13914,     0.14014,     0.14114,     0.14214,     0.14314,\n",
              "           0.14414,     0.14515,     0.14615,     0.14715,     0.14815,     0.14915,     0.15015,     0.15115,     0.15215,     0.15315,     0.15415,     0.15516,     0.15616,     0.15716,     0.15816,     0.15916,     0.16016,     0.16116,     0.16216,     0.16316,     0.16416,     0.16517,     0.16617,     0.16717,\n",
              "           0.16817,     0.16917,     0.17017,     0.17117,     0.17217,     0.17317,     0.17417,     0.17518,     0.17618,     0.17718,     0.17818,     0.17918,     0.18018,     0.18118,     0.18218,     0.18318,     0.18418,     0.18519,     0.18619,     0.18719,     0.18819,     0.18919,     0.19019,     0.19119,\n",
              "           0.19219,     0.19319,     0.19419,      0.1952,      0.1962,      0.1972,      0.1982,      0.1992,      0.2002,      0.2012,      0.2022,      0.2032,      0.2042,     0.20521,     0.20621,     0.20721,     0.20821,     0.20921,     0.21021,     0.21121,     0.21221,     0.21321,     0.21421,     0.21522,\n",
              "           0.21622,     0.21722,     0.21822,     0.21922,     0.22022,     0.22122,     0.22222,     0.22322,     0.22422,     0.22523,     0.22623,     0.22723,     0.22823,     0.22923,     0.23023,     0.23123,     0.23223,     0.23323,     0.23423,     0.23524,     0.23624,     0.23724,     0.23824,     0.23924,\n",
              "           0.24024,     0.24124,     0.24224,     0.24324,     0.24424,     0.24525,     0.24625,     0.24725,     0.24825,     0.24925,     0.25025,     0.25125,     0.25225,     0.25325,     0.25425,     0.25526,     0.25626,     0.25726,     0.25826,     0.25926,     0.26026,     0.26126,     0.26226,     0.26326,\n",
              "           0.26426,     0.26527,     0.26627,     0.26727,     0.26827,     0.26927,     0.27027,     0.27127,     0.27227,     0.27327,     0.27427,     0.27528,     0.27628,     0.27728,     0.27828,     0.27928,     0.28028,     0.28128,     0.28228,     0.28328,     0.28428,     0.28529,     0.28629,     0.28729,\n",
              "           0.28829,     0.28929,     0.29029,     0.29129,     0.29229,     0.29329,     0.29429,      0.2953,      0.2963,      0.2973,      0.2983,      0.2993,      0.3003,      0.3013,      0.3023,      0.3033,      0.3043,     0.30531,     0.30631,     0.30731,     0.30831,     0.30931,     0.31031,     0.31131,\n",
              "           0.31231,     0.31331,     0.31431,     0.31532,     0.31632,     0.31732,     0.31832,     0.31932,     0.32032,     0.32132,     0.32232,     0.32332,     0.32432,     0.32533,     0.32633,     0.32733,     0.32833,     0.32933,     0.33033,     0.33133,     0.33233,     0.33333,     0.33433,     0.33534,\n",
              "           0.33634,     0.33734,     0.33834,     0.33934,     0.34034,     0.34134,     0.34234,     0.34334,     0.34434,     0.34535,     0.34635,     0.34735,     0.34835,     0.34935,     0.35035,     0.35135,     0.35235,     0.35335,     0.35435,     0.35536,     0.35636,     0.35736,     0.35836,     0.35936,\n",
              "           0.36036,     0.36136,     0.36236,     0.36336,     0.36436,     0.36537,     0.36637,     0.36737,     0.36837,     0.36937,     0.37037,     0.37137,     0.37237,     0.37337,     0.37437,     0.37538,     0.37638,     0.37738,     0.37838,     0.37938,     0.38038,     0.38138,     0.38238,     0.38338,\n",
              "           0.38438,     0.38539,     0.38639,     0.38739,     0.38839,     0.38939,     0.39039,     0.39139,     0.39239,     0.39339,     0.39439,      0.3954,      0.3964,      0.3974,      0.3984,      0.3994,      0.4004,      0.4014,      0.4024,      0.4034,      0.4044,     0.40541,     0.40641,     0.40741,\n",
              "           0.40841,     0.40941,     0.41041,     0.41141,     0.41241,     0.41341,     0.41441,     0.41542,     0.41642,     0.41742,     0.41842,     0.41942,     0.42042,     0.42142,     0.42242,     0.42342,     0.42442,     0.42543,     0.42643,     0.42743,     0.42843,     0.42943,     0.43043,     0.43143,\n",
              "           0.43243,     0.43343,     0.43443,     0.43544,     0.43644,     0.43744,     0.43844,     0.43944,     0.44044,     0.44144,     0.44244,     0.44344,     0.44444,     0.44545,     0.44645,     0.44745,     0.44845,     0.44945,     0.45045,     0.45145,     0.45245,     0.45345,     0.45445,     0.45546,\n",
              "           0.45646,     0.45746,     0.45846,     0.45946,     0.46046,     0.46146,     0.46246,     0.46346,     0.46446,     0.46547,     0.46647,     0.46747,     0.46847,     0.46947,     0.47047,     0.47147,     0.47247,     0.47347,     0.47447,     0.47548,     0.47648,     0.47748,     0.47848,     0.47948,\n",
              "           0.48048,     0.48148,     0.48248,     0.48348,     0.48448,     0.48549,     0.48649,     0.48749,     0.48849,     0.48949,     0.49049,     0.49149,     0.49249,     0.49349,     0.49449,      0.4955,      0.4965,      0.4975,      0.4985,      0.4995,      0.5005,      0.5015,      0.5025,      0.5035,\n",
              "            0.5045,     0.50551,     0.50651,     0.50751,     0.50851,     0.50951,     0.51051,     0.51151,     0.51251,     0.51351,     0.51451,     0.51552,     0.51652,     0.51752,     0.51852,     0.51952,     0.52052,     0.52152,     0.52252,     0.52352,     0.52452,     0.52553,     0.52653,     0.52753,\n",
              "           0.52853,     0.52953,     0.53053,     0.53153,     0.53253,     0.53353,     0.53453,     0.53554,     0.53654,     0.53754,     0.53854,     0.53954,     0.54054,     0.54154,     0.54254,     0.54354,     0.54454,     0.54555,     0.54655,     0.54755,     0.54855,     0.54955,     0.55055,     0.55155,\n",
              "           0.55255,     0.55355,     0.55455,     0.55556,     0.55656,     0.55756,     0.55856,     0.55956,     0.56056,     0.56156,     0.56256,     0.56356,     0.56456,     0.56557,     0.56657,     0.56757,     0.56857,     0.56957,     0.57057,     0.57157,     0.57257,     0.57357,     0.57457,     0.57558,\n",
              "           0.57658,     0.57758,     0.57858,     0.57958,     0.58058,     0.58158,     0.58258,     0.58358,     0.58458,     0.58559,     0.58659,     0.58759,     0.58859,     0.58959,     0.59059,     0.59159,     0.59259,     0.59359,     0.59459,      0.5956,      0.5966,      0.5976,      0.5986,      0.5996,\n",
              "            0.6006,      0.6016,      0.6026,      0.6036,      0.6046,     0.60561,     0.60661,     0.60761,     0.60861,     0.60961,     0.61061,     0.61161,     0.61261,     0.61361,     0.61461,     0.61562,     0.61662,     0.61762,     0.61862,     0.61962,     0.62062,     0.62162,     0.62262,     0.62362,\n",
              "           0.62462,     0.62563,     0.62663,     0.62763,     0.62863,     0.62963,     0.63063,     0.63163,     0.63263,     0.63363,     0.63463,     0.63564,     0.63664,     0.63764,     0.63864,     0.63964,     0.64064,     0.64164,     0.64264,     0.64364,     0.64464,     0.64565,     0.64665,     0.64765,\n",
              "           0.64865,     0.64965,     0.65065,     0.65165,     0.65265,     0.65365,     0.65465,     0.65566,     0.65666,     0.65766,     0.65866,     0.65966,     0.66066,     0.66166,     0.66266,     0.66366,     0.66466,     0.66567,     0.66667,     0.66767,     0.66867,     0.66967,     0.67067,     0.67167,\n",
              "           0.67267,     0.67367,     0.67467,     0.67568,     0.67668,     0.67768,     0.67868,     0.67968,     0.68068,     0.68168,     0.68268,     0.68368,     0.68468,     0.68569,     0.68669,     0.68769,     0.68869,     0.68969,     0.69069,     0.69169,     0.69269,     0.69369,     0.69469,      0.6957,\n",
              "            0.6967,      0.6977,      0.6987,      0.6997,      0.7007,      0.7017,      0.7027,      0.7037,      0.7047,     0.70571,     0.70671,     0.70771,     0.70871,     0.70971,     0.71071,     0.71171,     0.71271,     0.71371,     0.71471,     0.71572,     0.71672,     0.71772,     0.71872,     0.71972,\n",
              "           0.72072,     0.72172,     0.72272,     0.72372,     0.72472,     0.72573,     0.72673,     0.72773,     0.72873,     0.72973,     0.73073,     0.73173,     0.73273,     0.73373,     0.73473,     0.73574,     0.73674,     0.73774,     0.73874,     0.73974,     0.74074,     0.74174,     0.74274,     0.74374,\n",
              "           0.74474,     0.74575,     0.74675,     0.74775,     0.74875,     0.74975,     0.75075,     0.75175,     0.75275,     0.75375,     0.75475,     0.75576,     0.75676,     0.75776,     0.75876,     0.75976,     0.76076,     0.76176,     0.76276,     0.76376,     0.76476,     0.76577,     0.76677,     0.76777,\n",
              "           0.76877,     0.76977,     0.77077,     0.77177,     0.77277,     0.77377,     0.77477,     0.77578,     0.77678,     0.77778,     0.77878,     0.77978,     0.78078,     0.78178,     0.78278,     0.78378,     0.78478,     0.78579,     0.78679,     0.78779,     0.78879,     0.78979,     0.79079,     0.79179,\n",
              "           0.79279,     0.79379,     0.79479,      0.7958,      0.7968,      0.7978,      0.7988,      0.7998,      0.8008,      0.8018,      0.8028,      0.8038,      0.8048,     0.80581,     0.80681,     0.80781,     0.80881,     0.80981,     0.81081,     0.81181,     0.81281,     0.81381,     0.81481,     0.81582,\n",
              "           0.81682,     0.81782,     0.81882,     0.81982,     0.82082,     0.82182,     0.82282,     0.82382,     0.82482,     0.82583,     0.82683,     0.82783,     0.82883,     0.82983,     0.83083,     0.83183,     0.83283,     0.83383,     0.83483,     0.83584,     0.83684,     0.83784,     0.83884,     0.83984,\n",
              "           0.84084,     0.84184,     0.84284,     0.84384,     0.84484,     0.84585,     0.84685,     0.84785,     0.84885,     0.84985,     0.85085,     0.85185,     0.85285,     0.85385,     0.85485,     0.85586,     0.85686,     0.85786,     0.85886,     0.85986,     0.86086,     0.86186,     0.86286,     0.86386,\n",
              "           0.86486,     0.86587,     0.86687,     0.86787,     0.86887,     0.86987,     0.87087,     0.87187,     0.87287,     0.87387,     0.87487,     0.87588,     0.87688,     0.87788,     0.87888,     0.87988,     0.88088,     0.88188,     0.88288,     0.88388,     0.88488,     0.88589,     0.88689,     0.88789,\n",
              "           0.88889,     0.88989,     0.89089,     0.89189,     0.89289,     0.89389,     0.89489,      0.8959,      0.8969,      0.8979,      0.8989,      0.8999,      0.9009,      0.9019,      0.9029,      0.9039,      0.9049,     0.90591,     0.90691,     0.90791,     0.90891,     0.90991,     0.91091,     0.91191,\n",
              "           0.91291,     0.91391,     0.91491,     0.91592,     0.91692,     0.91792,     0.91892,     0.91992,     0.92092,     0.92192,     0.92292,     0.92392,     0.92492,     0.92593,     0.92693,     0.92793,     0.92893,     0.92993,     0.93093,     0.93193,     0.93293,     0.93393,     0.93493,     0.93594,\n",
              "           0.93694,     0.93794,     0.93894,     0.93994,     0.94094,     0.94194,     0.94294,     0.94394,     0.94494,     0.94595,     0.94695,     0.94795,     0.94895,     0.94995,     0.95095,     0.95195,     0.95295,     0.95395,     0.95495,     0.95596,     0.95696,     0.95796,     0.95896,     0.95996,\n",
              "           0.96096,     0.96196,     0.96296,     0.96396,     0.96496,     0.96597,     0.96697,     0.96797,     0.96897,     0.96997,     0.97097,     0.97197,     0.97297,     0.97397,     0.97497,     0.97598,     0.97698,     0.97798,     0.97898,     0.97998,     0.98098,     0.98198,     0.98298,     0.98398,\n",
              "           0.98498,     0.98599,     0.98699,     0.98799,     0.98899,     0.98999,     0.99099,     0.99199,     0.99299,     0.99399,     0.99499,       0.996,       0.997,       0.998,       0.999,           1]), array([[   0.045938,    0.045938,    0.047731,    0.049453,    0.051515,    0.053384,    0.054848,    0.056124,    0.057434,    0.058608,    0.059946,    0.060923,    0.061895,    0.062964,    0.064046,    0.064989,    0.065892,    0.066744,    0.067613,    0.068544,    0.069454,    0.070259,    0.071162,\n",
              "           0.071897,    0.072968,    0.073834,    0.074687,    0.075505,    0.076661,    0.077464,    0.078478,    0.079557,    0.080515,    0.081529,    0.082586,    0.083666,    0.084862,    0.085665,    0.086689,    0.087825,    0.088972,    0.090102,    0.091304,    0.092617,    0.093727,    0.094576,\n",
              "           0.095717,    0.096423,    0.097541,    0.098981,     0.10011,     0.10132,     0.10261,     0.10382,     0.10497,     0.10641,     0.10771,     0.10898,     0.10983,     0.11077,     0.11191,     0.11335,     0.11471,     0.11589,     0.11742,      0.1189,     0.12015,      0.1219,     0.12359,\n",
              "            0.12459,     0.12596,     0.12707,     0.12765,     0.12898,     0.13067,     0.13218,     0.13337,     0.13456,     0.13609,     0.13748,     0.13921,      0.1407,      0.1417,     0.14309,      0.1445,     0.14631,     0.14742,     0.14921,     0.15072,     0.15242,     0.15473,     0.15606,\n",
              "            0.15792,     0.15944,     0.16134,     0.16323,     0.16493,     0.16602,     0.16773,     0.16938,     0.17172,     0.17391,     0.17556,     0.17796,      0.1794,      0.1814,     0.18275,     0.18452,     0.18592,      0.1886,     0.19049,     0.19244,      0.1951,     0.19624,     0.19811,\n",
              "            0.19908,     0.20042,     0.20248,     0.20518,     0.20726,     0.20925,     0.21079,     0.21355,     0.21622,     0.21846,     0.22035,      0.2226,     0.22336,      0.2266,     0.22886,      0.2306,     0.23244,     0.23523,     0.23726,     0.23925,      0.2418,      0.2429,     0.24555,\n",
              "             0.2469,     0.24847,     0.25114,     0.25269,     0.25543,     0.25667,     0.25875,     0.26204,     0.26494,     0.26605,     0.26844,     0.27035,     0.27271,     0.27588,     0.27847,     0.28053,     0.28309,     0.28508,     0.28797,     0.28952,     0.28848,     0.28901,     0.29218,\n",
              "            0.29373,     0.29583,     0.29829,     0.29942,     0.30181,     0.30358,     0.30377,     0.30672,     0.31033,     0.31265,     0.31635,     0.31959,     0.32135,     0.32391,     0.32488,     0.32822,     0.32945,     0.33169,     0.33442,     0.33621,     0.33936,     0.34109,     0.34382,\n",
              "            0.34539,     0.34784,     0.34943,     0.35329,      0.3544,     0.35753,     0.35908,      0.3609,     0.36273,     0.36598,     0.36719,     0.36959,     0.37163,     0.37327,     0.37623,     0.37946,     0.38489,     0.38581,     0.38776,     0.38912,     0.39019,     0.39205,     0.39372,\n",
              "            0.39791,     0.40132,     0.40275,     0.40561,     0.40805,     0.41096,     0.41137,     0.41514,     0.41615,     0.41898,      0.4199,     0.42191,      0.4233,     0.42551,     0.42642,     0.42899,      0.4313,      0.4327,     0.43471,     0.43674,     0.43876,     0.44192,     0.44286,\n",
              "            0.44525,     0.44853,     0.45121,     0.45298,     0.45389,      0.4584,     0.46043,     0.46432,     0.46638,     0.46771,     0.47036,     0.47089,     0.47745,     0.48027,     0.48047,     0.48447,     0.48599,      0.4871,     0.48864,      0.4896,     0.49205,     0.49382,     0.49384,\n",
              "              0.496,     0.49717,     0.49992,     0.50115,     0.50398,     0.50738,      0.5098,     0.51333,     0.51471,     0.51925,     0.52123,     0.52221,     0.52493,      0.5265,     0.52661,     0.52682,     0.52669,     0.52823,     0.53064,     0.53003,     0.53136,     0.53254,      0.5315,\n",
              "            0.53269,     0.53371,     0.53227,     0.53397,     0.54042,     0.54259,     0.54611,     0.55039,     0.55273,     0.55415,     0.55617,     0.55868,      0.5603,     0.56434,     0.56535,     0.56873,     0.57101,     0.57191,     0.57642,     0.57944,     0.58224,     0.57948,     0.57963,\n",
              "            0.58425,     0.58481,     0.58788,     0.58854,     0.59299,     0.59329,     0.59531,     0.59924,     0.59925,     0.60154,     0.60567,     0.60821,     0.60783,     0.60861,     0.61094,     0.61154,     0.61272,     0.61327,     0.61719,      0.6196,     0.61759,     0.61514,     0.61641,\n",
              "             0.6187,     0.61877,     0.62654,      0.6283,     0.63097,     0.63167,     0.63027,     0.62982,     0.63139,     0.63241,     0.63168,     0.63251,      0.6325,     0.63695,     0.63643,     0.63964,     0.64176,     0.64247,     0.64337,     0.64173,      0.6409,     0.63994,     0.64094,\n",
              "            0.64349,     0.64265,     0.64793,     0.64877,     0.65006,       0.651,     0.65093,     0.65179,     0.65208,     0.65807,     0.66473,     0.66538,     0.66381,     0.66591,     0.67068,     0.67402,     0.67355,     0.67626,     0.67795,      0.6762,     0.67622,     0.67803,     0.68378,\n",
              "            0.68871,     0.68964,     0.69485,     0.69895,     0.69812,     0.69909,     0.69813,     0.69837,     0.69972,     0.70322,     0.70174,     0.70244,     0.70114,     0.69742,     0.69767,     0.69676,     0.69388,     0.69509,     0.69599,     0.69726,     0.70399,     0.70621,     0.70809,\n",
              "            0.70922,     0.71263,     0.71538,     0.72334,     0.72134,     0.72294,     0.72248,     0.72089,     0.72063,     0.72605,     0.72747,     0.72898,     0.72813,     0.72765,     0.73304,     0.73446,     0.73459,     0.73361,     0.73165,     0.73332,     0.73232,     0.73303,     0.73122,\n",
              "            0.73085,     0.73047,     0.72967,     0.72692,     0.72639,     0.72336,      0.7201,     0.71898,     0.72103,     0.72357,     0.72607,     0.72495,     0.72271,     0.72157,     0.72041,      0.7202,      0.7223,     0.72172,     0.71981,     0.71862,     0.72041,     0.71886,     0.72143,\n",
              "            0.72707,     0.72924,     0.73005,     0.73224,     0.73208,     0.73467,     0.73404,     0.73906,     0.73846,     0.74067,     0.73941,     0.73904,     0.73872,      0.7384,     0.73429,     0.73393,     0.73358,     0.73323,     0.73251,     0.72754,     0.72707,     0.72661,      0.7254,\n",
              "            0.73026,     0.72922,     0.72851,     0.73041,     0.72892,     0.73088,     0.73414,     0.74596,     0.74805,     0.74482,     0.74336,      0.7463,     0.74942,     0.74869,      0.7429,     0.74135,     0.74071,     0.74019,     0.73966,     0.74776,     0.74704,     0.75168,       0.756,\n",
              "            0.75447,     0.75759,     0.75614,     0.75536,     0.75561,     0.75608,     0.75446,     0.75304,     0.75221,     0.75241,     0.75494,     0.76343,     0.76866,     0.76838,     0.76757,     0.76798,     0.76844,     0.77775,        0.78,     0.78172,     0.77729,     0.77644,     0.77798,\n",
              "            0.78097,     0.77915,     0.78289,     0.78338,     0.78081,     0.78022,     0.77964,     0.77806,     0.77522,     0.77429,     0.77252,     0.77348,     0.77674,     0.78243,     0.78149,     0.77959,     0.77766,     0.77616,     0.77962,     0.78922,     0.78876,     0.79244,     0.78857,\n",
              "            0.78879,     0.79388,     0.78787,     0.78624,     0.78571,     0.78517,     0.78463,     0.77684,      0.7745,      0.7721,       0.783,     0.79456,     0.79226,     0.79106,      0.7908,     0.79054,     0.79027,     0.79001,     0.78974,     0.78948,     0.78921,     0.78895,     0.78702,\n",
              "            0.79354,     0.79109,     0.78857,     0.78599,     0.78917,     0.79306,     0.79209,     0.79078,     0.78612,     0.78662,     0.79006,     0.79349,     0.79324,     0.79354,     0.79568,     0.79781,     0.79995,     0.80209,     0.80468,     0.80742,     0.81016,      0.8129,     0.80745,\n",
              "            0.80654,     0.80563,     0.81088,      0.8167,      0.8165,     0.81609,     0.81568,     0.81527,     0.81485,     0.81444,     0.80982,     0.81685,     0.81902,     0.81618,     0.82331,     0.83289,     0.83535,     0.83441,     0.83348,     0.83822,     0.84401,     0.85352,     0.87623,\n",
              "             0.8906,     0.88991,     0.88922,     0.88851,      0.8878,     0.88708,     0.88635,      0.8856,     0.88486,     0.88571,     0.89994,     0.89964,     0.89934,     0.89904,     0.89874,     0.89844,     0.89814,     0.89526,     0.89374,     0.89017,     0.88893,     0.88639,     0.88547,\n",
              "            0.88457,     0.88354,     0.87471,     0.87153,     0.86923,     0.87623,     0.88826,     0.89135,     0.89059,     0.88982,     0.88905,     0.91092,     0.90898,     0.90863,     0.90829,     0.90795,     0.90761,     0.90726,     0.90692,     0.90658,     0.90623,     0.90566,      0.9051,\n",
              "            0.90454,     0.90397,     0.90341,     0.90291,     0.90243,     0.90196,     0.90149,     0.90102,     0.90055,     0.90007,     0.89701,     0.89545,     0.89419,     0.89293,     0.89176,      0.8906,     0.88944,     0.88847,     0.88767,     0.88688,     0.88608,     0.88528,      0.8841,\n",
              "            0.88095,     0.87976,     0.87942,     0.87908,     0.87874,     0.87839,     0.87805,     0.87771,     0.87737,     0.87703,     0.87669,     0.87634,       0.876,     0.87566,     0.87532,     0.87476,     0.87104,      0.8689,      0.8678,     0.86669,     0.86559,     0.86448,     0.86301,\n",
              "            0.86034,     0.85768,     0.86033,     0.86432,     0.86831,     0.87231,      0.8763,      0.8803,     0.88429,     0.88828,     0.89228,     0.89627,     0.89996,     0.89936,     0.89876,     0.89816,     0.89756,     0.89696,     0.89636,     0.89576,     0.89517,     0.89461,     0.89419,\n",
              "            0.89376,     0.89333,      0.8929,     0.89247,     0.89205,     0.89162,     0.89119,     0.89076,     0.89033,      0.8899,     0.88948,     0.88905,     0.89369,     0.90135,     0.90901,     0.91666,     0.92432,     0.93198,     0.93963,     0.94576,      0.9515,     0.95725,     0.96299,\n",
              "            0.96873,     0.97447,     0.98022,     0.98596,      0.9917,     0.99744,           1,           1,           1,           1,           1,           1,           1,           1,           1,           1,           1,           1,           1,           1,           1,           1,           1,\n",
              "                  1,           1,           1,           1,           1,           1,           1,           1,           1,           1,           1,           1,           1,           1,           1,           1,           1,           1,           1,           1,           1,           1,           1,\n",
              "                  1,           1,           1,           1,           1,           1,           1,           1,           1,           1,           1,           1,           1,           1,           1,           1,           1,           1,           1,           1,           1,           1,           1,\n",
              "                  1,           1,           1,           1,           1,           1,           1,           1,           1,           1,           1,           1,           1,           1,           1,           1,           1,           1,           1,           1,           1,           1,           1,\n",
              "                  1,           1,           1,           1,           1,           1,           1,           1,           1,           1,           1,           1,           1,           1,           1,           1,           1,           1,           1,           1,           1,           1,           1,\n",
              "                  1,           1,           1,           1,           1,           1,           1,           1,           1,           1,           1,           1,           1,           1,           1,           1,           1,           1,           1,           1,           1,           1,           1,\n",
              "                  1,           1,           1,           1,           1,           1,           1,           1,           1,           1,           1,           1,           1,           1,           1,           1,           1,           1,           1,           1,           1,           1,           1,\n",
              "                  1,           1,           1,           1,           1,           1,           1,           1,           1,           1,           1,           1,           1,           1,           1,           1,           1,           1,           1,           1,           1,           1,           1,\n",
              "                  1,           1,           1,           1,           1,           1,           1,           1,           1,           1,           1,           1,           1,           1,           1,           1,           1,           1,           1,           1,           1,           1,           1,\n",
              "                  1,           1,           1,           1,           1,           1,           1,           1,           1,           1,           1,           1,           1,           1,           1,           1,           1,           1,           1,           1,           1,           1,           1,\n",
              "                  1,           1,           1,           1,           1,           1,           1,           1,           1,           1,           1,           1,           1,           1,           1,           1,           1,           1,           1,           1,           1,           1,           1,\n",
              "                  1,           1,           1,           1,           1,           1,           1,           1,           1,           1,           1]]), 'Confidence', 'Precision'], [array([          0,    0.001001,    0.002002,    0.003003,    0.004004,    0.005005,    0.006006,    0.007007,    0.008008,    0.009009,     0.01001,    0.011011,    0.012012,    0.013013,    0.014014,    0.015015,    0.016016,    0.017017,    0.018018,    0.019019,     0.02002,    0.021021,    0.022022,    0.023023,\n",
              "          0.024024,    0.025025,    0.026026,    0.027027,    0.028028,    0.029029,     0.03003,    0.031031,    0.032032,    0.033033,    0.034034,    0.035035,    0.036036,    0.037037,    0.038038,    0.039039,     0.04004,    0.041041,    0.042042,    0.043043,    0.044044,    0.045045,    0.046046,    0.047047,\n",
              "          0.048048,    0.049049,     0.05005,    0.051051,    0.052052,    0.053053,    0.054054,    0.055055,    0.056056,    0.057057,    0.058058,    0.059059,     0.06006,    0.061061,    0.062062,    0.063063,    0.064064,    0.065065,    0.066066,    0.067067,    0.068068,    0.069069,     0.07007,    0.071071,\n",
              "          0.072072,    0.073073,    0.074074,    0.075075,    0.076076,    0.077077,    0.078078,    0.079079,     0.08008,    0.081081,    0.082082,    0.083083,    0.084084,    0.085085,    0.086086,    0.087087,    0.088088,    0.089089,     0.09009,    0.091091,    0.092092,    0.093093,    0.094094,    0.095095,\n",
              "          0.096096,    0.097097,    0.098098,    0.099099,      0.1001,      0.1011,      0.1021,      0.1031,      0.1041,     0.10511,     0.10611,     0.10711,     0.10811,     0.10911,     0.11011,     0.11111,     0.11211,     0.11311,     0.11411,     0.11512,     0.11612,     0.11712,     0.11812,     0.11912,\n",
              "           0.12012,     0.12112,     0.12212,     0.12312,     0.12412,     0.12513,     0.12613,     0.12713,     0.12813,     0.12913,     0.13013,     0.13113,     0.13213,     0.13313,     0.13413,     0.13514,     0.13614,     0.13714,     0.13814,     0.13914,     0.14014,     0.14114,     0.14214,     0.14314,\n",
              "           0.14414,     0.14515,     0.14615,     0.14715,     0.14815,     0.14915,     0.15015,     0.15115,     0.15215,     0.15315,     0.15415,     0.15516,     0.15616,     0.15716,     0.15816,     0.15916,     0.16016,     0.16116,     0.16216,     0.16316,     0.16416,     0.16517,     0.16617,     0.16717,\n",
              "           0.16817,     0.16917,     0.17017,     0.17117,     0.17217,     0.17317,     0.17417,     0.17518,     0.17618,     0.17718,     0.17818,     0.17918,     0.18018,     0.18118,     0.18218,     0.18318,     0.18418,     0.18519,     0.18619,     0.18719,     0.18819,     0.18919,     0.19019,     0.19119,\n",
              "           0.19219,     0.19319,     0.19419,      0.1952,      0.1962,      0.1972,      0.1982,      0.1992,      0.2002,      0.2012,      0.2022,      0.2032,      0.2042,     0.20521,     0.20621,     0.20721,     0.20821,     0.20921,     0.21021,     0.21121,     0.21221,     0.21321,     0.21421,     0.21522,\n",
              "           0.21622,     0.21722,     0.21822,     0.21922,     0.22022,     0.22122,     0.22222,     0.22322,     0.22422,     0.22523,     0.22623,     0.22723,     0.22823,     0.22923,     0.23023,     0.23123,     0.23223,     0.23323,     0.23423,     0.23524,     0.23624,     0.23724,     0.23824,     0.23924,\n",
              "           0.24024,     0.24124,     0.24224,     0.24324,     0.24424,     0.24525,     0.24625,     0.24725,     0.24825,     0.24925,     0.25025,     0.25125,     0.25225,     0.25325,     0.25425,     0.25526,     0.25626,     0.25726,     0.25826,     0.25926,     0.26026,     0.26126,     0.26226,     0.26326,\n",
              "           0.26426,     0.26527,     0.26627,     0.26727,     0.26827,     0.26927,     0.27027,     0.27127,     0.27227,     0.27327,     0.27427,     0.27528,     0.27628,     0.27728,     0.27828,     0.27928,     0.28028,     0.28128,     0.28228,     0.28328,     0.28428,     0.28529,     0.28629,     0.28729,\n",
              "           0.28829,     0.28929,     0.29029,     0.29129,     0.29229,     0.29329,     0.29429,      0.2953,      0.2963,      0.2973,      0.2983,      0.2993,      0.3003,      0.3013,      0.3023,      0.3033,      0.3043,     0.30531,     0.30631,     0.30731,     0.30831,     0.30931,     0.31031,     0.31131,\n",
              "           0.31231,     0.31331,     0.31431,     0.31532,     0.31632,     0.31732,     0.31832,     0.31932,     0.32032,     0.32132,     0.32232,     0.32332,     0.32432,     0.32533,     0.32633,     0.32733,     0.32833,     0.32933,     0.33033,     0.33133,     0.33233,     0.33333,     0.33433,     0.33534,\n",
              "           0.33634,     0.33734,     0.33834,     0.33934,     0.34034,     0.34134,     0.34234,     0.34334,     0.34434,     0.34535,     0.34635,     0.34735,     0.34835,     0.34935,     0.35035,     0.35135,     0.35235,     0.35335,     0.35435,     0.35536,     0.35636,     0.35736,     0.35836,     0.35936,\n",
              "           0.36036,     0.36136,     0.36236,     0.36336,     0.36436,     0.36537,     0.36637,     0.36737,     0.36837,     0.36937,     0.37037,     0.37137,     0.37237,     0.37337,     0.37437,     0.37538,     0.37638,     0.37738,     0.37838,     0.37938,     0.38038,     0.38138,     0.38238,     0.38338,\n",
              "           0.38438,     0.38539,     0.38639,     0.38739,     0.38839,     0.38939,     0.39039,     0.39139,     0.39239,     0.39339,     0.39439,      0.3954,      0.3964,      0.3974,      0.3984,      0.3994,      0.4004,      0.4014,      0.4024,      0.4034,      0.4044,     0.40541,     0.40641,     0.40741,\n",
              "           0.40841,     0.40941,     0.41041,     0.41141,     0.41241,     0.41341,     0.41441,     0.41542,     0.41642,     0.41742,     0.41842,     0.41942,     0.42042,     0.42142,     0.42242,     0.42342,     0.42442,     0.42543,     0.42643,     0.42743,     0.42843,     0.42943,     0.43043,     0.43143,\n",
              "           0.43243,     0.43343,     0.43443,     0.43544,     0.43644,     0.43744,     0.43844,     0.43944,     0.44044,     0.44144,     0.44244,     0.44344,     0.44444,     0.44545,     0.44645,     0.44745,     0.44845,     0.44945,     0.45045,     0.45145,     0.45245,     0.45345,     0.45445,     0.45546,\n",
              "           0.45646,     0.45746,     0.45846,     0.45946,     0.46046,     0.46146,     0.46246,     0.46346,     0.46446,     0.46547,     0.46647,     0.46747,     0.46847,     0.46947,     0.47047,     0.47147,     0.47247,     0.47347,     0.47447,     0.47548,     0.47648,     0.47748,     0.47848,     0.47948,\n",
              "           0.48048,     0.48148,     0.48248,     0.48348,     0.48448,     0.48549,     0.48649,     0.48749,     0.48849,     0.48949,     0.49049,     0.49149,     0.49249,     0.49349,     0.49449,      0.4955,      0.4965,      0.4975,      0.4985,      0.4995,      0.5005,      0.5015,      0.5025,      0.5035,\n",
              "            0.5045,     0.50551,     0.50651,     0.50751,     0.50851,     0.50951,     0.51051,     0.51151,     0.51251,     0.51351,     0.51451,     0.51552,     0.51652,     0.51752,     0.51852,     0.51952,     0.52052,     0.52152,     0.52252,     0.52352,     0.52452,     0.52553,     0.52653,     0.52753,\n",
              "           0.52853,     0.52953,     0.53053,     0.53153,     0.53253,     0.53353,     0.53453,     0.53554,     0.53654,     0.53754,     0.53854,     0.53954,     0.54054,     0.54154,     0.54254,     0.54354,     0.54454,     0.54555,     0.54655,     0.54755,     0.54855,     0.54955,     0.55055,     0.55155,\n",
              "           0.55255,     0.55355,     0.55455,     0.55556,     0.55656,     0.55756,     0.55856,     0.55956,     0.56056,     0.56156,     0.56256,     0.56356,     0.56456,     0.56557,     0.56657,     0.56757,     0.56857,     0.56957,     0.57057,     0.57157,     0.57257,     0.57357,     0.57457,     0.57558,\n",
              "           0.57658,     0.57758,     0.57858,     0.57958,     0.58058,     0.58158,     0.58258,     0.58358,     0.58458,     0.58559,     0.58659,     0.58759,     0.58859,     0.58959,     0.59059,     0.59159,     0.59259,     0.59359,     0.59459,      0.5956,      0.5966,      0.5976,      0.5986,      0.5996,\n",
              "            0.6006,      0.6016,      0.6026,      0.6036,      0.6046,     0.60561,     0.60661,     0.60761,     0.60861,     0.60961,     0.61061,     0.61161,     0.61261,     0.61361,     0.61461,     0.61562,     0.61662,     0.61762,     0.61862,     0.61962,     0.62062,     0.62162,     0.62262,     0.62362,\n",
              "           0.62462,     0.62563,     0.62663,     0.62763,     0.62863,     0.62963,     0.63063,     0.63163,     0.63263,     0.63363,     0.63463,     0.63564,     0.63664,     0.63764,     0.63864,     0.63964,     0.64064,     0.64164,     0.64264,     0.64364,     0.64464,     0.64565,     0.64665,     0.64765,\n",
              "           0.64865,     0.64965,     0.65065,     0.65165,     0.65265,     0.65365,     0.65465,     0.65566,     0.65666,     0.65766,     0.65866,     0.65966,     0.66066,     0.66166,     0.66266,     0.66366,     0.66466,     0.66567,     0.66667,     0.66767,     0.66867,     0.66967,     0.67067,     0.67167,\n",
              "           0.67267,     0.67367,     0.67467,     0.67568,     0.67668,     0.67768,     0.67868,     0.67968,     0.68068,     0.68168,     0.68268,     0.68368,     0.68468,     0.68569,     0.68669,     0.68769,     0.68869,     0.68969,     0.69069,     0.69169,     0.69269,     0.69369,     0.69469,      0.6957,\n",
              "            0.6967,      0.6977,      0.6987,      0.6997,      0.7007,      0.7017,      0.7027,      0.7037,      0.7047,     0.70571,     0.70671,     0.70771,     0.70871,     0.70971,     0.71071,     0.71171,     0.71271,     0.71371,     0.71471,     0.71572,     0.71672,     0.71772,     0.71872,     0.71972,\n",
              "           0.72072,     0.72172,     0.72272,     0.72372,     0.72472,     0.72573,     0.72673,     0.72773,     0.72873,     0.72973,     0.73073,     0.73173,     0.73273,     0.73373,     0.73473,     0.73574,     0.73674,     0.73774,     0.73874,     0.73974,     0.74074,     0.74174,     0.74274,     0.74374,\n",
              "           0.74474,     0.74575,     0.74675,     0.74775,     0.74875,     0.74975,     0.75075,     0.75175,     0.75275,     0.75375,     0.75475,     0.75576,     0.75676,     0.75776,     0.75876,     0.75976,     0.76076,     0.76176,     0.76276,     0.76376,     0.76476,     0.76577,     0.76677,     0.76777,\n",
              "           0.76877,     0.76977,     0.77077,     0.77177,     0.77277,     0.77377,     0.77477,     0.77578,     0.77678,     0.77778,     0.77878,     0.77978,     0.78078,     0.78178,     0.78278,     0.78378,     0.78478,     0.78579,     0.78679,     0.78779,     0.78879,     0.78979,     0.79079,     0.79179,\n",
              "           0.79279,     0.79379,     0.79479,      0.7958,      0.7968,      0.7978,      0.7988,      0.7998,      0.8008,      0.8018,      0.8028,      0.8038,      0.8048,     0.80581,     0.80681,     0.80781,     0.80881,     0.80981,     0.81081,     0.81181,     0.81281,     0.81381,     0.81481,     0.81582,\n",
              "           0.81682,     0.81782,     0.81882,     0.81982,     0.82082,     0.82182,     0.82282,     0.82382,     0.82482,     0.82583,     0.82683,     0.82783,     0.82883,     0.82983,     0.83083,     0.83183,     0.83283,     0.83383,     0.83483,     0.83584,     0.83684,     0.83784,     0.83884,     0.83984,\n",
              "           0.84084,     0.84184,     0.84284,     0.84384,     0.84484,     0.84585,     0.84685,     0.84785,     0.84885,     0.84985,     0.85085,     0.85185,     0.85285,     0.85385,     0.85485,     0.85586,     0.85686,     0.85786,     0.85886,     0.85986,     0.86086,     0.86186,     0.86286,     0.86386,\n",
              "           0.86486,     0.86587,     0.86687,     0.86787,     0.86887,     0.86987,     0.87087,     0.87187,     0.87287,     0.87387,     0.87487,     0.87588,     0.87688,     0.87788,     0.87888,     0.87988,     0.88088,     0.88188,     0.88288,     0.88388,     0.88488,     0.88589,     0.88689,     0.88789,\n",
              "           0.88889,     0.88989,     0.89089,     0.89189,     0.89289,     0.89389,     0.89489,      0.8959,      0.8969,      0.8979,      0.8989,      0.8999,      0.9009,      0.9019,      0.9029,      0.9039,      0.9049,     0.90591,     0.90691,     0.90791,     0.90891,     0.90991,     0.91091,     0.91191,\n",
              "           0.91291,     0.91391,     0.91491,     0.91592,     0.91692,     0.91792,     0.91892,     0.91992,     0.92092,     0.92192,     0.92292,     0.92392,     0.92492,     0.92593,     0.92693,     0.92793,     0.92893,     0.92993,     0.93093,     0.93193,     0.93293,     0.93393,     0.93493,     0.93594,\n",
              "           0.93694,     0.93794,     0.93894,     0.93994,     0.94094,     0.94194,     0.94294,     0.94394,     0.94494,     0.94595,     0.94695,     0.94795,     0.94895,     0.94995,     0.95095,     0.95195,     0.95295,     0.95395,     0.95495,     0.95596,     0.95696,     0.95796,     0.95896,     0.95996,\n",
              "           0.96096,     0.96196,     0.96296,     0.96396,     0.96496,     0.96597,     0.96697,     0.96797,     0.96897,     0.96997,     0.97097,     0.97197,     0.97297,     0.97397,     0.97497,     0.97598,     0.97698,     0.97798,     0.97898,     0.97998,     0.98098,     0.98198,     0.98298,     0.98398,\n",
              "           0.98498,     0.98599,     0.98699,     0.98799,     0.98899,     0.98999,     0.99099,     0.99199,     0.99299,     0.99399,     0.99499,       0.996,       0.997,       0.998,       0.999,           1]), array([[    0.78691,     0.78691,     0.78691,     0.78639,     0.78586,     0.78429,     0.78429,     0.78377,     0.78272,     0.78063,     0.77958,     0.77801,     0.77644,     0.77592,     0.77435,      0.7733,     0.77225,     0.76911,     0.76754,     0.76492,      0.7644,     0.76283,     0.76126,\n",
              "            0.75812,     0.75759,     0.75602,     0.75393,     0.75183,     0.75131,     0.74869,     0.74764,     0.74712,     0.74555,     0.74293,     0.74188,     0.74084,     0.73979,     0.73717,     0.73508,     0.73351,     0.73141,     0.72984,     0.72932,     0.72827,     0.72723,     0.72356,\n",
              "            0.72042,     0.71623,     0.71204,     0.71152,      0.7089,     0.70681,     0.70524,     0.70419,     0.70209,     0.70105,     0.69843,     0.69686,     0.69215,     0.68796,     0.68691,     0.68429,     0.68272,     0.67853,     0.67749,     0.67592,     0.67277,     0.67225,     0.67068,\n",
              "            0.66597,      0.6644,     0.66073,     0.65654,     0.65393,     0.65288,     0.65079,     0.64764,     0.64293,     0.64031,     0.63979,     0.63874,      0.6377,     0.63403,     0.62984,      0.6288,     0.62461,     0.62251,      0.6199,     0.61675,     0.61623,     0.61414,     0.61099,\n",
              "            0.60942,     0.60576,     0.60443,     0.60262,         0.6,     0.59686,     0.59529,     0.59372,     0.59215,      0.5911,     0.58642,     0.58565,     0.58377,     0.58168,     0.57801,     0.57382,     0.57173,     0.56859,     0.56387,     0.56178,     0.56021,     0.55812,      0.5534,\n",
              "            0.55079,     0.54607,     0.54398,     0.54188,     0.53979,     0.53665,     0.53455,     0.53455,     0.53141,     0.52984,     0.52618,     0.52455,     0.52042,     0.51937,     0.51885,     0.51571,     0.51361,     0.50984,     0.50795,     0.50576,     0.50366,     0.49686,     0.49622,\n",
              "            0.49215,      0.4911,     0.48953,     0.48639,     0.48482,     0.48125,     0.47958,     0.47592,     0.47382,     0.46952,     0.46754,     0.46492,     0.46283,     0.46126,     0.46021,     0.45864,     0.45707,      0.4534,     0.45079,      0.4476,     0.44346,     0.43927,      0.4377,\n",
              "            0.43403,     0.43141,     0.42911,     0.42618,     0.42408,     0.42199,      0.4199,     0.41885,      0.4178,     0.41571,     0.41518,     0.41361,     0.41309,     0.41047,     0.40628,     0.40468,     0.40157,     0.39843,     0.39476,     0.39215,     0.39162,     0.38848,     0.38534,\n",
              "            0.38482,     0.38285,     0.37935,     0.37639,     0.37449,     0.37225,       0.369,     0.36754,     0.36283,     0.36021,     0.35916,     0.35654,     0.35236,     0.35183,     0.34862,     0.34712,     0.34712,     0.34136,     0.34031,     0.33613,     0.33508,     0.33141,     0.32984,\n",
              "            0.32802,     0.32565,     0.32461,     0.32042,      0.3199,     0.31925,     0.31623,     0.31466,     0.31204,     0.31034,      0.3089,     0.30785,     0.30743,     0.30558,     0.30366,         0.3,     0.29948,     0.29738,     0.29686,     0.29424,     0.29319,     0.29058,     0.28901,\n",
              "            0.28743,     0.28639,     0.28586,     0.28429,     0.28284,      0.2822,     0.28192,     0.27906,     0.27801,     0.27749,      0.2733,     0.27225,      0.2712,      0.2712,     0.26921,     0.26806,     0.26754,     0.26602,     0.26265,     0.26126,     0.25916,     0.25897,     0.25707,\n",
              "            0.25602,     0.25445,     0.25393,     0.25183,     0.25131,     0.25079,     0.24921,     0.24869,     0.24764,     0.24764,     0.24712,     0.24503,     0.24346,      0.2416,     0.23879,     0.23549,     0.23403,     0.23351,     0.23141,     0.22911,      0.2288,     0.22785,     0.22452,\n",
              "             0.2238,     0.22251,     0.22045,     0.21937,     0.21937,     0.21937,     0.21728,     0.21571,     0.21571,     0.21474,     0.21309,     0.21077,     0.21015,      0.2089,     0.20838,     0.20713,     0.20576,     0.20576,     0.20366,     0.20314,     0.20286,     0.20057,         0.2,\n",
              "            0.19843,     0.19764,     0.19738,     0.19696,      0.1968,     0.19372,     0.19215,      0.1918,      0.1911,     0.18953,     0.18953,     0.18938,     0.18907,     0.18639,     0.18581,     0.18463,     0.18429,     0.18377,     0.18325,     0.18168,     0.17841,     0.17574,     0.17539,\n",
              "              0.175,     0.17435,     0.17382,      0.1733,      0.1733,     0.17277,     0.17136,     0.17016,     0.16859,     0.16844,     0.16754,     0.16671,     0.16597,     0.16545,     0.16497,     0.16492,     0.16387,      0.1623,     0.16151,     0.16036,     0.15979,     0.15812,     0.15701,\n",
              "            0.15593,     0.15497,     0.15393,     0.15393,     0.15393,     0.15235,     0.15131,     0.15131,     0.15079,     0.15079,     0.15052,     0.14992,     0.14712,      0.1461,     0.14503,     0.14398,     0.14367,     0.14293,     0.14218,     0.14104,     0.13927,     0.13892,     0.13822,\n",
              "            0.13613,     0.13613,      0.1356,     0.13493,     0.13439,      0.1338,     0.13319,     0.13213,     0.13054,     0.13037,     0.12934,     0.12854,     0.12774,     0.12551,     0.12445,     0.12391,     0.12199,     0.12199,     0.12147,     0.12058,      0.1199,      0.1199,     0.11937,\n",
              "            0.11937,     0.11937,     0.11832,     0.11772,     0.11655,     0.11612,     0.11585,     0.11494,     0.11414,     0.11378,      0.1132,     0.11152,     0.11078,     0.11051,     0.10942,     0.10785,     0.10723,      0.1067,     0.10564,      0.1051,     0.10456,      0.1035,     0.10255,\n",
              "            0.10236,     0.10216,     0.10175,     0.10034,     0.10008,    0.098568,    0.096984,    0.096447,    0.096335,    0.095812,    0.095754,    0.095217,    0.094157,     0.09362,    0.093083,     0.09267,    0.092602,    0.092334,     0.09146,    0.090924,    0.090387,    0.089005,    0.088136,\n",
              "           0.086911,    0.086015,    0.084955,    0.084817,    0.084405,    0.084081,    0.083813,    0.083246,    0.082782,    0.082245,    0.081709,     0.08155,    0.081415,    0.081281,    0.079576,    0.079433,     0.07929,    0.079147,    0.078855,    0.076892,    0.076713,    0.076534,    0.075393,\n",
              "           0.075125,    0.074729,     0.07446,    0.074346,    0.072775,    0.072775,    0.072775,    0.071728,    0.071728,    0.070295,    0.069758,    0.069634,    0.068897,    0.068629,    0.066564,    0.066028,    0.065809,    0.065631,    0.065452,    0.065187,    0.064921,    0.064921,    0.064889,\n",
              "           0.064352,    0.063816,    0.063315,    0.063047,    0.062827,    0.061669,    0.061132,    0.060664,    0.060396,    0.060209,    0.060209,    0.060209,    0.060209,    0.059054,    0.058786,    0.058115,    0.057336,      0.0568,    0.056545,     0.05625,     0.05482,    0.054552,     0.05445,\n",
              "            0.05445,    0.053567,    0.053403,    0.053017,    0.052223,    0.052044,    0.051865,    0.051394,    0.050559,    0.050291,    0.049784,    0.049215,    0.049215,    0.048956,    0.048684,    0.048148,    0.047611,     0.04712,     0.04712,    0.047048,    0.046597,    0.045975,    0.044915,\n",
              "           0.044503,    0.044365,    0.042781,    0.042367,    0.042233,    0.042099,    0.041965,    0.040098,    0.039561,    0.039024,    0.038743,    0.038475,    0.037938,    0.037664,    0.037604,    0.037544,    0.037485,    0.037425,    0.037365,    0.037306,    0.037246,    0.037187,     0.03676,\n",
              "           0.036223,    0.035686,     0.03515,    0.034613,    0.034555,    0.034555,     0.03391,    0.033642,    0.032715,    0.032461,    0.032461,    0.032461,    0.032139,    0.031937,    0.031937,    0.031937,    0.031937,    0.031937,    0.031937,    0.031937,    0.031937,    0.031937,    0.030739,\n",
              "            0.03056,    0.030381,    0.030366,    0.030366,    0.030287,    0.030204,    0.030122,    0.030039,    0.029957,    0.029874,    0.028984,    0.028796,    0.028435,    0.027898,    0.026838,    0.026702,    0.026564,    0.026385,    0.026206,    0.026178,    0.026178,    0.026178,    0.025948,\n",
              "           0.025573,    0.025394,    0.025216,    0.025037,    0.024858,    0.024679,      0.0245,    0.024321,    0.024142,     0.02356,    0.023544,    0.023467,    0.023391,    0.023314,    0.023237,    0.023161,    0.023084,    0.022377,    0.022019,     0.02122,    0.020951,    0.020424,    0.020242,\n",
              "           0.020063,    0.019861,    0.018277,    0.017761,    0.017403,    0.017277,    0.017277,    0.017184,     0.01705,    0.016915,    0.016781,    0.016065,    0.015686,    0.015623,     0.01556,    0.015496,    0.015433,     0.01537,    0.015307,    0.015244,    0.015179,    0.015082,    0.014984,\n",
              "           0.014887,    0.014789,    0.014691,    0.014608,    0.014531,    0.014455,    0.014378,    0.014301,    0.014225,    0.014148,    0.013683,    0.013457,    0.013278,    0.013099,    0.012944,    0.012791,    0.012638,    0.012514,    0.012416,    0.012319,    0.012221,    0.012124,    0.011984,\n",
              "           0.011626,    0.011493,    0.011458,    0.011422,    0.011386,     0.01135,    0.011314,    0.011279,    0.011243,    0.011207,    0.011171,    0.011136,      0.0111,    0.011064,    0.011028,    0.010971,    0.010614,    0.010412,    0.010315,    0.010217,     0.01012,    0.010022,   0.0098969,\n",
              "          0.0096822,   0.0094676,   0.0094241,   0.0094241,   0.0094241,   0.0094241,   0.0094241,   0.0094241,   0.0094241,   0.0094241,   0.0094241,   0.0094241,   0.0094202,   0.0093605,   0.0093009,   0.0092413,   0.0091816,    0.009122,   0.0090624,   0.0090027,   0.0089431,   0.0088896,   0.0088512,\n",
              "          0.0088129,   0.0087746,   0.0087362,   0.0086979,   0.0086596,   0.0086212,   0.0085829,   0.0085446,   0.0085062,   0.0084679,   0.0084296,   0.0083912,    0.008377,    0.008377,    0.008377,    0.008377,    0.008377,    0.008377,    0.008377,    0.008377,    0.008377,    0.008377,    0.008377,\n",
              "           0.008377,    0.008377,    0.008377,    0.008377,    0.008377,    0.008377,   0.0082281,   0.0079598,   0.0072884,   0.0069307,   0.0066662,   0.0064516,   0.0062446,   0.0060657,   0.0058868,   0.0057152,   0.0055619,   0.0054085,   0.0052552,   0.0051019,   0.0049486,   0.0047952,   0.0046897,\n",
              "          0.0046409,   0.0045921,   0.0045434,   0.0044946,   0.0044458,    0.004397,   0.0043482,   0.0042994,   0.0042506,   0.0042018,   0.0041531,   0.0041043,   0.0040555,   0.0040067,   0.0039579,   0.0039091,   0.0038603,   0.0038115,   0.0037628,    0.003714,   0.0036652,   0.0035582,   0.0034508,\n",
              "          0.0033435,   0.0032362,    0.002615,   0.0025906,   0.0025662,   0.0025418,   0.0025174,    0.002493,   0.0024686,   0.0024442,   0.0024198,   0.0023954,    0.002371,   0.0023466,   0.0023222,   0.0022978,   0.0022734,    0.002249,   0.0022247,   0.0022003,   0.0021759,   0.0021515,   0.0021271,\n",
              "          0.0021027,    0.002086,   0.0020734,   0.0020607,   0.0020481,   0.0020355,   0.0020228,   0.0020102,   0.0019976,    0.001985,   0.0019723,   0.0019597,   0.0019471,   0.0019345,   0.0019218,   0.0019092,   0.0018966,   0.0018839,   0.0018713,   0.0018587,   0.0018461,   0.0018334,   0.0018208,\n",
              "          0.0018082,   0.0017956,   0.0017829,   0.0017703,   0.0017577,    0.001745,   0.0017324,   0.0017198,   0.0017072,   0.0016945,   0.0016819,   0.0016693,   0.0016567,    0.001644,   0.0016314,   0.0016188,   0.0016061,   0.0015935,   0.0015809,   0.0015193,    0.001251,   0.0010376,  0.00099782,\n",
              "         0.00095806,  0.00091831,  0.00087856,  0.00083881,  0.00079905,   0.0007593,  0.00071955,   0.0006798,  0.00064004,  0.00060029,  0.00056054,           0,           0,           0,           0,           0,           0,           0,           0,           0,           0,           0,           0,\n",
              "                  0,           0,           0,           0,           0,           0,           0,           0,           0,           0,           0,           0,           0,           0,           0,           0,           0,           0,           0,           0,           0,           0,           0,\n",
              "                  0,           0,           0,           0,           0,           0,           0,           0,           0,           0,           0,           0,           0,           0,           0,           0,           0,           0,           0,           0,           0,           0,           0,\n",
              "                  0,           0,           0,           0,           0,           0,           0,           0,           0,           0,           0,           0,           0,           0,           0,           0,           0,           0,           0,           0,           0,           0,           0,\n",
              "                  0,           0,           0,           0,           0,           0,           0,           0,           0,           0,           0,           0,           0,           0,           0,           0,           0,           0,           0,           0,           0,           0,           0,\n",
              "                  0,           0,           0,           0,           0,           0,           0,           0,           0,           0,           0,           0,           0,           0,           0,           0,           0,           0,           0,           0,           0,           0,           0,\n",
              "                  0,           0,           0,           0,           0,           0,           0,           0,           0,           0,           0]]), 'Confidence', 'Recall']]\n",
              "fitness: 0.12503197469205882\n",
              "keys: ['metrics/precision(B)', 'metrics/recall(B)', 'metrics/mAP50(B)', 'metrics/mAP50-95(B)']\n",
              "maps: array([    0.10455])\n",
              "names: {0: 'plant-weed'}\n",
              "plot: True\n",
              "results_dict: {'metrics/precision(B)': 0.3762260805420304, 'metrics/recall(B)': 0.34862412150370264, 'metrics/mAP50(B)': 0.3094087945541068, 'metrics/mAP50-95(B)': 0.10454566137405348, 'fitness': 0.12503197469205882}\n",
              "save_dir: PosixPath('runs/detect/train')\n",
              "speed: {'preprocess': 0.039363318181916504, 'inference': 0.39992276363653384, 'loss': 0.00010105454541851279, 'postprocess': 1.1777994545447903}\n",
              "task: 'detect'"
            ]
          },
          "execution_count": 20,
          "metadata": {},
          "output_type": "execute_result"
        }
      ],
      "source": [
        "\n",
        "# Train the model\n",
        "model.train(\n",
        "    data=f\"/content/YOLO/{model_name}/data.yaml\",\n",
        "    epochs=100,\n",
        "    imgsz=240,\n",
        "    freeze=10,\n",
        "    batch=64\n",
        ")\n"
      ]
    },
    {
      "cell_type": "markdown",
      "metadata": {
        "id": "Zg26f8m-LShF"
      },
      "source": [
        "### Validation"
      ]
    },
    {
      "cell_type": "code",
      "execution_count": 21,
      "metadata": {
        "colab": {
          "base_uri": "https://localhost:8080/"
        },
        "id": "LNpG-gyjKRZZ",
        "outputId": "29245a66-b5b6-408c-c157-474d8021dd2a"
      },
      "outputs": [
        {
          "name": "stdout",
          "output_type": "stream",
          "text": [
            "Ultralytics 8.3.75 🚀 Python-3.11.11 torch-2.5.1+cu124 CUDA:0 (Tesla T4, 15095MiB)\n",
            "Model summary (fused): 168 layers, 3,005,843 parameters, 0 gradients, 8.1 GFLOPs\n"
          ]
        },
        {
          "name": "stderr",
          "output_type": "stream",
          "text": [
            "\u001b[34m\u001b[1mval: \u001b[0mScanning /content/YOLO/5m60.v1i.yolov8/valid/labels.cache... 110 images, 3 backgrounds, 0 corrupt: 100%|██████████| 110/110 [00:00<?, ?it/s]\n",
            "                 Class     Images  Instances      Box(P          R      mAP50  mAP50-95): 100%|██████████| 7/7 [00:03<00:00,  2.11it/s]\n"
          ]
        },
        {
          "name": "stdout",
          "output_type": "stream",
          "text": [
            "                   all        110       1910      0.384      0.347       0.31      0.104\n",
            "Speed: 0.4ms preprocess, 2.5ms inference, 0.0ms loss, 7.8ms postprocess per image\n",
            "Results saved to \u001b[1mruns/detect/val\u001b[0m\n"
          ]
        },
        {
          "data": {
            "text/plain": [
              "ultralytics.utils.metrics.DetMetrics object with attributes:\n",
              "\n",
              "ap_class_index: array([0])\n",
              "box: ultralytics.utils.metrics.Metric object\n",
              "confusion_matrix: <ultralytics.utils.metrics.ConfusionMatrix object at 0x782195b8fe90>\n",
              "curves: ['Precision-Recall(B)', 'F1-Confidence(B)', 'Precision-Confidence(B)', 'Recall-Confidence(B)']\n",
              "curves_results: [[array([          0,    0.001001,    0.002002,    0.003003,    0.004004,    0.005005,    0.006006,    0.007007,    0.008008,    0.009009,     0.01001,    0.011011,    0.012012,    0.013013,    0.014014,    0.015015,    0.016016,    0.017017,    0.018018,    0.019019,     0.02002,    0.021021,    0.022022,    0.023023,\n",
              "          0.024024,    0.025025,    0.026026,    0.027027,    0.028028,    0.029029,     0.03003,    0.031031,    0.032032,    0.033033,    0.034034,    0.035035,    0.036036,    0.037037,    0.038038,    0.039039,     0.04004,    0.041041,    0.042042,    0.043043,    0.044044,    0.045045,    0.046046,    0.047047,\n",
              "          0.048048,    0.049049,     0.05005,    0.051051,    0.052052,    0.053053,    0.054054,    0.055055,    0.056056,    0.057057,    0.058058,    0.059059,     0.06006,    0.061061,    0.062062,    0.063063,    0.064064,    0.065065,    0.066066,    0.067067,    0.068068,    0.069069,     0.07007,    0.071071,\n",
              "          0.072072,    0.073073,    0.074074,    0.075075,    0.076076,    0.077077,    0.078078,    0.079079,     0.08008,    0.081081,    0.082082,    0.083083,    0.084084,    0.085085,    0.086086,    0.087087,    0.088088,    0.089089,     0.09009,    0.091091,    0.092092,    0.093093,    0.094094,    0.095095,\n",
              "          0.096096,    0.097097,    0.098098,    0.099099,      0.1001,      0.1011,      0.1021,      0.1031,      0.1041,     0.10511,     0.10611,     0.10711,     0.10811,     0.10911,     0.11011,     0.11111,     0.11211,     0.11311,     0.11411,     0.11512,     0.11612,     0.11712,     0.11812,     0.11912,\n",
              "           0.12012,     0.12112,     0.12212,     0.12312,     0.12412,     0.12513,     0.12613,     0.12713,     0.12813,     0.12913,     0.13013,     0.13113,     0.13213,     0.13313,     0.13413,     0.13514,     0.13614,     0.13714,     0.13814,     0.13914,     0.14014,     0.14114,     0.14214,     0.14314,\n",
              "           0.14414,     0.14515,     0.14615,     0.14715,     0.14815,     0.14915,     0.15015,     0.15115,     0.15215,     0.15315,     0.15415,     0.15516,     0.15616,     0.15716,     0.15816,     0.15916,     0.16016,     0.16116,     0.16216,     0.16316,     0.16416,     0.16517,     0.16617,     0.16717,\n",
              "           0.16817,     0.16917,     0.17017,     0.17117,     0.17217,     0.17317,     0.17417,     0.17518,     0.17618,     0.17718,     0.17818,     0.17918,     0.18018,     0.18118,     0.18218,     0.18318,     0.18418,     0.18519,     0.18619,     0.18719,     0.18819,     0.18919,     0.19019,     0.19119,\n",
              "           0.19219,     0.19319,     0.19419,      0.1952,      0.1962,      0.1972,      0.1982,      0.1992,      0.2002,      0.2012,      0.2022,      0.2032,      0.2042,     0.20521,     0.20621,     0.20721,     0.20821,     0.20921,     0.21021,     0.21121,     0.21221,     0.21321,     0.21421,     0.21522,\n",
              "           0.21622,     0.21722,     0.21822,     0.21922,     0.22022,     0.22122,     0.22222,     0.22322,     0.22422,     0.22523,     0.22623,     0.22723,     0.22823,     0.22923,     0.23023,     0.23123,     0.23223,     0.23323,     0.23423,     0.23524,     0.23624,     0.23724,     0.23824,     0.23924,\n",
              "           0.24024,     0.24124,     0.24224,     0.24324,     0.24424,     0.24525,     0.24625,     0.24725,     0.24825,     0.24925,     0.25025,     0.25125,     0.25225,     0.25325,     0.25425,     0.25526,     0.25626,     0.25726,     0.25826,     0.25926,     0.26026,     0.26126,     0.26226,     0.26326,\n",
              "           0.26426,     0.26527,     0.26627,     0.26727,     0.26827,     0.26927,     0.27027,     0.27127,     0.27227,     0.27327,     0.27427,     0.27528,     0.27628,     0.27728,     0.27828,     0.27928,     0.28028,     0.28128,     0.28228,     0.28328,     0.28428,     0.28529,     0.28629,     0.28729,\n",
              "           0.28829,     0.28929,     0.29029,     0.29129,     0.29229,     0.29329,     0.29429,      0.2953,      0.2963,      0.2973,      0.2983,      0.2993,      0.3003,      0.3013,      0.3023,      0.3033,      0.3043,     0.30531,     0.30631,     0.30731,     0.30831,     0.30931,     0.31031,     0.31131,\n",
              "           0.31231,     0.31331,     0.31431,     0.31532,     0.31632,     0.31732,     0.31832,     0.31932,     0.32032,     0.32132,     0.32232,     0.32332,     0.32432,     0.32533,     0.32633,     0.32733,     0.32833,     0.32933,     0.33033,     0.33133,     0.33233,     0.33333,     0.33433,     0.33534,\n",
              "           0.33634,     0.33734,     0.33834,     0.33934,     0.34034,     0.34134,     0.34234,     0.34334,     0.34434,     0.34535,     0.34635,     0.34735,     0.34835,     0.34935,     0.35035,     0.35135,     0.35235,     0.35335,     0.35435,     0.35536,     0.35636,     0.35736,     0.35836,     0.35936,\n",
              "           0.36036,     0.36136,     0.36236,     0.36336,     0.36436,     0.36537,     0.36637,     0.36737,     0.36837,     0.36937,     0.37037,     0.37137,     0.37237,     0.37337,     0.37437,     0.37538,     0.37638,     0.37738,     0.37838,     0.37938,     0.38038,     0.38138,     0.38238,     0.38338,\n",
              "           0.38438,     0.38539,     0.38639,     0.38739,     0.38839,     0.38939,     0.39039,     0.39139,     0.39239,     0.39339,     0.39439,      0.3954,      0.3964,      0.3974,      0.3984,      0.3994,      0.4004,      0.4014,      0.4024,      0.4034,      0.4044,     0.40541,     0.40641,     0.40741,\n",
              "           0.40841,     0.40941,     0.41041,     0.41141,     0.41241,     0.41341,     0.41441,     0.41542,     0.41642,     0.41742,     0.41842,     0.41942,     0.42042,     0.42142,     0.42242,     0.42342,     0.42442,     0.42543,     0.42643,     0.42743,     0.42843,     0.42943,     0.43043,     0.43143,\n",
              "           0.43243,     0.43343,     0.43443,     0.43544,     0.43644,     0.43744,     0.43844,     0.43944,     0.44044,     0.44144,     0.44244,     0.44344,     0.44444,     0.44545,     0.44645,     0.44745,     0.44845,     0.44945,     0.45045,     0.45145,     0.45245,     0.45345,     0.45445,     0.45546,\n",
              "           0.45646,     0.45746,     0.45846,     0.45946,     0.46046,     0.46146,     0.46246,     0.46346,     0.46446,     0.46547,     0.46647,     0.46747,     0.46847,     0.46947,     0.47047,     0.47147,     0.47247,     0.47347,     0.47447,     0.47548,     0.47648,     0.47748,     0.47848,     0.47948,\n",
              "           0.48048,     0.48148,     0.48248,     0.48348,     0.48448,     0.48549,     0.48649,     0.48749,     0.48849,     0.48949,     0.49049,     0.49149,     0.49249,     0.49349,     0.49449,      0.4955,      0.4965,      0.4975,      0.4985,      0.4995,      0.5005,      0.5015,      0.5025,      0.5035,\n",
              "            0.5045,     0.50551,     0.50651,     0.50751,     0.50851,     0.50951,     0.51051,     0.51151,     0.51251,     0.51351,     0.51451,     0.51552,     0.51652,     0.51752,     0.51852,     0.51952,     0.52052,     0.52152,     0.52252,     0.52352,     0.52452,     0.52553,     0.52653,     0.52753,\n",
              "           0.52853,     0.52953,     0.53053,     0.53153,     0.53253,     0.53353,     0.53453,     0.53554,     0.53654,     0.53754,     0.53854,     0.53954,     0.54054,     0.54154,     0.54254,     0.54354,     0.54454,     0.54555,     0.54655,     0.54755,     0.54855,     0.54955,     0.55055,     0.55155,\n",
              "           0.55255,     0.55355,     0.55455,     0.55556,     0.55656,     0.55756,     0.55856,     0.55956,     0.56056,     0.56156,     0.56256,     0.56356,     0.56456,     0.56557,     0.56657,     0.56757,     0.56857,     0.56957,     0.57057,     0.57157,     0.57257,     0.57357,     0.57457,     0.57558,\n",
              "           0.57658,     0.57758,     0.57858,     0.57958,     0.58058,     0.58158,     0.58258,     0.58358,     0.58458,     0.58559,     0.58659,     0.58759,     0.58859,     0.58959,     0.59059,     0.59159,     0.59259,     0.59359,     0.59459,      0.5956,      0.5966,      0.5976,      0.5986,      0.5996,\n",
              "            0.6006,      0.6016,      0.6026,      0.6036,      0.6046,     0.60561,     0.60661,     0.60761,     0.60861,     0.60961,     0.61061,     0.61161,     0.61261,     0.61361,     0.61461,     0.61562,     0.61662,     0.61762,     0.61862,     0.61962,     0.62062,     0.62162,     0.62262,     0.62362,\n",
              "           0.62462,     0.62563,     0.62663,     0.62763,     0.62863,     0.62963,     0.63063,     0.63163,     0.63263,     0.63363,     0.63463,     0.63564,     0.63664,     0.63764,     0.63864,     0.63964,     0.64064,     0.64164,     0.64264,     0.64364,     0.64464,     0.64565,     0.64665,     0.64765,\n",
              "           0.64865,     0.64965,     0.65065,     0.65165,     0.65265,     0.65365,     0.65465,     0.65566,     0.65666,     0.65766,     0.65866,     0.65966,     0.66066,     0.66166,     0.66266,     0.66366,     0.66466,     0.66567,     0.66667,     0.66767,     0.66867,     0.66967,     0.67067,     0.67167,\n",
              "           0.67267,     0.67367,     0.67467,     0.67568,     0.67668,     0.67768,     0.67868,     0.67968,     0.68068,     0.68168,     0.68268,     0.68368,     0.68468,     0.68569,     0.68669,     0.68769,     0.68869,     0.68969,     0.69069,     0.69169,     0.69269,     0.69369,     0.69469,      0.6957,\n",
              "            0.6967,      0.6977,      0.6987,      0.6997,      0.7007,      0.7017,      0.7027,      0.7037,      0.7047,     0.70571,     0.70671,     0.70771,     0.70871,     0.70971,     0.71071,     0.71171,     0.71271,     0.71371,     0.71471,     0.71572,     0.71672,     0.71772,     0.71872,     0.71972,\n",
              "           0.72072,     0.72172,     0.72272,     0.72372,     0.72472,     0.72573,     0.72673,     0.72773,     0.72873,     0.72973,     0.73073,     0.73173,     0.73273,     0.73373,     0.73473,     0.73574,     0.73674,     0.73774,     0.73874,     0.73974,     0.74074,     0.74174,     0.74274,     0.74374,\n",
              "           0.74474,     0.74575,     0.74675,     0.74775,     0.74875,     0.74975,     0.75075,     0.75175,     0.75275,     0.75375,     0.75475,     0.75576,     0.75676,     0.75776,     0.75876,     0.75976,     0.76076,     0.76176,     0.76276,     0.76376,     0.76476,     0.76577,     0.76677,     0.76777,\n",
              "           0.76877,     0.76977,     0.77077,     0.77177,     0.77277,     0.77377,     0.77477,     0.77578,     0.77678,     0.77778,     0.77878,     0.77978,     0.78078,     0.78178,     0.78278,     0.78378,     0.78478,     0.78579,     0.78679,     0.78779,     0.78879,     0.78979,     0.79079,     0.79179,\n",
              "           0.79279,     0.79379,     0.79479,      0.7958,      0.7968,      0.7978,      0.7988,      0.7998,      0.8008,      0.8018,      0.8028,      0.8038,      0.8048,     0.80581,     0.80681,     0.80781,     0.80881,     0.80981,     0.81081,     0.81181,     0.81281,     0.81381,     0.81481,     0.81582,\n",
              "           0.81682,     0.81782,     0.81882,     0.81982,     0.82082,     0.82182,     0.82282,     0.82382,     0.82482,     0.82583,     0.82683,     0.82783,     0.82883,     0.82983,     0.83083,     0.83183,     0.83283,     0.83383,     0.83483,     0.83584,     0.83684,     0.83784,     0.83884,     0.83984,\n",
              "           0.84084,     0.84184,     0.84284,     0.84384,     0.84484,     0.84585,     0.84685,     0.84785,     0.84885,     0.84985,     0.85085,     0.85185,     0.85285,     0.85385,     0.85485,     0.85586,     0.85686,     0.85786,     0.85886,     0.85986,     0.86086,     0.86186,     0.86286,     0.86386,\n",
              "           0.86486,     0.86587,     0.86687,     0.86787,     0.86887,     0.86987,     0.87087,     0.87187,     0.87287,     0.87387,     0.87487,     0.87588,     0.87688,     0.87788,     0.87888,     0.87988,     0.88088,     0.88188,     0.88288,     0.88388,     0.88488,     0.88589,     0.88689,     0.88789,\n",
              "           0.88889,     0.88989,     0.89089,     0.89189,     0.89289,     0.89389,     0.89489,      0.8959,      0.8969,      0.8979,      0.8989,      0.8999,      0.9009,      0.9019,      0.9029,      0.9039,      0.9049,     0.90591,     0.90691,     0.90791,     0.90891,     0.90991,     0.91091,     0.91191,\n",
              "           0.91291,     0.91391,     0.91491,     0.91592,     0.91692,     0.91792,     0.91892,     0.91992,     0.92092,     0.92192,     0.92292,     0.92392,     0.92492,     0.92593,     0.92693,     0.92793,     0.92893,     0.92993,     0.93093,     0.93193,     0.93293,     0.93393,     0.93493,     0.93594,\n",
              "           0.93694,     0.93794,     0.93894,     0.93994,     0.94094,     0.94194,     0.94294,     0.94394,     0.94494,     0.94595,     0.94695,     0.94795,     0.94895,     0.94995,     0.95095,     0.95195,     0.95295,     0.95395,     0.95495,     0.95596,     0.95696,     0.95796,     0.95896,     0.95996,\n",
              "           0.96096,     0.96196,     0.96296,     0.96396,     0.96496,     0.96597,     0.96697,     0.96797,     0.96897,     0.96997,     0.97097,     0.97197,     0.97297,     0.97397,     0.97497,     0.97598,     0.97698,     0.97798,     0.97898,     0.97998,     0.98098,     0.98198,     0.98298,     0.98398,\n",
              "           0.98498,     0.98599,     0.98699,     0.98799,     0.98899,     0.98999,     0.99099,     0.99199,     0.99299,     0.99399,     0.99499,       0.996,       0.997,       0.998,       0.999,           1]), array([[          1,           1,           1,           1,           1,           1,           1,           1,           1,     0.90625,     0.90625,     0.90625,     0.90625,     0.90625,     0.90625,     0.90625,     0.89796,     0.89796,     0.89796,     0.89796,     0.89796,     0.89796,     0.89796,\n",
              "            0.89796,     0.89286,     0.89286,     0.89286,      0.8209,      0.8209,      0.8169,      0.8169,     0.81333,         0.8,         0.8,     0.79817,     0.79817,     0.79817,     0.79817,     0.79817,     0.79817,     0.79817,     0.79817,     0.79817,     0.79817,     0.79817,     0.79817,\n",
              "            0.79646,     0.79646,     0.78788,     0.78788,     0.78788,     0.78788,     0.78788,     0.78788,     0.78788,     0.77941,     0.77698,     0.77622,     0.77622,     0.77027,     0.76667,     0.76582,     0.76582,     0.76582,     0.76398,      0.7622,      0.7541,      0.7541,      0.7541,\n",
              "             0.7541,      0.7541,      0.7541,      0.7541,     0.74648,     0.74648,     0.74648,     0.74648,     0.74648,     0.74648,     0.74648,     0.74648,     0.74648,     0.74648,     0.74648,     0.74194,     0.74194,     0.74194,     0.74194,     0.74194,     0.74194,     0.74194,     0.74194,\n",
              "            0.74194,     0.74194,     0.74194,     0.74194,     0.74194,     0.74194,     0.74194,     0.74194,     0.74194,     0.74194,     0.74194,     0.74194,     0.74194,     0.74194,     0.74194,     0.74194,     0.74194,     0.73793,     0.73793,     0.73793,      0.7363,     0.73559,     0.73401,\n",
              "            0.73179,     0.72903,     0.72903,     0.72903,     0.72843,     0.71651,      0.7094,      0.7094,      0.7094,      0.7094,      0.7094,      0.7094,      0.7094,      0.7094,      0.7094,      0.7094,     0.70461,     0.70461,     0.70461,     0.70461,     0.70461,      0.7043,      0.7043,\n",
              "             0.6875,     0.68557,     0.68262,     0.68262,      0.6799,      0.6799,     0.67892,     0.67805,     0.67633,     0.67303,     0.67221,     0.67053,     0.67053,     0.67053,     0.67051,     0.65695,     0.65556,     0.65419,     0.65142,      0.6501,      0.6501,      0.6501,      0.6501,\n",
              "             0.6501,      0.6501,      0.6501,      0.6501,     0.64887,     0.64372,        0.64,     0.63796,     0.63796,     0.63796,      0.6376,      0.6376,     0.63619,     0.63619,     0.63089,     0.62366,     0.62366,     0.62366,     0.62366,     0.62366,     0.62366,     0.62366,     0.62191,\n",
              "            0.62191,     0.61996,     0.61485,     0.61407,     0.61224,     0.61111,     0.61074,     0.60561,     0.60294,     0.60294,     0.59841,     0.59841,     0.59841,     0.59841,     0.59498,     0.58473,     0.58473,     0.58271,     0.58271,     0.58271,     0.58271,      0.5816,     0.57496,\n",
              "            0.57453,     0.57431,      0.5698,     0.56381,     0.56189,        0.56,      0.5589,     0.55676,     0.55676,     0.55436,     0.54784,     0.54784,     0.54486,     0.54463,     0.53625,     0.53625,     0.53625,     0.53625,     0.53366,     0.53366,     0.53366,     0.53366,     0.53277,\n",
              "            0.53125,     0.53125,      0.5311,     0.53052,     0.53052,     0.53052,     0.53052,     0.53016,     0.53016,     0.53016,     0.52989,     0.52989,     0.52901,     0.52901,     0.52709,     0.52626,     0.52626,     0.52265,     0.52255,     0.51456,     0.51398,     0.50901,      0.5079,\n",
              "            0.50469,     0.50258,         0.5,         0.5,         0.5,     0.49552,     0.49552,     0.49552,      0.4931,     0.49123,     0.49123,     0.49029,     0.48946,     0.48946,     0.48946,     0.48442,     0.48318,     0.48318,     0.48059,     0.48018,     0.47628,     0.47074,     0.47074,\n",
              "            0.47074,     0.47074,     0.46831,     0.46725,     0.46528,     0.46141,     0.45809,     0.45546,     0.45477,     0.45191,     0.44984,     0.44634,     0.44293,     0.43937,     0.43937,     0.43937,     0.43878,     0.43556,     0.43408,     0.43272,     0.43272,     0.43161,     0.42986,\n",
              "            0.42846,     0.42772,      0.4272,      0.4272,     0.42409,     0.42389,      0.4231,      0.4231,       0.422,     0.41952,     0.41778,     0.41655,     0.41638,     0.41545,     0.41436,      0.4142,     0.41104,     0.40931,     0.40931,     0.40927,     0.40912,      0.4061,     0.40368,\n",
              "            0.40314,     0.40287,     0.40142,      0.4009,      0.3972,     0.39509,     0.39299,      0.3923,      0.3923,     0.39074,     0.38971,     0.38933,     0.38933,     0.38933,     0.38889,     0.38826,     0.38826,     0.38612,     0.38612,     0.38561,     0.38561,     0.38529,     0.38529,\n",
              "            0.38529,     0.38399,     0.37557,     0.37486,     0.37486,     0.37382,     0.37382,     0.37382,     0.37375,       0.373,     0.37287,     0.37031,     0.36899,     0.36822,     0.36738,     0.36354,     0.36235,     0.36127,     0.36104,     0.36006,     0.35961,     0.35949,     0.35852,\n",
              "            0.35852,     0.35852,     0.35776,     0.35657,     0.35529,     0.35505,     0.35428,     0.35332,     0.35332,     0.34983,     0.34868,     0.34868,     0.34868,     0.34797,      0.3461,     0.34592,      0.3418,      0.3418,      0.3418,      0.3418,     0.34131,     0.33957,     0.33755,\n",
              "            0.33648,     0.33363,     0.33231,     0.33231,     0.33216,     0.33202,      0.3296,      0.3296,      0.3296,      0.3296,     0.32862,     0.32628,     0.32628,     0.32432,     0.32432,     0.32432,     0.32432,     0.32407,     0.32394,     0.32263,      0.3199,     0.31838,     0.31804,\n",
              "            0.30938,     0.30931,     0.30639,     0.30575,     0.30326,     0.30286,     0.30286,     0.30286,     0.29993,     0.29885,     0.29805,     0.29791,     0.29677,     0.29677,     0.29603,     0.29452,     0.29414,     0.29295,     0.29295,     0.29215,     0.29215,      0.2909,      0.2909,\n",
              "            0.29008,     0.28941,     0.28856,      0.2882,      0.2882,     0.28805,     0.28789,     0.28789,     0.28787,     0.28787,     0.28787,     0.28787,     0.28691,     0.28605,     0.28595,     0.28506,     0.28343,     0.28343,     0.28201,     0.28057,     0.28013,     0.27836,     0.27723,\n",
              "             0.2744,     0.27133,     0.27133,     0.26946,     0.26852,     0.26767,     0.26707,     0.26665,     0.26629,     0.26629,     0.26629,     0.26598,     0.26598,      0.2647,     0.26083,     0.26083,     0.25991,     0.25974,     0.25936,     0.25817,     0.25664,     0.25662,      0.2564,\n",
              "            0.25617,     0.25225,      0.2519,     0.25128,      0.2504,     0.24907,       0.249,     0.24887,     0.24776,     0.24711,     0.24705,     0.24444,     0.24351,     0.24303,     0.24297,     0.24237,      0.2422,      0.2422,      0.2422,      0.2422,      0.2422,     0.24166,     0.23787,\n",
              "            0.23731,     0.23555,     0.23535,     0.23524,     0.23524,     0.23463,     0.23298,     0.23202,     0.23108,     0.22923,     0.22892,     0.22799,     0.22507,     0.22292,     0.22235,      0.2222,     0.22205,     0.22183,     0.22041,     0.22027,     0.21944,     0.21923,     0.21871,\n",
              "            0.21618,     0.21616,     0.21533,       0.214,     0.21105,     0.20993,     0.20993,     0.20912,     0.20912,     0.20868,     0.20695,     0.20581,     0.20581,     0.20535,     0.20097,     0.20097,     0.20096,     0.20096,     0.20042,     0.20042,     0.20042,     0.20042,     0.19921,\n",
              "             0.1985,     0.19724,     0.19708,     0.19708,     0.19708,     0.19708,     0.19665,     0.19579,     0.19399,      0.1925,      0.1919,     0.19188,     0.19035,     0.19035,     0.18987,     0.18834,     0.18818,     0.18641,     0.18613,     0.18546,     0.18402,      0.1838,     0.18317,\n",
              "            0.18219,      0.1821,      0.1821,      0.1821,      0.1821,      0.1821,     0.18068,     0.17939,     0.17926,     0.17901,     0.17658,     0.17532,     0.17457,     0.17422,     0.17422,     0.17148,     0.17049,     0.16896,     0.16738,     0.16738,     0.16669,     0.16558,     0.16498,\n",
              "            0.16428,     0.16378,     0.16363,      0.1631,     0.16159,     0.16101,      0.1598,     0.15865,     0.15803,      0.1579,     0.15716,     0.15716,     0.15526,     0.15525,     0.15416,     0.15361,     0.15326,     0.15203,     0.15091,     0.15091,      0.1505,     0.14891,     0.14794,\n",
              "            0.14791,     0.14708,     0.14674,      0.1452,     0.14499,      0.1445,     0.14444,     0.14444,     0.14323,     0.14282,     0.14282,     0.14279,      0.1425,     0.14123,     0.14123,     0.14123,     0.14088,      0.1397,     0.13883,     0.13603,     0.13525,     0.13518,     0.13421,\n",
              "            0.13413,     0.13413,     0.13385,     0.13379,      0.1333,     0.13271,      0.1324,     0.13203,     0.13177,     0.13169,     0.13006,     0.12871,     0.12848,     0.12803,     0.12803,     0.12798,     0.12794,     0.12695,     0.12676,     0.12671,     0.12663,     0.12654,     0.12575,\n",
              "            0.12494,     0.12453,     0.12449,     0.12449,     0.12372,     0.12273,     0.12178,     0.12068,     0.12007,     0.11971,     0.11869,     0.11855,     0.11735,     0.11594,     0.11586,     0.11586,     0.11538,     0.11517,     0.11386,     0.11345,     0.11334,     0.11287,     0.11237,\n",
              "            0.11091,     0.11051,     0.11039,     0.11033,        0.11,     0.10996,      0.1095,     0.10905,     0.10812,     0.10735,     0.10715,     0.10593,     0.10486,     0.10399,     0.10399,     0.10225,     0.10176,     0.10149,     0.10056,    0.099684,     0.09956,    0.099219,    0.097669,\n",
              "           0.097359,    0.096342,     0.09627,    0.096246,     0.09619,    0.096142,    0.096006,    0.095751,    0.095502,    0.095445,    0.094967,    0.094405,    0.094405,    0.093782,    0.093639,     0.09314,    0.092655,    0.089642,    0.089016,    0.088189,    0.087863,    0.087575,    0.086844,\n",
              "           0.085561,    0.085186,    0.085103,    0.084449,    0.083407,    0.082793,    0.081552,    0.080835,    0.080646,    0.079982,    0.078857,    0.078092,    0.077222,    0.077055,    0.076907,    0.076136,    0.075269,     0.07511,    0.074549,    0.074242,    0.072894,    0.072079,    0.071623,\n",
              "           0.071236,    0.071135,    0.071017,    0.070336,    0.070279,    0.069153,    0.068329,    0.068193,    0.067641,    0.067001,    0.066646,    0.066492,    0.066194,    0.066017,    0.065387,    0.064097,    0.062927,    0.062395,    0.061314,    0.060221,     0.06009,    0.058639,    0.058332,\n",
              "           0.056763,    0.055414,    0.053024,    0.051597,     0.04899,     0.04575,    0.045535,    0.045319,    0.045103,    0.044887,    0.044671,    0.044456,     0.04424,    0.044024,    0.043808,    0.043592,    0.043377,    0.043161,    0.042945,    0.042729,    0.042513,    0.042298,    0.042082,\n",
              "           0.041866,     0.04165,    0.041434,    0.041219,    0.041003,    0.040787,    0.040571,    0.040355,    0.040139,    0.039924,    0.039708,    0.039492,    0.039276,     0.03906,    0.038845,    0.038629,    0.038413,    0.038197,    0.037981,    0.037766,     0.03755,    0.037334,    0.037118,\n",
              "           0.036902,    0.036687,    0.036471,    0.036255,    0.036039,    0.035823,    0.035608,    0.035392,    0.035176,     0.03496,    0.034744,    0.034529,    0.034313,    0.034097,    0.033881,    0.033665,     0.03345,    0.033234,    0.033018,    0.032802,    0.032586,    0.032371,    0.032155,\n",
              "           0.031939,    0.031723,    0.031507,    0.031292,    0.031076,     0.03086,    0.030644,    0.030428,    0.030213,    0.029997,    0.029781,    0.029565,    0.029349,    0.029134,    0.028918,    0.028702,    0.028486,     0.02827,    0.028054,    0.027839,    0.027623,    0.027407,    0.027191,\n",
              "           0.026975,     0.02676,    0.026544,    0.026328,    0.026112,    0.025896,    0.025681,    0.025465,    0.025249,    0.025033,    0.024817,    0.024602,    0.024386,     0.02417,    0.023954,    0.023738,    0.023523,    0.023307,    0.023091,    0.022875,    0.022659,    0.022444,    0.022228,\n",
              "           0.022012,    0.021796,     0.02158,    0.021365,    0.021149,    0.020933,    0.020717,    0.020501,    0.020286,     0.02007,    0.019854,    0.019638,    0.019422,    0.019207,    0.018991,    0.018775,    0.018559,    0.018343,    0.018128,    0.017912,    0.017696,     0.01748,    0.017264,\n",
              "           0.017048,    0.016833,    0.016617,    0.016401,    0.016185,    0.015969,    0.015754,    0.015538,    0.015322,    0.015106,     0.01489,    0.014675,    0.014459,    0.014243,    0.014027,    0.013811,    0.013596,     0.01338,    0.013164,    0.012948,    0.012732,    0.012517,    0.012301,\n",
              "           0.012085,    0.011869,    0.011653,    0.011438,    0.011222,    0.011006,     0.01079,    0.010574,    0.010359,    0.010143,    0.009927,   0.0097112,   0.0094954,   0.0092796,   0.0090638,    0.008848,   0.0086321,   0.0084163,   0.0082005,   0.0079847,   0.0077689,   0.0075531,   0.0073373,\n",
              "          0.0071215,   0.0069057,   0.0066899,   0.0064741,   0.0062583,   0.0060425,   0.0058267,   0.0056109,   0.0053951,   0.0051793,   0.0049635,   0.0047477,   0.0045319,   0.0043161,   0.0041003,   0.0038845,   0.0036687,   0.0034529,   0.0032371,   0.0030213,   0.0028054,   0.0025896,   0.0023738,\n",
              "           0.002158,   0.0019422,   0.0017264,   0.0015106,   0.0012948,    0.001079,  0.00086321,  0.00064741,  0.00043161,   0.0002158,           0]]), 'Recall', 'Precision'], [array([          0,    0.001001,    0.002002,    0.003003,    0.004004,    0.005005,    0.006006,    0.007007,    0.008008,    0.009009,     0.01001,    0.011011,    0.012012,    0.013013,    0.014014,    0.015015,    0.016016,    0.017017,    0.018018,    0.019019,     0.02002,    0.021021,    0.022022,    0.023023,\n",
              "          0.024024,    0.025025,    0.026026,    0.027027,    0.028028,    0.029029,     0.03003,    0.031031,    0.032032,    0.033033,    0.034034,    0.035035,    0.036036,    0.037037,    0.038038,    0.039039,     0.04004,    0.041041,    0.042042,    0.043043,    0.044044,    0.045045,    0.046046,    0.047047,\n",
              "          0.048048,    0.049049,     0.05005,    0.051051,    0.052052,    0.053053,    0.054054,    0.055055,    0.056056,    0.057057,    0.058058,    0.059059,     0.06006,    0.061061,    0.062062,    0.063063,    0.064064,    0.065065,    0.066066,    0.067067,    0.068068,    0.069069,     0.07007,    0.071071,\n",
              "          0.072072,    0.073073,    0.074074,    0.075075,    0.076076,    0.077077,    0.078078,    0.079079,     0.08008,    0.081081,    0.082082,    0.083083,    0.084084,    0.085085,    0.086086,    0.087087,    0.088088,    0.089089,     0.09009,    0.091091,    0.092092,    0.093093,    0.094094,    0.095095,\n",
              "          0.096096,    0.097097,    0.098098,    0.099099,      0.1001,      0.1011,      0.1021,      0.1031,      0.1041,     0.10511,     0.10611,     0.10711,     0.10811,     0.10911,     0.11011,     0.11111,     0.11211,     0.11311,     0.11411,     0.11512,     0.11612,     0.11712,     0.11812,     0.11912,\n",
              "           0.12012,     0.12112,     0.12212,     0.12312,     0.12412,     0.12513,     0.12613,     0.12713,     0.12813,     0.12913,     0.13013,     0.13113,     0.13213,     0.13313,     0.13413,     0.13514,     0.13614,     0.13714,     0.13814,     0.13914,     0.14014,     0.14114,     0.14214,     0.14314,\n",
              "           0.14414,     0.14515,     0.14615,     0.14715,     0.14815,     0.14915,     0.15015,     0.15115,     0.15215,     0.15315,     0.15415,     0.15516,     0.15616,     0.15716,     0.15816,     0.15916,     0.16016,     0.16116,     0.16216,     0.16316,     0.16416,     0.16517,     0.16617,     0.16717,\n",
              "           0.16817,     0.16917,     0.17017,     0.17117,     0.17217,     0.17317,     0.17417,     0.17518,     0.17618,     0.17718,     0.17818,     0.17918,     0.18018,     0.18118,     0.18218,     0.18318,     0.18418,     0.18519,     0.18619,     0.18719,     0.18819,     0.18919,     0.19019,     0.19119,\n",
              "           0.19219,     0.19319,     0.19419,      0.1952,      0.1962,      0.1972,      0.1982,      0.1992,      0.2002,      0.2012,      0.2022,      0.2032,      0.2042,     0.20521,     0.20621,     0.20721,     0.20821,     0.20921,     0.21021,     0.21121,     0.21221,     0.21321,     0.21421,     0.21522,\n",
              "           0.21622,     0.21722,     0.21822,     0.21922,     0.22022,     0.22122,     0.22222,     0.22322,     0.22422,     0.22523,     0.22623,     0.22723,     0.22823,     0.22923,     0.23023,     0.23123,     0.23223,     0.23323,     0.23423,     0.23524,     0.23624,     0.23724,     0.23824,     0.23924,\n",
              "           0.24024,     0.24124,     0.24224,     0.24324,     0.24424,     0.24525,     0.24625,     0.24725,     0.24825,     0.24925,     0.25025,     0.25125,     0.25225,     0.25325,     0.25425,     0.25526,     0.25626,     0.25726,     0.25826,     0.25926,     0.26026,     0.26126,     0.26226,     0.26326,\n",
              "           0.26426,     0.26527,     0.26627,     0.26727,     0.26827,     0.26927,     0.27027,     0.27127,     0.27227,     0.27327,     0.27427,     0.27528,     0.27628,     0.27728,     0.27828,     0.27928,     0.28028,     0.28128,     0.28228,     0.28328,     0.28428,     0.28529,     0.28629,     0.28729,\n",
              "           0.28829,     0.28929,     0.29029,     0.29129,     0.29229,     0.29329,     0.29429,      0.2953,      0.2963,      0.2973,      0.2983,      0.2993,      0.3003,      0.3013,      0.3023,      0.3033,      0.3043,     0.30531,     0.30631,     0.30731,     0.30831,     0.30931,     0.31031,     0.31131,\n",
              "           0.31231,     0.31331,     0.31431,     0.31532,     0.31632,     0.31732,     0.31832,     0.31932,     0.32032,     0.32132,     0.32232,     0.32332,     0.32432,     0.32533,     0.32633,     0.32733,     0.32833,     0.32933,     0.33033,     0.33133,     0.33233,     0.33333,     0.33433,     0.33534,\n",
              "           0.33634,     0.33734,     0.33834,     0.33934,     0.34034,     0.34134,     0.34234,     0.34334,     0.34434,     0.34535,     0.34635,     0.34735,     0.34835,     0.34935,     0.35035,     0.35135,     0.35235,     0.35335,     0.35435,     0.35536,     0.35636,     0.35736,     0.35836,     0.35936,\n",
              "           0.36036,     0.36136,     0.36236,     0.36336,     0.36436,     0.36537,     0.36637,     0.36737,     0.36837,     0.36937,     0.37037,     0.37137,     0.37237,     0.37337,     0.37437,     0.37538,     0.37638,     0.37738,     0.37838,     0.37938,     0.38038,     0.38138,     0.38238,     0.38338,\n",
              "           0.38438,     0.38539,     0.38639,     0.38739,     0.38839,     0.38939,     0.39039,     0.39139,     0.39239,     0.39339,     0.39439,      0.3954,      0.3964,      0.3974,      0.3984,      0.3994,      0.4004,      0.4014,      0.4024,      0.4034,      0.4044,     0.40541,     0.40641,     0.40741,\n",
              "           0.40841,     0.40941,     0.41041,     0.41141,     0.41241,     0.41341,     0.41441,     0.41542,     0.41642,     0.41742,     0.41842,     0.41942,     0.42042,     0.42142,     0.42242,     0.42342,     0.42442,     0.42543,     0.42643,     0.42743,     0.42843,     0.42943,     0.43043,     0.43143,\n",
              "           0.43243,     0.43343,     0.43443,     0.43544,     0.43644,     0.43744,     0.43844,     0.43944,     0.44044,     0.44144,     0.44244,     0.44344,     0.44444,     0.44545,     0.44645,     0.44745,     0.44845,     0.44945,     0.45045,     0.45145,     0.45245,     0.45345,     0.45445,     0.45546,\n",
              "           0.45646,     0.45746,     0.45846,     0.45946,     0.46046,     0.46146,     0.46246,     0.46346,     0.46446,     0.46547,     0.46647,     0.46747,     0.46847,     0.46947,     0.47047,     0.47147,     0.47247,     0.47347,     0.47447,     0.47548,     0.47648,     0.47748,     0.47848,     0.47948,\n",
              "           0.48048,     0.48148,     0.48248,     0.48348,     0.48448,     0.48549,     0.48649,     0.48749,     0.48849,     0.48949,     0.49049,     0.49149,     0.49249,     0.49349,     0.49449,      0.4955,      0.4965,      0.4975,      0.4985,      0.4995,      0.5005,      0.5015,      0.5025,      0.5035,\n",
              "            0.5045,     0.50551,     0.50651,     0.50751,     0.50851,     0.50951,     0.51051,     0.51151,     0.51251,     0.51351,     0.51451,     0.51552,     0.51652,     0.51752,     0.51852,     0.51952,     0.52052,     0.52152,     0.52252,     0.52352,     0.52452,     0.52553,     0.52653,     0.52753,\n",
              "           0.52853,     0.52953,     0.53053,     0.53153,     0.53253,     0.53353,     0.53453,     0.53554,     0.53654,     0.53754,     0.53854,     0.53954,     0.54054,     0.54154,     0.54254,     0.54354,     0.54454,     0.54555,     0.54655,     0.54755,     0.54855,     0.54955,     0.55055,     0.55155,\n",
              "           0.55255,     0.55355,     0.55455,     0.55556,     0.55656,     0.55756,     0.55856,     0.55956,     0.56056,     0.56156,     0.56256,     0.56356,     0.56456,     0.56557,     0.56657,     0.56757,     0.56857,     0.56957,     0.57057,     0.57157,     0.57257,     0.57357,     0.57457,     0.57558,\n",
              "           0.57658,     0.57758,     0.57858,     0.57958,     0.58058,     0.58158,     0.58258,     0.58358,     0.58458,     0.58559,     0.58659,     0.58759,     0.58859,     0.58959,     0.59059,     0.59159,     0.59259,     0.59359,     0.59459,      0.5956,      0.5966,      0.5976,      0.5986,      0.5996,\n",
              "            0.6006,      0.6016,      0.6026,      0.6036,      0.6046,     0.60561,     0.60661,     0.60761,     0.60861,     0.60961,     0.61061,     0.61161,     0.61261,     0.61361,     0.61461,     0.61562,     0.61662,     0.61762,     0.61862,     0.61962,     0.62062,     0.62162,     0.62262,     0.62362,\n",
              "           0.62462,     0.62563,     0.62663,     0.62763,     0.62863,     0.62963,     0.63063,     0.63163,     0.63263,     0.63363,     0.63463,     0.63564,     0.63664,     0.63764,     0.63864,     0.63964,     0.64064,     0.64164,     0.64264,     0.64364,     0.64464,     0.64565,     0.64665,     0.64765,\n",
              "           0.64865,     0.64965,     0.65065,     0.65165,     0.65265,     0.65365,     0.65465,     0.65566,     0.65666,     0.65766,     0.65866,     0.65966,     0.66066,     0.66166,     0.66266,     0.66366,     0.66466,     0.66567,     0.66667,     0.66767,     0.66867,     0.66967,     0.67067,     0.67167,\n",
              "           0.67267,     0.67367,     0.67467,     0.67568,     0.67668,     0.67768,     0.67868,     0.67968,     0.68068,     0.68168,     0.68268,     0.68368,     0.68468,     0.68569,     0.68669,     0.68769,     0.68869,     0.68969,     0.69069,     0.69169,     0.69269,     0.69369,     0.69469,      0.6957,\n",
              "            0.6967,      0.6977,      0.6987,      0.6997,      0.7007,      0.7017,      0.7027,      0.7037,      0.7047,     0.70571,     0.70671,     0.70771,     0.70871,     0.70971,     0.71071,     0.71171,     0.71271,     0.71371,     0.71471,     0.71572,     0.71672,     0.71772,     0.71872,     0.71972,\n",
              "           0.72072,     0.72172,     0.72272,     0.72372,     0.72472,     0.72573,     0.72673,     0.72773,     0.72873,     0.72973,     0.73073,     0.73173,     0.73273,     0.73373,     0.73473,     0.73574,     0.73674,     0.73774,     0.73874,     0.73974,     0.74074,     0.74174,     0.74274,     0.74374,\n",
              "           0.74474,     0.74575,     0.74675,     0.74775,     0.74875,     0.74975,     0.75075,     0.75175,     0.75275,     0.75375,     0.75475,     0.75576,     0.75676,     0.75776,     0.75876,     0.75976,     0.76076,     0.76176,     0.76276,     0.76376,     0.76476,     0.76577,     0.76677,     0.76777,\n",
              "           0.76877,     0.76977,     0.77077,     0.77177,     0.77277,     0.77377,     0.77477,     0.77578,     0.77678,     0.77778,     0.77878,     0.77978,     0.78078,     0.78178,     0.78278,     0.78378,     0.78478,     0.78579,     0.78679,     0.78779,     0.78879,     0.78979,     0.79079,     0.79179,\n",
              "           0.79279,     0.79379,     0.79479,      0.7958,      0.7968,      0.7978,      0.7988,      0.7998,      0.8008,      0.8018,      0.8028,      0.8038,      0.8048,     0.80581,     0.80681,     0.80781,     0.80881,     0.80981,     0.81081,     0.81181,     0.81281,     0.81381,     0.81481,     0.81582,\n",
              "           0.81682,     0.81782,     0.81882,     0.81982,     0.82082,     0.82182,     0.82282,     0.82382,     0.82482,     0.82583,     0.82683,     0.82783,     0.82883,     0.82983,     0.83083,     0.83183,     0.83283,     0.83383,     0.83483,     0.83584,     0.83684,     0.83784,     0.83884,     0.83984,\n",
              "           0.84084,     0.84184,     0.84284,     0.84384,     0.84484,     0.84585,     0.84685,     0.84785,     0.84885,     0.84985,     0.85085,     0.85185,     0.85285,     0.85385,     0.85485,     0.85586,     0.85686,     0.85786,     0.85886,     0.85986,     0.86086,     0.86186,     0.86286,     0.86386,\n",
              "           0.86486,     0.86587,     0.86687,     0.86787,     0.86887,     0.86987,     0.87087,     0.87187,     0.87287,     0.87387,     0.87487,     0.87588,     0.87688,     0.87788,     0.87888,     0.87988,     0.88088,     0.88188,     0.88288,     0.88388,     0.88488,     0.88589,     0.88689,     0.88789,\n",
              "           0.88889,     0.88989,     0.89089,     0.89189,     0.89289,     0.89389,     0.89489,      0.8959,      0.8969,      0.8979,      0.8989,      0.8999,      0.9009,      0.9019,      0.9029,      0.9039,      0.9049,     0.90591,     0.90691,     0.90791,     0.90891,     0.90991,     0.91091,     0.91191,\n",
              "           0.91291,     0.91391,     0.91491,     0.91592,     0.91692,     0.91792,     0.91892,     0.91992,     0.92092,     0.92192,     0.92292,     0.92392,     0.92492,     0.92593,     0.92693,     0.92793,     0.92893,     0.92993,     0.93093,     0.93193,     0.93293,     0.93393,     0.93493,     0.93594,\n",
              "           0.93694,     0.93794,     0.93894,     0.93994,     0.94094,     0.94194,     0.94294,     0.94394,     0.94494,     0.94595,     0.94695,     0.94795,     0.94895,     0.94995,     0.95095,     0.95195,     0.95295,     0.95395,     0.95495,     0.95596,     0.95696,     0.95796,     0.95896,     0.95996,\n",
              "           0.96096,     0.96196,     0.96296,     0.96396,     0.96496,     0.96597,     0.96697,     0.96797,     0.96897,     0.96997,     0.97097,     0.97197,     0.97297,     0.97397,     0.97497,     0.97598,     0.97698,     0.97798,     0.97898,     0.97998,     0.98098,     0.98198,     0.98298,     0.98398,\n",
              "           0.98498,     0.98599,     0.98699,     0.98799,     0.98899,     0.98999,     0.99099,     0.99199,     0.99299,     0.99399,     0.99499,       0.996,       0.997,       0.998,       0.999,           1]), array([[   0.086811,    0.086811,    0.090046,     0.09319,    0.096783,    0.099964,     0.10255,     0.10479,     0.10707,     0.10911,     0.11143,     0.11311,     0.11476,      0.1165,     0.11837,     0.11994,     0.12153,     0.12297,     0.12433,     0.12581,     0.12735,      0.1287,     0.13015,\n",
              "            0.13139,     0.13293,     0.13458,     0.13591,     0.13726,     0.13906,     0.14034,     0.14198,     0.14376,     0.14544,     0.14697,     0.14862,     0.15029,     0.15213,     0.15349,     0.15528,     0.15696,     0.15872,     0.16051,     0.16223,     0.16452,     0.16598,     0.16736,\n",
              "            0.16891,     0.16978,     0.17171,     0.17382,     0.17556,     0.17749,     0.17889,     0.18103,     0.18264,     0.18468,     0.18685,     0.18873,     0.19015,     0.19123,     0.19348,     0.19507,     0.19716,     0.19824,      0.2008,     0.20281,     0.20464,     0.20684,     0.20888,\n",
              "            0.21046,     0.21198,     0.21298,      0.2141,     0.21606,     0.21826,     0.21972,     0.22147,     0.22249,      0.2242,      0.2261,     0.22844,     0.23052,     0.23175,     0.23275,     0.23488,     0.23624,     0.23815,     0.24012,     0.24237,     0.24409,     0.24631,     0.24801,\n",
              "            0.25045,     0.25187,     0.25404,     0.25653,     0.25786,     0.25945,     0.26066,     0.26323,     0.26608,     0.26864,     0.26994,     0.27235,     0.27419,     0.27652,     0.27673,     0.27838,      0.2803,      0.2827,     0.28458,     0.28663,     0.28884,     0.29069,      0.2914,\n",
              "            0.29304,     0.29384,      0.2951,     0.29779,      0.2992,     0.30087,     0.30237,     0.30514,      0.3072,     0.30923,     0.31016,     0.31164,     0.31232,     0.31404,     0.31637,     0.31816,     0.31999,     0.32179,     0.32243,     0.32489,     0.32691,     0.32655,     0.32719,\n",
              "            0.32903,     0.33015,     0.33047,     0.33159,     0.33404,     0.33439,     0.33625,     0.33636,     0.33922,     0.33989,     0.33957,     0.34087,      0.3419,     0.34366,     0.34581,     0.34682,     0.34811,     0.34916,     0.35021,     0.34915,     0.34824,     0.34818,     0.34845,\n",
              "            0.34869,     0.34947,      0.3497,     0.35001,     0.35069,     0.35183,     0.35204,     0.35289,      0.3546,     0.35496,     0.35742,     0.35897,     0.36013,     0.36117,     0.36013,     0.36072,     0.36138,     0.36152,     0.36006,     0.36164,     0.36201,     0.36334,     0.36155,\n",
              "            0.36349,     0.36398,     0.36247,     0.36423,      0.3637,      0.3642,     0.36347,     0.36235,     0.36194,     0.36256,     0.36348,      0.3628,     0.36325,     0.36222,     0.36089,     0.36188,     0.36421,     0.36214,     0.36123,     0.36119,     0.35923,     0.35857,     0.35765,\n",
              "            0.35768,     0.35922,     0.35826,     0.35775,     0.35769,     0.35835,     0.35733,     0.35728,     0.35583,     0.35575,     0.35493,     0.35514,     0.35546,     0.35422,     0.35431,     0.35205,     0.35199,     0.35159,     0.35113,     0.35063,     0.35077,     0.34912,     0.34904,\n",
              "            0.34905,     0.34949,     0.34958,        0.35,     0.34956,     0.34923,     0.34953,      0.3497,     0.34921,     0.34949,     0.34695,     0.34667,     0.34774,     0.34672,     0.34594,     0.34536,     0.34569,     0.34413,      0.3435,     0.34168,     0.34152,     0.34058,     0.33952,\n",
              "            0.33959,     0.33772,     0.33807,     0.33743,     0.33659,     0.33685,      0.3362,     0.33645,     0.33596,      0.3363,     0.33588,     0.33546,     0.33421,      0.3331,     0.33089,     0.32754,     0.32559,     0.32468,     0.32229,      0.3207,     0.32105,     0.32021,     0.31744,\n",
              "            0.31664,     0.31551,     0.31337,      0.3121,     0.31304,     0.31311,     0.31256,     0.31053,     0.31094,     0.31082,      0.3092,     0.30783,     0.30707,     0.30639,     0.30584,     0.30632,     0.30522,     0.30399,     0.30377,     0.30317,     0.30169,     0.30084,     0.29944,\n",
              "             0.2983,     0.29676,     0.29742,     0.29692,     0.29738,     0.29605,     0.29265,     0.29157,     0.29135,     0.29069,     0.29061,     0.29034,     0.28987,     0.28819,     0.28703,     0.28652,     0.28542,     0.28507,     0.28436,     0.28197,     0.27962,     0.27794,      0.2767,\n",
              "            0.27444,     0.27498,     0.27444,      0.2741,      0.2742,     0.27431,      0.2717,     0.27043,     0.26919,      0.2688,     0.26751,     0.26666,     0.26549,     0.26502,     0.26435,     0.26387,     0.26407,     0.26308,     0.26109,     0.25934,     0.25892,     0.25662,     0.25542,\n",
              "            0.25427,     0.25266,     0.25177,     0.25114,     0.25085,     0.24953,     0.24936,     0.24867,     0.24833,     0.24783,     0.24795,     0.24517,     0.24348,     0.24148,     0.23949,     0.23893,      0.2385,      0.2375,      0.2366,     0.23522,     0.23313,     0.23166,     0.23014,\n",
              "            0.22903,     0.22926,     0.22939,     0.22929,     0.22812,     0.22645,     0.22577,     0.22498,     0.22134,     0.22002,      0.2202,     0.21961,     0.21871,     0.21515,     0.21297,     0.21167,     0.20916,      0.2088,     0.20863,     0.20883,     0.20635,       0.206,     0.20605,\n",
              "            0.20591,     0.20547,     0.20487,     0.20402,      0.2029,     0.20124,     0.20011,     0.19969,     0.19928,     0.19815,     0.19675,     0.19487,     0.19424,     0.19106,     0.19003,     0.18899,     0.18904,     0.18811,     0.18671,     0.18495,     0.18376,     0.18165,     0.18096,\n",
              "             0.1805,     0.17997,     0.17922,     0.17847,     0.17686,     0.17395,     0.17234,     0.17091,     0.17098,     0.17104,     0.17026,      0.1692,     0.16823,     0.16679,     0.16632,     0.16608,     0.16574,     0.16495,     0.16359,     0.16234,     0.16187,     0.15904,     0.15784,\n",
              "            0.15716,     0.15549,     0.15446,     0.15331,     0.15193,     0.15136,     0.15101,     0.14975,     0.14957,     0.14903,     0.14718,      0.1472,     0.14721,     0.14723,     0.14604,     0.14467,     0.14421,     0.14379,      0.1427,     0.14213,      0.1401,     0.13967,     0.13857,\n",
              "            0.13721,     0.13678,     0.13676,     0.13563,     0.13449,     0.13392,     0.13351,     0.13259,     0.13269,     0.12986,     0.12913,     0.12854,     0.12728,     0.12656,     0.12383,     0.12208,     0.12166,     0.12125,     0.12037,      0.1204,     0.12044,     0.12049,     0.12053,\n",
              "            0.12008,     0.11783,     0.11747,      0.1171,     0.11677,     0.11617,     0.11455,      0.1136,       0.113,     0.11248,     0.11203,     0.11158,     0.11074,     0.11046,     0.10939,     0.10803,      0.1081,     0.10601,      0.1054,     0.10459,     0.10339,     0.10285,      0.1025,\n",
              "             0.1019,     0.10186,     0.10127,     0.09925,    0.098648,    0.098178,    0.096907,    0.096493,    0.095594,    0.094584,    0.092964,    0.092534,     0.09256,    0.092248,    0.091775,    0.091146,    0.090213,    0.088848,    0.088863,    0.088882,     0.08869,    0.086545,    0.085804,\n",
              "           0.084701,    0.083999,    0.083349,    0.081175,    0.080706,    0.080156,    0.079531,    0.077593,    0.075365,    0.074248,    0.073813,    0.072903,    0.072464,    0.071893,    0.071775,    0.071657,    0.071539,    0.071421,    0.071302,    0.071184,    0.071066,    0.070596,    0.070067,\n",
              "           0.069307,    0.067751,    0.066797,    0.066238,    0.066212,    0.066227,    0.065607,    0.064883,     0.06429,    0.063695,     0.06309,     0.06267,    0.062169,    0.061476,    0.061406,    0.061413,     0.06142,    0.061427,    0.061435,    0.061444,    0.061453,    0.060493,     0.05931,\n",
              "           0.059053,    0.058796,    0.058539,    0.058554,    0.058402,     0.05823,    0.058059,    0.057888,    0.057716,    0.057378,    0.056366,    0.055614,    0.055461,    0.053536,    0.051707,    0.051688,     0.05144,    0.051191,    0.050942,    0.050767,    0.050785,    0.050822,    0.050834,\n",
              "           0.050856,    0.050133,    0.049345,    0.048631,    0.047918,    0.047661,    0.047425,     0.04719,    0.046954,    0.046574,     0.04614,    0.044899,    0.044903,    0.044907,     0.04491,    0.044914,    0.044918,    0.044039,    0.042754,    0.041837,    0.041281,    0.040676,    0.039984,\n",
              "           0.039053,    0.038479,    0.037969,    0.035725,    0.034171,    0.033885,    0.033892,    0.033895,    0.033542,     0.03319,    0.032441,    0.031193,    0.029852,    0.029854,    0.029856,    0.029857,    0.029859,    0.029861,    0.029863,    0.029865,    0.029761,    0.029513,    0.029265,\n",
              "           0.029016,    0.028813,    0.028701,    0.028588,    0.028475,    0.028362,    0.028249,    0.028136,    0.028024,    0.027911,    0.026795,    0.026484,    0.026173,    0.025862,    0.025547,    0.025232,    0.024916,     0.02469,    0.024532,    0.024374,    0.024216,    0.024058,      0.0239,\n",
              "           0.023666,    0.022854,    0.022674,    0.022597,    0.022521,    0.022445,    0.022369,    0.022292,    0.022216,     0.02214,    0.022064,    0.021987,    0.021911,    0.021835,    0.021759,    0.021543,    0.021156,    0.020769,    0.020451,     0.02015,    0.019848,    0.019576,    0.019345,\n",
              "           0.019115,    0.018885,    0.018655,    0.018644,    0.018645,    0.018646,    0.018647,    0.018648,    0.018649,     0.01865,    0.018651,    0.018652,    0.018647,    0.018553,    0.018459,    0.018365,    0.018271,    0.018177,    0.018083,     0.01799,    0.017896,    0.017802,    0.017708,\n",
              "           0.017615,    0.017524,    0.017434,    0.017344,    0.017254,    0.017164,    0.017074,    0.016983,    0.016893,    0.016803,    0.016713,    0.016622,    0.016598,      0.0166,    0.016601,    0.016602,    0.016603,    0.016604,    0.016605,    0.016606,    0.016607,    0.016608,    0.016609,\n",
              "            0.01661,    0.016611,    0.016612,    0.016613,    0.016614,    0.016614,    0.016162,    0.015343,    0.014599,    0.013496,     0.01317,    0.012843,    0.012517,    0.011954,    0.011422,    0.011212,    0.011002,    0.010792,    0.010582,    0.010327,   0.0099075,   0.0094882,   0.0093136,\n",
              "          0.0092242,   0.0091348,   0.0090455,   0.0089561,   0.0088666,   0.0087772,   0.0086878,   0.0085984,   0.0085089,   0.0084195,   0.0083277,   0.0082211,   0.0081145,   0.0080078,   0.0079011,   0.0077945,   0.0076878,   0.0075811,   0.0074743,   0.0073676,   0.0072185,   0.0070044,   0.0067903,\n",
              "          0.0065762,    0.006362,   0.0052009,   0.0051518,   0.0051026,   0.0050535,   0.0050044,   0.0049553,   0.0049061,    0.004857,   0.0048079,   0.0047587,   0.0047096,   0.0046604,   0.0046113,   0.0045621,    0.004513,   0.0044638,   0.0044147,   0.0043655,   0.0043164,   0.0042672,    0.004218,\n",
              "          0.0041742,    0.004149,   0.0041238,   0.0040987,   0.0040735,   0.0040483,   0.0040232,    0.003998,   0.0039728,   0.0039477,   0.0039225,   0.0038973,   0.0038722,    0.003847,   0.0038218,   0.0037967,   0.0037715,   0.0037463,   0.0037211,    0.003696,   0.0036708,   0.0036456,   0.0036204,\n",
              "          0.0035953,   0.0035701,   0.0035449,   0.0035197,   0.0034945,   0.0034694,   0.0034442,    0.003419,   0.0033938,   0.0033686,   0.0033434,   0.0033183,   0.0032931,   0.0032679,   0.0032427,   0.0032175,   0.0031923,   0.0031671,    0.003142,   0.0028312,   0.0024401,   0.0020834,   0.0020048,\n",
              "          0.0019261,   0.0018475,   0.0017689,   0.0016903,   0.0016116,    0.001533,   0.0014543,   0.0013756,    0.001297,   0.0012183,   0.0011396,   0.0010609,           0,           0,           0,           0,           0,           0,           0,           0,           0,           0,           0,\n",
              "                  0,           0,           0,           0,           0,           0,           0,           0,           0,           0,           0,           0,           0,           0,           0,           0,           0,           0,           0,           0,           0,           0,           0,\n",
              "                  0,           0,           0,           0,           0,           0,           0,           0,           0,           0,           0,           0,           0,           0,           0,           0,           0,           0,           0,           0,           0,           0,           0,\n",
              "                  0,           0,           0,           0,           0,           0,           0,           0,           0,           0,           0,           0,           0,           0,           0,           0,           0,           0,           0,           0,           0,           0,           0,\n",
              "                  0,           0,           0,           0,           0,           0,           0,           0,           0,           0,           0,           0,           0,           0,           0,           0,           0,           0,           0,           0,           0,           0,           0,\n",
              "                  0,           0,           0,           0,           0,           0,           0,           0,           0,           0,           0,           0,           0,           0,           0,           0,           0,           0,           0,           0,           0,           0,           0,\n",
              "                  0,           0,           0,           0,           0,           0,           0,           0,           0,           0,           0]]), 'Confidence', 'F1'], [array([          0,    0.001001,    0.002002,    0.003003,    0.004004,    0.005005,    0.006006,    0.007007,    0.008008,    0.009009,     0.01001,    0.011011,    0.012012,    0.013013,    0.014014,    0.015015,    0.016016,    0.017017,    0.018018,    0.019019,     0.02002,    0.021021,    0.022022,    0.023023,\n",
              "          0.024024,    0.025025,    0.026026,    0.027027,    0.028028,    0.029029,     0.03003,    0.031031,    0.032032,    0.033033,    0.034034,    0.035035,    0.036036,    0.037037,    0.038038,    0.039039,     0.04004,    0.041041,    0.042042,    0.043043,    0.044044,    0.045045,    0.046046,    0.047047,\n",
              "          0.048048,    0.049049,     0.05005,    0.051051,    0.052052,    0.053053,    0.054054,    0.055055,    0.056056,    0.057057,    0.058058,    0.059059,     0.06006,    0.061061,    0.062062,    0.063063,    0.064064,    0.065065,    0.066066,    0.067067,    0.068068,    0.069069,     0.07007,    0.071071,\n",
              "          0.072072,    0.073073,    0.074074,    0.075075,    0.076076,    0.077077,    0.078078,    0.079079,     0.08008,    0.081081,    0.082082,    0.083083,    0.084084,    0.085085,    0.086086,    0.087087,    0.088088,    0.089089,     0.09009,    0.091091,    0.092092,    0.093093,    0.094094,    0.095095,\n",
              "          0.096096,    0.097097,    0.098098,    0.099099,      0.1001,      0.1011,      0.1021,      0.1031,      0.1041,     0.10511,     0.10611,     0.10711,     0.10811,     0.10911,     0.11011,     0.11111,     0.11211,     0.11311,     0.11411,     0.11512,     0.11612,     0.11712,     0.11812,     0.11912,\n",
              "           0.12012,     0.12112,     0.12212,     0.12312,     0.12412,     0.12513,     0.12613,     0.12713,     0.12813,     0.12913,     0.13013,     0.13113,     0.13213,     0.13313,     0.13413,     0.13514,     0.13614,     0.13714,     0.13814,     0.13914,     0.14014,     0.14114,     0.14214,     0.14314,\n",
              "           0.14414,     0.14515,     0.14615,     0.14715,     0.14815,     0.14915,     0.15015,     0.15115,     0.15215,     0.15315,     0.15415,     0.15516,     0.15616,     0.15716,     0.15816,     0.15916,     0.16016,     0.16116,     0.16216,     0.16316,     0.16416,     0.16517,     0.16617,     0.16717,\n",
              "           0.16817,     0.16917,     0.17017,     0.17117,     0.17217,     0.17317,     0.17417,     0.17518,     0.17618,     0.17718,     0.17818,     0.17918,     0.18018,     0.18118,     0.18218,     0.18318,     0.18418,     0.18519,     0.18619,     0.18719,     0.18819,     0.18919,     0.19019,     0.19119,\n",
              "           0.19219,     0.19319,     0.19419,      0.1952,      0.1962,      0.1972,      0.1982,      0.1992,      0.2002,      0.2012,      0.2022,      0.2032,      0.2042,     0.20521,     0.20621,     0.20721,     0.20821,     0.20921,     0.21021,     0.21121,     0.21221,     0.21321,     0.21421,     0.21522,\n",
              "           0.21622,     0.21722,     0.21822,     0.21922,     0.22022,     0.22122,     0.22222,     0.22322,     0.22422,     0.22523,     0.22623,     0.22723,     0.22823,     0.22923,     0.23023,     0.23123,     0.23223,     0.23323,     0.23423,     0.23524,     0.23624,     0.23724,     0.23824,     0.23924,\n",
              "           0.24024,     0.24124,     0.24224,     0.24324,     0.24424,     0.24525,     0.24625,     0.24725,     0.24825,     0.24925,     0.25025,     0.25125,     0.25225,     0.25325,     0.25425,     0.25526,     0.25626,     0.25726,     0.25826,     0.25926,     0.26026,     0.26126,     0.26226,     0.26326,\n",
              "           0.26426,     0.26527,     0.26627,     0.26727,     0.26827,     0.26927,     0.27027,     0.27127,     0.27227,     0.27327,     0.27427,     0.27528,     0.27628,     0.27728,     0.27828,     0.27928,     0.28028,     0.28128,     0.28228,     0.28328,     0.28428,     0.28529,     0.28629,     0.28729,\n",
              "           0.28829,     0.28929,     0.29029,     0.29129,     0.29229,     0.29329,     0.29429,      0.2953,      0.2963,      0.2973,      0.2983,      0.2993,      0.3003,      0.3013,      0.3023,      0.3033,      0.3043,     0.30531,     0.30631,     0.30731,     0.30831,     0.30931,     0.31031,     0.31131,\n",
              "           0.31231,     0.31331,     0.31431,     0.31532,     0.31632,     0.31732,     0.31832,     0.31932,     0.32032,     0.32132,     0.32232,     0.32332,     0.32432,     0.32533,     0.32633,     0.32733,     0.32833,     0.32933,     0.33033,     0.33133,     0.33233,     0.33333,     0.33433,     0.33534,\n",
              "           0.33634,     0.33734,     0.33834,     0.33934,     0.34034,     0.34134,     0.34234,     0.34334,     0.34434,     0.34535,     0.34635,     0.34735,     0.34835,     0.34935,     0.35035,     0.35135,     0.35235,     0.35335,     0.35435,     0.35536,     0.35636,     0.35736,     0.35836,     0.35936,\n",
              "           0.36036,     0.36136,     0.36236,     0.36336,     0.36436,     0.36537,     0.36637,     0.36737,     0.36837,     0.36937,     0.37037,     0.37137,     0.37237,     0.37337,     0.37437,     0.37538,     0.37638,     0.37738,     0.37838,     0.37938,     0.38038,     0.38138,     0.38238,     0.38338,\n",
              "           0.38438,     0.38539,     0.38639,     0.38739,     0.38839,     0.38939,     0.39039,     0.39139,     0.39239,     0.39339,     0.39439,      0.3954,      0.3964,      0.3974,      0.3984,      0.3994,      0.4004,      0.4014,      0.4024,      0.4034,      0.4044,     0.40541,     0.40641,     0.40741,\n",
              "           0.40841,     0.40941,     0.41041,     0.41141,     0.41241,     0.41341,     0.41441,     0.41542,     0.41642,     0.41742,     0.41842,     0.41942,     0.42042,     0.42142,     0.42242,     0.42342,     0.42442,     0.42543,     0.42643,     0.42743,     0.42843,     0.42943,     0.43043,     0.43143,\n",
              "           0.43243,     0.43343,     0.43443,     0.43544,     0.43644,     0.43744,     0.43844,     0.43944,     0.44044,     0.44144,     0.44244,     0.44344,     0.44444,     0.44545,     0.44645,     0.44745,     0.44845,     0.44945,     0.45045,     0.45145,     0.45245,     0.45345,     0.45445,     0.45546,\n",
              "           0.45646,     0.45746,     0.45846,     0.45946,     0.46046,     0.46146,     0.46246,     0.46346,     0.46446,     0.46547,     0.46647,     0.46747,     0.46847,     0.46947,     0.47047,     0.47147,     0.47247,     0.47347,     0.47447,     0.47548,     0.47648,     0.47748,     0.47848,     0.47948,\n",
              "           0.48048,     0.48148,     0.48248,     0.48348,     0.48448,     0.48549,     0.48649,     0.48749,     0.48849,     0.48949,     0.49049,     0.49149,     0.49249,     0.49349,     0.49449,      0.4955,      0.4965,      0.4975,      0.4985,      0.4995,      0.5005,      0.5015,      0.5025,      0.5035,\n",
              "            0.5045,     0.50551,     0.50651,     0.50751,     0.50851,     0.50951,     0.51051,     0.51151,     0.51251,     0.51351,     0.51451,     0.51552,     0.51652,     0.51752,     0.51852,     0.51952,     0.52052,     0.52152,     0.52252,     0.52352,     0.52452,     0.52553,     0.52653,     0.52753,\n",
              "           0.52853,     0.52953,     0.53053,     0.53153,     0.53253,     0.53353,     0.53453,     0.53554,     0.53654,     0.53754,     0.53854,     0.53954,     0.54054,     0.54154,     0.54254,     0.54354,     0.54454,     0.54555,     0.54655,     0.54755,     0.54855,     0.54955,     0.55055,     0.55155,\n",
              "           0.55255,     0.55355,     0.55455,     0.55556,     0.55656,     0.55756,     0.55856,     0.55956,     0.56056,     0.56156,     0.56256,     0.56356,     0.56456,     0.56557,     0.56657,     0.56757,     0.56857,     0.56957,     0.57057,     0.57157,     0.57257,     0.57357,     0.57457,     0.57558,\n",
              "           0.57658,     0.57758,     0.57858,     0.57958,     0.58058,     0.58158,     0.58258,     0.58358,     0.58458,     0.58559,     0.58659,     0.58759,     0.58859,     0.58959,     0.59059,     0.59159,     0.59259,     0.59359,     0.59459,      0.5956,      0.5966,      0.5976,      0.5986,      0.5996,\n",
              "            0.6006,      0.6016,      0.6026,      0.6036,      0.6046,     0.60561,     0.60661,     0.60761,     0.60861,     0.60961,     0.61061,     0.61161,     0.61261,     0.61361,     0.61461,     0.61562,     0.61662,     0.61762,     0.61862,     0.61962,     0.62062,     0.62162,     0.62262,     0.62362,\n",
              "           0.62462,     0.62563,     0.62663,     0.62763,     0.62863,     0.62963,     0.63063,     0.63163,     0.63263,     0.63363,     0.63463,     0.63564,     0.63664,     0.63764,     0.63864,     0.63964,     0.64064,     0.64164,     0.64264,     0.64364,     0.64464,     0.64565,     0.64665,     0.64765,\n",
              "           0.64865,     0.64965,     0.65065,     0.65165,     0.65265,     0.65365,     0.65465,     0.65566,     0.65666,     0.65766,     0.65866,     0.65966,     0.66066,     0.66166,     0.66266,     0.66366,     0.66466,     0.66567,     0.66667,     0.66767,     0.66867,     0.66967,     0.67067,     0.67167,\n",
              "           0.67267,     0.67367,     0.67467,     0.67568,     0.67668,     0.67768,     0.67868,     0.67968,     0.68068,     0.68168,     0.68268,     0.68368,     0.68468,     0.68569,     0.68669,     0.68769,     0.68869,     0.68969,     0.69069,     0.69169,     0.69269,     0.69369,     0.69469,      0.6957,\n",
              "            0.6967,      0.6977,      0.6987,      0.6997,      0.7007,      0.7017,      0.7027,      0.7037,      0.7047,     0.70571,     0.70671,     0.70771,     0.70871,     0.70971,     0.71071,     0.71171,     0.71271,     0.71371,     0.71471,     0.71572,     0.71672,     0.71772,     0.71872,     0.71972,\n",
              "           0.72072,     0.72172,     0.72272,     0.72372,     0.72472,     0.72573,     0.72673,     0.72773,     0.72873,     0.72973,     0.73073,     0.73173,     0.73273,     0.73373,     0.73473,     0.73574,     0.73674,     0.73774,     0.73874,     0.73974,     0.74074,     0.74174,     0.74274,     0.74374,\n",
              "           0.74474,     0.74575,     0.74675,     0.74775,     0.74875,     0.74975,     0.75075,     0.75175,     0.75275,     0.75375,     0.75475,     0.75576,     0.75676,     0.75776,     0.75876,     0.75976,     0.76076,     0.76176,     0.76276,     0.76376,     0.76476,     0.76577,     0.76677,     0.76777,\n",
              "           0.76877,     0.76977,     0.77077,     0.77177,     0.77277,     0.77377,     0.77477,     0.77578,     0.77678,     0.77778,     0.77878,     0.77978,     0.78078,     0.78178,     0.78278,     0.78378,     0.78478,     0.78579,     0.78679,     0.78779,     0.78879,     0.78979,     0.79079,     0.79179,\n",
              "           0.79279,     0.79379,     0.79479,      0.7958,      0.7968,      0.7978,      0.7988,      0.7998,      0.8008,      0.8018,      0.8028,      0.8038,      0.8048,     0.80581,     0.80681,     0.80781,     0.80881,     0.80981,     0.81081,     0.81181,     0.81281,     0.81381,     0.81481,     0.81582,\n",
              "           0.81682,     0.81782,     0.81882,     0.81982,     0.82082,     0.82182,     0.82282,     0.82382,     0.82482,     0.82583,     0.82683,     0.82783,     0.82883,     0.82983,     0.83083,     0.83183,     0.83283,     0.83383,     0.83483,     0.83584,     0.83684,     0.83784,     0.83884,     0.83984,\n",
              "           0.84084,     0.84184,     0.84284,     0.84384,     0.84484,     0.84585,     0.84685,     0.84785,     0.84885,     0.84985,     0.85085,     0.85185,     0.85285,     0.85385,     0.85485,     0.85586,     0.85686,     0.85786,     0.85886,     0.85986,     0.86086,     0.86186,     0.86286,     0.86386,\n",
              "           0.86486,     0.86587,     0.86687,     0.86787,     0.86887,     0.86987,     0.87087,     0.87187,     0.87287,     0.87387,     0.87487,     0.87588,     0.87688,     0.87788,     0.87888,     0.87988,     0.88088,     0.88188,     0.88288,     0.88388,     0.88488,     0.88589,     0.88689,     0.88789,\n",
              "           0.88889,     0.88989,     0.89089,     0.89189,     0.89289,     0.89389,     0.89489,      0.8959,      0.8969,      0.8979,      0.8989,      0.8999,      0.9009,      0.9019,      0.9029,      0.9039,      0.9049,     0.90591,     0.90691,     0.90791,     0.90891,     0.90991,     0.91091,     0.91191,\n",
              "           0.91291,     0.91391,     0.91491,     0.91592,     0.91692,     0.91792,     0.91892,     0.91992,     0.92092,     0.92192,     0.92292,     0.92392,     0.92492,     0.92593,     0.92693,     0.92793,     0.92893,     0.92993,     0.93093,     0.93193,     0.93293,     0.93393,     0.93493,     0.93594,\n",
              "           0.93694,     0.93794,     0.93894,     0.93994,     0.94094,     0.94194,     0.94294,     0.94394,     0.94494,     0.94595,     0.94695,     0.94795,     0.94895,     0.94995,     0.95095,     0.95195,     0.95295,     0.95395,     0.95495,     0.95596,     0.95696,     0.95796,     0.95896,     0.95996,\n",
              "           0.96096,     0.96196,     0.96296,     0.96396,     0.96496,     0.96597,     0.96697,     0.96797,     0.96897,     0.96997,     0.97097,     0.97197,     0.97297,     0.97397,     0.97497,     0.97598,     0.97698,     0.97798,     0.97898,     0.97998,     0.98098,     0.98198,     0.98298,     0.98398,\n",
              "           0.98498,     0.98599,     0.98699,     0.98799,     0.98899,     0.98999,     0.99099,     0.99199,     0.99299,     0.99399,     0.99499,       0.996,       0.997,       0.998,       0.999,           1]), array([[   0.045939,    0.045939,    0.047755,     0.04953,    0.051567,    0.053384,     0.05486,    0.056149,    0.057465,    0.058655,        0.06,    0.060988,    0.061957,    0.062982,    0.064079,    0.065006,     0.06595,    0.066824,    0.067643,    0.068543,     0.06946,     0.07028,    0.071161,\n",
              "           0.071926,    0.072868,    0.073866,    0.074688,    0.075523,    0.076625,    0.077429,    0.078445,    0.079536,    0.080577,     0.08155,    0.082581,    0.083634,    0.084791,    0.085669,    0.086802,    0.087886,    0.089013,    0.090165,     0.09126,    0.092721,    0.093679,    0.094612,\n",
              "           0.095662,    0.096332,     0.09762,    0.098994,     0.10017,     0.10146,     0.10245,     0.10385,     0.10496,     0.10635,     0.10783,     0.10913,     0.11016,     0.11099,     0.11254,     0.11369,     0.11515,     0.11603,      0.1178,     0.11927,     0.12062,     0.12221,     0.12367,\n",
              "            0.12491,     0.12605,     0.12692,     0.12787,     0.12935,     0.13097,     0.13215,     0.13355,      0.1345,     0.13586,     0.13731,     0.13907,     0.14066,     0.14179,     0.14275,     0.14441,     0.14567,     0.14724,     0.14893,     0.15082,     0.15225,     0.15411,     0.15562,\n",
              "            0.15768,     0.15906,      0.1609,     0.16299,     0.16434,     0.16579,     0.16703,     0.16923,     0.17172,     0.17391,     0.17537,     0.17751,     0.17932,     0.18142,      0.1821,     0.18376,     0.18577,     0.18823,     0.19022,      0.1924,     0.19458,     0.19652,     0.19777,\n",
              "            0.19955,     0.20086,     0.20254,     0.20523,     0.20704,     0.20911,     0.21088,     0.21367,     0.21614,     0.21841,     0.21998,     0.22198,      0.2233,     0.22526,     0.22787,     0.23025,      0.2326,     0.23503,     0.23642,     0.23943,     0.24211,     0.24295,     0.24441,\n",
              "            0.24699,     0.24879,     0.25011,     0.25207,     0.25509,     0.25653,     0.25903,     0.26057,     0.26418,     0.26615,     0.26712,     0.26943,     0.27162,     0.27419,     0.27735,     0.27922,      0.2817,     0.28389,     0.28675,     0.28726,     0.28779,     0.28906,      0.2906,\n",
              "            0.29259,     0.29467,     0.29649,     0.29796,         0.3,      0.3024,      0.3039,     0.30629,     0.30915,     0.31088,     0.31468,      0.3177,     0.32047,     0.32309,     0.32395,     0.32604,     0.32942,      0.3316,     0.33246,     0.33592,     0.33813,     0.34125,     0.34135,\n",
              "            0.34525,     0.34785,     0.34816,     0.35233,     0.35411,      0.3565,     0.35792,     0.35931,     0.36158,     0.36494,     0.36791,     0.36928,     0.37135,     0.37324,     0.37458,     0.37858,     0.38371,     0.38426,      0.3856,     0.38888,     0.38886,     0.39057,     0.39281,\n",
              "            0.39514,     0.39971,     0.40129,     0.40327,     0.40642,     0.40902,     0.41071,     0.41326,     0.41483,     0.41744,     0.41803,     0.42057,     0.42245,     0.42293,     0.42625,     0.42691,     0.42897,     0.42996,     0.43303,      0.4349,     0.43764,     0.43841,     0.44158,\n",
              "             0.4443,     0.44824,     0.45172,     0.45386,     0.45536,     0.45804,     0.46045,     0.46389,     0.46794,     0.47067,     0.47039,     0.47391,     0.47952,     0.47983,     0.48247,     0.48359,     0.48662,     0.48913,     0.49013,     0.49091,     0.49383,     0.49469,     0.49597,\n",
              "            0.49817,     0.49918,      0.5015,     0.50277,     0.50524,     0.50853,     0.50983,      0.5132,     0.51533,     0.51921,     0.52178,     0.52446,     0.52549,     0.52723,     0.52919,     0.52916,     0.52896,     0.52996,      0.5307,     0.53036,     0.53227,     0.53328,     0.53259,\n",
              "            0.53348,     0.53523,     0.53434,     0.53438,     0.53993,     0.54455,      0.5466,     0.54732,      0.5533,     0.55664,     0.55605,      0.5578,     0.56163,     0.56672,     0.56678,     0.57403,     0.57419,     0.57345,     0.57456,     0.57987,      0.5816,      0.5822,      0.5824,\n",
              "             0.5822,     0.58369,     0.58885,     0.58953,     0.59315,     0.59765,     0.59811,     0.60193,     0.60235,     0.60461,     0.60633,     0.60931,     0.61049,     0.61188,     0.61249,      0.6134,     0.61467,     0.61968,     0.62095,     0.62362,     0.62133,     0.61968,     0.62151,\n",
              "            0.62382,     0.62939,     0.63047,      0.6337,      0.6348,     0.63597,     0.63569,     0.63681,     0.63658,     0.63746,     0.63731,     0.63756,     0.63921,     0.64133,     0.64123,     0.64345,     0.64805,     0.64829,     0.64876,     0.64699,     0.64657,     0.64548,     0.64551,\n",
              "            0.64813,     0.65035,     0.65176,     0.65243,     0.65376,     0.65507,     0.65616,      0.6561,     0.66113,     0.66294,     0.67016,     0.66876,     0.66847,     0.67334,      0.6754,     0.67781,      0.6784,     0.67736,     0.67957,     0.67811,     0.68072,     0.68242,     0.68412,\n",
              "            0.69337,     0.69749,         0.7,     0.70396,     0.70367,     0.70283,     0.70394,     0.70312,     0.70111,     0.70453,     0.70825,     0.70872,     0.70777,      0.7059,     0.70352,     0.70257,     0.70128,     0.70087,     0.70216,     0.70672,     0.70828,      0.7121,     0.71337,\n",
              "             0.7162,     0.72002,     0.72204,     0.72724,     0.72827,     0.72827,     0.72749,     0.72702,     0.73119,      0.7323,     0.73312,     0.73586,      0.7376,     0.73404,     0.73537,     0.73768,     0.73927,      0.7408,     0.73921,      0.7398,     0.73843,     0.73861,      0.7378,\n",
              "            0.73726,     0.73663,     0.73574,     0.73485,      0.7329,     0.72932,     0.72731,     0.72565,     0.72841,      0.7306,     0.73189,     0.73169,     0.73046,      0.7286,       0.728,     0.72896,     0.73012,     0.72908,     0.72731,     0.72564,     0.72794,     0.72712,     0.73025,\n",
              "            0.73697,     0.73777,     0.73958,       0.738,     0.73938,      0.7405,     0.74141,     0.74436,     0.74618,     0.74543,      0.7433,     0.74423,     0.74516,      0.7461,     0.74474,     0.74279,     0.74214,     0.74154,     0.73997,     0.73913,     0.73614,      0.7355,     0.73384,\n",
              "             0.7354,     0.73653,     0.73837,     0.73665,     0.74242,     0.74154,     0.74092,     0.74473,     0.75064,     0.75103,     0.74992,     0.74899,     0.74701,     0.74984,     0.74985,     0.74699,     0.74631,     0.74562,      0.7489,     0.75122,     0.75412,     0.75837,     0.76129,\n",
              "            0.76145,     0.76243,     0.76183,     0.76123,     0.76541,     0.76443,     0.76173,     0.76012,      0.7591,      0.7582,     0.75743,     0.75665,     0.76608,     0.76971,     0.76789,     0.76595,     0.77253,     0.77257,     0.77504,     0.77554,     0.77901,     0.77807,     0.78315,\n",
              "            0.78212,     0.78747,     0.78685,     0.78327,     0.78218,     0.78133,     0.77898,      0.7782,      0.7765,     0.77456,     0.77138,     0.77244,     0.77612,     0.78263,     0.78171,     0.78048,     0.77863,     0.77587,     0.77868,     0.78149,     0.79591,     0.79172,     0.79742,\n",
              "            0.79523,     0.79381,     0.79249,     0.78791,      0.7869,      0.7857,     0.78433,     0.77996,     0.77471,     0.77199,     0.77831,     0.78775,     0.79239,     0.79104,     0.79075,     0.79047,     0.79019,      0.7899,     0.78962,     0.78933,     0.78905,     0.78789,     0.79459,\n",
              "             0.7936,     0.78972,     0.78727,     0.78582,      0.7896,     0.79378,     0.79357,     0.79169,     0.79033,     0.79837,     0.79678,     0.79566,     0.79431,     0.79242,     0.79435,     0.79676,     0.79917,     0.80158,      0.8044,     0.80754,     0.81068,     0.81083,     0.80769,\n",
              "            0.80699,     0.80629,     0.80559,     0.81585,     0.81649,     0.81603,     0.81557,     0.81512,     0.81466,     0.81374,     0.81095,     0.80979,      0.8204,     0.81499,     0.81403,     0.83589,     0.83521,     0.83452,     0.83383,     0.83613,     0.84637,     0.86746,     0.87424,\n",
              "            0.88775,     0.89142,     0.88983,     0.88836,     0.88686,      0.8863,     0.88578,     0.88527,     0.88475,     0.88389,     0.88291,     0.88078,     0.88373,     0.88669,     0.88964,     0.89259,     0.89555,     0.89608,     0.89323,      0.8911,     0.88976,     0.88827,     0.88653,\n",
              "            0.88408,     0.88252,     0.88112,     0.87445,     0.86939,     0.87447,     0.88323,     0.89188,     0.89083,     0.88979,     0.88749,     0.88344,     0.88042,     0.88383,     0.88724,     0.89065,     0.89406,     0.89747,     0.90088,     0.90429,     0.90594,      0.9052,     0.90446,\n",
              "            0.90372,     0.90311,     0.90275,     0.90239,     0.90203,     0.90167,     0.90131,     0.90096,      0.9006,     0.90024,     0.89647,     0.89534,     0.89421,     0.89308,     0.89187,     0.89064,     0.88942,     0.88851,     0.88785,     0.88719,     0.88652,     0.88586,      0.8852,\n",
              "            0.88419,     0.88052,     0.87968,     0.87931,     0.87893,     0.87856,     0.87819,     0.87782,     0.87744,     0.87707,      0.8767,     0.87632,     0.87595,     0.87558,      0.8752,     0.87408,     0.87202,     0.86997,     0.86816,     0.86642,     0.86467,     0.86305,     0.86159,\n",
              "            0.86013,     0.85867,     0.85722,     0.86126,     0.86559,     0.86993,     0.87427,     0.87861,     0.88294,     0.88728,     0.89162,     0.89595,     0.89997,     0.89949,     0.89901,     0.89852,     0.89804,     0.89756,     0.89708,      0.8966,     0.89612,     0.89564,     0.89516,\n",
              "            0.89467,     0.89416,     0.89365,     0.89313,     0.89262,     0.89211,      0.8916,     0.89108,     0.89057,     0.89006,     0.88954,     0.88903,     0.89403,     0.90115,     0.90826,     0.91538,     0.92249,      0.9296,     0.93672,     0.94341,     0.94938,     0.95536,     0.96134,\n",
              "            0.96731,     0.97329,     0.97926,     0.98524,     0.99122,     0.99719,           1,           1,           1,           1,           1,           1,           1,           1,           1,           1,           1,           1,           1,           1,           1,           1,           1,\n",
              "                  1,           1,           1,           1,           1,           1,           1,           1,           1,           1,           1,           1,           1,           1,           1,           1,           1,           1,           1,           1,           1,           1,           1,\n",
              "                  1,           1,           1,           1,           1,           1,           1,           1,           1,           1,           1,           1,           1,           1,           1,           1,           1,           1,           1,           1,           1,           1,           1,\n",
              "                  1,           1,           1,           1,           1,           1,           1,           1,           1,           1,           1,           1,           1,           1,           1,           1,           1,           1,           1,           1,           1,           1,           1,\n",
              "                  1,           1,           1,           1,           1,           1,           1,           1,           1,           1,           1,           1,           1,           1,           1,           1,           1,           1,           1,           1,           1,           1,           1,\n",
              "                  1,           1,           1,           1,           1,           1,           1,           1,           1,           1,           1,           1,           1,           1,           1,           1,           1,           1,           1,           1,           1,           1,           1,\n",
              "                  1,           1,           1,           1,           1,           1,           1,           1,           1,           1,           1,           1,           1,           1,           1,           1,           1,           1,           1,           1,           1,           1,           1,\n",
              "                  1,           1,           1,           1,           1,           1,           1,           1,           1,           1,           1,           1,           1,           1,           1,           1,           1,           1,           1,           1,           1,           1,           1,\n",
              "                  1,           1,           1,           1,           1,           1,           1,           1,           1,           1,           1,           1,           1,           1,           1,           1,           1,           1,           1,           1,           1,           1,           1,\n",
              "                  1,           1,           1,           1,           1,           1,           1,           1,           1,           1,           1,           1,           1,           1,           1,           1,           1,           1,           1,           1,           1,           1,           1,\n",
              "                  1,           1,           1,           1,           1,           1,           1,           1,           1,           1,           1,           1,           1,           1,           1,           1,           1,           1,           1,           1,           1,           1,           1,\n",
              "                  1,           1,           1,           1,           1,           1,           1,           1,           1,           1,           1]]), 'Confidence', 'Precision'], [array([          0,    0.001001,    0.002002,    0.003003,    0.004004,    0.005005,    0.006006,    0.007007,    0.008008,    0.009009,     0.01001,    0.011011,    0.012012,    0.013013,    0.014014,    0.015015,    0.016016,    0.017017,    0.018018,    0.019019,     0.02002,    0.021021,    0.022022,    0.023023,\n",
              "          0.024024,    0.025025,    0.026026,    0.027027,    0.028028,    0.029029,     0.03003,    0.031031,    0.032032,    0.033033,    0.034034,    0.035035,    0.036036,    0.037037,    0.038038,    0.039039,     0.04004,    0.041041,    0.042042,    0.043043,    0.044044,    0.045045,    0.046046,    0.047047,\n",
              "          0.048048,    0.049049,     0.05005,    0.051051,    0.052052,    0.053053,    0.054054,    0.055055,    0.056056,    0.057057,    0.058058,    0.059059,     0.06006,    0.061061,    0.062062,    0.063063,    0.064064,    0.065065,    0.066066,    0.067067,    0.068068,    0.069069,     0.07007,    0.071071,\n",
              "          0.072072,    0.073073,    0.074074,    0.075075,    0.076076,    0.077077,    0.078078,    0.079079,     0.08008,    0.081081,    0.082082,    0.083083,    0.084084,    0.085085,    0.086086,    0.087087,    0.088088,    0.089089,     0.09009,    0.091091,    0.092092,    0.093093,    0.094094,    0.095095,\n",
              "          0.096096,    0.097097,    0.098098,    0.099099,      0.1001,      0.1011,      0.1021,      0.1031,      0.1041,     0.10511,     0.10611,     0.10711,     0.10811,     0.10911,     0.11011,     0.11111,     0.11211,     0.11311,     0.11411,     0.11512,     0.11612,     0.11712,     0.11812,     0.11912,\n",
              "           0.12012,     0.12112,     0.12212,     0.12312,     0.12412,     0.12513,     0.12613,     0.12713,     0.12813,     0.12913,     0.13013,     0.13113,     0.13213,     0.13313,     0.13413,     0.13514,     0.13614,     0.13714,     0.13814,     0.13914,     0.14014,     0.14114,     0.14214,     0.14314,\n",
              "           0.14414,     0.14515,     0.14615,     0.14715,     0.14815,     0.14915,     0.15015,     0.15115,     0.15215,     0.15315,     0.15415,     0.15516,     0.15616,     0.15716,     0.15816,     0.15916,     0.16016,     0.16116,     0.16216,     0.16316,     0.16416,     0.16517,     0.16617,     0.16717,\n",
              "           0.16817,     0.16917,     0.17017,     0.17117,     0.17217,     0.17317,     0.17417,     0.17518,     0.17618,     0.17718,     0.17818,     0.17918,     0.18018,     0.18118,     0.18218,     0.18318,     0.18418,     0.18519,     0.18619,     0.18719,     0.18819,     0.18919,     0.19019,     0.19119,\n",
              "           0.19219,     0.19319,     0.19419,      0.1952,      0.1962,      0.1972,      0.1982,      0.1992,      0.2002,      0.2012,      0.2022,      0.2032,      0.2042,     0.20521,     0.20621,     0.20721,     0.20821,     0.20921,     0.21021,     0.21121,     0.21221,     0.21321,     0.21421,     0.21522,\n",
              "           0.21622,     0.21722,     0.21822,     0.21922,     0.22022,     0.22122,     0.22222,     0.22322,     0.22422,     0.22523,     0.22623,     0.22723,     0.22823,     0.22923,     0.23023,     0.23123,     0.23223,     0.23323,     0.23423,     0.23524,     0.23624,     0.23724,     0.23824,     0.23924,\n",
              "           0.24024,     0.24124,     0.24224,     0.24324,     0.24424,     0.24525,     0.24625,     0.24725,     0.24825,     0.24925,     0.25025,     0.25125,     0.25225,     0.25325,     0.25425,     0.25526,     0.25626,     0.25726,     0.25826,     0.25926,     0.26026,     0.26126,     0.26226,     0.26326,\n",
              "           0.26426,     0.26527,     0.26627,     0.26727,     0.26827,     0.26927,     0.27027,     0.27127,     0.27227,     0.27327,     0.27427,     0.27528,     0.27628,     0.27728,     0.27828,     0.27928,     0.28028,     0.28128,     0.28228,     0.28328,     0.28428,     0.28529,     0.28629,     0.28729,\n",
              "           0.28829,     0.28929,     0.29029,     0.29129,     0.29229,     0.29329,     0.29429,      0.2953,      0.2963,      0.2973,      0.2983,      0.2993,      0.3003,      0.3013,      0.3023,      0.3033,      0.3043,     0.30531,     0.30631,     0.30731,     0.30831,     0.30931,     0.31031,     0.31131,\n",
              "           0.31231,     0.31331,     0.31431,     0.31532,     0.31632,     0.31732,     0.31832,     0.31932,     0.32032,     0.32132,     0.32232,     0.32332,     0.32432,     0.32533,     0.32633,     0.32733,     0.32833,     0.32933,     0.33033,     0.33133,     0.33233,     0.33333,     0.33433,     0.33534,\n",
              "           0.33634,     0.33734,     0.33834,     0.33934,     0.34034,     0.34134,     0.34234,     0.34334,     0.34434,     0.34535,     0.34635,     0.34735,     0.34835,     0.34935,     0.35035,     0.35135,     0.35235,     0.35335,     0.35435,     0.35536,     0.35636,     0.35736,     0.35836,     0.35936,\n",
              "           0.36036,     0.36136,     0.36236,     0.36336,     0.36436,     0.36537,     0.36637,     0.36737,     0.36837,     0.36937,     0.37037,     0.37137,     0.37237,     0.37337,     0.37437,     0.37538,     0.37638,     0.37738,     0.37838,     0.37938,     0.38038,     0.38138,     0.38238,     0.38338,\n",
              "           0.38438,     0.38539,     0.38639,     0.38739,     0.38839,     0.38939,     0.39039,     0.39139,     0.39239,     0.39339,     0.39439,      0.3954,      0.3964,      0.3974,      0.3984,      0.3994,      0.4004,      0.4014,      0.4024,      0.4034,      0.4044,     0.40541,     0.40641,     0.40741,\n",
              "           0.40841,     0.40941,     0.41041,     0.41141,     0.41241,     0.41341,     0.41441,     0.41542,     0.41642,     0.41742,     0.41842,     0.41942,     0.42042,     0.42142,     0.42242,     0.42342,     0.42442,     0.42543,     0.42643,     0.42743,     0.42843,     0.42943,     0.43043,     0.43143,\n",
              "           0.43243,     0.43343,     0.43443,     0.43544,     0.43644,     0.43744,     0.43844,     0.43944,     0.44044,     0.44144,     0.44244,     0.44344,     0.44444,     0.44545,     0.44645,     0.44745,     0.44845,     0.44945,     0.45045,     0.45145,     0.45245,     0.45345,     0.45445,     0.45546,\n",
              "           0.45646,     0.45746,     0.45846,     0.45946,     0.46046,     0.46146,     0.46246,     0.46346,     0.46446,     0.46547,     0.46647,     0.46747,     0.46847,     0.46947,     0.47047,     0.47147,     0.47247,     0.47347,     0.47447,     0.47548,     0.47648,     0.47748,     0.47848,     0.47948,\n",
              "           0.48048,     0.48148,     0.48248,     0.48348,     0.48448,     0.48549,     0.48649,     0.48749,     0.48849,     0.48949,     0.49049,     0.49149,     0.49249,     0.49349,     0.49449,      0.4955,      0.4965,      0.4975,      0.4985,      0.4995,      0.5005,      0.5015,      0.5025,      0.5035,\n",
              "            0.5045,     0.50551,     0.50651,     0.50751,     0.50851,     0.50951,     0.51051,     0.51151,     0.51251,     0.51351,     0.51451,     0.51552,     0.51652,     0.51752,     0.51852,     0.51952,     0.52052,     0.52152,     0.52252,     0.52352,     0.52452,     0.52553,     0.52653,     0.52753,\n",
              "           0.52853,     0.52953,     0.53053,     0.53153,     0.53253,     0.53353,     0.53453,     0.53554,     0.53654,     0.53754,     0.53854,     0.53954,     0.54054,     0.54154,     0.54254,     0.54354,     0.54454,     0.54555,     0.54655,     0.54755,     0.54855,     0.54955,     0.55055,     0.55155,\n",
              "           0.55255,     0.55355,     0.55455,     0.55556,     0.55656,     0.55756,     0.55856,     0.55956,     0.56056,     0.56156,     0.56256,     0.56356,     0.56456,     0.56557,     0.56657,     0.56757,     0.56857,     0.56957,     0.57057,     0.57157,     0.57257,     0.57357,     0.57457,     0.57558,\n",
              "           0.57658,     0.57758,     0.57858,     0.57958,     0.58058,     0.58158,     0.58258,     0.58358,     0.58458,     0.58559,     0.58659,     0.58759,     0.58859,     0.58959,     0.59059,     0.59159,     0.59259,     0.59359,     0.59459,      0.5956,      0.5966,      0.5976,      0.5986,      0.5996,\n",
              "            0.6006,      0.6016,      0.6026,      0.6036,      0.6046,     0.60561,     0.60661,     0.60761,     0.60861,     0.60961,     0.61061,     0.61161,     0.61261,     0.61361,     0.61461,     0.61562,     0.61662,     0.61762,     0.61862,     0.61962,     0.62062,     0.62162,     0.62262,     0.62362,\n",
              "           0.62462,     0.62563,     0.62663,     0.62763,     0.62863,     0.62963,     0.63063,     0.63163,     0.63263,     0.63363,     0.63463,     0.63564,     0.63664,     0.63764,     0.63864,     0.63964,     0.64064,     0.64164,     0.64264,     0.64364,     0.64464,     0.64565,     0.64665,     0.64765,\n",
              "           0.64865,     0.64965,     0.65065,     0.65165,     0.65265,     0.65365,     0.65465,     0.65566,     0.65666,     0.65766,     0.65866,     0.65966,     0.66066,     0.66166,     0.66266,     0.66366,     0.66466,     0.66567,     0.66667,     0.66767,     0.66867,     0.66967,     0.67067,     0.67167,\n",
              "           0.67267,     0.67367,     0.67467,     0.67568,     0.67668,     0.67768,     0.67868,     0.67968,     0.68068,     0.68168,     0.68268,     0.68368,     0.68468,     0.68569,     0.68669,     0.68769,     0.68869,     0.68969,     0.69069,     0.69169,     0.69269,     0.69369,     0.69469,      0.6957,\n",
              "            0.6967,      0.6977,      0.6987,      0.6997,      0.7007,      0.7017,      0.7027,      0.7037,      0.7047,     0.70571,     0.70671,     0.70771,     0.70871,     0.70971,     0.71071,     0.71171,     0.71271,     0.71371,     0.71471,     0.71572,     0.71672,     0.71772,     0.71872,     0.71972,\n",
              "           0.72072,     0.72172,     0.72272,     0.72372,     0.72472,     0.72573,     0.72673,     0.72773,     0.72873,     0.72973,     0.73073,     0.73173,     0.73273,     0.73373,     0.73473,     0.73574,     0.73674,     0.73774,     0.73874,     0.73974,     0.74074,     0.74174,     0.74274,     0.74374,\n",
              "           0.74474,     0.74575,     0.74675,     0.74775,     0.74875,     0.74975,     0.75075,     0.75175,     0.75275,     0.75375,     0.75475,     0.75576,     0.75676,     0.75776,     0.75876,     0.75976,     0.76076,     0.76176,     0.76276,     0.76376,     0.76476,     0.76577,     0.76677,     0.76777,\n",
              "           0.76877,     0.76977,     0.77077,     0.77177,     0.77277,     0.77377,     0.77477,     0.77578,     0.77678,     0.77778,     0.77878,     0.77978,     0.78078,     0.78178,     0.78278,     0.78378,     0.78478,     0.78579,     0.78679,     0.78779,     0.78879,     0.78979,     0.79079,     0.79179,\n",
              "           0.79279,     0.79379,     0.79479,      0.7958,      0.7968,      0.7978,      0.7988,      0.7998,      0.8008,      0.8018,      0.8028,      0.8038,      0.8048,     0.80581,     0.80681,     0.80781,     0.80881,     0.80981,     0.81081,     0.81181,     0.81281,     0.81381,     0.81481,     0.81582,\n",
              "           0.81682,     0.81782,     0.81882,     0.81982,     0.82082,     0.82182,     0.82282,     0.82382,     0.82482,     0.82583,     0.82683,     0.82783,     0.82883,     0.82983,     0.83083,     0.83183,     0.83283,     0.83383,     0.83483,     0.83584,     0.83684,     0.83784,     0.83884,     0.83984,\n",
              "           0.84084,     0.84184,     0.84284,     0.84384,     0.84484,     0.84585,     0.84685,     0.84785,     0.84885,     0.84985,     0.85085,     0.85185,     0.85285,     0.85385,     0.85485,     0.85586,     0.85686,     0.85786,     0.85886,     0.85986,     0.86086,     0.86186,     0.86286,     0.86386,\n",
              "           0.86486,     0.86587,     0.86687,     0.86787,     0.86887,     0.86987,     0.87087,     0.87187,     0.87287,     0.87387,     0.87487,     0.87588,     0.87688,     0.87788,     0.87888,     0.87988,     0.88088,     0.88188,     0.88288,     0.88388,     0.88488,     0.88589,     0.88689,     0.88789,\n",
              "           0.88889,     0.88989,     0.89089,     0.89189,     0.89289,     0.89389,     0.89489,      0.8959,      0.8969,      0.8979,      0.8989,      0.8999,      0.9009,      0.9019,      0.9029,      0.9039,      0.9049,     0.90591,     0.90691,     0.90791,     0.90891,     0.90991,     0.91091,     0.91191,\n",
              "           0.91291,     0.91391,     0.91491,     0.91592,     0.91692,     0.91792,     0.91892,     0.91992,     0.92092,     0.92192,     0.92292,     0.92392,     0.92492,     0.92593,     0.92693,     0.92793,     0.92893,     0.92993,     0.93093,     0.93193,     0.93293,     0.93393,     0.93493,     0.93594,\n",
              "           0.93694,     0.93794,     0.93894,     0.93994,     0.94094,     0.94194,     0.94294,     0.94394,     0.94494,     0.94595,     0.94695,     0.94795,     0.94895,     0.94995,     0.95095,     0.95195,     0.95295,     0.95395,     0.95495,     0.95596,     0.95696,     0.95796,     0.95896,     0.95996,\n",
              "           0.96096,     0.96196,     0.96296,     0.96396,     0.96496,     0.96597,     0.96697,     0.96797,     0.96897,     0.96997,     0.97097,     0.97197,     0.97297,     0.97397,     0.97497,     0.97598,     0.97698,     0.97798,     0.97898,     0.97998,     0.98098,     0.98198,     0.98298,     0.98398,\n",
              "           0.98498,     0.98599,     0.98699,     0.98799,     0.98899,     0.98999,     0.99099,     0.99199,     0.99299,     0.99399,     0.99499,       0.996,       0.997,       0.998,       0.999,           1]), array([[    0.78691,     0.78691,     0.78691,     0.78639,     0.78586,     0.78429,     0.78429,     0.78325,     0.78272,     0.78063,      0.7801,     0.77801,     0.77696,     0.77539,     0.77487,     0.77382,     0.77277,     0.76963,     0.76754,     0.76492,      0.7644,     0.76265,     0.76073,\n",
              "            0.75812,     0.75654,     0.75602,     0.75393,     0.75183,     0.75079,     0.74817,     0.74712,      0.7466,     0.74555,     0.74293,     0.74188,     0.74031,     0.73927,     0.73665,      0.7356,     0.73351,     0.73194,     0.73037,     0.72984,     0.72932,     0.72723,     0.72408,\n",
              "            0.72094,     0.71466,     0.71257,     0.71204,     0.70942,     0.70785,     0.70471,     0.70471,     0.70262,     0.70105,     0.69948,     0.69738,     0.69424,     0.69005,     0.68901,     0.68639,     0.68482,      0.6801,     0.67958,     0.67696,     0.67435,     0.67277,     0.67173,\n",
              "            0.66806,     0.66597,     0.66161,     0.65759,      0.6555,     0.65445,     0.65131,     0.64817,     0.64346,     0.64084,     0.63979,     0.63927,     0.63822,     0.63403,     0.62984,      0.6288,     0.62461,     0.62251,     0.61937,     0.61675,     0.61518,     0.61309,     0.61047,\n",
              "            0.60838,     0.60471,     0.60317,     0.60209,     0.59843,     0.59634,     0.59319,     0.59215,     0.59058,     0.59005,     0.58586,     0.58482,      0.5822,     0.58115,     0.57609,     0.57382,     0.57068,     0.56754,     0.56474,     0.56178,     0.56021,     0.55812,      0.5534,\n",
              "            0.55131,     0.54712,     0.54346,     0.54241,     0.53927,     0.53613,     0.53403,     0.53351,     0.53089,     0.52932,     0.52565,     0.52283,     0.51937,     0.51832,     0.51728,     0.51466,     0.51257,     0.51008,     0.50681,     0.50524,     0.50314,     0.49785,     0.49476,\n",
              "            0.49267,     0.49058,     0.48691,     0.48437,     0.48377,      0.4801,     0.47906,     0.47435,     0.47382,     0.47016,     0.46597,     0.46387,     0.46126,     0.46026,     0.45916,     0.45759,      0.4555,      0.4534,     0.44974,     0.44503,     0.44084,      0.4377,     0.43508,\n",
              "            0.43141,     0.42932,     0.42618,     0.42408,     0.42199,     0.42056,     0.41829,     0.41623,     0.41571,     0.41361,     0.41361,     0.41257,     0.41099,     0.40942,     0.40542,     0.40366,     0.40021,     0.39738,     0.39267,     0.39162,     0.38953,     0.38848,     0.38429,\n",
              "            0.38377,     0.38168,     0.37801,     0.37696,     0.37382,     0.37225,      0.3692,     0.36545,      0.3623,     0.36021,     0.35916,     0.35654,      0.3555,     0.35183,     0.34817,      0.3466,      0.3466,     0.34242,     0.33976,     0.33717,      0.3338,     0.33141,     0.32827,\n",
              "             0.3267,     0.32618,     0.32356,     0.32147,      0.3194,     0.31885,     0.31623,     0.31466,     0.31152,     0.30995,     0.30838,     0.30733,     0.30681,     0.30471,     0.30314,     0.29953,     0.29843,     0.29738,     0.29529,     0.29372,     0.29267,     0.29005,     0.28857,\n",
              "            0.28743,     0.28639,     0.28512,     0.28482,     0.28366,      0.2822,     0.28168,     0.28063,     0.27853,     0.27793,     0.27483,      0.2733,     0.27277,     0.27142,     0.26963,     0.26859,     0.26806,     0.26545,      0.2644,     0.26203,     0.26102,     0.25969,      0.2581,\n",
              "            0.25759,     0.25519,     0.25497,     0.25393,     0.25236,     0.25183,     0.25079,     0.25026,     0.24921,     0.24869,     0.24764,      0.2466,     0.24503,     0.24346,     0.24069,     0.23717,     0.23518,     0.23403,     0.23141,     0.22984,     0.22984,      0.2288,      0.2261,\n",
              "            0.22513,     0.22369,     0.22169,     0.22042,     0.22042,     0.21972,     0.21885,     0.21675,     0.21623,     0.21561,     0.21414,     0.21257,     0.21129,     0.20995,     0.20942,      0.2089,     0.20785,     0.20681,     0.20647,     0.20524,     0.20366,     0.20282,     0.20153,\n",
              "            0.20052,     0.19895,     0.19895,     0.19843,     0.19843,     0.19676,     0.19372,     0.19238,     0.19215,     0.19135,      0.1911,     0.19058,     0.19005,     0.18848,     0.18743,     0.18691,     0.18586,     0.18511,      0.1844,     0.18217,      0.1804,     0.17914,     0.17796,\n",
              "            0.17592,     0.17592,     0.17539,     0.17487,     0.17487,     0.17487,     0.17277,     0.17167,     0.17068,      0.1703,     0.16928,     0.16859,     0.16754,     0.16702,     0.16649,     0.16597,     0.16582,     0.16503,     0.16343,     0.16217,     0.16187,     0.16014,     0.15921,\n",
              "            0.15816,     0.15678,     0.15602,      0.1555,      0.1552,     0.15412,     0.15393,      0.1534,     0.15288,      0.1524,     0.15212,      0.1501,     0.14885,     0.14712,     0.14555,     0.14503,     0.14468,     0.14399,     0.14324,     0.14228,     0.14065,     0.13951,     0.13834,\n",
              "            0.13717,     0.13717,     0.13717,     0.13695,     0.13613,     0.13497,     0.13445,     0.13392,     0.13141,     0.13037,     0.13037,     0.12994,     0.12934,     0.12692,     0.12548,     0.12461,     0.12291,     0.12267,     0.12251,     0.12251,     0.12076,     0.12042,     0.12042,\n",
              "            0.12024,     0.11983,     0.11937,     0.11865,     0.11787,     0.11675,     0.11601,     0.11574,     0.11536,     0.11458,     0.11362,     0.11231,     0.11185,     0.10982,     0.10912,     0.10838,     0.10838,     0.10773,     0.10685,     0.10569,     0.10494,     0.10356,     0.10313,\n",
              "            0.10284,     0.10251,     0.10204,     0.10157,     0.10056,    0.098749,     0.09775,    0.096859,    0.096859,    0.096859,    0.096335,     0.09566,    0.095064,    0.094171,    0.093886,    0.093717,    0.093482,    0.092993,    0.092162,    0.091392,    0.091057,    0.089285,    0.088482,\n",
              "           0.087958,    0.086906,    0.086238,    0.085537,    0.084664,    0.084293,    0.084064,    0.083246,    0.083113,    0.082788,    0.081675,    0.081675,    0.081675,    0.081675,    0.080958,    0.080137,    0.079864,    0.079613,    0.078966,    0.078622,    0.077415,    0.077161,    0.076508,\n",
              "           0.075666,    0.075393,    0.075357,    0.074692,    0.073945,    0.073605,    0.073365,    0.072775,    0.072775,    0.071073,     0.07065,    0.070301,    0.069568,     0.06911,    0.067484,    0.066469,    0.066229,     0.06599,    0.065445,    0.065445,    0.065445,    0.065445,    0.065445,\n",
              "           0.065178,     0.06385,     0.06364,    0.063431,    0.063207,    0.062863,    0.061929,    0.061386,    0.061043,    0.060744,    0.060488,    0.060233,    0.059686,    0.059498,    0.058891,    0.058115,    0.058115,    0.056912,    0.056545,    0.056078,    0.055369,    0.055067,    0.054836,\n",
              "           0.054502,     0.05445,    0.054118,    0.052982,    0.052644,     0.05238,    0.051667,    0.051435,    0.050932,    0.050367,    0.049463,    0.049215,    0.049215,    0.049013,    0.048749,    0.048399,     0.04788,    0.047122,     0.04712,     0.04712,    0.046962,    0.045775,    0.045341,\n",
              "           0.044733,    0.044346,    0.043988,    0.042792,    0.042534,    0.042232,    0.041889,    0.040827,    0.039609,    0.038999,    0.038743,     0.03822,    0.037968,    0.037658,    0.037594,     0.03753,    0.037465,    0.037401,    0.037337,    0.037273,    0.037209,    0.036953,    0.036649,\n",
              "           0.036236,    0.035393,    0.034878,    0.034576,    0.034555,    0.034555,    0.034218,    0.033828,    0.033508,    0.033171,    0.032845,    0.032619,     0.03235,    0.031979,    0.031937,    0.031937,    0.031937,    0.031937,    0.031937,    0.031937,    0.031937,    0.031418,    0.030785,\n",
              "           0.030648,    0.030511,    0.030373,    0.030366,    0.030284,    0.030192,    0.030101,    0.030009,    0.029918,    0.029738,    0.029198,    0.028796,    0.028701,    0.027677,    0.026702,    0.026669,    0.026537,    0.026405,    0.026274,    0.026178,    0.026178,    0.026178,    0.026178,\n",
              "           0.026178,    0.025792,    0.025376,       0.025,    0.024624,    0.024489,    0.024365,    0.024241,    0.024117,    0.023917,    0.023689,    0.023037,    0.023037,    0.023037,    0.023037,    0.023037,    0.023037,    0.022574,    0.021901,    0.021422,    0.021131,    0.020815,    0.020453,\n",
              "           0.019967,    0.019668,    0.019403,    0.018235,    0.017428,    0.017277,    0.017277,    0.017276,    0.017093,     0.01691,    0.016523,    0.015877,    0.015183,    0.015183,    0.015183,    0.015183,    0.015183,    0.015183,    0.015183,    0.015183,    0.015129,    0.015001,    0.014873,\n",
              "           0.014745,     0.01464,    0.014582,    0.014524,    0.014466,    0.014408,     0.01435,    0.014291,    0.014233,    0.014175,    0.013601,    0.013441,    0.013281,    0.013121,    0.012959,    0.012797,    0.012635,    0.012519,    0.012438,    0.012357,    0.012276,    0.012195,    0.012114,\n",
              "           0.011994,    0.011577,    0.011485,    0.011446,    0.011407,    0.011368,    0.011329,     0.01129,    0.011251,    0.011211,    0.011172,    0.011133,    0.011094,    0.011055,    0.011016,    0.010906,    0.010708,     0.01051,    0.010347,    0.010193,    0.010039,      0.0099,   0.0097826,\n",
              "          0.0096651,   0.0095476,   0.0094301,   0.0094241,   0.0094241,   0.0094241,   0.0094241,   0.0094241,   0.0094241,   0.0094241,   0.0094241,   0.0094241,   0.0094209,    0.009373,   0.0093252,   0.0092773,   0.0092295,   0.0091817,   0.0091338,    0.009086,   0.0090381,   0.0089903,   0.0089424,\n",
              "          0.0088948,   0.0088489,    0.008803,   0.0087571,   0.0087111,   0.0086652,   0.0086193,   0.0085734,   0.0085274,   0.0084815,   0.0084356,   0.0083897,    0.008377,    0.008377,    0.008377,    0.008377,    0.008377,    0.008377,    0.008377,    0.008377,    0.008377,    0.008377,    0.008377,\n",
              "           0.008377,    0.008377,    0.008377,    0.008377,    0.008377,    0.008377,   0.0081468,    0.007731,   0.0073531,   0.0067937,   0.0066285,   0.0064632,    0.006298,   0.0060128,   0.0057436,   0.0056374,   0.0055312,   0.0054251,   0.0053189,   0.0051901,   0.0049784,   0.0047667,   0.0046786,\n",
              "          0.0046335,   0.0045884,   0.0045433,   0.0044982,   0.0044531,    0.004408,   0.0043629,   0.0043178,   0.0042726,   0.0042275,   0.0041813,   0.0041275,   0.0040738,     0.00402,   0.0039662,   0.0039125,   0.0038587,    0.003805,   0.0037512,   0.0036974,   0.0036223,   0.0035145,   0.0034067,\n",
              "          0.0032989,   0.0031911,   0.0026072,   0.0025825,   0.0025579,   0.0025332,   0.0025085,   0.0024838,   0.0024591,   0.0024344,   0.0024097,    0.002385,   0.0023603,   0.0023357,    0.002311,   0.0022863,   0.0022616,   0.0022369,   0.0022122,   0.0021875,   0.0021628,   0.0021382,   0.0021135,\n",
              "          0.0020914,   0.0020788,   0.0020662,   0.0020535,   0.0020409,   0.0020283,   0.0020156,    0.002003,   0.0019904,   0.0019777,   0.0019651,   0.0019525,   0.0019398,   0.0019272,   0.0019146,   0.0019019,   0.0018893,   0.0018767,    0.001864,   0.0018514,   0.0018388,   0.0018261,   0.0018135,\n",
              "          0.0018009,   0.0017882,   0.0017756,    0.001763,   0.0017503,   0.0017377,   0.0017251,   0.0017124,   0.0016998,   0.0016872,   0.0016745,   0.0016619,   0.0016493,   0.0016366,    0.001624,   0.0016114,   0.0015987,   0.0015861,   0.0015734,   0.0014176,   0.0012216,   0.0010428,   0.0010034,\n",
              "           0.000964,  0.00092462,  0.00088523,  0.00084584,  0.00080645,  0.00076707,  0.00072768,  0.00068829,   0.0006489,  0.00060952,  0.00057013,  0.00053074,           0,           0,           0,           0,           0,           0,           0,           0,           0,           0,           0,\n",
              "                  0,           0,           0,           0,           0,           0,           0,           0,           0,           0,           0,           0,           0,           0,           0,           0,           0,           0,           0,           0,           0,           0,           0,\n",
              "                  0,           0,           0,           0,           0,           0,           0,           0,           0,           0,           0,           0,           0,           0,           0,           0,           0,           0,           0,           0,           0,           0,           0,\n",
              "                  0,           0,           0,           0,           0,           0,           0,           0,           0,           0,           0,           0,           0,           0,           0,           0,           0,           0,           0,           0,           0,           0,           0,\n",
              "                  0,           0,           0,           0,           0,           0,           0,           0,           0,           0,           0,           0,           0,           0,           0,           0,           0,           0,           0,           0,           0,           0,           0,\n",
              "                  0,           0,           0,           0,           0,           0,           0,           0,           0,           0,           0,           0,           0,           0,           0,           0,           0,           0,           0,           0,           0,           0,           0,\n",
              "                  0,           0,           0,           0,           0,           0,           0,           0,           0,           0,           0]]), 'Confidence', 'Recall']]\n",
              "fitness: 0.12482938483725259\n",
              "keys: ['metrics/precision(B)', 'metrics/recall(B)', 'metrics/mAP50(B)', 'metrics/mAP50-95(B)']\n",
              "maps: array([    0.10424])\n",
              "names: {0: 'plant-weed'}\n",
              "plot: True\n",
              "results_dict: {'metrics/precision(B)': 0.3837062063470966, 'metrics/recall(B)': 0.34659685863874345, 'metrics/mAP50(B)': 0.3101295306834299, 'metrics/mAP50-95(B)': 0.10424047974323288, 'fitness': 0.12482938483725259}\n",
              "save_dir: PosixPath('runs/detect/val')\n",
              "speed: {'preprocess': 0.3692172909092567, 'inference': 2.4631031181828886, 'loss': 0.0007890000016562805, 'postprocess': 7.817452463636569}\n",
              "task: 'detect'"
            ]
          },
          "execution_count": 21,
          "metadata": {},
          "output_type": "execute_result"
        }
      ],
      "source": [
        "# Load the trained YOLO model\n",
        "model1 = YOLO(\"/content/runs/detect/train/weights/best.pt\")\n",
        "\n",
        "# Validate the model\n",
        "model1.val(data=f\"/content/YOLO/{model_name}/data.yaml\")"
      ]
    },
    {
      "cell_type": "markdown",
      "metadata": {
        "id": "SWbbmscELWo4"
      },
      "source": [
        "### Inference"
      ]
    },
    {
      "cell_type": "markdown",
      "metadata": {
        "id": "_9UPhc5ISBLP"
      },
      "source": [
        "#### Test 1 (small weed)"
      ]
    },
    {
      "cell_type": "code",
      "execution_count": 22,
      "metadata": {
        "id": "28A3RmDnYiQs"
      },
      "outputs": [],
      "source": [
        "image = '/content/drive/MyDrive/YOLO/3.5m.v3i.yolov8/valid/images/209_205_50_JPG.tile01x01.rf.949b5aa6fdbf6a1f721c39ed5ddcebec.jpg'\n",
        "keyword = '/images/'\n",
        "file_name = image[image.find(keyword)+len(keyword):]"
      ]
    },
    {
      "cell_type": "code",
      "execution_count": 23,
      "metadata": {
        "colab": {
          "base_uri": "https://localhost:8080/"
        },
        "id": "g1qARHojSBLQ",
        "outputId": "ff0745dc-da16-4482-ea34-11c72dc77e67"
      },
      "outputs": [
        {
          "name": "stdout",
          "output_type": "stream",
          "text": [
            "\n",
            "image 1/1 /content/drive/MyDrive/YOLO/3.5m.v3i.yolov8/valid/images/209_205_50_JPG.tile01x01.rf.949b5aa6fdbf6a1f721c39ed5ddcebec.jpg: 256x256 3 plant-weeds, 12.3ms\n",
            "Speed: 1.6ms preprocess, 12.3ms inference, 2.0ms postprocess per image at shape (1, 3, 256, 256)\n",
            "Results saved to \u001b[1mmodel10(5_60_L)/experiment1\u001b[0m\n",
            "Clase: 0, Confianza: 0.74, BBox: (4.17, 161.65, 135.37, 209.77)\n",
            "Clase: 0, Confianza: 0.48, BBox: (182.02, 185.11, 239.98, 238.40)\n",
            "Clase: 0, Confianza: 0.43, BBox: (125.25, 198.79, 240.00, 231.30)\n"
          ]
        }
      ],
      "source": [
        "# Ejecutar predicción sobre la imagen\n",
        "results = model1(image, save=True, project=\"model10(5_60_L)\", name=\"experiment1\")\n",
        "\n",
        "# Acceder a las coordenadas de los bounding boxes\n",
        "for result in results:\n",
        "    for box in result.boxes:\n",
        "        x1, y1, x2, y2 = box.xyxy[0]  # Coordenadas del bounding box (xmin, ymin, xmax, ymax)\n",
        "        conf = box.conf[0]  # Confianza de la predicción\n",
        "        cls = box.cls[0]  # Clase predicha\n",
        "        print(f\"Clase: {int(cls)}, Confianza: {conf:.2f}, BBox: ({x1:.2f}, {y1:.2f}, {x2:.2f}, {y2:.2f})\")"
      ]
    },
    {
      "cell_type": "code",
      "execution_count": 24,
      "metadata": {
        "colab": {
          "base_uri": "https://localhost:8080/"
        },
        "id": "fWPt53diSBLR",
        "outputId": "9f6765ac-9085-4139-faee-790ee65792e7"
      },
      "outputs": [
        {
          "name": "stdout",
          "output_type": "stream",
          "text": [
            "0 0.875 0.85 0.25416666666666665 0.125\n",
            "0 0.9041666666666667 0.8875 0.19583333333333333 0.13333333333333333\n",
            "0 0.9625 0.9458333333333333 0.07916666666666666 0.08333333333333333\n",
            "0 0.7083333333333334 0.8791666666666667 0.30833333333333335 0.06666666666666667\n",
            "0 0.4375 0.8458333333333333 0.20833333333333334 0.041666666666666664\n",
            "0 0.4041666666666667 0.825 0.225 0.041666666666666664\n",
            "0 0.3333333333333333 0.7583333333333333 0.21666666666666667 0.09166666666666666\n",
            "0 0.2375 0.7541666666666667 0.225 0.041666666666666664\n",
            "0 0.09583333333333334 0.7291666666666666 0.19166666666666668 0.09166666666666666\n",
            "\n"
          ]
        }
      ],
      "source": [
        "# Comparing with labeled images\n",
        "label_file = f'{file_name[:-4]}.txt'\n",
        "folder_path = image[:image.find(keyword)] + '/labels/'\n",
        "with open(folder_path+label_file, \"r\") as file:\n",
        "    content = file.read()\n",
        "\n",
        "print(content)"
      ]
    },
    {
      "cell_type": "markdown",
      "metadata": {
        "id": "gRnxhSjZPThl"
      },
      "source": [
        "#### Test 2 (medium weed)"
      ]
    },
    {
      "cell_type": "code",
      "execution_count": 25,
      "metadata": {
        "id": "MhBRcqw4YqD6"
      },
      "outputs": [],
      "source": [
        "image = '/content/drive/MyDrive/YOLO/3.5m.v3i.yolov8/valid/images/503_118_29_JPG.tile01x01.rf.33b1e23ce2d5d55c753d42f7fae09523.jpg'\n",
        "keyword = '/images/'\n",
        "file_name = image[image.find(keyword)+len(keyword):]"
      ]
    },
    {
      "cell_type": "code",
      "execution_count": 26,
      "metadata": {
        "colab": {
          "base_uri": "https://localhost:8080/"
        },
        "id": "9QFMGtTNRl5T",
        "outputId": "73f9b68c-6265-49ef-9cd5-d028a43a482e"
      },
      "outputs": [
        {
          "name": "stdout",
          "output_type": "stream",
          "text": [
            "\n",
            "image 1/1 /content/drive/MyDrive/YOLO/3.5m.v3i.yolov8/valid/images/503_118_29_JPG.tile01x01.rf.33b1e23ce2d5d55c753d42f7fae09523.jpg: 256x256 4 plant-weeds, 7.7ms\n",
            "Speed: 0.9ms preprocess, 7.7ms inference, 1.4ms postprocess per image at shape (1, 3, 256, 256)\n",
            "Results saved to \u001b[1mmodel10(5_60_L)/experiment2\u001b[0m\n",
            "Clase: 0, Confianza: 0.34, BBox: (22.60, 0.04, 81.20, 53.77)\n",
            "Clase: 0, Confianza: 0.32, BBox: (0.00, 3.27, 33.06, 75.81)\n",
            "Clase: 0, Confianza: 0.30, BBox: (0.15, 163.07, 52.65, 207.14)\n",
            "Clase: 0, Confianza: 0.27, BBox: (28.14, 0.11, 69.57, 45.58)\n"
          ]
        }
      ],
      "source": [
        "# Ejecutar predicción sobre la imagen\n",
        "results = model1(image, save=True, project=\"model10(5_60_L)\", name=\"experiment2\")\n",
        "\n",
        "# Acceder a las coordenadas de los bounding boxes\n",
        "for result in results:\n",
        "    for box in result.boxes:\n",
        "        x1, y1, x2, y2 = box.xyxy[0]  # Coordenadas del bounding box (xmin, ymin, xmax, ymax)\n",
        "        conf = box.conf[0]  # Confianza de la predicción\n",
        "        cls = box.cls[0]  # Clase predicha\n",
        "        print(f\"Clase: {int(cls)}, Confianza: {conf:.2f}, BBox: ({x1:.2f}, {y1:.2f}, {x2:.2f}, {y2:.2f})\")"
      ]
    },
    {
      "cell_type": "code",
      "execution_count": 27,
      "metadata": {
        "colab": {
          "base_uri": "https://localhost:8080/"
        },
        "id": "iOnfcLfiRl5T",
        "outputId": "45dc19d0-80a7-436a-b9e6-ae91728cae43"
      },
      "outputs": [
        {
          "name": "stdout",
          "output_type": "stream",
          "text": [
            "0 0.05416666666666667 0.7958333333333333 0.10416666666666667 0.13333333333333333\n",
            "0 0.0875 0.6625 0.175 0.275\n",
            "0 0.25 0.575 0.5 0.125\n",
            "0 0.09166666666666666 0.5583333333333333 0.10833333333333334 0.35833333333333334\n",
            "0 0.05416666666666667 0.48333333333333334 0.10416666666666667 0.23333333333333334\n",
            "0 0.9875 0.25416666666666665 0.025 0.175\n",
            "0 0.029166666666666667 0.1375 0.058333333333333334 0.275\n",
            "0 0.1375 0.10416666666666667 0.21666666666666667 0.20833333333333334\n",
            "0 0.15416666666666667 0.175 0.20833333333333334 0.275\n",
            "\n"
          ]
        }
      ],
      "source": [
        "# Comparing with labeled images\n",
        "label_file = f'{file_name[:-4]}.txt'\n",
        "folder_path = image[:image.find(keyword)] + '/labels/'\n",
        "with open(folder_path+label_file, \"r\") as file:\n",
        "    content = file.read()\n",
        "\n",
        "print(content)"
      ]
    },
    {
      "cell_type": "markdown",
      "metadata": {
        "id": "b4W9I3mSZRSY"
      },
      "source": [
        "### Save results"
      ]
    },
    {
      "cell_type": "code",
      "execution_count": 28,
      "metadata": {
        "colab": {
          "base_uri": "https://localhost:8080/"
        },
        "id": "98GxWeq4NxzW",
        "outputId": "445a071f-1d47-4534-b273-9a9111c4c13d"
      },
      "outputs": [
        {
          "name": "stdout",
          "output_type": "stream",
          "text": [
            "✅ Folder copied successfully:\n",
            "   /content/runs/ \n",
            "  --> /content/drive/MyDrive/save/\n"
          ]
        }
      ],
      "source": [
        "# Store model weights and metrics\n",
        "save_on_cloud(source='/content/runs/', destination='/content/drive/MyDrive/save/')"
      ]
    },
    {
      "cell_type": "code",
      "execution_count": 29,
      "metadata": {
        "colab": {
          "base_uri": "https://localhost:8080/"
        },
        "id": "0eVkQC-INxzX",
        "outputId": "12ac3068-b518-4689-e363-e11d01952ce7"
      },
      "outputs": [
        {
          "name": "stdout",
          "output_type": "stream",
          "text": [
            "✅ Folder copied successfully:\n",
            "   /content/model10(5_60_L)/ \n",
            "  --> /content/drive/MyDrive/save.SM/\n"
          ]
        }
      ],
      "source": [
        "# Store experiments\n",
        "save_on_cloud(source='/content/model10(5_60_L)/', destination='/content/drive/MyDrive/save.SM/')"
      ]
    }
  ],
  "metadata": {
    "accelerator": "GPU",
    "colab": {
      "collapsed_sections": [
        "65CE4LZkdT7P"
      ],
      "gpuType": "T4",
      "provenance": []
    },
    "kernelspec": {
      "display_name": "Python 3",
      "name": "python3"
    },
    "language_info": {
      "codemirror_mode": {
        "name": "ipython",
        "version": 3
      },
      "file_extension": ".py",
      "mimetype": "text/x-python",
      "name": "python",
      "nbconvert_exporter": "python",
      "pygments_lexer": "ipython3",
      "version": "3.11.7"
    }
  },
  "nbformat": 4,
  "nbformat_minor": 0
}
