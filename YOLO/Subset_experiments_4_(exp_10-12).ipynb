{
  "cells": [
    {
      "cell_type": "markdown",
      "metadata": {
        "id": "Wl2IhtFLNxy_"
      },
      "source": [
        "# Experiment 10\n",
        "- **Model:** `yolov8n` *(Nano)*\n",
        "- **Dataset:** 5m | 60º\n",
        "- **Sizes:** large\n",
        "- **Experiments:**\n",
        "    1. large\n"
      ]
    },
    {
      "cell_type": "markdown",
      "metadata": {
        "id": "KBXNn6g0OWBb"
      },
      "source": [
        "## Init"
      ]
    },
    {
      "cell_type": "code",
      "execution_count": 1,
      "metadata": {
        "id": "YVVJQ_XmmkIf"
      },
      "outputs": [],
      "source": [
        "import os\n",
        "import shutil\n",
        "import fnmatch"
      ]
    },
    {
      "cell_type": "code",
      "execution_count": 2,
      "metadata": {
        "colab": {
          "base_uri": "https://localhost:8080/"
        },
        "id": "2-ZnMwL4Nzlp",
        "outputId": "6eebfbb3-a71f-4aa0-b17f-d5f8b52626ca"
      },
      "outputs": [
        {
          "name": "stdout",
          "output_type": "stream",
          "text": [
            "Collecting ultralytics\n",
            "  Downloading ultralytics-8.3.74-py3-none-any.whl.metadata (35 kB)\n",
            "Requirement already satisfied: numpy<=2.1.1,>=1.23.0 in /usr/local/lib/python3.11/dist-packages (from ultralytics) (1.26.4)\n",
            "Requirement already satisfied: matplotlib>=3.3.0 in /usr/local/lib/python3.11/dist-packages (from ultralytics) (3.10.0)\n",
            "Requirement already satisfied: opencv-python>=4.6.0 in /usr/local/lib/python3.11/dist-packages (from ultralytics) (4.11.0.86)\n",
            "Requirement already satisfied: pillow>=7.1.2 in /usr/local/lib/python3.11/dist-packages (from ultralytics) (11.1.0)\n",
            "Requirement already satisfied: pyyaml>=5.3.1 in /usr/local/lib/python3.11/dist-packages (from ultralytics) (6.0.2)\n",
            "Requirement already satisfied: requests>=2.23.0 in /usr/local/lib/python3.11/dist-packages (from ultralytics) (2.32.3)\n",
            "Requirement already satisfied: scipy>=1.4.1 in /usr/local/lib/python3.11/dist-packages (from ultralytics) (1.13.1)\n",
            "Requirement already satisfied: torch>=1.8.0 in /usr/local/lib/python3.11/dist-packages (from ultralytics) (2.5.1+cu124)\n",
            "Requirement already satisfied: torchvision>=0.9.0 in /usr/local/lib/python3.11/dist-packages (from ultralytics) (0.20.1+cu124)\n",
            "Requirement already satisfied: tqdm>=4.64.0 in /usr/local/lib/python3.11/dist-packages (from ultralytics) (4.67.1)\n",
            "Requirement already satisfied: psutil in /usr/local/lib/python3.11/dist-packages (from ultralytics) (5.9.5)\n",
            "Requirement already satisfied: py-cpuinfo in /usr/local/lib/python3.11/dist-packages (from ultralytics) (9.0.0)\n",
            "Requirement already satisfied: pandas>=1.1.4 in /usr/local/lib/python3.11/dist-packages (from ultralytics) (2.2.2)\n",
            "Requirement already satisfied: seaborn>=0.11.0 in /usr/local/lib/python3.11/dist-packages (from ultralytics) (0.13.2)\n",
            "Collecting ultralytics-thop>=2.0.0 (from ultralytics)\n",
            "  Downloading ultralytics_thop-2.0.14-py3-none-any.whl.metadata (9.4 kB)\n",
            "Requirement already satisfied: contourpy>=1.0.1 in /usr/local/lib/python3.11/dist-packages (from matplotlib>=3.3.0->ultralytics) (1.3.1)\n",
            "Requirement already satisfied: cycler>=0.10 in /usr/local/lib/python3.11/dist-packages (from matplotlib>=3.3.0->ultralytics) (0.12.1)\n",
            "Requirement already satisfied: fonttools>=4.22.0 in /usr/local/lib/python3.11/dist-packages (from matplotlib>=3.3.0->ultralytics) (4.55.8)\n",
            "Requirement already satisfied: kiwisolver>=1.3.1 in /usr/local/lib/python3.11/dist-packages (from matplotlib>=3.3.0->ultralytics) (1.4.8)\n",
            "Requirement already satisfied: packaging>=20.0 in /usr/local/lib/python3.11/dist-packages (from matplotlib>=3.3.0->ultralytics) (24.2)\n",
            "Requirement already satisfied: pyparsing>=2.3.1 in /usr/local/lib/python3.11/dist-packages (from matplotlib>=3.3.0->ultralytics) (3.2.1)\n",
            "Requirement already satisfied: python-dateutil>=2.7 in /usr/local/lib/python3.11/dist-packages (from matplotlib>=3.3.0->ultralytics) (2.8.2)\n",
            "Requirement already satisfied: pytz>=2020.1 in /usr/local/lib/python3.11/dist-packages (from pandas>=1.1.4->ultralytics) (2025.1)\n",
            "Requirement already satisfied: tzdata>=2022.7 in /usr/local/lib/python3.11/dist-packages (from pandas>=1.1.4->ultralytics) (2025.1)\n",
            "Requirement already satisfied: charset-normalizer<4,>=2 in /usr/local/lib/python3.11/dist-packages (from requests>=2.23.0->ultralytics) (3.4.1)\n",
            "Requirement already satisfied: idna<4,>=2.5 in /usr/local/lib/python3.11/dist-packages (from requests>=2.23.0->ultralytics) (3.10)\n",
            "Requirement already satisfied: urllib3<3,>=1.21.1 in /usr/local/lib/python3.11/dist-packages (from requests>=2.23.0->ultralytics) (2.3.0)\n",
            "Requirement already satisfied: certifi>=2017.4.17 in /usr/local/lib/python3.11/dist-packages (from requests>=2.23.0->ultralytics) (2025.1.31)\n",
            "Requirement already satisfied: filelock in /usr/local/lib/python3.11/dist-packages (from torch>=1.8.0->ultralytics) (3.17.0)\n",
            "Requirement already satisfied: typing-extensions>=4.8.0 in /usr/local/lib/python3.11/dist-packages (from torch>=1.8.0->ultralytics) (4.12.2)\n",
            "Requirement already satisfied: networkx in /usr/local/lib/python3.11/dist-packages (from torch>=1.8.0->ultralytics) (3.4.2)\n",
            "Requirement already satisfied: jinja2 in /usr/local/lib/python3.11/dist-packages (from torch>=1.8.0->ultralytics) (3.1.5)\n",
            "Requirement already satisfied: fsspec in /usr/local/lib/python3.11/dist-packages (from torch>=1.8.0->ultralytics) (2024.10.0)\n",
            "Collecting nvidia-cuda-nvrtc-cu12==12.4.127 (from torch>=1.8.0->ultralytics)\n",
            "  Downloading nvidia_cuda_nvrtc_cu12-12.4.127-py3-none-manylinux2014_x86_64.whl.metadata (1.5 kB)\n",
            "Collecting nvidia-cuda-runtime-cu12==12.4.127 (from torch>=1.8.0->ultralytics)\n",
            "  Downloading nvidia_cuda_runtime_cu12-12.4.127-py3-none-manylinux2014_x86_64.whl.metadata (1.5 kB)\n",
            "Collecting nvidia-cuda-cupti-cu12==12.4.127 (from torch>=1.8.0->ultralytics)\n",
            "  Downloading nvidia_cuda_cupti_cu12-12.4.127-py3-none-manylinux2014_x86_64.whl.metadata (1.6 kB)\n",
            "Collecting nvidia-cudnn-cu12==9.1.0.70 (from torch>=1.8.0->ultralytics)\n",
            "  Downloading nvidia_cudnn_cu12-9.1.0.70-py3-none-manylinux2014_x86_64.whl.metadata (1.6 kB)\n",
            "Collecting nvidia-cublas-cu12==12.4.5.8 (from torch>=1.8.0->ultralytics)\n",
            "  Downloading nvidia_cublas_cu12-12.4.5.8-py3-none-manylinux2014_x86_64.whl.metadata (1.5 kB)\n",
            "Collecting nvidia-cufft-cu12==11.2.1.3 (from torch>=1.8.0->ultralytics)\n",
            "  Downloading nvidia_cufft_cu12-11.2.1.3-py3-none-manylinux2014_x86_64.whl.metadata (1.5 kB)\n",
            "Collecting nvidia-curand-cu12==10.3.5.147 (from torch>=1.8.0->ultralytics)\n",
            "  Downloading nvidia_curand_cu12-10.3.5.147-py3-none-manylinux2014_x86_64.whl.metadata (1.5 kB)\n",
            "Collecting nvidia-cusolver-cu12==11.6.1.9 (from torch>=1.8.0->ultralytics)\n",
            "  Downloading nvidia_cusolver_cu12-11.6.1.9-py3-none-manylinux2014_x86_64.whl.metadata (1.6 kB)\n",
            "Collecting nvidia-cusparse-cu12==12.3.1.170 (from torch>=1.8.0->ultralytics)\n",
            "  Downloading nvidia_cusparse_cu12-12.3.1.170-py3-none-manylinux2014_x86_64.whl.metadata (1.6 kB)\n",
            "Requirement already satisfied: nvidia-nccl-cu12==2.21.5 in /usr/local/lib/python3.11/dist-packages (from torch>=1.8.0->ultralytics) (2.21.5)\n",
            "Requirement already satisfied: nvidia-nvtx-cu12==12.4.127 in /usr/local/lib/python3.11/dist-packages (from torch>=1.8.0->ultralytics) (12.4.127)\n",
            "Collecting nvidia-nvjitlink-cu12==12.4.127 (from torch>=1.8.0->ultralytics)\n",
            "  Downloading nvidia_nvjitlink_cu12-12.4.127-py3-none-manylinux2014_x86_64.whl.metadata (1.5 kB)\n",
            "Requirement already satisfied: triton==3.1.0 in /usr/local/lib/python3.11/dist-packages (from torch>=1.8.0->ultralytics) (3.1.0)\n",
            "Requirement already satisfied: sympy==1.13.1 in /usr/local/lib/python3.11/dist-packages (from torch>=1.8.0->ultralytics) (1.13.1)\n",
            "Requirement already satisfied: mpmath<1.4,>=1.1.0 in /usr/local/lib/python3.11/dist-packages (from sympy==1.13.1->torch>=1.8.0->ultralytics) (1.3.0)\n",
            "Requirement already satisfied: six>=1.5 in /usr/local/lib/python3.11/dist-packages (from python-dateutil>=2.7->matplotlib>=3.3.0->ultralytics) (1.17.0)\n",
            "Requirement already satisfied: MarkupSafe>=2.0 in /usr/local/lib/python3.11/dist-packages (from jinja2->torch>=1.8.0->ultralytics) (3.0.2)\n",
            "Downloading ultralytics-8.3.74-py3-none-any.whl (914 kB)\n",
            "\u001b[2K   \u001b[90m━━━━━━━━━━━━━━━━━━━━━━━━━━━━━━━━━━━━━━━━\u001b[0m \u001b[32m914.7/914.7 kB\u001b[0m \u001b[31m23.5 MB/s\u001b[0m eta \u001b[36m0:00:00\u001b[0m\n",
            "\u001b[?25hDownloading nvidia_cublas_cu12-12.4.5.8-py3-none-manylinux2014_x86_64.whl (363.4 MB)\n",
            "\u001b[2K   \u001b[90m━━━━━━━━━━━━━━━━━━━━━━━━━━━━━━━━━━━━━━━━\u001b[0m \u001b[32m363.4/363.4 MB\u001b[0m \u001b[31m4.1 MB/s\u001b[0m eta \u001b[36m0:00:00\u001b[0m\n",
            "\u001b[?25hDownloading nvidia_cuda_cupti_cu12-12.4.127-py3-none-manylinux2014_x86_64.whl (13.8 MB)\n",
            "\u001b[2K   \u001b[90m━━━━━━━━━━━━━━━━━━━━━━━━━━━━━━━━━━━━━━━━\u001b[0m \u001b[32m13.8/13.8 MB\u001b[0m \u001b[31m50.5 MB/s\u001b[0m eta \u001b[36m0:00:00\u001b[0m\n",
            "\u001b[?25hDownloading nvidia_cuda_nvrtc_cu12-12.4.127-py3-none-manylinux2014_x86_64.whl (24.6 MB)\n",
            "\u001b[2K   \u001b[90m━━━━━━━━━━━━━━━━━━━━━━━━━━━━━━━━━━━━━━━━\u001b[0m \u001b[32m24.6/24.6 MB\u001b[0m \u001b[31m51.1 MB/s\u001b[0m eta \u001b[36m0:00:00\u001b[0m\n",
            "\u001b[?25hDownloading nvidia_cuda_runtime_cu12-12.4.127-py3-none-manylinux2014_x86_64.whl (883 kB)\n",
            "\u001b[2K   \u001b[90m━━━━━━━━━━━━━━━━━━━━━━━━━━━━━━━━━━━━━━━━\u001b[0m \u001b[32m883.7/883.7 kB\u001b[0m \u001b[31m35.7 MB/s\u001b[0m eta \u001b[36m0:00:00\u001b[0m\n",
            "\u001b[?25hDownloading nvidia_cudnn_cu12-9.1.0.70-py3-none-manylinux2014_x86_64.whl (664.8 MB)\n",
            "\u001b[2K   \u001b[90m━━━━━━━━━━━━━━━━━━━━━━━━━━━━━━━━━━━━━━━━\u001b[0m \u001b[32m664.8/664.8 MB\u001b[0m \u001b[31m1.9 MB/s\u001b[0m eta \u001b[36m0:00:00\u001b[0m\n",
            "\u001b[?25hDownloading nvidia_cufft_cu12-11.2.1.3-py3-none-manylinux2014_x86_64.whl (211.5 MB)\n",
            "\u001b[2K   \u001b[90m━━━━━━━━━━━━━━━━━━━━━━━━━━━━━━━━━━━━━━━━\u001b[0m \u001b[32m211.5/211.5 MB\u001b[0m \u001b[31m5.4 MB/s\u001b[0m eta \u001b[36m0:00:00\u001b[0m\n",
            "\u001b[?25hDownloading nvidia_curand_cu12-10.3.5.147-py3-none-manylinux2014_x86_64.whl (56.3 MB)\n",
            "\u001b[2K   \u001b[90m━━━━━━━━━━━━━━━━━━━━━━━━━━━━━━━━━━━━━━━━\u001b[0m \u001b[32m56.3/56.3 MB\u001b[0m \u001b[31m10.0 MB/s\u001b[0m eta \u001b[36m0:00:00\u001b[0m\n",
            "\u001b[?25hDownloading nvidia_cusolver_cu12-11.6.1.9-py3-none-manylinux2014_x86_64.whl (127.9 MB)\n",
            "\u001b[2K   \u001b[90m━━━━━━━━━━━━━━━━━━━━━━━━━━━━━━━━━━━━━━━━\u001b[0m \u001b[32m127.9/127.9 MB\u001b[0m \u001b[31m6.8 MB/s\u001b[0m eta \u001b[36m0:00:00\u001b[0m\n",
            "\u001b[?25hDownloading nvidia_cusparse_cu12-12.3.1.170-py3-none-manylinux2014_x86_64.whl (207.5 MB)\n",
            "\u001b[2K   \u001b[90m━━━━━━━━━━━━━━━━━━━━━━━━━━━━━━━━━━━━━━━━\u001b[0m \u001b[32m207.5/207.5 MB\u001b[0m \u001b[31m6.6 MB/s\u001b[0m eta \u001b[36m0:00:00\u001b[0m\n",
            "\u001b[?25hDownloading nvidia_nvjitlink_cu12-12.4.127-py3-none-manylinux2014_x86_64.whl (21.1 MB)\n",
            "\u001b[2K   \u001b[90m━━━━━━━━━━━━━━━━━━━━━━━━━━━━━━━━━━━━━━━━\u001b[0m \u001b[32m21.1/21.1 MB\u001b[0m \u001b[31m51.2 MB/s\u001b[0m eta \u001b[36m0:00:00\u001b[0m\n",
            "\u001b[?25hDownloading ultralytics_thop-2.0.14-py3-none-any.whl (26 kB)\n",
            "Installing collected packages: nvidia-nvjitlink-cu12, nvidia-curand-cu12, nvidia-cufft-cu12, nvidia-cuda-runtime-cu12, nvidia-cuda-nvrtc-cu12, nvidia-cuda-cupti-cu12, nvidia-cublas-cu12, nvidia-cusparse-cu12, nvidia-cudnn-cu12, nvidia-cusolver-cu12, ultralytics-thop, ultralytics\n",
            "  Attempting uninstall: nvidia-nvjitlink-cu12\n",
            "    Found existing installation: nvidia-nvjitlink-cu12 12.5.82\n",
            "    Uninstalling nvidia-nvjitlink-cu12-12.5.82:\n",
            "      Successfully uninstalled nvidia-nvjitlink-cu12-12.5.82\n",
            "  Attempting uninstall: nvidia-curand-cu12\n",
            "    Found existing installation: nvidia-curand-cu12 10.3.6.82\n",
            "    Uninstalling nvidia-curand-cu12-10.3.6.82:\n",
            "      Successfully uninstalled nvidia-curand-cu12-10.3.6.82\n",
            "  Attempting uninstall: nvidia-cufft-cu12\n",
            "    Found existing installation: nvidia-cufft-cu12 11.2.3.61\n",
            "    Uninstalling nvidia-cufft-cu12-11.2.3.61:\n",
            "      Successfully uninstalled nvidia-cufft-cu12-11.2.3.61\n",
            "  Attempting uninstall: nvidia-cuda-runtime-cu12\n",
            "    Found existing installation: nvidia-cuda-runtime-cu12 12.5.82\n",
            "    Uninstalling nvidia-cuda-runtime-cu12-12.5.82:\n",
            "      Successfully uninstalled nvidia-cuda-runtime-cu12-12.5.82\n",
            "  Attempting uninstall: nvidia-cuda-nvrtc-cu12\n",
            "    Found existing installation: nvidia-cuda-nvrtc-cu12 12.5.82\n",
            "    Uninstalling nvidia-cuda-nvrtc-cu12-12.5.82:\n",
            "      Successfully uninstalled nvidia-cuda-nvrtc-cu12-12.5.82\n",
            "  Attempting uninstall: nvidia-cuda-cupti-cu12\n",
            "    Found existing installation: nvidia-cuda-cupti-cu12 12.5.82\n",
            "    Uninstalling nvidia-cuda-cupti-cu12-12.5.82:\n",
            "      Successfully uninstalled nvidia-cuda-cupti-cu12-12.5.82\n",
            "  Attempting uninstall: nvidia-cublas-cu12\n",
            "    Found existing installation: nvidia-cublas-cu12 12.5.3.2\n",
            "    Uninstalling nvidia-cublas-cu12-12.5.3.2:\n",
            "      Successfully uninstalled nvidia-cublas-cu12-12.5.3.2\n",
            "  Attempting uninstall: nvidia-cusparse-cu12\n",
            "    Found existing installation: nvidia-cusparse-cu12 12.5.1.3\n",
            "    Uninstalling nvidia-cusparse-cu12-12.5.1.3:\n",
            "      Successfully uninstalled nvidia-cusparse-cu12-12.5.1.3\n",
            "  Attempting uninstall: nvidia-cudnn-cu12\n",
            "    Found existing installation: nvidia-cudnn-cu12 9.3.0.75\n",
            "    Uninstalling nvidia-cudnn-cu12-9.3.0.75:\n",
            "      Successfully uninstalled nvidia-cudnn-cu12-9.3.0.75\n",
            "  Attempting uninstall: nvidia-cusolver-cu12\n",
            "    Found existing installation: nvidia-cusolver-cu12 11.6.3.83\n",
            "    Uninstalling nvidia-cusolver-cu12-11.6.3.83:\n",
            "      Successfully uninstalled nvidia-cusolver-cu12-11.6.3.83\n",
            "Successfully installed nvidia-cublas-cu12-12.4.5.8 nvidia-cuda-cupti-cu12-12.4.127 nvidia-cuda-nvrtc-cu12-12.4.127 nvidia-cuda-runtime-cu12-12.4.127 nvidia-cudnn-cu12-9.1.0.70 nvidia-cufft-cu12-11.2.1.3 nvidia-curand-cu12-10.3.5.147 nvidia-cusolver-cu12-11.6.1.9 nvidia-cusparse-cu12-12.3.1.170 nvidia-nvjitlink-cu12-12.4.127 ultralytics-8.3.74 ultralytics-thop-2.0.14\n"
          ]
        }
      ],
      "source": [
        "!pip install ultralytics"
      ]
    },
    {
      "cell_type": "markdown",
      "metadata": {
        "id": "i8bbx812NxzF"
      },
      "source": [
        "## Helper Functions"
      ]
    },
    {
      "cell_type": "code",
      "execution_count": 3,
      "metadata": {
        "id": "8WEWyU6PNxzG"
      },
      "outputs": [],
      "source": [
        "# Change for different file formats\n",
        "reference = {\n",
        "  \"small\": {\n",
        "    \"suffix\": \".S\",\n",
        "    \"file\": \"209\"\n",
        "  },\n",
        "  \"mid\": {\n",
        "    \"suffix\": \".M\",\n",
        "    \"file\": \"503\"\n",
        "  },\n",
        "  \"large\": {\n",
        "    \"suffix\": \".L\",\n",
        "    \"file\": \"000\"\n",
        "  }\n",
        "}"
      ]
    },
    {
      "cell_type": "code",
      "execution_count": 4,
      "metadata": {
        "id": "d6d2oUpbNxzH"
      },
      "outputs": [],
      "source": [
        "# Clone config files\n",
        "def copy_config(src_folder, dest_folder):\n",
        "    \"\"\"\n",
        "    Copies files from src_folder to dest_folder, excluding subfolders.\n",
        "\n",
        "    Args:\n",
        "        src_folder: The path to the source folder.\n",
        "        dest_folder: The path to the destination folder.\n",
        "    \"\"\"\n",
        "\n",
        "    try:\n",
        "        # Ensure destination folder exists\n",
        "        os.makedirs(dest_folder, exist_ok=True)\n",
        "\n",
        "        for filename in os.listdir(src_folder):\n",
        "            src_path = os.path.join(src_folder, filename)\n",
        "            dest_path = os.path.join(dest_folder, filename)\n",
        "\n",
        "            if os.path.isfile(src_path):\n",
        "                shutil.copy2(src_path, dest_path) #copy metadata as well.\n",
        "                #Use shutil.copy for not copying metadata.\n",
        "                print(f\"Copied: {filename}\")\n",
        "            #else: #optional\n",
        "                #print(f\"Skipped (not a file): {filename}\") #optional. Uncomment if you want to see the skipped folders.\n",
        "\n",
        "        print(\"✅ Copying complete.\")\n",
        "\n",
        "    except Exception as e:\n",
        "        print(f\"❌ An error occurred: {e}\")\n"
      ]
    },
    {
      "cell_type": "code",
      "execution_count": 5,
      "metadata": {
        "id": "mgpms2_DNxzI"
      },
      "outputs": [],
      "source": [
        "# Copy filtered dataset images/labels\n",
        "def copy_and_filter_folder(src_folder, dest_folder, pattern):\n",
        "    \"\"\"\n",
        "    Copies a folder and files that match the given pattern.\n",
        "    Alerts the user when a folder or file already exists but *does not* overwrite.\n",
        "    Creates only what is needed.\n",
        "\n",
        "    :param src_folder: Path to the source folder.\n",
        "    :param dest_folder: Path to the destination folder.\n",
        "    :param pattern: Filename pattern to keep (e.g., \"*.txt\").\n",
        "    \"\"\"\n",
        "    try:\n",
        "        # Ensure destination folder exists\n",
        "        if not os.path.exists(dest_folder):\n",
        "            print(f\"✓ Creating destination folder '{dest_folder}'.\\n\")\n",
        "            os.makedirs(dest_folder)\n",
        "        else:\n",
        "            print(f\"✓ Destination folder '{dest_folder}' already exists.\\n\")\n",
        "\n",
        "        # Walk through the source folder\n",
        "        for root, _, files in os.walk(src_folder):\n",
        "            relative_path = os.path.relpath(root, src_folder)\n",
        "            new_root = os.path.join(dest_folder, relative_path)\n",
        "\n",
        "            if not os.path.exists(new_root):\n",
        "                print(f\"Creating subdirectory '{new_root}'\")\n",
        "                os.makedirs(new_root)\n",
        "            else:\n",
        "                print(f\"❕Subdirectory '{new_root}' already exists.\")\n",
        "                print(\"Make sure the data inside is relevant. Otherwise, just delete the folder and repeat the cloning process.\")\n",
        "\n",
        "            for file in files:\n",
        "                if fnmatch.fnmatch(file, pattern + \"*\"):\n",
        "                    src_file = os.path.join(root, file)\n",
        "                    dest_file = os.path.join(new_root, file)\n",
        "\n",
        "                    if not os.path.exists(dest_file):\n",
        "                        shutil.copy2(src_file, dest_file)  # copy metadata as well\n",
        "                    else:\n",
        "                        print(f\"❗️File '{dest_file}' already exists. Skipping.\")\n",
        "\n",
        "            print(f\" ✓ Copying files complete.\\n\")\n",
        "        print(\"✅ Copying dataset complete.\")\n",
        "\n",
        "    except Exception as e:\n",
        "        print(f\"❌ An error occurred: {e}\")"
      ]
    },
    {
      "cell_type": "code",
      "execution_count": 6,
      "metadata": {
        "id": "GDt55QWyNxzJ"
      },
      "outputs": [],
      "source": [
        "def save_on_cloud(source: str, destination: str):\n",
        "    \"\"\"\n",
        "    Saves a folder to a cloud storage location (e.g., Google Drive in Colab).\n",
        "\n",
        "    Args:\n",
        "        source (str): The path to the source folder.\n",
        "        destination (str): The path to the destination folder (in cloud storage).\n",
        "    \"\"\"\n",
        "    # 0. Input Validation (Assertions)\n",
        "    assert isinstance(source, str), \"Source must be a string.\"\n",
        "    assert isinstance(destination, str), \"Destination must be a string.\"\n",
        "\n",
        "    try:\n",
        "        # 1. Verify Source Folder\n",
        "        if not os.path.exists(destination):\n",
        "            os.makedirs(destination)\n",
        "\n",
        "        # 2. Copy the Folder\n",
        "        shutil.copytree(source, destination, dirs_exist_ok=True)\n",
        "        print(\"✅ Folder copied successfully:\\n  \",source,\"\\n  -->\",destination)\n",
        "\n",
        "    except Exception as e:\n",
        "        print(f\"❌ An error occurred: {e}\")"
      ]
    },
    {
      "cell_type": "markdown",
      "metadata": {
        "id": "-9BjrhsmI2C3"
      },
      "source": [
        "# Datasets builder"
      ]
    },
    {
      "cell_type": "markdown",
      "metadata": {
        "id": "IlPjpooldQG-"
      },
      "source": [
        "## Importing from Drive"
      ]
    },
    {
      "cell_type": "code",
      "execution_count": 7,
      "metadata": {
        "id": "iddWd3iDSpbo"
      },
      "outputs": [],
      "source": [
        "!rm -rf /content/sample_data"
      ]
    },
    {
      "cell_type": "code",
      "execution_count": 8,
      "metadata": {
        "colab": {
          "base_uri": "https://localhost:8080/"
        },
        "id": "WtXftT0vSNOA",
        "outputId": "c11d768c-44a8-4cb1-c1a6-c970068031b0"
      },
      "outputs": [
        {
          "name": "stdout",
          "output_type": "stream",
          "text": [
            "Mounted at /content/drive\n"
          ]
        }
      ],
      "source": [
        "from google.colab import drive\n",
        "drive.mount('/content/drive')"
      ]
    },
    {
      "cell_type": "code",
      "execution_count": 10,
      "metadata": {
        "colab": {
          "base_uri": "https://localhost:8080/"
        },
        "id": "S_h_JyUvSWxc",
        "outputId": "8a55cbcd-2ef3-4dd5-802e-351a92044e9c"
      },
      "outputs": [
        {
          "name": "stdout",
          "output_type": "stream",
          "text": [
            "3.5m.v3i.yolov8  3m60.v1i.yolov8  5m60.v1i.yolov8  5m.v1i.yolov8\n"
          ]
        }
      ],
      "source": [
        "# Check if the cloud path is ok and the dataset can be found\n",
        "!ls /content/drive/MyDrive/YOLO"
      ]
    },
    {
      "cell_type": "code",
      "execution_count": 11,
      "metadata": {
        "colab": {
          "base_uri": "https://localhost:8080/"
        },
        "id": "XVafy73bU2PM",
        "outputId": "0f1dddd7-ed2d-4d25-8d23-a92c0e3a3450"
      },
      "outputs": [
        {
          "name": "stdout",
          "output_type": "stream",
          "text": [
            "There are 4 dataset options:\n"
          ]
        },
        {
          "data": {
            "text/plain": [
              "['5m60.v1i.yolov8', '3.5m.v3i.yolov8', '5m.v1i.yolov8', '3m60.v1i.yolov8']"
            ]
          },
          "execution_count": 11,
          "metadata": {},
          "output_type": "execute_result"
        }
      ],
      "source": [
        "drive_path = '/content/drive/MyDrive/YOLO'\n",
        "drive_datasets_paths = os.listdir(drive_path)\n",
        "drive_datasets = len(drive_datasets_paths)\n",
        "if (drive_datasets) > 1:\n",
        "    print(\"There are %d dataset options:\" % drive_datasets)\n",
        "else:\n",
        "    print(\"Theres is only 1 dataset:\")\n",
        "drive_datasets_paths"
      ]
    },
    {
      "cell_type": "code",
      "execution_count": 12,
      "metadata": {
        "colab": {
          "base_uri": "https://localhost:8080/"
        },
        "id": "5uy8TPqv5NwL",
        "outputId": "39c14772-aa3d-4ec3-92e3-f25e9b632b2c"
      },
      "outputs": [
        {
          "name": "stdout",
          "output_type": "stream",
          "text": [
            "Choosed model: 3m60.v1i.yolov8\n"
          ]
        }
      ],
      "source": [
        "choose_dataset = 4\n",
        "index = choose_dataset - 1\n",
        "model_name = os.listdir(drive_path)[index]\n",
        "print(\"Choosed model:\", model_name)"
      ]
    },
    {
      "cell_type": "markdown",
      "metadata": {
        "id": "JawOcWqws1ON"
      },
      "source": [
        "***Readme:***\n",
        "*   **Option 1:** is desirable if you need to test many subset combinations in the same session (avoid downloading data twice from the cloud).\n",
        "*   **Option 3:** is best if you're just going to test one subset combination  (avoid downloading unnecessary data from the cloud).\n",
        "\n"
      ]
    },
    {
      "cell_type": "code",
      "execution_count": 34,
      "metadata": {
        "colab": {
          "base_uri": "https://localhost:8080/"
        },
        "id": "KrSd41yvShIv",
        "outputId": "f9cbad2f-2201-4474-e780-a5472a9b2919"
      },
      "outputs": [
        {
          "name": "stdout",
          "output_type": "stream",
          "text": [
            "mkdir: cannot create directory ‘/content/YOLO/’: File exists\n"
          ]
        }
      ],
      "source": [
        "# Option 1 (download full dataset)\n",
        "source = f\"/content/drive/MyDrive/YOLO/{model_name}\"\n",
        "dest = f\"/content/YOLO/{model_name}\"\n",
        "#!mkdir /content/YOLO/\n",
        "!cp -r $source $dest\n",
        "src_folder = dest"
      ]
    },
    {
      "cell_type": "code",
      "execution_count": 49,
      "metadata": {
        "id": "EnH1ab_4SgxT"
      },
      "outputs": [],
      "source": [
        "#!mkdir /content/YOLO"
      ]
    },
    {
      "cell_type": "code",
      "execution_count": null,
      "metadata": {
        "colab": {
          "base_uri": "https://localhost:8080/",
          "height": 339
        },
        "id": "8T9Xl_AzRvkW",
        "outputId": "a1bf849d-f216-4a70-811b-fe643aaa863b"
      },
      "outputs": [],
      "source": [
        "source = \"/content/YOLO/3m60.v1i.yolov8.S/valid\"\n",
        "dest = \"/content/YOLO/3m60.v1i.yolov8.M/valid\"\n",
        "!mv $source $dest"
      ]
    },
    {
      "cell_type": "code",
      "execution_count": 115,
      "metadata": {
        "colab": {
          "base_uri": "https://localhost:8080/"
        },
        "id": "WDKbTn0IaI-r",
        "outputId": "12142bf0-ce81-41f0-afd0-ba79704550d2"
      },
      "outputs": [
        {
          "name": "stdout",
          "output_type": "stream",
          "text": [
            "Directory '/content/YOLO/3m60.v1i.yolov8.S/valid' copied to '/content/YOLO/3m60.v1i.yolov8.M/valid'\n"
          ]
        },
        {
          "data": {
            "text/plain": [
              "True"
            ]
          },
          "execution_count": 115,
          "metadata": {},
          "output_type": "execute_result"
        }
      ],
      "source": [
        "copy_directory(source, dest, overwrite=True)"
      ]
    },
    {
      "cell_type": "code",
      "execution_count": 114,
      "metadata": {
        "colab": {
          "base_uri": "https://localhost:8080/"
        },
        "id": "AdBTa0F0Z0Me",
        "outputId": "cc86e5a0-b8f0-4c54-a1d6-09af20b32b71"
      },
      "outputs": [
        {
          "name": "stdout",
          "output_type": "stream",
          "text": [
            "Destination directory '/content/YOLO/3m60.v1i.yolov8.M/valid' already exists.\n"
          ]
        }
      ],
      "source": [
        "import shutil\n",
        "import os\n",
        "\n",
        "source_dir = source\n",
        "destination_dir = dest\n",
        "\n",
        "try:\n",
        "    shutil.copytree(source_dir, destination_dir)\n",
        "    print(f\"Directory '{source_dir}' copied successfully to '{destination_dir}'\")\n",
        "except FileExistsError:\n",
        "    print(f\"Destination directory '{destination_dir}' already exists.\")\n",
        "    # You can handle this in different ways:\n",
        "    # - Remove the existing directory and try again:\n",
        "    # shutil.rmtree(destination_dir)  # Be very careful with this!\n",
        "    # shutil.copytree(source_dir, destination_dir)\n",
        "    # - Merge the directories (more complex, requires custom logic)\n",
        "    # - Prompt the user\n",
        "except Exception as e:\n",
        "    print(f\"Error copying directory: {e}\")\n",
        "\n",
        "\n",
        "# Example with error handling and overwrite:\n",
        "def copy_directory(source, destination, overwrite=True):\n",
        "    try:\n",
        "        if overwrite and os.path.exists(destination):\n",
        "            shutil.rmtree(destination)  # Remove existing directory\n",
        "        shutil.copytree(source, destination)\n",
        "        print(f\"Directory '{source}' copied to '{destination}'\")\n",
        "        return True  # Indicate success\n",
        "    except FileExistsError:\n",
        "        print(f\"Destination '{destination}' exists. Use overwrite=True to replace.\")\n",
        "        return False  # Indicate failure"
      ]
    },
    {
      "cell_type": "code",
      "execution_count": 26,
      "metadata": {
        "id": "PNhgI21wkmqi"
      },
      "outputs": [],
      "source": [
        "# Option 3 (download just what's needed)\n",
        "# src_folder = f\"{drive_path}/{model}\""
      ]
    },
    {
      "cell_type": "markdown",
      "metadata": {
        "id": "65CE4LZkdT7P"
      },
      "source": [
        "## ❌ Build dataset 'small'"
      ]
    },
    {
      "cell_type": "markdown",
      "metadata": {
        "id": "GIWK81G7UVaS"
      },
      "source": [
        "### Settings"
      ]
    },
    {
      "cell_type": "code",
      "execution_count": 69,
      "metadata": {
        "id": "z2v8aB6IUyKc"
      },
      "outputs": [],
      "source": [
        "# CHOOSE THE DATASET YOU WANT TO WORK WITH\n",
        "choosen_data = 'small' # Options: small / mid / large"
      ]
    },
    {
      "cell_type": "code",
      "execution_count": 70,
      "metadata": {
        "id": "jQtJOxP3lMoK"
      },
      "outputs": [],
      "source": [
        "suffix = reference[choosen_data]['suffix']\n",
        "dest_folder = f\"/content/YOLO/{model_name}{suffix}\"\n",
        "pattern = reference[choosen_data]['file']"
      ]
    },
    {
      "cell_type": "code",
      "execution_count": 71,
      "metadata": {
        "colab": {
          "base_uri": "https://localhost:8080/"
        },
        "id": "h7nbU3tAcYkb",
        "outputId": "fc033582-56c2-4c4b-9509-192ffd174bca"
      },
      "outputs": [
        {
          "name": "stdout",
          "output_type": "stream",
          "text": [
            "🆗 SETTING PARAMETERS\n",
            " - Model: 3m60.v1i.yolov8\n",
            " - rigin: /content/YOLO/3m60.v1i.yolov8\n",
            " - Destination: /content/YOLO/3m60.v1i.yolov8.S\n",
            " - Prefix: 209…\n"
          ]
        }
      ],
      "source": [
        "print(f'🆗 SETTING PARAMETERS\\n - Model: {model_name}\\n - rigin: {src_folder}\\n - Destination: {dest_folder}\\n - Prefix: {pattern}…')"
      ]
    },
    {
      "cell_type": "markdown",
      "metadata": {
        "id": "FO1QRktzdWHN"
      },
      "source": [
        "### Builder"
      ]
    },
    {
      "cell_type": "code",
      "execution_count": 72,
      "metadata": {
        "colab": {
          "base_uri": "https://localhost:8080/"
        },
        "id": "Qm2_Use1kCXx",
        "outputId": "5a6bbd11-a8e2-4c62-8406-cc003c69e936"
      },
      "outputs": [
        {
          "name": "stdout",
          "output_type": "stream",
          "text": [
            "Copied: README.dataset.txt\n",
            "Copied: data.yaml\n",
            "Copied: README.roboflow.txt\n",
            "✅ Copying complete.\n"
          ]
        }
      ],
      "source": [
        "copy_config(src_folder, dest_folder)"
      ]
    },
    {
      "cell_type": "code",
      "execution_count": 73,
      "metadata": {
        "colab": {
          "base_uri": "https://localhost:8080/"
        },
        "id": "Q9UlA3ErdB4R",
        "outputId": "27e7eb08-03eb-4947-830b-3f4db7fe729d"
      },
      "outputs": [
        {
          "name": "stdout",
          "output_type": "stream",
          "text": [
            "✓ Destination folder '/content/YOLO/3m60.v1i.yolov8.S' already exists.\n",
            "\n",
            "❕Subdirectory '/content/YOLO/3m60.v1i.yolov8.S/.' already exists.\n",
            "Make sure the data inside is relevant. Otherwise, just delete the folder and repeat the cloning process.\n",
            " ✓ Copying files complete.\n",
            "\n",
            "Creating subdirectory '/content/YOLO/3m60.v1i.yolov8.S/valid'\n",
            " ✓ Copying files complete.\n",
            "\n",
            "Creating subdirectory '/content/YOLO/3m60.v1i.yolov8.S/valid/images'\n",
            " ✓ Copying files complete.\n",
            "\n",
            "Creating subdirectory '/content/YOLO/3m60.v1i.yolov8.S/valid/labels'\n",
            " ✓ Copying files complete.\n",
            "\n",
            "Creating subdirectory '/content/YOLO/3m60.v1i.yolov8.S/train'\n",
            " ✓ Copying files complete.\n",
            "\n",
            "Creating subdirectory '/content/YOLO/3m60.v1i.yolov8.S/train/images'\n",
            " ✓ Copying files complete.\n",
            "\n",
            "Creating subdirectory '/content/YOLO/3m60.v1i.yolov8.S/train/labels'\n",
            " ✓ Copying files complete.\n",
            "\n",
            "Creating subdirectory '/content/YOLO/3m60.v1i.yolov8.S/.ipynb_checkpoints'\n",
            " ✓ Copying files complete.\n",
            "\n",
            "✅ Copying dataset complete.\n"
          ]
        }
      ],
      "source": [
        "copy_and_filter_folder(src_folder, dest_folder, pattern)"
      ]
    },
    {
      "cell_type": "markdown",
      "metadata": {
        "id": "gqOAxjJRUmjO"
      },
      "source": [
        "## ❌ Build dataset 'medium'"
      ]
    },
    {
      "cell_type": "markdown",
      "metadata": {
        "id": "a_p_oSMvUmjO"
      },
      "source": [
        "### Settings"
      ]
    },
    {
      "cell_type": "code",
      "execution_count": 74,
      "metadata": {
        "id": "vrkdklXaUmjO"
      },
      "outputs": [],
      "source": [
        "# CHOOSE THE DATASET YOU WANT TO WORK WITH\n",
        "choosen_data = 'mid' # Options: small / mid / large"
      ]
    },
    {
      "cell_type": "code",
      "execution_count": 75,
      "metadata": {
        "id": "Gs2wWNu-UmjO"
      },
      "outputs": [],
      "source": [
        "suffix = reference[choosen_data]['suffix']\n",
        "dest_folder = f\"/content/YOLO/{model_name}{suffix}\"\n",
        "pattern = reference[choosen_data]['file']"
      ]
    },
    {
      "cell_type": "code",
      "execution_count": 76,
      "metadata": {
        "colab": {
          "base_uri": "https://localhost:8080/"
        },
        "id": "yzDSvYtpUmjP",
        "outputId": "bd5b6346-821f-4c14-d27b-f669be56d9da"
      },
      "outputs": [
        {
          "name": "stdout",
          "output_type": "stream",
          "text": [
            "🆗 SETTING PARAMETERS\n",
            " - Model: 3m60.v1i.yolov8\n",
            " - rigin: /content/YOLO/3m60.v1i.yolov8\n",
            " - Destination: /content/YOLO/3m60.v1i.yolov8.M\n",
            " - Prefix: 503…\n"
          ]
        }
      ],
      "source": [
        "print(f'🆗 SETTING PARAMETERS\\n - Model: {model_name}\\n - rigin: {src_folder}\\n - Destination: {dest_folder}\\n - Prefix: {pattern}…')"
      ]
    },
    {
      "cell_type": "markdown",
      "metadata": {
        "id": "gGcWKFFmUmjP"
      },
      "source": [
        "### Builder"
      ]
    },
    {
      "cell_type": "code",
      "execution_count": 77,
      "metadata": {
        "colab": {
          "base_uri": "https://localhost:8080/"
        },
        "id": "Agc_pih9UmjP",
        "outputId": "0e0c9944-e88b-4340-8cc5-fbd935fed2e8"
      },
      "outputs": [
        {
          "name": "stdout",
          "output_type": "stream",
          "text": [
            "Copied: README.dataset.txt\n",
            "Copied: data.yaml\n",
            "Copied: README.roboflow.txt\n",
            "✅ Copying complete.\n"
          ]
        }
      ],
      "source": [
        "copy_config(src_folder, dest_folder)"
      ]
    },
    {
      "cell_type": "code",
      "execution_count": 78,
      "metadata": {
        "colab": {
          "base_uri": "https://localhost:8080/"
        },
        "id": "TaPTMuxiUmjQ",
        "outputId": "30be14dd-e673-402e-da48-d84312dea1a4"
      },
      "outputs": [
        {
          "name": "stdout",
          "output_type": "stream",
          "text": [
            "✓ Destination folder '/content/YOLO/3m60.v1i.yolov8.M' already exists.\n",
            "\n",
            "❕Subdirectory '/content/YOLO/3m60.v1i.yolov8.M/.' already exists.\n",
            "Make sure the data inside is relevant. Otherwise, just delete the folder and repeat the cloning process.\n",
            " ✓ Copying files complete.\n",
            "\n",
            "Creating subdirectory '/content/YOLO/3m60.v1i.yolov8.M/valid'\n",
            " ✓ Copying files complete.\n",
            "\n",
            "Creating subdirectory '/content/YOLO/3m60.v1i.yolov8.M/valid/images'\n",
            " ✓ Copying files complete.\n",
            "\n",
            "Creating subdirectory '/content/YOLO/3m60.v1i.yolov8.M/valid/labels'\n",
            " ✓ Copying files complete.\n",
            "\n",
            "Creating subdirectory '/content/YOLO/3m60.v1i.yolov8.M/train'\n",
            " ✓ Copying files complete.\n",
            "\n",
            "Creating subdirectory '/content/YOLO/3m60.v1i.yolov8.M/train/images'\n",
            " ✓ Copying files complete.\n",
            "\n",
            "Creating subdirectory '/content/YOLO/3m60.v1i.yolov8.M/train/labels'\n",
            " ✓ Copying files complete.\n",
            "\n",
            "Creating subdirectory '/content/YOLO/3m60.v1i.yolov8.M/.ipynb_checkpoints'\n",
            " ✓ Copying files complete.\n",
            "\n",
            "✅ Copying dataset complete.\n"
          ]
        }
      ],
      "source": [
        "copy_and_filter_folder(src_folder, dest_folder, pattern)"
      ]
    },
    {
      "cell_type": "markdown",
      "metadata": {
        "id": "-NW460pYT7sp"
      },
      "source": [
        "## Remove datasets (restart)"
      ]
    },
    {
      "cell_type": "code",
      "execution_count": 44,
      "metadata": {
        "id": "zs9SF2no2vSL"
      },
      "outputs": [],
      "source": [
        "# Removes complete local dataset\n",
        "#!rm -rf /content/YOLO"
      ]
    },
    {
      "cell_type": "markdown",
      "metadata": {
        "id": "W9aidUh1JCq0"
      },
      "source": [
        "# Model constructor\n",
        "Model: `yolov8n` *(Nano)*\n",
        "\n"
      ]
    },
    {
      "cell_type": "markdown",
      "metadata": {
        "id": "EJFL51PxJcB8"
      },
      "source": [
        "## Download model"
      ]
    },
    {
      "cell_type": "code",
      "execution_count": 9,
      "metadata": {
        "colab": {
          "base_uri": "https://localhost:8080/"
        },
        "id": "zK1ESTQsJEGx",
        "outputId": "dc0a2e2e-1800-448c-b8e3-134583a4d347"
      },
      "outputs": [
        {
          "name": "stdout",
          "output_type": "stream",
          "text": [
            "Creating new Ultralytics Settings v0.0.6 file ✅ \n",
            "View Ultralytics Settings with 'yolo settings' or at '/root/.config/Ultralytics/settings.json'\n",
            "Update Settings with 'yolo settings key=value', i.e. 'yolo settings runs_dir=path/to/dir'. For help see https://docs.ultralytics.com/quickstart/#ultralytics-settings.\n",
            "Downloading https://github.com/ultralytics/assets/releases/download/v8.3.0/yolov8n.pt to 'yolov8n.pt'...\n"
          ]
        },
        {
          "name": "stderr",
          "output_type": "stream",
          "text": [
            "100%|██████████| 6.25M/6.25M [00:00<00:00, 285MB/s]\n"
          ]
        }
      ],
      "source": [
        "from ultralytics import YOLO\n",
        "\n",
        "# Load the YOLO model\n",
        "model = YOLO(\"yolov8n.pt\")"
      ]
    },
    {
      "cell_type": "markdown",
      "metadata": {
        "id": "qS7qPrylKSxm"
      },
      "source": [
        "# Finetuning"
      ]
    },
    {
      "cell_type": "markdown",
      "metadata": {
        "id": "2ZrxyjgOZhOR"
      },
      "source": [
        "### Info"
      ]
    },
    {
      "cell_type": "code",
      "execution_count": 61,
      "metadata": {
        "colab": {
          "base_uri": "https://localhost:8080/"
        },
        "id": "igZPwDJsOPUK",
        "outputId": "8cd03c0b-423d-4c49-c9c8-8f3552143520"
      },
      "outputs": [
        {
          "name": "stdout",
          "output_type": "stream",
          "text": [
            "Wed Feb 12 17:55:38 2025       \n",
            "+-----------------------------------------------------------------------------------------+\n",
            "| NVIDIA-SMI 550.54.15              Driver Version: 550.54.15      CUDA Version: 12.4     |\n",
            "|-----------------------------------------+------------------------+----------------------+\n",
            "| GPU  Name                 Persistence-M | Bus-Id          Disp.A | Volatile Uncorr. ECC |\n",
            "| Fan  Temp   Perf          Pwr:Usage/Cap |           Memory-Usage | GPU-Util  Compute M. |\n",
            "|                                         |                        |               MIG M. |\n",
            "|=========================================+========================+======================|\n",
            "|   0  Tesla T4                       Off |   00000000:00:04.0 Off |                    0 |\n",
            "| N/A   41C    P8             11W /   70W |       0MiB /  15360MiB |      0%      Default |\n",
            "|                                         |                        |                  N/A |\n",
            "+-----------------------------------------+------------------------+----------------------+\n",
            "                                                                                         \n",
            "+-----------------------------------------------------------------------------------------+\n",
            "| Processes:                                                                              |\n",
            "|  GPU   GI   CI        PID   Type   Process name                              GPU Memory |\n",
            "|        ID   ID                                                               Usage      |\n",
            "|=========================================================================================|\n",
            "|  No running processes found                                                             |\n",
            "+-----------------------------------------------------------------------------------------+\n"
          ]
        }
      ],
      "source": [
        "!nvidia-smi"
      ]
    },
    {
      "cell_type": "code",
      "execution_count": 62,
      "metadata": {
        "colab": {
          "base_uri": "https://localhost:8080/"
        },
        "id": "_M1W78eLN99E",
        "outputId": "9c3b4c8f-2cf4-4b18-c35b-c569360a56df"
      },
      "outputs": [
        {
          "name": "stdout",
          "output_type": "stream",
          "text": [
            "8.3.74\n"
          ]
        }
      ],
      "source": [
        "!yolo version"
      ]
    },
    {
      "cell_type": "markdown",
      "metadata": {
        "id": "vk0e0L3bPHEl"
      },
      "source": [
        "-----\n",
        "## Experiment 10 *(full dataset)*\n",
        "### *5m | 60º | large*"
      ]
    },
    {
      "cell_type": "markdown",
      "metadata": {
        "id": "ucbubVBLQBvd"
      },
      "source": [
        "### Train"
      ]
    },
    {
      "cell_type": "code",
      "execution_count": null,
      "metadata": {
        "colab": {
          "base_uri": "https://localhost:8080/"
        },
        "id": "0DNsH_JsJlQf",
        "outputId": "863d1a7a-81b0-42fa-c3df-1ff0b2e4797f"
      },
      "outputs": [],
      "source": [
        "\n",
        "# Train the model\n",
        "model.train(\n",
        "    data=f\"/content/YOLO/{model_name}/data.yaml\",\n",
        "    epochs=100,\n",
        "    imgsz=240,\n",
        "    freeze=10,\n",
        "    batch=64\n",
        ")\n"
      ]
    },
    {
      "cell_type": "markdown",
      "metadata": {
        "id": "Zg26f8m-LShF"
      },
      "source": [
        "### Validation"
      ]
    },
    {
      "cell_type": "code",
      "execution_count": null,
      "metadata": {
        "colab": {
          "base_uri": "https://localhost:8080/"
        },
        "id": "LNpG-gyjKRZZ",
        "outputId": "aba2820f-dc1d-4787-c626-9f423c8d1cbc"
      },
      "outputs": [],
      "source": [
        "# Load the trained YOLO model\n",
        "model1 = YOLO(\"/content/runs/detect/train/weights/best.pt\")\n",
        "\n",
        "# Validate the model\n",
        "model1.val(data=f\"/content/YOLO/{model_name}/data.yaml\")"
      ]
    },
    {
      "cell_type": "markdown",
      "metadata": {
        "id": "SWbbmscELWo4"
      },
      "source": [
        "### Inference"
      ]
    },
    {
      "cell_type": "markdown",
      "metadata": {
        "id": "_9UPhc5ISBLP"
      },
      "source": [
        "#### Test 1 (small weed)"
      ]
    },
    {
      "cell_type": "code",
      "execution_count": 84,
      "metadata": {
        "id": "28A3RmDnYiQs"
      },
      "outputs": [],
      "source": [
        "image = '/content/drive/MyDrive/YOLO/3.5m.v3i.yolov8/valid/images/209_205_50_JPG.tile01x01.rf.949b5aa6fdbf6a1f721c39ed5ddcebec.jpg'\n",
        "keyword = '/images/'\n",
        "file_name = image[image.find(keyword)+len(keyword):]"
      ]
    },
    {
      "cell_type": "code",
      "execution_count": null,
      "metadata": {
        "colab": {
          "base_uri": "https://localhost:8080/"
        },
        "id": "g1qARHojSBLQ",
        "outputId": "4960de27-3f5c-4ec6-914c-ddda2a101513"
      },
      "outputs": [],
      "source": [
        "# Ejecutar predicción sobre la imagen\n",
        "results = model1(image, save=True, project=\"model10(5_60_L)\", name=\"experiment1\")\n",
        "\n",
        "# Acceder a las coordenadas de los bounding boxes\n",
        "for result in results:\n",
        "    for box in result.boxes:\n",
        "        x1, y1, x2, y2 = box.xyxy[0]  # Coordenadas del bounding box (xmin, ymin, xmax, ymax)\n",
        "        conf = box.conf[0]  # Confianza de la predicción\n",
        "        cls = box.cls[0]  # Clase predicha\n",
        "        print(f\"Clase: {int(cls)}, Confianza: {conf:.2f}, BBox: ({x1:.2f}, {y1:.2f}, {x2:.2f}, {y2:.2f})\")"
      ]
    },
    {
      "cell_type": "code",
      "execution_count": 86,
      "metadata": {
        "colab": {
          "base_uri": "https://localhost:8080/"
        },
        "id": "fWPt53diSBLR",
        "outputId": "89d0fd45-6b1a-490f-ecbe-2e6d778363a0"
      },
      "outputs": [
        {
          "name": "stdout",
          "output_type": "stream",
          "text": [
            "0 0.875 0.85 0.25416666666666665 0.125\n",
            "0 0.9041666666666667 0.8875 0.19583333333333333 0.13333333333333333\n",
            "0 0.9625 0.9458333333333333 0.07916666666666666 0.08333333333333333\n",
            "0 0.7083333333333334 0.8791666666666667 0.30833333333333335 0.06666666666666667\n",
            "0 0.4375 0.8458333333333333 0.20833333333333334 0.041666666666666664\n",
            "0 0.4041666666666667 0.825 0.225 0.041666666666666664\n",
            "0 0.3333333333333333 0.7583333333333333 0.21666666666666667 0.09166666666666666\n",
            "0 0.2375 0.7541666666666667 0.225 0.041666666666666664\n",
            "0 0.09583333333333334 0.7291666666666666 0.19166666666666668 0.09166666666666666\n",
            "\n"
          ]
        }
      ],
      "source": [
        "# Comparing with labeled images\n",
        "label_file = f'{file_name[:-4]}.txt'\n",
        "folder_path = image[:image.find(keyword)] + '/labels/'\n",
        "with open(folder_path+label_file, \"r\") as file:\n",
        "    content = file.read()\n",
        "\n",
        "print(content)"
      ]
    },
    {
      "cell_type": "markdown",
      "metadata": {
        "id": "gRnxhSjZPThl"
      },
      "source": [
        "#### Test 2 (medium weed)"
      ]
    },
    {
      "cell_type": "code",
      "execution_count": 89,
      "metadata": {
        "id": "MhBRcqw4YqD6"
      },
      "outputs": [],
      "source": [
        "image = '/content/drive/MyDrive/YOLO/3.5m.v3i.yolov8/valid/images/503_118_29_JPG.tile01x01.rf.33b1e23ce2d5d55c753d42f7fae09523.jpg'\n",
        "keyword = '/images/'\n",
        "file_name = image[image.find(keyword)+len(keyword):]"
      ]
    },
    {
      "cell_type": "code",
      "execution_count": null,
      "metadata": {
        "colab": {
          "base_uri": "https://localhost:8080/"
        },
        "id": "9QFMGtTNRl5T",
        "outputId": "0e6784a1-086f-43c6-eea2-bdd086f9d846"
      },
      "outputs": [],
      "source": [
        "# Ejecutar predicción sobre la imagen\n",
        "results = model1(image, save=True, project=\"model10(5_60_L)\", name=\"experiment2\")\n",
        "\n",
        "# Acceder a las coordenadas de los bounding boxes\n",
        "for result in results:\n",
        "    for box in result.boxes:\n",
        "        x1, y1, x2, y2 = box.xyxy[0]  # Coordenadas del bounding box (xmin, ymin, xmax, ymax)\n",
        "        conf = box.conf[0]  # Confianza de la predicción\n",
        "        cls = box.cls[0]  # Clase predicha\n",
        "        print(f\"Clase: {int(cls)}, Confianza: {conf:.2f}, BBox: ({x1:.2f}, {y1:.2f}, {x2:.2f}, {y2:.2f})\")"
      ]
    },
    {
      "cell_type": "code",
      "execution_count": 91,
      "metadata": {
        "colab": {
          "base_uri": "https://localhost:8080/"
        },
        "id": "iOnfcLfiRl5T",
        "outputId": "f007256f-d1ff-4087-ab3d-3749e2f2b919"
      },
      "outputs": [
        {
          "name": "stdout",
          "output_type": "stream",
          "text": [
            "0 0.05416666666666667 0.7958333333333333 0.10416666666666667 0.13333333333333333\n",
            "0 0.0875 0.6625 0.175 0.275\n",
            "0 0.25 0.575 0.5 0.125\n",
            "0 0.09166666666666666 0.5583333333333333 0.10833333333333334 0.35833333333333334\n",
            "0 0.05416666666666667 0.48333333333333334 0.10416666666666667 0.23333333333333334\n",
            "0 0.9875 0.25416666666666665 0.025 0.175\n",
            "0 0.029166666666666667 0.1375 0.058333333333333334 0.275\n",
            "0 0.1375 0.10416666666666667 0.21666666666666667 0.20833333333333334\n",
            "0 0.15416666666666667 0.175 0.20833333333333334 0.275\n",
            "\n"
          ]
        }
      ],
      "source": [
        "# Comparing with labeled images\n",
        "label_file = f'{file_name[:-4]}.txt'\n",
        "folder_path = image[:image.find(keyword)] + '/labels/'\n",
        "with open(folder_path+label_file, \"r\") as file:\n",
        "    content = file.read()\n",
        "\n",
        "print(content)"
      ]
    },
    {
      "cell_type": "markdown",
      "metadata": {
        "id": "b4W9I3mSZRSY"
      },
      "source": [
        "### Save results"
      ]
    },
    {
      "cell_type": "code",
      "execution_count": null,
      "metadata": {
        "colab": {
          "base_uri": "https://localhost:8080/"
        },
        "id": "98GxWeq4NxzW",
        "outputId": "6dc33241-b514-4b55-a8cf-afe7b403e2ed"
      },
      "outputs": [],
      "source": [
        "# Store model weights and metrics\n",
        "save_on_cloud(source='/content/runs/', destination='/content/drive/MyDrive/save/')"
      ]
    },
    {
      "cell_type": "code",
      "execution_count": null,
      "metadata": {
        "colab": {
          "base_uri": "https://localhost:8080/"
        },
        "id": "0eVkQC-INxzX",
        "outputId": "cf85eeb2-e43e-422e-eff3-fb6db1afcbee"
      },
      "outputs": [],
      "source": [
        "# Store experiments\n",
        "save_on_cloud(source='/content/model10(5_60_L)/', destination='/content/drive/MyDrive/save.SM/')"
      ]
    }
  ],
  "metadata": {
    "accelerator": "GPU",
    "colab": {
      "collapsed_sections": [
        "65CE4LZkdT7P"
      ],
      "gpuType": "T4",
      "provenance": []
    },
    "kernelspec": {
      "display_name": "Python 3",
      "name": "python3"
    },
    "language_info": {
      "codemirror_mode": {
        "name": "ipython",
        "version": 3
      },
      "file_extension": ".py",
      "mimetype": "text/x-python",
      "name": "python",
      "nbconvert_exporter": "python",
      "pygments_lexer": "ipython3",
      "version": "3.11.7"
    }
  },
  "nbformat": 4,
  "nbformat_minor": 0
}
