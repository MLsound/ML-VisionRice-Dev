{
  "nbformat": 4,
  "nbformat_minor": 0,
  "metadata": {
    "colab": {
      "provenance": [],
      "mount_file_id": "1HkWMfriS0_GHxEjGNZ8JrsiMAhNO9kNm",
      "authorship_tag": "ABX9TyOTWjOLsC6jR/7W4G4hovXH"
    },
    "kernelspec": {
      "name": "python3",
      "display_name": "Python 3"
    },
    "language_info": {
      "name": "python"
    }
  },
  "cells": [
    {
      "cell_type": "markdown",
      "source": [
        "# Batch rename"
      ],
      "metadata": {
        "id": "VUt6ZhxCP2uj"
      }
    },
    {
      "cell_type": "code",
      "source": [
        "import os"
      ],
      "metadata": {
        "id": "NtLC5s51SLya"
      },
      "execution_count": null,
      "outputs": []
    },
    {
      "cell_type": "code",
      "source": [
        "def rename_images(folder_path, prefix=\"image\"):\n",
        "    # Check if the provided path exists and is a directory\n",
        "    if not os.path.isdir(folder_path):\n",
        "        print(\"Provided folder path does not exist or is not a directory.\")\n",
        "        return\n",
        "\n",
        "    # List all files in the folder\n",
        "    files = os.listdir(folder_path)\n",
        "\n",
        "    # Filter for image files (jpg, png, jpeg, etc.)\n",
        "    image_files = [f for f in files if f.lower().endswith(('.jpg', '.jpeg', '.png', '.bmp', '.tiff'))]\n",
        "\n",
        "    # Loop through each image and rename it\n",
        "    for index, filename in enumerate(image_files):\n",
        "        # Set new name with prefix and index\n",
        "        new_name = f\"{prefix}_{filename}\"\n",
        "\n",
        "        # Full paths for renaming\n",
        "        old_path = os.path.join(folder_path, filename)\n",
        "        new_path = os.path.join(folder_path, new_name)\n",
        "\n",
        "        # Rename file\n",
        "        os.rename(old_path, new_path)\n",
        "        print(f\"Renamed: {filename} -> {new_name}\")\n",
        "\n",
        "    print(\"All images have been renamed successfully.\")"
      ],
      "metadata": {
        "id": "mh43x6btP7HG"
      },
      "execution_count": null,
      "outputs": []
    },
    {
      "cell_type": "code",
      "source": [
        "parent = \"/content/drive/MyDrive/Colab Notebooks/Imagenes\"\n",
        "folder = \"/2,5m90\"\n",
        "path = parent+folder\n",
        "print(path)"
      ],
      "metadata": {
        "colab": {
          "base_uri": "https://localhost:8080/"
        },
        "id": "8mVmVgRNS_3S",
        "outputId": "289c0147-40b8-45c8-90c4-9547ca643655"
      },
      "execution_count": null,
      "outputs": [
        {
          "output_type": "stream",
          "name": "stdout",
          "text": [
            "/content/drive/MyDrive/Colab Notebooks/Imagenes/Anegado\n"
          ]
        }
      ]
    },
    {
      "cell_type": "code",
      "source": [
        "# Apply\n",
        "rename_images(path, \"AN\")"
      ],
      "metadata": {
        "colab": {
          "base_uri": "https://localhost:8080/"
        },
        "id": "VImVkqmcTOBd",
        "outputId": "2e068167-1b66-49fb-d80b-080bb0063c17"
      },
      "execution_count": null,
      "outputs": [
        {
          "output_type": "stream",
          "name": "stdout",
          "text": [
            "DJI_0418.JPG\n",
            "Renamed: DJI_0418.JPG -> AN_DJI_0418.JPG\n",
            "DJI_0417.JPG\n",
            "Renamed: DJI_0417.JPG -> AN_DJI_0417.JPG\n",
            "DJI_0419.JPG\n",
            "Renamed: DJI_0419.JPG -> AN_DJI_0419.JPG\n",
            "All images have been renamed successfully.\n"
          ]
        }
      ]
    }
  ]
}